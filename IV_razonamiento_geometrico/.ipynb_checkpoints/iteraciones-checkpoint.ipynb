{
 "cells": [
  {
   "cell_type": "markdown",
   "id": "45fd8dcc",
   "metadata": {
    "slideshow": {
     "slide_type": "slide"
    }
   },
   "source": [
    "<table align=\"left\">\n",
    "  <td>\n",
    "    <a href=\"https://colab.research.google.com/github/marco-canas/camino-udea/blob/main/IV_razonamiento_geometrico/iteraciones.ipynb\" target=\"_parent\"><img src=\"https://colab.research.google.com/assets/colab-badge.svg\" alt=\"Open In Colab\"/></a>\n",
    "  </td>\n",
    "</table>\n"
   ]
  },
  {
   "cell_type": "markdown",
   "id": "da7ad937",
   "metadata": {
    "slideshow": {
     "slide_type": "slide"
    }
   },
   "source": [
    "# Iteraciones geométricas"
   ]
  },
  {
   "cell_type": "markdown",
   "id": "c891bf91",
   "metadata": {
    "slideshow": {
     "slide_type": "slide"
    }
   },
   "source": [
    "Se plantea el siguiente proceso iterativo a partir de un cuadrado de  ́area 1u2. Todas las figuras sombreadas resultantes en cada iteracion son cuadrados.\n",
    "\n",
    "<img src = 'https://github.com/marco-canas/camino-udea/blob/main/IV_razonamiento_geometrico/pregunta_145_1_cuadrado_iteracion.png?raw=true'>\n"
   ]
  },
  {
   "cell_type": "markdown",
   "id": "ee496b9b",
   "metadata": {
    "slideshow": {
     "slide_type": "slide"
    }
   },
   "source": [
    "* ¿Cuántos cuadrados habrá en la tercera iteración?\n",
    "* Diga además que área representan los cuadrados sobreados con respecto al área del cuadrado inicial en la tercera iteración. "
   ]
  },
  {
   "cell_type": "markdown",
   "id": "7c75ec9c",
   "metadata": {
    "slideshow": {
     "slide_type": "slide"
    }
   },
   "source": [
    "## Solución"
   ]
  },
  {
   "cell_type": "markdown",
   "id": "eb11bc5f",
   "metadata": {
    "slideshow": {
     "slide_type": "slide"
    }
   },
   "source": [
    "### Descripción verbal de la serie en términos de composición de una misma función de transformacióin consigo misma"
   ]
  },
  {
   "cell_type": "markdown",
   "id": "59c98e62",
   "metadata": {
    "slideshow": {
     "slide_type": "slide"
    }
   },
   "source": [
    "Este proceso iterativo eá gobernado o defionido por la operación de dividir un cuadrado en 9 partes iguales y luego sombrear las esquinas. "
   ]
  },
  {
   "cell_type": "markdown",
   "id": "e98a9af1",
   "metadata": {
    "slideshow": {
     "slide_type": "slide"
    }
   },
   "source": [
    "La función que modela la transformación o proceso iterativo es:\n",
    "\n",
    "$$ f(n) = a_{n} = \\left( \\frac{1}{9} \\right)^{n}, \\ \\ \\ \\ n = 1,2,3,4,5,\\ldots  $$\n",
    "\n",
    "donde $f(n)$ es la fracción que del cuadrado original es cada uno de los cuadraditos obtenidos en la $n$ - ésima iteración. "
   ]
  },
  {
   "cell_type": "markdown",
   "id": "07d6a500",
   "metadata": {
    "slideshow": {
     "slide_type": "slide"
    }
   },
   "source": [
    "Donde la sucesión que modela el número de cuadrados sombreados en cada iteración es:\n",
    "\n",
    "$$ g(n) = b_{n} =  \\left( \\frac{1}{4} \\right)^{n} $$\n"
   ]
  },
  {
   "cell_type": "markdown",
   "id": "ead14909",
   "metadata": {
    "slideshow": {
     "slide_type": "slide"
    }
   },
   "source": [
    "## Recomendaciones para la enseñanza del concepto de Serie gráfica"
   ]
  },
  {
   "cell_type": "markdown",
   "id": "ef39c2dc",
   "metadata": {
    "slideshow": {
     "slide_type": "slide"
    }
   },
   "source": [
    "* Presentar la equivalencia entre mitad de y $1/2$ por.  \n",
    "* "
   ]
  },
  {
   "cell_type": "markdown",
   "id": "5a6a6b9c",
   "metadata": {
    "slideshow": {
     "slide_type": "slide"
    }
   },
   "source": [
    "# Gráfica de un cuadrado con matplotlib"
   ]
  },
  {
   "cell_type": "code",
   "execution_count": 4,
   "id": "b8a3649e",
   "metadata": {
    "slideshow": {
     "slide_type": "slide"
    }
   },
   "outputs": [
    {
     "data": {
      "image/png": "[encoded data removed]",
      "text/plain": [
       "<Figure size 432x288 with 1 Axes>"
      ]
     },
     "metadata": {
      "needs_background": "light"
     },
     "output_type": "display_data"
    }
   ],
   "source": [
    "import matplotlib.pyplot as plt\n",
    "plt.plot([0,1,1,0,0], [0,0,1,1,0], 'b')\n",
    "plt.axis('off')\n",
    "plt.savefig('cuadrado.png')"
   ]
  },
  {
   "cell_type": "code",
   "execution_count": null,
   "id": "1cf18ef1",
   "metadata": {
    "slideshow": {
     "slide_type": "slide"
    }
   },
   "outputs": [],
   "source": []
  },
  {
   "cell_type": "code",
   "execution_count": null,
   "id": "11cbddec",
   "metadata": {
    "slideshow": {
     "slide_type": "slide"
    }
   },
   "outputs": [],
   "source": []
  },
  {
   "cell_type": "markdown",
   "id": "53f9d482",
   "metadata": {
    "slideshow": {
     "slide_type": "slide"
    }
   },
   "source": [
    "## Referentes  \n",
    "\n",
    "* Definición de iteración: https://es.wikipedia.org/wiki/Iteraci%C3%B3n\n"
   ]
  },
  {
   "cell_type": "code",
   "execution_count": null,
   "id": "bd2e17f2",
   "metadata": {},
   "outputs": [],
   "source": []
  }
 ],
 "metadata": {
  "celltoolbar": "Slideshow",
  "kernelspec": {
   "display_name": "Python 3 (ipykernel)",
   "language": "python",
   "name": "python3"
  },
  "language_info": {
   "codemirror_mode": {
    "name": "ipython",
    "version": 3
   },
   "file_extension": ".py",
   "mimetype": "text/x-python",
   "name": "python",
   "nbconvert_exporter": "python",
   "pygments_lexer": "ipython3",
   "version": "3.9.12"
  },
  "rise": {
   "theme": "sky"
  }
 },
 "nbformat": 4,
 "nbformat_minor": 5
}
