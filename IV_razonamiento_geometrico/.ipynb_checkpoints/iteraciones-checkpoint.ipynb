{
 "cells": [
  {
   "cell_type": "markdown",
   "id": "45fd8dcc",
   "metadata": {
    "slideshow": {
     "slide_type": "slide"
    }
   },
   "source": [
    "<table align=\"left\">\n",
    "  <td>\n",
    "    <a href=\"https://colab.research.google.com/github/marco-canas/didactica_ciencia_datos/blob/main/referentes/geron/part_1/c_1/c_1.ipynb\" target=\"_parent\"><img src=\"https://colab.research.google.com/assets/colab-badge.svg\" alt=\"Open In Colab\"/></a>\n",
    "  </td>\n",
    "</table>\n"
   ]
  },
  {
   "cell_type": "markdown",
   "id": "da7ad937",
   "metadata": {
    "slideshow": {
     "slide_type": "slide"
    }
   },
   "source": [
    "# Iteraciones geométricas"
   ]
  },
  {
   "cell_type": "markdown",
   "id": "c891bf91",
   "metadata": {
    "slideshow": {
     "slide_type": "slide"
    }
   },
   "source": [
    "Se plantea el siguiente proceso iterativo a partir de un cuadrado de  ́area 1u2. Todas las figuras sombreadas resultantes en cada iteracion son cuadrados.\n",
    "\n",
    "<img src = 'https://github.com/marco-canas/camino-udea/blob/main/IV_razonamiento_geometrico/pregunta_145_1_cuadrado_iteracion.png?raw=true'>\n"
   ]
  },
  {
   "cell_type": "markdown",
   "id": "7c75ec9c",
   "metadata": {
    "slideshow": {
     "slide_type": "slide"
    }
   },
   "source": [
    "## Solución"
   ]
  },
  {
   "cell_type": "markdown",
   "id": "eb11bc5f",
   "metadata": {
    "slideshow": {
     "slide_type": "slide"
    }
   },
   "source": [
    "### Descripción verbal de la serie en términos de composición de una misma función de transformacióin consigo misma"
   ]
  },
  {
   "cell_type": "markdown",
   "id": "e98a9af1",
   "metadata": {
    "slideshow": {
     "slide_type": "slide"
    }
   },
   "source": [
    "La función que modela la transformación o proceso iterativo es:\n",
    "\n",
    "$$ f(n) = a_{n} = \\left( \\frac{1}{9} \\right)^{n}, \\ \\ \\ \\ n = 1,2,3,4,5,\\ldots  $$\n",
    "\n",
    "donde $f(n)$ es la fracción que del cuadrado original es cada uno de los cuadraditos obtenidos en la $n$ - ésima iteración. "
   ]
  },
  {
   "cell_type": "markdown",
   "id": "07d6a500",
   "metadata": {
    "slideshow": {
     "slide_type": "slide"
    }
   },
   "source": [
    "Donde la sucesión que modela el número de cuadrados sombreados en cada iteración es:\n",
    "\n",
    "$$ g(n) = b_{n} =  \\left( \\frac{1}{4} \\right)^{n} $$\n"
   ]
  },
  {
   "cell_type": "markdown",
   "id": "ead14909",
   "metadata": {
    "slideshow": {
     "slide_type": "slide"
    }
   },
   "source": [
    "## Recomendaciones para la enseñanza del concepto de Serie gráfica"
   ]
  },
  {
   "cell_type": "markdown",
   "id": "ef39c2dc",
   "metadata": {
    "slideshow": {
     "slide_type": "slide"
    }
   },
   "source": [
    "* Presentar la equivalencia entre mitad de y $1/2$ por.  \n",
    "* "
   ]
  },
  {
   "cell_type": "code",
   "execution_count": null,
   "id": "ed21bce7",
   "metadata": {
    "slideshow": {
     "slide_type": "slide"
    }
   },
   "outputs": [],
   "source": []
  },
  {
   "cell_type": "code",
   "execution_count": null,
   "id": "b8a3649e",
   "metadata": {},
   "outputs": [],
   "source": []
  },
  {
   "cell_type": "code",
   "execution_count": null,
   "id": "1cf18ef1",
   "metadata": {},
   "outputs": [],
   "source": []
  },
  {
   "cell_type": "code",
   "execution_count": null,
   "id": "11cbddec",
   "metadata": {
    "slideshow": {
     "slide_type": "slide"
    }
   },
   "outputs": [],
   "source": []
  },
  {
   "cell_type": "code",
   "execution_count": null,
   "id": "8e8599c6",
   "metadata": {
    "slideshow": {
     "slide_type": "slide"
    }
   },
   "outputs": [],
   "source": []
  }
 ],
 "metadata": {
  "celltoolbar": "Slideshow",
  "kernelspec": {
   "display_name": "Python 3 (ipykernel)",
   "language": "python",
   "name": "python3"
  },
  "language_info": {
   "codemirror_mode": {
    "name": "ipython",
    "version": 3
   },
   "file_extension": ".py",
   "mimetype": "text/x-python",
   "name": "python",
   "nbconvert_exporter": "python",
   "pygments_lexer": "ipython3",
   "version": "3.9.12"
  },
  "rise": {
   "theme": "sky"
  }
 },
 "nbformat": 4,
 "nbformat_minor": 5
}
