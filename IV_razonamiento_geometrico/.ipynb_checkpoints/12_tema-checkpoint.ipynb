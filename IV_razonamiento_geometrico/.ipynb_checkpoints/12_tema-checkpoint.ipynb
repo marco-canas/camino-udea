{
 "cells": [
  {
   "cell_type": "markdown",
   "id": "3ad84f33",
   "metadata": {},
   "source": [
    "\n",
    "<table align=\"left\">\n",
    "  <td>\n",
    "    <a href=\"https://colab.research.google.com/github/marco-canas/taca/blob/main/ref/geron/chap_2/5_prepare_for_algorithms/2_data_cleaning.ipynb\" target=\"_parent\"><img src=\"https://colab.research.google.com/assets/colab-badge.svg\" alt=\"Open In Colab\"/></a>\n",
    "  </td>\n",
    "  <td>\n",
    "    <a target=\"_blank\" href=\"https://kaggle.com/kernels/welcome?src=https://github.com/marco-canas/taca/blob/main/ref/geron/chap_2/5_prepare_for_algorithms/2_data_cleaning.ipynb\"><img src=\"https://kaggle.com/static/images/open-in-kaggle.svg\" /></a>\n",
    "  </td>\n",
    "</table>\n"
   ]
  },
  {
   "cell_type": "markdown",
   "id": "87e54eb4",
   "metadata": {},
   "source": [
    "# Parte IV Razonamiento Geométrico "
   ]
  },
  {
   "cell_type": "markdown",
   "id": "4c9c6bd4",
   "metadata": {},
   "source": [
    "# Tema 12 Áreas perímetros y volúmenes "
   ]
  },
  {
   "cell_type": "markdown",
   "id": "650c70f3",
   "metadata": {},
   "source": [
    "### [Primer video de apoyo a la lectura]() "
   ]
  },
  {
   "cell_type": "markdown",
   "id": "c2432663",
   "metadata": {},
   "source": [
    "### 12.1  \n",
    "\n",
    "En la figura, el área del cuadrado de mayor tamaño es igual a $1\\ m^{2}$.  \n",
    "Una de sus diagonales se divide en tres segmentos de la misma longitud.  \n",
    "\n"
   ]
  },
  {
   "cell_type": "code",
   "execution_count": null,
   "id": "4a9d858e",
   "metadata": {},
   "outputs": [],
   "source": [
    "import numpy as np\n",
    "import matplotlib.pyplot as plt\n",
    "\n"
   ]
  },
  {
   "cell_type": "code",
   "execution_count": null,
   "id": "67a5f0b1",
   "metadata": {},
   "outputs": [],
   "source": []
  },
  {
   "cell_type": "code",
   "execution_count": null,
   "id": "42290065",
   "metadata": {},
   "outputs": [],
   "source": []
  },
  {
   "cell_type": "code",
   "execution_count": null,
   "id": "34bd74d3",
   "metadata": {},
   "outputs": [],
   "source": []
  },
  {
   "cell_type": "markdown",
   "id": "c9f05faa",
   "metadata": {},
   "source": [
    "## Funciones de Python implementadas y su documentación"
   ]
  },
  {
   "cell_type": "markdown",
   "id": "03d41e5e",
   "metadata": {},
   "source": []
  },
  {
   "cell_type": "markdown",
   "id": "3fafea53",
   "metadata": {},
   "source": [
    "## Referencias"
   ]
  },
  {
   "cell_type": "code",
   "execution_count": null,
   "id": "44064547",
   "metadata": {},
   "outputs": [],
   "source": []
  }
 ],
 "metadata": {
  "kernelspec": {
   "display_name": "Python 3",
   "language": "python",
   "name": "python3"
  },
  "language_info": {
   "codemirror_mode": {
    "name": "ipython",
    "version": 3
   },
   "file_extension": ".py",
   "mimetype": "text/x-python",
   "name": "python",
   "nbconvert_exporter": "python",
   "pygments_lexer": "ipython3",
   "version": "3.8.8"
  },
  "latex_envs": {
   "LaTeX_envs_menu_present": true,
   "autoclose": false,
   "autocomplete": false,
   "bibliofile": "biblio.bib",
   "cite_by": "apalike",
   "current_citInitial": 1,
   "eqLabelWithNumbers": true,
   "eqNumInitial": 1,
   "hotkeys": {
    "equation": "Ctrl-E",
    "itemize": "Ctrl-I"
   },
   "labels_anchors": false,
   "latex_user_defs": false,
   "report_style_numbering": false,
   "user_envs_cfg": false
  }
 },
 "nbformat": 4,
 "nbformat_minor": 5
}
