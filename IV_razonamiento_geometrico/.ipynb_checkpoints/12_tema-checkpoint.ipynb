{
 "cells": [
  {
   "cell_type": "markdown",
   "id": "e4062720",
   "metadata": {
    "slideshow": {
     "slide_type": "slide"
    }
   },
   "source": [
    "\n",
    "<table align=\"left\">\n",
    "  <td>\n",
    "    <a href=\"https://colab.research.google.com/github/marco-canas/taca/blob/main/ref/geron/chap_2/5_prepare_for_algorithms/2_data_cleaning.ipynb\" target=\"_parent\"><img src=\"https://colab.research.google.com/assets/colab-badge.svg\" alt=\"Open In Colab\"/></a>\n",
    "  </td>\n",
    "  <td>\n",
    "    <a target=\"_blank\" href=\"https://kaggle.com/kernels/welcome?src=https://github.com/marco-canas/taca/blob/main/ref/geron/chap_2/5_prepare_for_algorithms/2_data_cleaning.ipynb\"><img src=\"https://kaggle.com/static/images/open-in-kaggle.svg\" /></a>\n",
    "  </td>\n",
    "</table>\n"
   ]
  },
  {
   "cell_type": "markdown",
   "id": "353f4b72",
   "metadata": {
    "slideshow": {
     "slide_type": "slide"
    }
   },
   "source": [
    "# Parte IV Razonamiento Geométrico "
   ]
  },
  {
   "cell_type": "markdown",
   "id": "12849fa3",
   "metadata": {
    "slideshow": {
     "slide_type": "slide"
    }
   },
   "source": [
    "# Tema 12 Áreas perímetros y volúmenes "
   ]
  },
  {
   "cell_type": "markdown",
   "id": "522caa3c",
   "metadata": {
    "slideshow": {
     "slide_type": "slide"
    }
   },
   "source": [
    "### [Primer video de apoyo a la lectura]() "
   ]
  },
  {
   "cell_type": "markdown",
   "id": "96e8b6f4",
   "metadata": {
    "slideshow": {
     "slide_type": "slide"
    }
   },
   "source": [
    "## Participación aleatoria de los estudiantes"
   ]
  },
  {
   "cell_type": "code",
   "execution_count": 3,
   "id": "86e2a51c",
   "metadata": {
    "slideshow": {
     "slide_type": "slide"
    }
   },
   "outputs": [
    {
     "name": "stdout",
     "output_type": "stream",
     "text": [
      "DEISY MARCELA YEPES RIOS\n"
     ]
    }
   ],
   "source": [
    "def estudiante_que_va_a_participar():\n",
    "    import numpy as np \n",
    "    import pandas as pd \n",
    "    from random import choice\n",
    "    cero = pd.read_csv('cero.csv')\n",
    "    lista_estudiantes = list(cero.nombres.values)\n",
    "    if lista_estudiantes != []:\n",
    "        estudiante = choice(lista_estudiantes)\n",
    "        lista_estudiantes.remove(estudiante)\n",
    "        return print(estudiante)\n",
    "    else:\n",
    "        print('Todos los estudiantes han participado.\\n Muchas gracias y Felicitaciones')\n",
    "\n",
    "estudiante_que_va_a_participar() "
   ]
  },
  {
   "cell_type": "markdown",
   "id": "e768675f",
   "metadata": {
    "slideshow": {
     "slide_type": "slide"
    }
   },
   "source": [
    "### 12.1  \n",
    "\n",
    "En la figura, el área del cuadrado de mayor tamaño es igual a $1\\ m^{2}$.  \n",
    "Una de sus diagonales se divide en tres segmentos de la misma longitud.  \n",
    "\n",
    "Si el segmento del medio es la diagonal de un cuadrado sombreado, entonces el área, en $m^{2}$, del cuadrado pequeño es: \n",
    "\n",
    "(a) $1/9$  \n",
    "(b) $1/6$  \n",
    "(c) $1/4$  \n",
    "(d) $1/3$  \n",
    "\n"
   ]
  },
  {
   "cell_type": "code",
   "execution_count": 2,
   "id": "1b6e06fd",
   "metadata": {
    "scrolled": true,
    "slideshow": {
     "slide_type": "slide"
    }
   },
   "outputs": [
    {
     "data": {
      "image/png": "[encoded data removed]",
      "text/plain": [
       "<Figure size 288x288 with 1 Axes>"
      ]
     },
     "metadata": {
      "needs_background": "light"
     },
     "output_type": "display_data"
    }
   ],
   "source": [
    "import numpy as np\n",
    "import matplotlib.pyplot as plt\n",
    "\n",
    "t = np.linspace(0,1)\n",
    "\n",
    "fig = plt.figure(figsize = (4,4)) \n",
    "\n",
    "ax = fig.add_subplot()\n",
    "\n",
    "# Cuadrado de lado 1 en el primer cuadrante (0,0),(1,0),(1,1),(0,1),(0,0)\n",
    "\n",
    "ax.plot([0,1,1,0,0],[0,0,1,1,0], color = 'blue')    # Cuadrado grande\n",
    "ax.plot([0,1],[1,0], color = 'blue')               # trazo de la diagonal principal (0,1), (1,0)\n",
    "\n",
    "ax.plot(np.array([0,1/3,1/3,0,0]),np.array([0,0,1/3,1/3,0]), color = 'blue')    # Cuadrado grande\n",
    "\n",
    "ax.axis([-1,2,-1,2]) \n",
    "ax.grid(True, alpha = 0.6) \n",
    "\n"
   ]
  },
  {
   "cell_type": "markdown",
   "id": "fcf42ab1",
   "metadata": {
    "slideshow": {
     "slide_type": "slide"
    }
   },
   "source": [
    "## Solución:"
   ]
  },
  {
   "cell_type": "markdown",
   "id": "d3dddb31",
   "metadata": {
    "slideshow": {
     "slide_type": "slide"
    }
   },
   "source": [
    "Empecemos expresando el área de un cuadrado como función de su diagonal $d$. "
   ]
  },
  {
   "cell_type": "code",
   "execution_count": null,
   "id": "1cc32a02",
   "metadata": {
    "slideshow": {
     "slide_type": "slide"
    }
   },
   "outputs": [],
   "source": []
  },
  {
   "cell_type": "markdown",
   "id": "8a106487",
   "metadata": {
    "slideshow": {
     "slide_type": "slide"
    }
   },
   "source": [
    "## 12.2  \n",
    "\n",
    "En la figura todos los triángulos son rectángulos e isósceles y PQRS es un cuadrado de lado 1.  \n",
    "La longitud del segmento $\\overline{VW}$ es:  \n",
    "\n",
    "(a) $\\sqrt{2}$  \n",
    "(b) $2\\sqrt{2}$  \n",
    "(c) $3\\sqrt{3}$  \n",
    "(d) $4\\sqrt{2}$ \n"
   ]
  },
  {
   "cell_type": "markdown",
   "id": "d9073c05",
   "metadata": {
    "slideshow": {
     "slide_type": "slide"
    }
   },
   "source": [
    "<img src = ''>"
   ]
  },
  {
   "cell_type": "code",
   "execution_count": 6,
   "id": "60f95a70",
   "metadata": {
    "slideshow": {
     "slide_type": "slide"
    }
   },
   "outputs": [
    {
     "data": {
      "text/plain": [
       "array([0.        , 0.33333333, 0.66666667])"
      ]
     },
     "execution_count": 6,
     "metadata": {},
     "output_type": "execute_result"
    }
   ],
   "source": [
    "import numpy as np\n",
    "import matplotlib.pyplot as plt \n",
    "\n",
    "t = np.arange(0,1,1/3) \n",
    "\n",
    "t "
   ]
  },
  {
   "cell_type": "markdown",
   "id": "b76dc0ec",
   "metadata": {
    "slideshow": {
     "slide_type": "slide"
    }
   },
   "source": [
    "## 12.3  \n",
    "\n",
    "En una fábrica de cristales producen "
   ]
  },
  {
   "cell_type": "markdown",
   "id": "029cfc55",
   "metadata": {},
   "source": [
    "<img src = 'https://github.com/marco-canas/camino-udea/blob/main/IV_razonamiento_geometrico/copas.png?raw=true'>"
   ]
  },
  {
   "cell_type": "markdown",
   "id": "c6e82c5d",
   "metadata": {
    "slideshow": {
     "slide_type": "slide"
    }
   },
   "source": [
    "# Estrategia de solución"
   ]
  },
  {
   "cell_type": "markdown",
   "id": "be043743",
   "metadata": {
    "slideshow": {
     "slide_type": "slide"
    }
   },
   "source": [
    "1. Calcula los volumenes de las copas utilizando los valores dados representados por las variables dadas.  \n",
    "\n",
    "2. "
   ]
  },
  {
   "cell_type": "code",
   "execution_count": null,
   "id": "9985df05",
   "metadata": {
    "slideshow": {
     "slide_type": "slide"
    }
   },
   "outputs": [],
   "source": []
  },
  {
   "cell_type": "code",
   "execution_count": null,
   "id": "92cacb4b",
   "metadata": {
    "slideshow": {
     "slide_type": "slide"
    }
   },
   "outputs": [],
   "source": []
  },
  {
   "cell_type": "code",
   "execution_count": null,
   "id": "6ed1b773",
   "metadata": {
    "slideshow": {
     "slide_type": "slide"
    }
   },
   "outputs": [],
   "source": []
  },
  {
   "cell_type": "code",
   "execution_count": null,
   "id": "2d0e8457",
   "metadata": {},
   "outputs": [],
   "source": []
  },
  {
   "cell_type": "code",
   "execution_count": null,
   "id": "5b0b9966",
   "metadata": {},
   "outputs": [],
   "source": []
  },
  {
   "cell_type": "markdown",
   "id": "b956323c",
   "metadata": {
    "slideshow": {
     "slide_type": "slide"
    }
   },
   "source": [
    "## Funciones de Python implementadas y su documentación"
   ]
  },
  {
   "cell_type": "markdown",
   "id": "ff17dbbc",
   "metadata": {
    "slideshow": {
     "slide_type": "slide"
    }
   },
   "source": [
    "* randint(star,stop)  "
   ]
  },
  {
   "cell_type": "markdown",
   "id": "09445125",
   "metadata": {
    "slideshow": {
     "slide_type": "slide"
    }
   },
   "source": [
    "## Referencias  \n",
    "\n",
    "* Razonamiento lógico. Instituto de Matemáticas de la Universidad de Antioquia. "
   ]
  },
  {
   "cell_type": "code",
   "execution_count": null,
   "id": "a2b3dd44",
   "metadata": {},
   "outputs": [],
   "source": []
  }
 ],
 "metadata": {
  "celltoolbar": "Slideshow",
  "kernelspec": {
   "display_name": "Python 3 (ipykernel)",
   "language": "python",
   "name": "python3"
  },
  "language_info": {
   "codemirror_mode": {
    "name": "ipython",
    "version": 3
   },
   "file_extension": ".py",
   "mimetype": "text/x-python",
   "name": "python",
   "nbconvert_exporter": "python",
   "pygments_lexer": "ipython3",
   "version": "3.9.12"
  },
  "latex_envs": {
   "LaTeX_envs_menu_present": true,
   "autoclose": false,
   "autocomplete": false,
   "bibliofile": "biblio.bib",
   "cite_by": "apalike",
   "current_citInitial": 1,
   "eqLabelWithNumbers": true,
   "eqNumInitial": 1,
   "hotkeys": {
    "equation": "Ctrl-E",
    "itemize": "Ctrl-I"
   },
   "labels_anchors": false,
   "latex_user_defs": false,
   "report_style_numbering": false,
   "user_envs_cfg": false
  },
  "rise": {
   "enable_chalkboard": true,
   "theme": "sky",
   "transition": "zoom"
  }
 },
 "nbformat": 4,
 "nbformat_minor": 5
}
