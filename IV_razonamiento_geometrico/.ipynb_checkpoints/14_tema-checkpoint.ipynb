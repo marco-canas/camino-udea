{
 "cells": [
  {
   "cell_type": "markdown",
   "id": "15b1723a",
   "metadata": {
    "slideshow": {
     "slide_type": "slide"
    }
   },
   "source": [
    "\n",
    "<table align=\"left\">\n",
    "  <td>\n",
    "    <a href=\"https://colab.research.google.com/github/marco-canas/taca/blob/main/ref/charu/7_ch/7_2_SVD_A_Linear_Algebra_Perspective.ipynb\" target=\"_parent\"><img src=\"https://colab.research.google.com/assets/colab-badge.svg\" alt=\"Open In Colab\"/></a>\n",
    "  </td>\n",
    "</table>\n"
   ]
  },
  {
   "cell_type": "markdown",
   "id": "f14c3ae2",
   "metadata": {
    "slideshow": {
     "slide_type": "slide"
    }
   },
   "source": [
    "# Parte IV"
   ]
  },
  {
   "cell_type": "markdown",
   "id": "dd291b25",
   "metadata": {
    "slideshow": {
     "slide_type": "slide"
    }
   },
   "source": [
    "## Razonamiento Geométrico"
   ]
  },
  {
   "cell_type": "markdown",
   "id": "8d0a6da1",
   "metadata": {
    "slideshow": {
     "slide_type": "slide"
    }
   },
   "source": [
    "### Tema 14 "
   ]
  },
  {
   "cell_type": "markdown",
   "id": "d1492963",
   "metadata": {},
   "source": [
    "### Preguntas 14.1 y 14.2"
   ]
  },
  {
   "cell_type": "markdown",
   "id": "20fe7244",
   "metadata": {},
   "source": [
    "Las siguientes figuras se han construido de acuerdo con una ley de formación que puede identificarse. "
   ]
  },
  {
   "cell_type": "markdown",
   "id": "9dc2aa6f",
   "metadata": {},
   "source": [
    "<img src = 'https://github.com/marco-canas/camino-udea/blob/main/IV_razonamiento_geometrico/series_graficas_preguntas_14_1_y_14_2.png?raw=true'> "
   ]
  },
  {
   "cell_type": "markdown",
   "id": "64b1fb1b",
   "metadata": {},
   "source": [
    "La tabla siguiente recoge la información observable así:"
   ]
  },
  {
   "cell_type": "markdown",
   "id": "49bec553",
   "metadata": {},
   "source": [
    "|Figura|1|2|3|4|...|  \n",
    "|-----|-|-|-|-|-|  \n",
    "|No. de triángulos|0|4|8|12|...|"
   ]
  },
  {
   "cell_type": "markdown",
   "id": "c1aec78d",
   "metadata": {
    "slideshow": {
     "slide_type": "slide"
    }
   },
   "source": [
    "## 14.1 "
   ]
  },
  {
   "cell_type": "code",
   "execution_count": null,
   "id": "85bf4b16",
   "metadata": {
    "slideshow": {
     "slide_type": "slide"
    }
   },
   "outputs": [],
   "source": []
  },
  {
   "cell_type": "code",
   "execution_count": null,
   "id": "93ff2ba1",
   "metadata": {},
   "outputs": [],
   "source": []
  },
  {
   "cell_type": "code",
   "execution_count": null,
   "id": "ba804c52",
   "metadata": {},
   "outputs": [],
   "source": []
  },
  {
   "cell_type": "code",
   "execution_count": null,
   "id": "70c51252",
   "metadata": {},
   "outputs": [],
   "source": []
  },
  {
   "cell_type": "code",
   "execution_count": null,
   "id": "21dec70d",
   "metadata": {},
   "outputs": [],
   "source": []
  },
  {
   "cell_type": "markdown",
   "id": "42cb25f9",
   "metadata": {},
   "source": [
    "## Referentes  \n",
    "\n",
    "* Cuederno de trabajo. Razonamiento Lógico. Instituto de Matemáticas. Universidad de Antioquia. "
   ]
  },
  {
   "cell_type": "code",
   "execution_count": null,
   "id": "cdccbdd4",
   "metadata": {},
   "outputs": [],
   "source": []
  }
 ],
 "metadata": {
  "celltoolbar": "Slideshow",
  "kernelspec": {
   "display_name": "Python 3 (ipykernel)",
   "language": "python",
   "name": "python3"
  },
  "language_info": {
   "codemirror_mode": {
    "name": "ipython",
    "version": 3
   },
   "file_extension": ".py",
   "mimetype": "text/x-python",
   "name": "python",
   "nbconvert_exporter": "python",
   "pygments_lexer": "ipython3",
   "version": "3.9.7"
  },
  "latex_envs": {
   "LaTeX_envs_menu_present": true,
   "autoclose": false,
   "autocomplete": false,
   "bibliofile": "biblio.bib",
   "cite_by": "apalike",
   "current_citInitial": 1,
   "eqLabelWithNumbers": true,
   "eqNumInitial": 1,
   "hotkeys": {
    "equation": "Ctrl-E",
    "itemize": "Ctrl-I"
   },
   "labels_anchors": false,
   "latex_user_defs": false,
   "report_style_numbering": false,
   "user_envs_cfg": false
  }
 },
 "nbformat": 4,
 "nbformat_minor": 5
}
