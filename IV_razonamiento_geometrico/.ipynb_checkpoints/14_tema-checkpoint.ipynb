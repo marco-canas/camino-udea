{
 "cells": [
  {
   "cell_type": "markdown",
   "id": "053847a5",
   "metadata": {},
   "source": [
    "\n",
    "<table align=\"left\">\n",
    "  <td>\n",
    "    <a href=\"https://colab.research.google.com/github/marco-canas/taca/blob/main/ref/charu/7_ch/7_2_SVD_A_Linear_Algebra_Perspective.ipynb\" target=\"_parent\"><img src=\"https://colab.research.google.com/assets/colab-badge.svg\" alt=\"Open In Colab\"/></a>\n",
    "  </td>\n",
    "  <td>\n",
    "    <a target=\"_blank\" href=\"https://kaggle.com/kernels/welcome?src=https://github.com/marco-canas/taca/blob/main/ref/charu/7_ch/7_2_SVD_A_Linear_Algebra_Perspective.ipynb\"><img src=\"https://kaggle.com/static/images/open-in-kaggle.svg\" /></a>\n",
    "  </td>\n",
    "</table>\n"
   ]
  },
  {
   "cell_type": "markdown",
   "id": "f3bc4016",
   "metadata": {},
   "source": [
    "# Parte IV"
   ]
  },
  {
   "cell_type": "markdown",
   "id": "d9b159fb",
   "metadata": {},
   "source": [
    "## Razonamiento Geométrico"
   ]
  },
  {
   "cell_type": "markdown",
   "id": "ba3e9fca",
   "metadata": {},
   "source": [
    "### Tema 14 "
   ]
  },
  {
   "cell_type": "code",
   "execution_count": null,
   "id": "bd970f54",
   "metadata": {},
   "outputs": [],
   "source": []
  },
  {
   "cell_type": "markdown",
   "id": "40d86847",
   "metadata": {},
   "source": [
    "<img src = ''> "
   ]
  },
  {
   "cell_type": "code",
   "execution_count": null,
   "id": "1bec0d52",
   "metadata": {},
   "outputs": [],
   "source": []
  },
  {
   "cell_type": "code",
   "execution_count": null,
   "id": "a6f38123",
   "metadata": {},
   "outputs": [],
   "source": []
  },
  {
   "cell_type": "code",
   "execution_count": null,
   "id": "a66ada41",
   "metadata": {},
   "outputs": [],
   "source": []
  },
  {
   "cell_type": "code",
   "execution_count": null,
   "id": "a90b602a",
   "metadata": {},
   "outputs": [],
   "source": []
  },
  {
   "cell_type": "markdown",
   "id": "ed6b24eb",
   "metadata": {},
   "source": [
    "## Referentes  \n",
    "\n",
    "* Cuederno de trabajo. Razonamiento Lógico. Instituto de Matemáticas. Universidad de Antioquia. "
   ]
  },
  {
   "cell_type": "code",
   "execution_count": null,
   "id": "01a211e6",
   "metadata": {},
   "outputs": [],
   "source": []
  }
 ],
 "metadata": {
  "kernelspec": {
   "display_name": "Python 3",
   "language": "python",
   "name": "python3"
  },
  "language_info": {
   "codemirror_mode": {
    "name": "ipython",
    "version": 3
   },
   "file_extension": ".py",
   "mimetype": "text/x-python",
   "name": "python",
   "nbconvert_exporter": "python",
   "pygments_lexer": "ipython3",
   "version": "3.8.8"
  },
  "latex_envs": {
   "LaTeX_envs_menu_present": true,
   "autoclose": false,
   "autocomplete": false,
   "bibliofile": "biblio.bib",
   "cite_by": "apalike",
   "current_citInitial": 1,
   "eqLabelWithNumbers": true,
   "eqNumInitial": 1,
   "hotkeys": {
    "equation": "Ctrl-E",
    "itemize": "Ctrl-I"
   },
   "labels_anchors": false,
   "latex_user_defs": false,
   "report_style_numbering": false,
   "user_envs_cfg": false
  }
 },
 "nbformat": 4,
 "nbformat_minor": 5
}
