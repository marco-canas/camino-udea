{
 "cells": [
  {
   "cell_type": "markdown",
   "id": "090492a7",
   "metadata": {},
   "source": []
  },
  {
   "cell_type": "markdown",
   "id": "97c894fc",
   "metadata": {},
   "source": [
    "# Parte IV"
   ]
  },
  {
   "cell_type": "markdown",
   "id": "2cf234d5",
   "metadata": {},
   "source": [
    "## Razonamiento geométrico"
   ]
  },
  {
   "cell_type": "markdown",
   "id": "b42a7dcc",
   "metadata": {},
   "source": [
    "### Tema 13"
   ]
  },
  {
   "cell_type": "markdown",
   "id": "d49af498",
   "metadata": {},
   "source": [
    "#### Relaciones espaciones"
   ]
  },
  {
   "cell_type": "markdown",
   "id": "2ac9fc8a",
   "metadata": {},
   "source": [
    "### DataFrame del grupo 1 "
   ]
  },
  {
   "cell_type": "code",
   "execution_count": 8,
   "id": "e98e418a",
   "metadata": {},
   "outputs": [
    {
     "data": {
      "text/html": [
       "<div>\n",
       "<style scoped>\n",
       "    .dataframe tbody tr th:only-of-type {\n",
       "        vertical-align: middle;\n",
       "    }\n",
       "\n",
       "    .dataframe tbody tr th {\n",
       "        vertical-align: top;\n",
       "    }\n",
       "\n",
       "    .dataframe thead th {\n",
       "        text-align: right;\n",
       "    }\n",
       "</style>\n",
       "<table border=\"1\" class=\"dataframe\">\n",
       "  <thead>\n",
       "    <tr style=\"text-align: right;\">\n",
       "      <th></th>\n",
       "      <th>TIPO DE DOCUMENTO</th>\n",
       "      <th>documento</th>\n",
       "      <th>nombre</th>\n",
       "      <th>sexo</th>\n",
       "      <th>FECHA DE NACIMIENTO</th>\n",
       "      <th>RH</th>\n",
       "      <th>TELEFONO</th>\n",
       "      <th>CELULAR</th>\n",
       "      <th>email</th>\n",
       "      <th>DIRECCIÓN</th>\n",
       "      <th>Grupo</th>\n",
       "    </tr>\n",
       "  </thead>\n",
       "  <tbody>\n",
       "    <tr>\n",
       "      <th>0</th>\n",
       "      <td>Cédula</td>\n",
       "      <td>26035601</td>\n",
       "      <td>Kelly Jhoana  Zabaleta Salgado</td>\n",
       "      <td>Femenino</td>\n",
       "      <td>1983-06-24</td>\n",
       "      <td>NaN</td>\n",
       "      <td>3243163539</td>\n",
       "      <td>3235146195</td>\n",
       "      <td>Kellyzabaleta93@gmail.com</td>\n",
       "      <td>Calle33#10-24 , LA APARTADA (LA, CORDOBA, COLO...</td>\n",
       "      <td>Grupo 6</td>\n",
       "    </tr>\n",
       "    <tr>\n",
       "      <th>1</th>\n",
       "      <td>Cédula</td>\n",
       "      <td>1001533394</td>\n",
       "      <td>Leidy Daniela Flórez Anaya</td>\n",
       "      <td>Femenino</td>\n",
       "      <td>2001-10-23</td>\n",
       "      <td>NaN</td>\n",
       "      <td>3107372779</td>\n",
       "      <td>3107372779</td>\n",
       "      <td>florezleidydaniela@gmail.com</td>\n",
       "      <td>Barrio Retorno manzana 24 lote 6, CAUCASIA, AN...</td>\n",
       "      <td>Grupo 6</td>\n",
       "    </tr>\n",
       "    <tr>\n",
       "      <th>2</th>\n",
       "      <td>Cédula</td>\n",
       "      <td>1001549752</td>\n",
       "      <td>Daiber Andres Salas Montiel</td>\n",
       "      <td>Masculino</td>\n",
       "      <td>2003-09-24</td>\n",
       "      <td>NaN</td>\n",
       "      <td>0</td>\n",
       "      <td>3145137109</td>\n",
       "      <td>Daiberandressalasmontiel@gmail.com</td>\n",
       "      <td>Corregimiento colorado, NECHI, ANTIOQUIA, COLO...</td>\n",
       "      <td>Grupo 6</td>\n",
       "    </tr>\n",
       "    <tr>\n",
       "      <th>3</th>\n",
       "      <td>Tarjeta de identidad</td>\n",
       "      <td>1001684367</td>\n",
       "      <td>Juan Carlos Herrera Gaviria</td>\n",
       "      <td>Masculino</td>\n",
       "      <td>2003-08-05</td>\n",
       "      <td>NaN</td>\n",
       "      <td>3215878319</td>\n",
       "      <td>3205811336</td>\n",
       "      <td>hergavi173@gmail.com</td>\n",
       "      <td>Calle 26-27 camello 2, CAUCASIA, ANTIOQUIA, CO...</td>\n",
       "      <td>Grupo 6</td>\n",
       "    </tr>\n",
       "    <tr>\n",
       "      <th>4</th>\n",
       "      <td>Tarjeta de identidad</td>\n",
       "      <td>1063276944</td>\n",
       "      <td>RUBEN DARIO PEDRAZA DIAZ</td>\n",
       "      <td>Masculino</td>\n",
       "      <td>2004-09-17</td>\n",
       "      <td>NaN</td>\n",
       "      <td>3222141270</td>\n",
       "      <td>3222141270</td>\n",
       "      <td>olimpico1709@gmail.com</td>\n",
       "      <td>Cancun calle 9 carrera 3-30, MONTELIBANO, CORD...</td>\n",
       "      <td>Grupo 6</td>\n",
       "    </tr>\n",
       "  </tbody>\n",
       "</table>\n",
       "</div>"
      ],
      "text/plain": [
       "      TIPO DE DOCUMENTO   documento                           nombre  \\\n",
       "0                Cédula    26035601  Kelly Jhoana  Zabaleta Salgado    \n",
       "1                Cédula  1001533394      Leidy Daniela Flórez Anaya    \n",
       "2                Cédula  1001549752      Daiber Andres Salas Montiel   \n",
       "3  Tarjeta de identidad  1001684367      Juan Carlos Herrera Gaviria   \n",
       "4  Tarjeta de identidad  1063276944         RUBEN DARIO PEDRAZA DIAZ   \n",
       "\n",
       "        sexo FECHA DE NACIMIENTO  RH    TELEFONO     CELULAR  \\\n",
       "0   Femenino          1983-06-24 NaN  3243163539  3235146195   \n",
       "1   Femenino          2001-10-23 NaN  3107372779  3107372779   \n",
       "2  Masculino          2003-09-24 NaN           0  3145137109   \n",
       "3  Masculino          2003-08-05 NaN  3215878319  3205811336   \n",
       "4  Masculino          2004-09-17 NaN  3222141270  3222141270   \n",
       "\n",
       "                                email  \\\n",
       "0           Kellyzabaleta93@gmail.com   \n",
       "1        florezleidydaniela@gmail.com   \n",
       "2  Daiberandressalasmontiel@gmail.com   \n",
       "3                hergavi173@gmail.com   \n",
       "4              olimpico1709@gmail.com   \n",
       "\n",
       "                                           DIRECCIÓN    Grupo  \n",
       "0  Calle33#10-24 , LA APARTADA (LA, CORDOBA, COLO...  Grupo 6  \n",
       "1  Barrio Retorno manzana 24 lote 6, CAUCASIA, AN...  Grupo 6  \n",
       "2  Corregimiento colorado, NECHI, ANTIOQUIA, COLO...  Grupo 6  \n",
       "3  Calle 26-27 camello 2, CAUCASIA, ANTIOQUIA, CO...  Grupo 6  \n",
       "4  Cancun calle 9 carrera 3-30, MONTELIBANO, CORD...  Grupo 6  "
      ]
     },
     "execution_count": 8,
     "metadata": {},
     "output_type": "execute_result"
    }
   ],
   "source": [
    "import pandas as pd\n",
    "df = pd.read_csv('grupo_1.csv')\n",
    "df.head(2) "
   ]
  },
  {
   "cell_type": "code",
   "execution_count": 9,
   "id": "1df6ed52",
   "metadata": {},
   "outputs": [
    {
     "data": {
      "text/plain": [
       "Index(['TIPO DE DOCUMENTO', 'documento', 'nombre', 'sexo',\n",
       "       'FECHA DE NACIMIENTO', 'RH', 'TELEFONO', 'CELULAR', 'email',\n",
       "       'DIRECCIÓN', 'Grupo'],\n",
       "      dtype='object')"
      ]
     },
     "execution_count": 9,
     "metadata": {},
     "output_type": "execute_result"
    }
   ],
   "source": [
    "df.keys() "
   ]
  },
  {
   "cell_type": "markdown",
   "id": "42e4a9ad",
   "metadata": {},
   "source": [
    "## Participación aleatoria"
   ]
  },
  {
   "cell_type": "code",
   "execution_count": 20,
   "id": "9cb5865b",
   "metadata": {},
   "outputs": [
    {
     "data": {
      "text/plain": [
       "'Victoria  Palencia Siria'"
      ]
     },
     "execution_count": 20,
     "metadata": {},
     "output_type": "execute_result"
    }
   ],
   "source": [
    "import pandas as pd\n",
    "df = pd.read_csv('grupo_1.csv')\n",
    "\n",
    "from random import randint, choice\n",
    "\n",
    "def seleccionar_estudiante():\n",
    "    p = 18   # número de estudiantes en el aula\n",
    "    while p > 0:\n",
    "        p -=1\n",
    "        list_students = df.nombre\n",
    "        student = choice(list_students) \n",
    "        return student\n",
    "        \n",
    "seleccionar_estudiante()         "
   ]
  },
  {
   "cell_type": "markdown",
   "id": "249eaf81",
   "metadata": {},
   "source": [
    "### Pregunta 13.1"
   ]
  },
  {
   "cell_type": "markdown",
   "id": "6d64e9a7",
   "metadata": {},
   "source": [
    "La figura mostrada se ha construido uniendo 7 cubos unitarios. "
   ]
  },
  {
   "cell_type": "markdown",
   "id": "16a057e4",
   "metadata": {},
   "source": [
    "<img src = ''> "
   ]
  },
  {
   "cell_type": "markdown",
   "id": "d718bf02",
   "metadata": {},
   "source": [
    "La razón del volumen en unidades cúbicas, a la superficie en unidades cuadradas, de esta figura es:  \n",
    "\n",
    "(a) $1/6$  \n",
    "(b) $7/30$  \n",
    "(c) $7/36$  \n",
    "(d) $1/5$ "
   ]
  },
  {
   "cell_type": "markdown",
   "id": "1781b8b1",
   "metadata": {},
   "source": [
    "### [Primer video de apoyo]() "
   ]
  },
  {
   "cell_type": "code",
   "execution_count": null,
   "id": "75fc4fb1",
   "metadata": {},
   "outputs": [],
   "source": []
  },
  {
   "cell_type": "code",
   "execution_count": null,
   "id": "5cdefbd9",
   "metadata": {},
   "outputs": [],
   "source": []
  },
  {
   "cell_type": "code",
   "execution_count": null,
   "id": "ca6a29cf",
   "metadata": {},
   "outputs": [],
   "source": []
  },
  {
   "cell_type": "code",
   "execution_count": null,
   "id": "1ae429c1",
   "metadata": {},
   "outputs": [],
   "source": []
  },
  {
   "cell_type": "markdown",
   "id": "725f30a3",
   "metadata": {},
   "source": [
    "## Referentes\n",
    "\n",
    "* Sobre la función `choice` del módulo `random`: https://iq.opengenus.org/random-element-from-list-in-python/"
   ]
  },
  {
   "cell_type": "code",
   "execution_count": null,
   "id": "0ad1a494",
   "metadata": {},
   "outputs": [],
   "source": []
  }
 ],
 "metadata": {
  "kernelspec": {
   "display_name": "Python 3",
   "language": "python",
   "name": "python3"
  },
  "language_info": {
   "codemirror_mode": {
    "name": "ipython",
    "version": 3
   },
   "file_extension": ".py",
   "mimetype": "text/x-python",
   "name": "python",
   "nbconvert_exporter": "python",
   "pygments_lexer": "ipython3",
   "version": "3.8.8"
  },
  "latex_envs": {
   "LaTeX_envs_menu_present": true,
   "autoclose": false,
   "autocomplete": false,
   "bibliofile": "biblio.bib",
   "cite_by": "apalike",
   "current_citInitial": 1,
   "eqLabelWithNumbers": true,
   "eqNumInitial": 1,
   "hotkeys": {
    "equation": "Ctrl-E",
    "itemize": "Ctrl-I"
   },
   "labels_anchors": false,
   "latex_user_defs": false,
   "report_style_numbering": false,
   "user_envs_cfg": false
  }
 },
 "nbformat": 4,
 "nbformat_minor": 5
}
