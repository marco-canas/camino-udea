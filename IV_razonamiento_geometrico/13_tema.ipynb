{
 "cells": [
  {
   "cell_type": "markdown",
   "id": "090492a7",
   "metadata": {
    "slideshow": {
     "slide_type": "slide"
    }
   },
   "source": [
    "\n",
    "\n",
    "<table align=\"left\">\n",
    "  <td>\n",
    "    <a href=\"https://colab.research.google.com/github/marco-canas/taca/blob/main/ref/charu/7_ch/7_2_SVD_A_Linear_Algebra_Perspective.ipynb\" target=\"_parent\"><img src=\"https://colab.research.google.com/assets/colab-badge.svg\" alt=\"Open In Colab\"/></a>\n",
    "  </td>\n",
    "  <td>\n",
    "    <a target=\"_blank\" href=\"https://kaggle.com/kernels/welcome?src=https://github.com/marco-canas/taca/blob/main/ref/charu/7_ch/7_2_SVD_A_Linear_Algebra_Perspective.ipynb\"><img src=\"https://kaggle.com/static/images/open-in-kaggle.svg\" /></a>\n",
    "  </td>\n",
    "</table>\n",
    "\n"
   ]
  },
  {
   "cell_type": "markdown",
   "id": "97c894fc",
   "metadata": {
    "slideshow": {
     "slide_type": "slide"
    }
   },
   "source": [
    "# Parte IV"
   ]
  },
  {
   "cell_type": "markdown",
   "id": "2cf234d5",
   "metadata": {
    "slideshow": {
     "slide_type": "slide"
    }
   },
   "source": [
    "## Razonamiento geométrico"
   ]
  },
  {
   "cell_type": "markdown",
   "id": "b42a7dcc",
   "metadata": {
    "slideshow": {
     "slide_type": "slide"
    }
   },
   "source": [
    "### Tema 13"
   ]
  },
  {
   "cell_type": "markdown",
   "id": "d49af498",
   "metadata": {
    "slideshow": {
     "slide_type": "slide"
    }
   },
   "source": [
    "#### Relaciones espaciones"
   ]
  },
  {
   "cell_type": "markdown",
   "id": "2ac9fc8a",
   "metadata": {
    "slideshow": {
     "slide_type": "slide"
    }
   },
   "source": [
    "### DataFrame del grupo 1 "
   ]
  },
  {
   "cell_type": "code",
   "execution_count": 1,
   "id": "e98e418a",
   "metadata": {
    "slideshow": {
     "slide_type": "slide"
    }
   },
   "outputs": [
    {
     "data": {
      "text/html": [
       "<div>\n",
       "<style scoped>\n",
       "    .dataframe tbody tr th:only-of-type {\n",
       "        vertical-align: middle;\n",
       "    }\n",
       "\n",
       "    .dataframe tbody tr th {\n",
       "        vertical-align: top;\n",
       "    }\n",
       "\n",
       "    .dataframe thead th {\n",
       "        text-align: right;\n",
       "    }\n",
       "</style>\n",
       "<table border=\"1\" class=\"dataframe\">\n",
       "  <thead>\n",
       "    <tr style=\"text-align: right;\">\n",
       "      <th></th>\n",
       "      <th>TIPO DE DOCUMENTO</th>\n",
       "      <th>documento</th>\n",
       "      <th>nombre</th>\n",
       "      <th>sexo</th>\n",
       "      <th>FECHA DE NACIMIENTO</th>\n",
       "      <th>RH</th>\n",
       "      <th>TELEFONO</th>\n",
       "      <th>CELULAR</th>\n",
       "      <th>email</th>\n",
       "      <th>DIRECCIÓN</th>\n",
       "      <th>Grupo</th>\n",
       "    </tr>\n",
       "  </thead>\n",
       "  <tbody>\n",
       "    <tr>\n",
       "      <th>0</th>\n",
       "      <td>Cédula</td>\n",
       "      <td>26035601</td>\n",
       "      <td>Kelly Jhoana  Zabaleta Salgado</td>\n",
       "      <td>Femenino</td>\n",
       "      <td>1983-06-24</td>\n",
       "      <td>NaN</td>\n",
       "      <td>3243163539</td>\n",
       "      <td>3235146195</td>\n",
       "      <td>Kellyzabaleta93@gmail.com</td>\n",
       "      <td>Calle33#10-24 , LA APARTADA (LA, CORDOBA, COLO...</td>\n",
       "      <td>Grupo 6</td>\n",
       "    </tr>\n",
       "    <tr>\n",
       "      <th>1</th>\n",
       "      <td>Cédula</td>\n",
       "      <td>1001533394</td>\n",
       "      <td>Leidy Daniela Flórez Anaya</td>\n",
       "      <td>Femenino</td>\n",
       "      <td>2001-10-23</td>\n",
       "      <td>NaN</td>\n",
       "      <td>3107372779</td>\n",
       "      <td>3107372779</td>\n",
       "      <td>florezleidydaniela@gmail.com</td>\n",
       "      <td>Barrio Retorno manzana 24 lote 6, CAUCASIA, AN...</td>\n",
       "      <td>Grupo 6</td>\n",
       "    </tr>\n",
       "  </tbody>\n",
       "</table>\n",
       "</div>"
      ],
      "text/plain": [
       "  TIPO DE DOCUMENTO   documento                           nombre      sexo  \\\n",
       "0            Cédula    26035601  Kelly Jhoana  Zabaleta Salgado   Femenino   \n",
       "1            Cédula  1001533394      Leidy Daniela Flórez Anaya   Femenino   \n",
       "\n",
       "  FECHA DE NACIMIENTO  RH    TELEFONO     CELULAR  \\\n",
       "0          1983-06-24 NaN  3243163539  3235146195   \n",
       "1          2001-10-23 NaN  3107372779  3107372779   \n",
       "\n",
       "                          email  \\\n",
       "0     Kellyzabaleta93@gmail.com   \n",
       "1  florezleidydaniela@gmail.com   \n",
       "\n",
       "                                           DIRECCIÓN    Grupo  \n",
       "0  Calle33#10-24 , LA APARTADA (LA, CORDOBA, COLO...  Grupo 6  \n",
       "1  Barrio Retorno manzana 24 lote 6, CAUCASIA, AN...  Grupo 6  "
      ]
     },
     "execution_count": 1,
     "metadata": {},
     "output_type": "execute_result"
    }
   ],
   "source": [
    "import pandas as pd\n",
    "df = pd.read_csv('grupo_1.csv')\n",
    "df.head(2) "
   ]
  },
  {
   "cell_type": "code",
   "execution_count": 9,
   "id": "1df6ed52",
   "metadata": {
    "slideshow": {
     "slide_type": "slide"
    }
   },
   "outputs": [
    {
     "data": {
      "text/plain": [
       "Index(['TIPO DE DOCUMENTO', 'documento', 'nombre', 'sexo',\n",
       "       'FECHA DE NACIMIENTO', 'RH', 'TELEFONO', 'CELULAR', 'email',\n",
       "       'DIRECCIÓN', 'Grupo'],\n",
       "      dtype='object')"
      ]
     },
     "execution_count": 9,
     "metadata": {},
     "output_type": "execute_result"
    }
   ],
   "source": [
    "df.keys() "
   ]
  },
  {
   "cell_type": "markdown",
   "id": "42e4a9ad",
   "metadata": {
    "slideshow": {
     "slide_type": "slide"
    }
   },
   "source": [
    "## Participación aleatoria"
   ]
  },
  {
   "cell_type": "code",
   "execution_count": 102,
   "id": "5d23d95f",
   "metadata": {
    "slideshow": {
     "slide_type": "slide"
    }
   },
   "outputs": [],
   "source": [
    "import pandas as pd\n",
    "df = pd.read_csv('grupo_1.csv')\n",
    "\n",
    "from random import randint, choice"
   ]
  },
  {
   "cell_type": "code",
   "execution_count": 103,
   "id": "7c0d2ebf",
   "metadata": {
    "slideshow": {
     "slide_type": "slide"
    }
   },
   "outputs": [],
   "source": [
    "list_students = list(df.nombre.values)\n",
    "def seleccionar_estudiante():\n",
    "    while len(list_students)>=1:\n",
    "        student = choice(list_students) \n",
    "        list_students.remove(student) \n",
    "        return student"
   ]
  },
  {
   "cell_type": "code",
   "execution_count": 130,
   "id": "9cb5865b",
   "metadata": {
    "slideshow": {
     "slide_type": "slide"
    }
   },
   "outputs": [],
   "source": [
    "        \n",
    "seleccionar_estudiante()         "
   ]
  },
  {
   "cell_type": "code",
   "execution_count": 14,
   "id": "42142cc6",
   "metadata": {
    "scrolled": true,
    "slideshow": {
     "slide_type": "slide"
    }
   },
   "outputs": [
    {
     "data": {
      "text/plain": [
       "['__add__',\n",
       " '__class__',\n",
       " '__contains__',\n",
       " '__delattr__',\n",
       " '__delitem__',\n",
       " '__dir__',\n",
       " '__doc__',\n",
       " '__eq__',\n",
       " '__format__',\n",
       " '__ge__',\n",
       " '__getattribute__',\n",
       " '__getitem__',\n",
       " '__gt__',\n",
       " '__hash__',\n",
       " '__iadd__',\n",
       " '__imul__',\n",
       " '__init__',\n",
       " '__init_subclass__',\n",
       " '__iter__',\n",
       " '__le__',\n",
       " '__len__',\n",
       " '__lt__',\n",
       " '__mul__',\n",
       " '__ne__',\n",
       " '__new__',\n",
       " '__reduce__',\n",
       " '__reduce_ex__',\n",
       " '__repr__',\n",
       " '__reversed__',\n",
       " '__rmul__',\n",
       " '__setattr__',\n",
       " '__setitem__',\n",
       " '__sizeof__',\n",
       " '__str__',\n",
       " '__subclasshook__',\n",
       " 'append',\n",
       " 'clear',\n",
       " 'copy',\n",
       " 'count',\n",
       " 'extend',\n",
       " 'index',\n",
       " 'insert',\n",
       " 'pop',\n",
       " 'remove',\n",
       " 'reverse',\n",
       " 'sort']"
      ]
     },
     "execution_count": 14,
     "metadata": {},
     "output_type": "execute_result"
    }
   ],
   "source": [
    "dir(list) # Es importante el uso de la función dir() para determinar la lista de métodos asociados a una clase de Python.\n"
   ]
  },
  {
   "cell_type": "code",
   "execution_count": 4,
   "id": "0d53af73",
   "metadata": {
    "slideshow": {
     "slide_type": "slide"
    }
   },
   "outputs": [
    {
     "data": {
      "text/plain": [
       "['b']"
      ]
     },
     "execution_count": 4,
     "metadata": {},
     "output_type": "execute_result"
    }
   ],
   "source": [
    "lista = ['a','b']\n",
    "lista.remove('a')\n",
    "lista "
   ]
  },
  {
   "cell_type": "markdown",
   "id": "249eaf81",
   "metadata": {
    "slideshow": {
     "slide_type": "slide"
    }
   },
   "source": [
    "### Pregunta 13.1"
   ]
  },
  {
   "cell_type": "markdown",
   "id": "6d64e9a7",
   "metadata": {
    "slideshow": {
     "slide_type": "slide"
    }
   },
   "source": [
    "La figura mostrada se ha construido uniendo 7 cubos unitarios. "
   ]
  },
  {
   "cell_type": "markdown",
   "id": "16a057e4",
   "metadata": {
    "slideshow": {
     "slide_type": "slide"
    }
   },
   "source": [
    "<img src = 'https://github.com/marco-canas/camino-udea/blob/main/IV_razonamiento_geometrico/tema_13_fig_1.png?raw=true'>  "
   ]
  },
  {
   "cell_type": "markdown",
   "id": "d718bf02",
   "metadata": {
    "slideshow": {
     "slide_type": "slide"
    }
   },
   "source": [
    "La razón del volumen en unidades cúbicas, a la superficie en unidades cuadradas, de esta figura es:  \n",
    "\n",
    "(a) $1/6$  \n",
    "(b) $7/30$  \n",
    "(c) $7/36$  \n",
    "(d) $1/5$ "
   ]
  },
  {
   "cell_type": "markdown",
   "id": "1781b8b1",
   "metadata": {
    "slideshow": {
     "slide_type": "slide"
    }
   },
   "source": [
    "### [Primer video de apoyo]() "
   ]
  },
  {
   "cell_type": "markdown",
   "id": "9c61e4c9",
   "metadata": {
    "slideshow": {
     "slide_type": "slide"
    }
   },
   "source": [
    "## Solución:"
   ]
  },
  {
   "cell_type": "markdown",
   "id": "664a3bc1",
   "metadata": {
    "slideshow": {
     "slide_type": "slide"
    }
   },
   "source": []
  },
  {
   "cell_type": "markdown",
   "id": "9f6e2a34",
   "metadata": {
    "slideshow": {
     "slide_type": "slide"
    }
   },
   "source": [
    "## Pregunta 13.2  "
   ]
  },
  {
   "cell_type": "markdown",
   "id": "337bc1c7",
   "metadata": {
    "slideshow": {
     "slide_type": "slide"
    }
   },
   "source": [
    "En la figura se muestran 4 ruedas unidas por 3 correas.  \n",
    "La correa que mueve a las ruedas 2 y 3 está cruzada.  \n",
    "Si la rueda 1 se mueve en el sentido de las manecillas del reloj, las otras ruedas que se mueven en este mismo sentido son:\n",
    "\n",
    "(a) 3 y 4  \n",
    "(b) 2,3 y 4  \n",
    "(c) sólo 2  \n",
    "(d) Ninguna otra \n"
   ]
  },
  {
   "cell_type": "markdown",
   "id": "53758445",
   "metadata": {
    "slideshow": {
     "slide_type": "slide"
    }
   },
   "source": [
    "<img src = 'https://github.com/marco-canas/camino-udea/blob/main/IV_razonamiento_geometrico/ejer_13.2.jpeg?raw=true'>"
   ]
  },
  {
   "cell_type": "markdown",
   "id": "3af54cf5",
   "metadata": {
    "slideshow": {
     "slide_type": "slide"
    }
   },
   "source": [
    "## [Video de apoyo a la solución](https://www.youtube.com/watch?v=UkI2WBf-KE4) "
   ]
  },
  {
   "cell_type": "markdown",
   "id": "531a329e",
   "metadata": {
    "slideshow": {
     "slide_type": "slide"
    }
   },
   "source": [
    "### Observaciones para la solución\n",
    "\n",
    "* Si las correas no sin cruzadas, entonces los sentidos de rotación son iguales.\n",
    "* Si las correas son cruzadas, entonces los sentidos de rotación son contrarios. \n"
   ]
  },
  {
   "cell_type": "code",
   "execution_count": null,
   "id": "179c497e",
   "metadata": {
    "slideshow": {
     "slide_type": "slide"
    }
   },
   "outputs": [],
   "source": []
  },
  {
   "cell_type": "code",
   "execution_count": null,
   "id": "3af54b0c",
   "metadata": {},
   "outputs": [],
   "source": []
  },
  {
   "cell_type": "markdown",
   "id": "0f50c977",
   "metadata": {
    "slideshow": {
     "slide_type": "slide"
    }
   },
   "source": [
    "## Pregunta 13.5"
   ]
  },
  {
   "cell_type": "markdown",
   "id": "803032eb",
   "metadata": {
    "slideshow": {
     "slide_type": "slide"
    }
   },
   "source": [
    "Juan dispone de una trozo rectangular de cartulina de 12 cm de largo, para recortar 7 círculos iguales de 3 cm de diámetro.  \n",
    "La altura del rectángulo de cartulina  de menor área para que Juan pueda ejecutar esta labor, en cm, es:\n",
    "\n",
    "(a) 5  \n",
    "(b) $\\frac{}{}\\sqrt{3} + 3$  \n",
    "(c) $\\frac{3}{2}\\sqrt{3}$  \n",
    "(d) $6$ \n"
   ]
  },
  {
   "cell_type": "code",
   "execution_count": null,
   "id": "eeaac2b8",
   "metadata": {
    "slideshow": {
     "slide_type": "slide"
    }
   },
   "outputs": [],
   "source": []
  },
  {
   "cell_type": "code",
   "execution_count": null,
   "id": "165aa594",
   "metadata": {
    "slideshow": {
     "slide_type": "slide"
    }
   },
   "outputs": [],
   "source": []
  },
  {
   "cell_type": "code",
   "execution_count": null,
   "id": "1ae429c1",
   "metadata": {
    "slideshow": {
     "slide_type": "slide"
    }
   },
   "outputs": [],
   "source": []
  },
  {
   "cell_type": "markdown",
   "id": "725f30a3",
   "metadata": {
    "slideshow": {
     "slide_type": "slide"
    }
   },
   "source": [
    "## Referentes\n",
    "\n",
    "* Sobre la función `choice` del módulo `random`: https://iq.opengenus.org/random-element-from-list-in-python/"
   ]
  },
  {
   "cell_type": "code",
   "execution_count": null,
   "id": "0ad1a494",
   "metadata": {
    "slideshow": {
     "slide_type": "slide"
    }
   },
   "outputs": [],
   "source": []
  }
 ],
 "metadata": {
  "celltoolbar": "Slideshow",
  "kernelspec": {
   "display_name": "Python 3",
   "language": "python",
   "name": "python3"
  },
  "language_info": {
   "codemirror_mode": {
    "name": "ipython",
    "version": 3
   },
   "file_extension": ".py",
   "mimetype": "text/x-python",
   "name": "python",
   "nbconvert_exporter": "python",
   "pygments_lexer": "ipython3",
   "version": "3.8.8"
  },
  "latex_envs": {
   "LaTeX_envs_menu_present": true,
   "autoclose": false,
   "autocomplete": false,
   "bibliofile": "biblio.bib",
   "cite_by": "apalike",
   "current_citInitial": 1,
   "eqLabelWithNumbers": true,
   "eqNumInitial": 1,
   "hotkeys": {
    "equation": "Ctrl-E",
    "itemize": "Ctrl-I"
   },
   "labels_anchors": false,
   "latex_user_defs": false,
   "report_style_numbering": false,
   "user_envs_cfg": false
  },
  "rise": {
   "enable_chalkboard": true,
   "theme": "sky",
   "transition": "zoom"
  }
 },
 "nbformat": 4,
 "nbformat_minor": 5
}
