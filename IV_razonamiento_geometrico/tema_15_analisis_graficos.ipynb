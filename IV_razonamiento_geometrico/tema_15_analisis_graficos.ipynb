{
 "cells": [
  {
   "cell_type": "markdown",
   "id": "a8e07773",
   "metadata": {},
   "source": []
  },
  {
   "cell_type": "markdown",
   "id": "db4d80af",
   "metadata": {},
   "source": [
    "# Tema 15 Análisis de gráficos y tablas "
   ]
  },
  {
   "cell_type": "markdown",
   "id": "a0377623",
   "metadata": {},
   "source": [
    "# Preguntas 15.1 y 15.2 "
   ]
  },
  {
   "cell_type": "markdown",
   "id": "fbd1a2e4",
   "metadata": {},
   "source": [
    "En el gráfico de barras  "
   ]
  },
  {
   "cell_type": "markdown",
   "id": "5f819fa3",
   "metadata": {},
   "source": [
    "## Estrategias y conceptos necesarios para la solución de este problema"
   ]
  },
  {
   "cell_type": "markdown",
   "id": "9a5477bf",
   "metadata": {},
   "source": [
    "* El concepto de razón como comparación multiplicativa \n",
    "\n",
    "$$ \\frac{a}{b} $$\n",
    "\n",
    "razón en matemáticas significa división o cociente y sirve para dar medidas relativas. \n"
   ]
  },
  {
   "cell_type": "markdown",
   "id": "745b330d",
   "metadata": {},
   "source": []
  },
  {
   "cell_type": "markdown",
   "id": "847c509b",
   "metadata": {},
   "source": [
    "# Preguntas 15.3 y 15.4"
   ]
  },
  {
   "cell_type": "markdown",
   "id": "669560ae",
   "metadata": {},
   "source": [
    "Una compañía procesadora de aluminio, hierro y cobre presenta un informe de sus ventas en toneladas"
   ]
  },
  {
   "cell_type": "markdown",
   "id": "13e8921c",
   "metadata": {},
   "source": [
    "## Estrategias y conceptos necesarios para la solución de este problema \n"
   ]
  },
  {
   "cell_type": "markdown",
   "id": "d6670300",
   "metadata": {},
   "source": []
  },
  {
   "cell_type": "code",
   "execution_count": null,
   "id": "4340fb03",
   "metadata": {},
   "outputs": [],
   "source": []
  }
 ],
 "metadata": {
  "kernelspec": {
   "display_name": "Python 3 (ipykernel)",
   "language": "python",
   "name": "python3"
  },
  "language_info": {
   "codemirror_mode": {
    "name": "ipython",
    "version": 3
   },
   "file_extension": ".py",
   "mimetype": "text/x-python",
   "name": "python",
   "nbconvert_exporter": "python",
   "pygments_lexer": "ipython3",
   "version": "3.9.7"
  }
 },
 "nbformat": 4,
 "nbformat_minor": 5
}
