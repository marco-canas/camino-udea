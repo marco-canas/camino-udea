{
 "cells": [
  {
   "cell_type": "code",
   "execution_count": null,
   "id": "5808e9ed",
   "metadata": {},
   "outputs": [],
   "source": []
  },
  {
   "cell_type": "markdown",
   "id": "b4ed5e86",
   "metadata": {},
   "source": [
    "## Ejercicio 68 de la prueba diagnóstica"
   ]
  },
  {
   "cell_type": "markdown",
   "id": "1c3762ef",
   "metadata": {},
   "source": [
    "En la figura se ilustra un rectángulo mayor que está subdividido en cuatro rectángulos de menor tamaño. "
   ]
  },
  {
   "cell_type": "markdown",
   "id": "ae6d3291",
   "metadata": {},
   "source": [
    "<img src = 'https://github.com/marco-canas/camino-udea/blob/main/IV_razonamiento_geometrico/ejer_68_prueba_diagnostica.png?raw=true'>"
   ]
  },
  {
   "cell_type": "code",
   "execution_count": 2,
   "id": "148f139a",
   "metadata": {},
   "outputs": [],
   "source": [
    "import numpy as np \n",
    "import matplotlib.pyplot as plt\n",
    "\n",
    "punto1=[0,0]\n",
    "punto2 = []\n"
   ]
  },
  {
   "cell_type": "markdown",
   "id": "695e0733",
   "metadata": {},
   "source": [
    "Cada uno de los tres números mostrados representa el perímetro del rectángulo que lo contiene. El perímetro del rectángulo  "
   ]
  },
  {
   "cell_type": "code",
   "execution_count": null,
   "id": "05277a5b",
   "metadata": {},
   "outputs": [],
   "source": []
  },
  {
   "cell_type": "code",
   "execution_count": null,
   "id": "01466c66",
   "metadata": {},
   "outputs": [],
   "source": []
  },
  {
   "cell_type": "code",
   "execution_count": null,
   "id": "15ae10f0",
   "metadata": {},
   "outputs": [],
   "source": []
  }
 ],
 "metadata": {
  "kernelspec": {
   "display_name": "Python 3",
   "language": "python",
   "name": "python3"
  },
  "language_info": {
   "codemirror_mode": {
    "name": "ipython",
    "version": 3
   },
   "file_extension": ".py",
   "mimetype": "text/x-python",
   "name": "python",
   "nbconvert_exporter": "python",
   "pygments_lexer": "ipython3",
   "version": "3.8.8"
  },
  "latex_envs": {
   "LaTeX_envs_menu_present": true,
   "autoclose": false,
   "autocomplete": false,
   "bibliofile": "biblio.bib",
   "cite_by": "apalike",
   "current_citInitial": 1,
   "eqLabelWithNumbers": true,
   "eqNumInitial": 1,
   "hotkeys": {
    "equation": "Ctrl-E",
    "itemize": "Ctrl-I"
   },
   "labels_anchors": false,
   "latex_user_defs": false,
   "report_style_numbering": false,
   "user_envs_cfg": false
  }
 },
 "nbformat": 4,
 "nbformat_minor": 5
}
