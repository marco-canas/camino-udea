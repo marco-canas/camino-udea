{
 "cells": [
  {
   "cell_type": "code",
   "execution_count": null,
   "id": "f4c1b2e0",
   "metadata": {},
   "outputs": [],
   "source": []
  },
  {
   "cell_type": "markdown",
   "id": "83302a4c",
   "metadata": {},
   "source": [
    "## Ejercicio 68 de la prueba diagnóstica"
   ]
  },
  {
   "cell_type": "markdown",
   "id": "7487a528",
   "metadata": {},
   "source": [
    "En la figura se ilustra un rectángulo mayor que está subdividido en cuatro rectángulos de menor tamaño. "
   ]
  },
  {
   "cell_type": "markdown",
   "id": "647b40f4",
   "metadata": {},
   "source": [
    "<img src = ''>"
   ]
  },
  {
   "cell_type": "code",
   "execution_count": 2,
   "id": "ed3154c1",
   "metadata": {},
   "outputs": [],
   "source": [
    "import numpy as np \n",
    "import matplotlib.pyplot as plt\n",
    "\n",
    "punto1=[0,0]\n",
    "punto2 = []\n"
   ]
  },
  {
   "cell_type": "markdown",
   "id": "9f983cab",
   "metadata": {},
   "source": [
    "Cada uno de los tres números mostrados representa el perímetro "
   ]
  },
  {
   "cell_type": "code",
   "execution_count": null,
   "id": "301f2f3a",
   "metadata": {},
   "outputs": [],
   "source": []
  },
  {
   "cell_type": "code",
   "execution_count": null,
   "id": "29063052",
   "metadata": {},
   "outputs": [],
   "source": []
  },
  {
   "cell_type": "code",
   "execution_count": null,
   "id": "73723c60",
   "metadata": {},
   "outputs": [],
   "source": []
  }
 ],
 "metadata": {
  "kernelspec": {
   "display_name": "Python 3",
   "language": "python",
   "name": "python3"
  },
  "language_info": {
   "codemirror_mode": {
    "name": "ipython",
    "version": 3
   },
   "file_extension": ".py",
   "mimetype": "text/x-python",
   "name": "python",
   "nbconvert_exporter": "python",
   "pygments_lexer": "ipython3",
   "version": "3.8.8"
  },
  "latex_envs": {
   "LaTeX_envs_menu_present": true,
   "autoclose": false,
   "autocomplete": false,
   "bibliofile": "biblio.bib",
   "cite_by": "apalike",
   "current_citInitial": 1,
   "eqLabelWithNumbers": true,
   "eqNumInitial": 1,
   "hotkeys": {
    "equation": "Ctrl-E",
    "itemize": "Ctrl-I"
   },
   "labels_anchors": false,
   "latex_user_defs": false,
   "report_style_numbering": false,
   "user_envs_cfg": false
  }
 },
 "nbformat": 4,
 "nbformat_minor": 5
}
