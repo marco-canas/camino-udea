{
 "cells": [
  {
   "cell_type": "markdown",
   "id": "fba0bdff",
   "metadata": {},
   "source": [
    "\n",
    "<table align=\"left\">\n",
    "  <td>\n",
    "    <a href=\"https://colab.research.google.com/github/marco-canas/taca/blob/main/ref/charu/7_ch/7_2_SVD_A_Linear_Algebra_Perspective.ipynb\" target=\"_parent\"><img src=\"https://colab.research.google.com/assets/colab-badge.svg\" alt=\"Open In Colab\"/></a>\n",
    "  </td>\n",
    "  <td>\n",
    "    <a target=\"_blank\" href=\"https://kaggle.com/kernels/welcome?src=https://github.com/marco-canas/taca/blob/main/ref/charu/7_ch/7_2_SVD_A_Linear_Algebra_Perspective.ipynb\"><img src=\"https://kaggle.com/static/images/open-in-kaggle.svg\" /></a>\n",
    "  </td>\n",
    "</table>\n"
   ]
  },
  {
   "cell_type": "markdown",
   "id": "555f87bb",
   "metadata": {},
   "source": [
    "# Parte IV"
   ]
  },
  {
   "cell_type": "markdown",
   "id": "6434b92d",
   "metadata": {},
   "source": [
    "## Razonamiento Geométrico"
   ]
  },
  {
   "cell_type": "markdown",
   "id": "cd0be42a",
   "metadata": {},
   "source": [
    "### Tema 14 "
   ]
  },
  {
   "cell_type": "markdown",
   "id": "421b8dbc",
   "metadata": {},
   "source": [
    "### Preguntas 14.1 y 14.2"
   ]
  },
  {
   "cell_type": "markdown",
   "id": "aaf9af84",
   "metadata": {},
   "source": [
    "Las siguientes figuras se han construido de acuerdo con una ley de formación que puede identificarse. "
   ]
  },
  {
   "cell_type": "markdown",
   "id": "a8068c35",
   "metadata": {},
   "source": [
    "<img src = ''> "
   ]
  },
  {
   "cell_type": "code",
   "execution_count": null,
   "id": "10cf7681",
   "metadata": {},
   "outputs": [],
   "source": []
  },
  {
   "cell_type": "code",
   "execution_count": null,
   "id": "ee5e9da6",
   "metadata": {},
   "outputs": [],
   "source": []
  },
  {
   "cell_type": "code",
   "execution_count": null,
   "id": "3452de79",
   "metadata": {},
   "outputs": [],
   "source": []
  },
  {
   "cell_type": "code",
   "execution_count": null,
   "id": "f963cacb",
   "metadata": {},
   "outputs": [],
   "source": []
  },
  {
   "cell_type": "markdown",
   "id": "492fd514",
   "metadata": {},
   "source": [
    "## Referentes  \n",
    "\n",
    "* Cuederno de trabajo. Razonamiento Lógico. Instituto de Matemáticas. Universidad de Antioquia. "
   ]
  },
  {
   "cell_type": "code",
   "execution_count": null,
   "id": "cf4c5571",
   "metadata": {},
   "outputs": [],
   "source": []
  }
 ],
 "metadata": {
  "kernelspec": {
   "display_name": "Python 3",
   "language": "python",
   "name": "python3"
  },
  "language_info": {
   "codemirror_mode": {
    "name": "ipython",
    "version": 3
   },
   "file_extension": ".py",
   "mimetype": "text/x-python",
   "name": "python",
   "nbconvert_exporter": "python",
   "pygments_lexer": "ipython3",
   "version": "3.8.8"
  },
  "latex_envs": {
   "LaTeX_envs_menu_present": true,
   "autoclose": false,
   "autocomplete": false,
   "bibliofile": "biblio.bib",
   "cite_by": "apalike",
   "current_citInitial": 1,
   "eqLabelWithNumbers": true,
   "eqNumInitial": 1,
   "hotkeys": {
    "equation": "Ctrl-E",
    "itemize": "Ctrl-I"
   },
   "labels_anchors": false,
   "latex_user_defs": false,
   "report_style_numbering": false,
   "user_envs_cfg": false
  }
 },
 "nbformat": 4,
 "nbformat_minor": 5
}
