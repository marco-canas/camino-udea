{
 "cells": [
  {
   "cell_type": "markdown",
   "id": "e63a49ff",
   "metadata": {},
   "source": [
    "# Pregunta 9 de la prueba diagnóstica"
   ]
  },
  {
   "cell_type": "markdown",
   "id": "bacf2724",
   "metadata": {},
   "source": [
    "* ¿Qué es una función? \n",
    "* Representación gráfica de una función. \n",
    "* Criterio de la recta vertical para funciones \n"
   ]
  },
  {
   "cell_type": "code",
   "execution_count": null,
   "id": "81c29648",
   "metadata": {},
   "outputs": [],
   "source": []
  }
 ],
 "metadata": {
  "kernelspec": {
   "display_name": "Python 3",
   "language": "python",
   "name": "python3"
  },
  "language_info": {
   "codemirror_mode": {
    "name": "ipython",
    "version": 3
   },
   "file_extension": ".py",
   "mimetype": "text/x-python",
   "name": "python",
   "nbconvert_exporter": "python",
   "pygments_lexer": "ipython3",
   "version": "3.8.8"
  },
  "latex_envs": {
   "LaTeX_envs_menu_present": true,
   "autoclose": false,
   "autocomplete": false,
   "bibliofile": "biblio.bib",
   "cite_by": "apalike",
   "current_citInitial": 1,
   "eqLabelWithNumbers": true,
   "eqNumInitial": 1,
   "hotkeys": {
    "equation": "Ctrl-E",
    "itemize": "Ctrl-I"
   },
   "labels_anchors": false,
   "latex_user_defs": false,
   "report_style_numbering": false,
   "user_envs_cfg": false
  }
 },
 "nbformat": 4,
 "nbformat_minor": 5
}
