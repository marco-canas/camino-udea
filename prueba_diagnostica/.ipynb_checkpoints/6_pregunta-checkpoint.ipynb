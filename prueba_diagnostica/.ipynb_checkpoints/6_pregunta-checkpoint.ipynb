{
 "cells": [
  {
   "cell_type": "markdown",
   "id": "db0b1ba5",
   "metadata": {},
   "source": [
    "# Pregunta 6 de la prueba diagnóstica"
   ]
  },
  {
   "cell_type": "markdown",
   "id": "ef59c8a4",
   "metadata": {},
   "source": [
    "## Conceptos asociados a esta pregunta:\n",
    "\n",
    "* Ecuación\n",
    "* Potenciación"
   ]
  },
  {
   "cell_type": "code",
   "execution_count": 1,
   "id": "f8aacbf3",
   "metadata": {},
   "outputs": [
    {
     "data": {
      "text/plain": [
       "1"
      ]
     },
     "execution_count": 1,
     "metadata": {},
     "output_type": "execute_result"
    }
   ],
   "source": [
    "2**0"
   ]
  },
  {
   "cell_type": "code",
   "execution_count": 2,
   "id": "2e2632d7",
   "metadata": {},
   "outputs": [
    {
     "data": {
      "text/plain": [
       "1"
      ]
     },
     "execution_count": 2,
     "metadata": {},
     "output_type": "execute_result"
    }
   ],
   "source": [
    "0**0"
   ]
  },
  {
   "cell_type": "markdown",
   "id": "eab6d6dc",
   "metadata": {},
   "source": [
    "$$ [(x-1)^{2}]^{0} - x - 3 = x $$"
   ]
  },
  {
   "cell_type": "markdown",
   "id": "ec268232",
   "metadata": {},
   "source": [
    "## Solución"
   ]
  },
  {
   "cell_type": "markdown",
   "id": "810ffa93",
   "metadata": {},
   "source": [
    "$$ 1 - x - 3 = x $$"
   ]
  },
  {
   "cell_type": "markdown",
   "id": "d50c8082",
   "metadata": {},
   "source": [
    "$$ -2 = x + x $$"
   ]
  },
  {
   "cell_type": "markdown",
   "id": "42aa81f7",
   "metadata": {},
   "source": [
    "$$ -2= 2x $$"
   ]
  },
  {
   "cell_type": "markdown",
   "id": "58b84594",
   "metadata": {},
   "source": [
    "$$ x = -1  $$"
   ]
  },
  {
   "cell_type": "markdown",
   "id": "84b7f10c",
   "metadata": {},
   "source": [
    "Entonces la respuesta correcta es la $(a)$. "
   ]
  },
  {
   "cell_type": "code",
   "execution_count": 4,
   "id": "9d842e2f",
   "metadata": {},
   "outputs": [
    {
     "data": {
      "text/plain": [
       "2245000"
      ]
     },
     "execution_count": 4,
     "metadata": {},
     "output_type": "execute_result"
    }
   ],
   "source": [
    "995_000+1250_000"
   ]
  },
  {
   "cell_type": "code",
   "execution_count": null,
   "id": "660bb222",
   "metadata": {},
   "outputs": [],
   "source": []
  }
 ],
 "metadata": {
  "kernelspec": {
   "display_name": "Python 3",
   "language": "python",
   "name": "python3"
  },
  "language_info": {
   "codemirror_mode": {
    "name": "ipython",
    "version": 3
   },
   "file_extension": ".py",
   "mimetype": "text/x-python",
   "name": "python",
   "nbconvert_exporter": "python",
   "pygments_lexer": "ipython3",
   "version": "3.8.8"
  },
  "latex_envs": {
   "LaTeX_envs_menu_present": true,
   "autoclose": false,
   "autocomplete": false,
   "bibliofile": "biblio.bib",
   "cite_by": "apalike",
   "current_citInitial": 1,
   "eqLabelWithNumbers": true,
   "eqNumInitial": 1,
   "hotkeys": {
    "equation": "Ctrl-E",
    "itemize": "Ctrl-I"
   },
   "labels_anchors": false,
   "latex_user_defs": false,
   "report_style_numbering": false,
   "user_envs_cfg": false
  }
 },
 "nbformat": 4,
 "nbformat_minor": 5
}
