{
 "cells": [
  {
   "cell_type": "markdown",
   "id": "6af0fba4",
   "metadata": {},
   "source": [
    "# Pregunta 5 de la prueba diagnóstica "
   ]
  },
  {
   "cell_type": "markdown",
   "id": "3f7f0a7e",
   "metadata": {},
   "source": [
    "## Conceptos asociados "
   ]
  },
  {
   "cell_type": "markdown",
   "id": "28956575",
   "metadata": {},
   "source": [
    "* Teorema de Pitágoras\n",
    "\n",
    "$$ a^{2} + b^{2} = c^{2} $$\n",
    "\n",
    "donde $a$ y $b$ son los catetos. Y $c$ es la medida de la hipotenusa. \n",
    "\n",
    "* Triángulos rectángulos \n",
    "\n",
    "* Despeje de variables \n",
    "\n",
    "$$ a^{2} = c^{2} - b^{2} $$\n",
    "\n",
    "* Precedencia de las operaciones en una expresión algebraica. \n",
    "\n"
   ]
  },
  {
   "cell_type": "markdown",
   "id": "96c69253",
   "metadata": {},
   "source": [
    "$$ a^{2} = 10 - 9 = 1 $$"
   ]
  },
  {
   "cell_type": "markdown",
   "id": "be7f9d89",
   "metadata": {},
   "source": [
    "$$ a = 1 $$"
   ]
  },
  {
   "cell_type": "markdown",
   "id": "8168a3a1",
   "metadata": {},
   "source": [
    "### Conclusión:\n",
    "\n",
    "El tercer cateto mide 1 centímetro y así la respuesta correcta es $(a)$.  \n"
   ]
  },
  {
   "cell_type": "code",
   "execution_count": null,
   "id": "e58425e0",
   "metadata": {},
   "outputs": [],
   "source": []
  }
 ],
 "metadata": {
  "kernelspec": {
   "display_name": "Python 3",
   "language": "python",
   "name": "python3"
  },
  "language_info": {
   "codemirror_mode": {
    "name": "ipython",
    "version": 3
   },
   "file_extension": ".py",
   "mimetype": "text/x-python",
   "name": "python",
   "nbconvert_exporter": "python",
   "pygments_lexer": "ipython3",
   "version": "3.8.8"
  },
  "latex_envs": {
   "LaTeX_envs_menu_present": true,
   "autoclose": false,
   "autocomplete": false,
   "bibliofile": "biblio.bib",
   "cite_by": "apalike",
   "current_citInitial": 1,
   "eqLabelWithNumbers": true,
   "eqNumInitial": 1,
   "hotkeys": {
    "equation": "Ctrl-E",
    "itemize": "Ctrl-I"
   },
   "labels_anchors": false,
   "latex_user_defs": false,
   "report_style_numbering": false,
   "user_envs_cfg": false
  }
 },
 "nbformat": 4,
 "nbformat_minor": 5
}
