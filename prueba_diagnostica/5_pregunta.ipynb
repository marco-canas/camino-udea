{
 "cells": [
  {
   "cell_type": "markdown",
   "id": "275513aa",
   "metadata": {},
   "source": [
    "# Pregunta 5 de la prueba diagnóstica "
   ]
  },
  {
   "cell_type": "markdown",
   "id": "d0399a80",
   "metadata": {},
   "source": [
    "## Conceptos asociados "
   ]
  },
  {
   "cell_type": "markdown",
   "id": "d646f335",
   "metadata": {},
   "source": [
    "* Teorema de Pitágoras\n",
    "\n",
    "$$ a^{2} + b^{2} = c^{2} $$\n",
    "\n",
    "donde $a$ y $b$ son los catetos. Y $c$ es la medida de la hipotenusa. \n",
    "\n",
    "* Triángulos rectángulos \n",
    "\n",
    "* Despeje de variables \n",
    "\n",
    "$$ a^{2} = c^{2} - b^{2} $$\n",
    "\n",
    "* Precedencia de las operaciones en una expresión algebraica. \n",
    "\n"
   ]
  },
  {
   "cell_type": "markdown",
   "id": "7e94d1d3",
   "metadata": {},
   "source": [
    "$$ a^{2} = 10 - 9 = 1 $$"
   ]
  },
  {
   "cell_type": "markdown",
   "id": "d8eb544d",
   "metadata": {},
   "source": [
    "$$ a = 1 $$"
   ]
  },
  {
   "cell_type": "markdown",
   "id": "e84b220a",
   "metadata": {},
   "source": [
    "### Conclusión:\n",
    "\n",
    "El tercer cateto mide 1 centímetro y así la respuesta correcta es $(a)$.  \n"
   ]
  },
  {
   "cell_type": "code",
   "execution_count": null,
   "id": "841b45c2",
   "metadata": {},
   "outputs": [],
   "source": []
  }
 ],
 "metadata": {
  "kernelspec": {
   "display_name": "Python 3",
   "language": "python",
   "name": "python3"
  },
  "language_info": {
   "codemirror_mode": {
    "name": "ipython",
    "version": 3
   },
   "file_extension": ".py",
   "mimetype": "text/x-python",
   "name": "python",
   "nbconvert_exporter": "python",
   "pygments_lexer": "ipython3",
   "version": "3.8.8"
  },
  "latex_envs": {
   "LaTeX_envs_menu_present": true,
   "autoclose": false,
   "autocomplete": false,
   "bibliofile": "biblio.bib",
   "cite_by": "apalike",
   "current_citInitial": 1,
   "eqLabelWithNumbers": true,
   "eqNumInitial": 1,
   "hotkeys": {
    "equation": "Ctrl-E",
    "itemize": "Ctrl-I"
   },
   "labels_anchors": false,
   "latex_user_defs": false,
   "report_style_numbering": false,
   "user_envs_cfg": false
  }
 },
 "nbformat": 4,
 "nbformat_minor": 5
}
