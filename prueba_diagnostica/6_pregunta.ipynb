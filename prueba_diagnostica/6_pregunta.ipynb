{
 "cells": [
  {
   "cell_type": "markdown",
   "id": "1b25c17c",
   "metadata": {},
   "source": [
    "# Pregunta 6 de la prueba diagnóstica"
   ]
  },
  {
   "cell_type": "markdown",
   "id": "bb878f75",
   "metadata": {},
   "source": [
    "## Conceptos asociados a esta pregunta:\n",
    "\n",
    "* Ecuación\n",
    "* Potenciación"
   ]
  },
  {
   "cell_type": "code",
   "execution_count": 1,
   "id": "e489c066",
   "metadata": {},
   "outputs": [
    {
     "data": {
      "text/plain": [
       "1"
      ]
     },
     "execution_count": 1,
     "metadata": {},
     "output_type": "execute_result"
    }
   ],
   "source": [
    "2**0"
   ]
  },
  {
   "cell_type": "code",
   "execution_count": 2,
   "id": "ce2e85a9",
   "metadata": {},
   "outputs": [
    {
     "data": {
      "text/plain": [
       "1"
      ]
     },
     "execution_count": 2,
     "metadata": {},
     "output_type": "execute_result"
    }
   ],
   "source": [
    "0**0"
   ]
  },
  {
   "cell_type": "markdown",
   "id": "c859a641",
   "metadata": {},
   "source": [
    "$$ [(x-1)^{2}]^{0} - x - 3 = x $$"
   ]
  },
  {
   "cell_type": "markdown",
   "id": "a89b361d",
   "metadata": {},
   "source": [
    "## Solución"
   ]
  },
  {
   "cell_type": "markdown",
   "id": "89a83772",
   "metadata": {},
   "source": [
    "$$ 1 - x - 3 = x $$"
   ]
  },
  {
   "cell_type": "markdown",
   "id": "661f7eb1",
   "metadata": {},
   "source": [
    "$$ -2 = x + x $$"
   ]
  },
  {
   "cell_type": "markdown",
   "id": "5a5910c4",
   "metadata": {},
   "source": [
    "$$ -2= 2x $$"
   ]
  },
  {
   "cell_type": "markdown",
   "id": "86bf38ff",
   "metadata": {},
   "source": [
    "$$ x = -1  $$"
   ]
  },
  {
   "cell_type": "markdown",
   "id": "5a893808",
   "metadata": {},
   "source": [
    "Entonces la respuesta correcta es la $(a)$. "
   ]
  },
  {
   "cell_type": "code",
   "execution_count": null,
   "id": "5ff1ba8f",
   "metadata": {},
   "outputs": [],
   "source": []
  }
 ],
 "metadata": {
  "kernelspec": {
   "display_name": "Python 3",
   "language": "python",
   "name": "python3"
  },
  "language_info": {
   "codemirror_mode": {
    "name": "ipython",
    "version": 3
   },
   "file_extension": ".py",
   "mimetype": "text/x-python",
   "name": "python",
   "nbconvert_exporter": "python",
   "pygments_lexer": "ipython3",
   "version": "3.8.8"
  },
  "latex_envs": {
   "LaTeX_envs_menu_present": true,
   "autoclose": false,
   "autocomplete": false,
   "bibliofile": "biblio.bib",
   "cite_by": "apalike",
   "current_citInitial": 1,
   "eqLabelWithNumbers": true,
   "eqNumInitial": 1,
   "hotkeys": {
    "equation": "Ctrl-E",
    "itemize": "Ctrl-I"
   },
   "labels_anchors": false,
   "latex_user_defs": false,
   "report_style_numbering": false,
   "user_envs_cfg": false
  }
 },
 "nbformat": 4,
 "nbformat_minor": 5
}
