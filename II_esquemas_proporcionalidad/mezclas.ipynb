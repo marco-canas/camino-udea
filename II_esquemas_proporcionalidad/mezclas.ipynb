{
 "cells": [
  {
   "cell_type": "markdown",
   "id": "88a93426",
   "metadata": {
    "slideshow": {
     "slide_type": "slide"
    }
   },
   "source": [
    "<table align=\"left\">\n",
    "  <td>\n",
    "    <a href=\"https://colab.research.google.com/github/marco-canas/camino-udea/blob/main/II_esquemas_proporcionalidad/6_tema.ipynb\" target=\"_parent\"><img src=\"https://colab.research.google.com/assets/colab-badge.svg\" alt=\"Open In Colab\"/></a>\n",
    "  </td>\n",
    "</table>\n"
   ]
  },
  {
   "cell_type": "markdown",
   "id": "0ef2ef40",
   "metadata": {
    "slideshow": {
     "slide_type": "slide"
    }
   },
   "source": [
    "# Mezclas"
   ]
  },
  {
   "cell_type": "markdown",
   "id": "d2308506",
   "metadata": {
    "slideshow": {
     "slide_type": "slide"
    }
   },
   "source": [
    "Ejemplo 7.4 (Acero). Se dispone de dos tipos de acero: el tipo A, que\n",
    "contiene 5 % de n´ıquel, y el tipo B, que contiene 40 % de n´ıquel. La\n",
    "cantidad de acero del tipo A necesario para obtener 70 toneladas de un\n",
    "nuevo tipo de acero que contenga el 30 % de n´ıquel, es:\n",
    "\n",
    "A. 20  \n",
    "B. 30  \n",
    "C. 40  \n",
    "D. 50  "
   ]
  },
  {
   "cell_type": "markdown",
   "id": "9890509d",
   "metadata": {
    "slideshow": {
     "slide_type": "slide"
    }
   },
   "source": [
    "<img src = 'https://upload.wikimedia.org/wikipedia/commons/thumb/6/6a/Nickel_electrolytic_and_1cm3_cube.jpg/435px-Nickel_electrolytic_and_1cm3_cube.jpg'> "
   ]
  },
  {
   "cell_type": "markdown",
   "id": "dcdac19e",
   "metadata": {
    "slideshow": {
     "slide_type": "slide"
    }
   },
   "source": [
    "<img src = 'https://bisagras.franz-holz.com/images/holz/Bandeisen-unterkupfert.jpg'>"
   ]
  },
  {
   "cell_type": "markdown",
   "id": "3573666c",
   "metadata": {
    "slideshow": {
     "slide_type": "slide"
    }
   },
   "source": [
    "## Conceptos asociados al problema"
   ]
  },
  {
   "cell_type": "markdown",
   "id": "6fff05f7",
   "metadata": {
    "slideshow": {
     "slide_type": "slide"
    }
   },
   "source": [
    "* Planteamiento de ecuación a partir de el inventario de niquel en la mezcla total  \n",
    "* Porcentaje en masa:\n",
    "\n",
    "$$ \\text{porcentaje en masa} = \\frac{m_{1}}{m_{1} + m_{2}} $$\n"
   ]
  },
  {
   "cell_type": "markdown",
   "id": "9ad7a755",
   "metadata": {
    "slideshow": {
     "slide_type": "slide"
    }
   },
   "source": [
    "$$ \\text{toneladas de acero de tipo A} + \\text{toneladas de acero tipo B} = \\text{toneladas de acero con $30\\%$ de niquel} $$\n",
    "\n",
    "$$ x + (70 - x ) = 70 $$"
   ]
  },
  {
   "cell_type": "code",
   "execution_count": null,
   "id": "08c9a0a1",
   "metadata": {
    "slideshow": {
     "slide_type": "slide"
    }
   },
   "outputs": [],
   "source": []
  },
  {
   "cell_type": "code",
   "execution_count": null,
   "id": "a68bbad5",
   "metadata": {
    "slideshow": {
     "slide_type": "slide"
    }
   },
   "outputs": [],
   "source": []
  },
  {
   "cell_type": "code",
   "execution_count": null,
   "id": "90879a4c",
   "metadata": {
    "slideshow": {
     "slide_type": "slide"
    }
   },
   "outputs": [],
   "source": []
  },
  {
   "cell_type": "code",
   "execution_count": null,
   "id": "ecba9cef",
   "metadata": {
    "slideshow": {
     "slide_type": "slide"
    }
   },
   "outputs": [],
   "source": []
  },
  {
   "cell_type": "markdown",
   "id": "82c406f7",
   "metadata": {},
   "source": [
    "## Referentes\n",
    "\n",
    "* Definición de porcentaje en masa: https://es.wikipedia.org/wiki/Concentraci%C3%B3n\n"
   ]
  }
 ],
 "metadata": {
  "celltoolbar": "Slideshow",
  "kernelspec": {
   "display_name": "Python 3 (ipykernel)",
   "language": "python",
   "name": "python3"
  },
  "language_info": {
   "codemirror_mode": {
    "name": "ipython",
    "version": 3
   },
   "file_extension": ".py",
   "mimetype": "text/x-python",
   "name": "python",
   "nbconvert_exporter": "python",
   "pygments_lexer": "ipython3",
   "version": "3.9.12"
  }
 },
 "nbformat": 4,
 "nbformat_minor": 5
}
