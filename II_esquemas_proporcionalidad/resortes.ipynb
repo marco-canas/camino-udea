{
 "cells": [
  {
   "cell_type": "markdown",
   "id": "dc760fa5",
   "metadata": {},
   "source": []
  },
  {
   "cell_type": "markdown",
   "id": "6442924c",
   "metadata": {},
   "source": [
    "# Relación inversamente proporcionales con resortes "
   ]
  },
  {
   "cell_type": "markdown",
   "id": "e6f1e760",
   "metadata": {},
   "source": [
    "**Ejemplo 6.3 (Resorte).**  La gráfica muestra un resorte de espiral con uno de sus extremos empotrado en un techo; en el extremo libre se puede colgar un cuerpo. Designamos por $h_{i}$ la distancia determinada entre el extremo inferior del resorte y la superficie del piso, cuando se cuelga un cuerpo de peso $W_{i}$ y se logra el equilibrio. "
   ]
  },
  {
   "cell_type": "markdown",
   "id": "1627a006",
   "metadata": {},
   "source": [
    "<img src = ''>"
   ]
  },
  {
   "cell_type": "code",
   "execution_count": null,
   "id": "61f416bb",
   "metadata": {},
   "outputs": [],
   "source": []
  },
  {
   "cell_type": "code",
   "execution_count": null,
   "id": "3d695ecb",
   "metadata": {},
   "outputs": [],
   "source": []
  },
  {
   "cell_type": "code",
   "execution_count": null,
   "id": "393f7d85",
   "metadata": {},
   "outputs": [],
   "source": []
  },
  {
   "cell_type": "code",
   "execution_count": null,
   "id": "6ec6a94f",
   "metadata": {},
   "outputs": [],
   "source": []
  }
 ],
 "metadata": {
  "kernelspec": {
   "display_name": "Python 3 (ipykernel)",
   "language": "python",
   "name": "python3"
  },
  "language_info": {
   "codemirror_mode": {
    "name": "ipython",
    "version": 3
   },
   "file_extension": ".py",
   "mimetype": "text/x-python",
   "name": "python",
   "nbconvert_exporter": "python",
   "pygments_lexer": "ipython3",
   "version": "3.9.12"
  }
 },
 "nbformat": 4,
 "nbformat_minor": 5
}
