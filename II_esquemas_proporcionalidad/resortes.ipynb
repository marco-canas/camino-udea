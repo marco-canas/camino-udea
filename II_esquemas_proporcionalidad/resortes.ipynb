{
 "cells": [
  {
   "cell_type": "markdown",
   "id": "eb4f4dae",
   "metadata": {
    "slideshow": {
     "slide_type": "slide"
    }
   },
   "source": [
    "<table align=\"left\">\n",
    "  <td>\n",
    "    <a href=\"https://colab.research.google.com/github/marco-canas/camino-udea/blob/main/II_esquemas_proporcionalidad/6_tema.ipynb\" target=\"_parent\"><img src=\"https://colab.research.google.com/assets/colab-badge.svg\" alt=\"Open In Colab\"/></a>\n",
    "  </td>\n",
    "</table>"
   ]
  },
  {
   "cell_type": "markdown",
   "id": "01fdcb97",
   "metadata": {
    "slideshow": {
     "slide_type": "slide"
    }
   },
   "source": [
    "# Relación inversamente proporcionales con resortes "
   ]
  },
  {
   "cell_type": "markdown",
   "id": "0c182ea5",
   "metadata": {
    "slideshow": {
     "slide_type": "slide"
    }
   },
   "source": [
    "**Ejemplo 6.3 (Resorte).**  La gráfica muestra un resorte de espiral con uno de sus extremos empotrado en un techo; en el extremo libre se puede colgar un cuerpo. Designamos por $h_{i}$ la distancia determinada entre el extremo inferior del resorte y la superficie del piso, cuando se cuelga un cuerpo de peso $W_{i}$ y se logra el equilibrio. "
   ]
  },
  {
   "cell_type": "markdown",
   "id": "5c5e90ea",
   "metadata": {
    "slideshow": {
     "slide_type": "slide"
    }
   },
   "source": [
    "<img src = 'https://github.com/marco-canas/camino-udea/blob/main/II_esquemas_proporcionalidad/resorte.png?raw=true'>"
   ]
  },
  {
   "cell_type": "markdown",
   "id": "846d6cde",
   "metadata": {
    "slideshow": {
     "slide_type": "slide"
    }
   },
   "source": [
    "Se dispone de cuatro cuerpos de pesos $W_{1}, W_{2}, W_{3}$ y $W_{4}$ tales que cada uno de ellos, al colgarse del resorte, determina una altura diferente. En ningún caso el cuerpo colgado alcanza el piso.\n",
    "\n",
    "Si se sabe que $W_{1} < W_{2}$ y $h_{2} > h_{4}$, entonces la única afirmación falsa es:\n",
    "\n",
    "(a) $W_{1} > w_{4}$  \n",
    "(b) $W_{2} < W_{4}$  \n",
    "(c) $h_{1} > h_{2}$   \n",
    "(d) $h_{1} > h_{4}$  \n"
   ]
  },
  {
   "cell_type": "markdown",
   "id": "fb443d5e",
   "metadata": {
    "slideshow": {
     "slide_type": "slide"
    }
   },
   "source": [
    "## Conceptos asociados al problema"
   ]
  },
  {
   "cell_type": "markdown",
   "id": "0a27da4d",
   "metadata": {
    "slideshow": {
     "slide_type": "slide"
    }
   },
   "source": [
    "* La implicación.\n",
    "* La regla de inferencia Modus ponendo ponens.\n",
    "* Razonamiento correcto.\n",
    "* Desigualdades\n",
    "* Propiedades transitiva de las desigualdades\n",
    "$$ a < b \\ \\ \\ \\ \\text{y}\\ \\ \\ \\  b < c, \\ \\ \\ \\Rightarrow \\ \\ \\ \\ a < c $$\n"
   ]
  },
  {
   "cell_type": "markdown",
   "id": "7794e2d5",
   "metadata": {
    "slideshow": {
     "slide_type": "slide"
    }
   },
   "source": [
    "## Solución del problema"
   ]
  },
  {
   "cell_type": "markdown",
   "id": "93b5fd38",
   "metadata": {
    "slideshow": {
     "slide_type": "slide"
    }
   },
   "source": [
    "Empecemos estableciendo la repación entre las variables peso $W$y altura $h$. "
   ]
  },
  {
   "cell_type": "markdown",
   "id": "cb71dbc6",
   "metadata": {
    "slideshow": {
     "slide_type": "slide"
    }
   },
   "source": [
    "A mayor peso $W$ colgado en el resorte, la altura $h$ del extremos inferior del resorte al piso es menor, por lo tanto, la relación entre estas dos variables es decreciente ($W\\uparrow \\ \\  \\Rightarrow\\ \\   h\\downarrow$)"
   ]
  },
  {
   "cell_type": "markdown",
   "id": "3e120b13",
   "metadata": {
    "slideshow": {
     "slide_type": "slide"
    }
   },
   "source": [
    "Y como al duplicar el peso, la altura se reduce a la mitad, entonces la relación entre estas variables además de decreciente es inversamente proporcional. "
   ]
  },
  {
   "cell_type": "markdown",
   "id": "42c83d31",
   "metadata": {
    "slideshow": {
     "slide_type": "slide"
    }
   },
   "source": [
    "La relación decreciente entre estas variables se puede expresar así:\n",
    "\n",
    "$$ W_{1} < W_{2} \\ \\ \\ \\Rightarrow \\ \\ \\ h_{1} > h_{2} $$\n",
    "\n",
    "es decir, en una relación decreciente, el sentido de las desiguandades cambia. \n"
   ]
  },
  {
   "cell_type": "markdown",
   "id": "812c4c63",
   "metadata": {
    "slideshow": {
     "slide_type": "slide"
    }
   },
   "source": [
    "<img src = 'https://github.com/marco-canas/camino-udea/blob/main/II_esquemas_proporcionalidad/tres_resortes.png?raw=true'>"
   ]
  },
  {
   "cell_type": "code",
   "execution_count": 1,
   "id": "2ddd70aa",
   "metadata": {
    "slideshow": {
     "slide_type": "slide"
    }
   },
   "outputs": [
    {
     "data": {
      "text/plain": [
       "200.0"
      ]
     },
     "execution_count": 1,
     "metadata": {},
     "output_type": "execute_result"
    }
   ],
   "source": [
    "40/0.2"
   ]
  },
  {
   "cell_type": "code",
   "execution_count": 2,
   "id": "ed87a8b2",
   "metadata": {
    "slideshow": {
     "slide_type": "slide"
    }
   },
   "outputs": [
    {
     "data": {
      "text/plain": [
       "0.6000000000000001"
      ]
     },
     "execution_count": 2,
     "metadata": {},
     "output_type": "execute_result"
    }
   ],
   "source": [
    "0.75*0.8"
   ]
  },
  {
   "cell_type": "code",
   "execution_count": null,
   "id": "8a22e850",
   "metadata": {},
   "outputs": [],
   "source": []
  }
 ],
 "metadata": {
  "celltoolbar": "Slideshow",
  "kernelspec": {
   "display_name": "Python 3 (ipykernel)",
   "language": "python",
   "name": "python3"
  },
  "language_info": {
   "codemirror_mode": {
    "name": "ipython",
    "version": 3
   },
   "file_extension": ".py",
   "mimetype": "text/x-python",
   "name": "python",
   "nbconvert_exporter": "python",
   "pygments_lexer": "ipython3",
   "version": "3.9.12"
  },
  "rise": {
   "theme": "sky",
   "transition": "zoom"
  }
 },
 "nbformat": 4,
 "nbformat_minor": 5
}
