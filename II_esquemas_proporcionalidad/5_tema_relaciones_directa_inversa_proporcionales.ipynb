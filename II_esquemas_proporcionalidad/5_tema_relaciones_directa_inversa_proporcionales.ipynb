{
 "cells": [
  {
   "cell_type": "markdown",
   "id": "331f3498",
   "metadata": {
    "slideshow": {
     "slide_type": "slide"
    }
   },
   "source": [
    "<table align=\"left\">\n",
    "  <td>\n",
    "    <a href=\"https://colab.research.google.com/github/marco-canas/taca/blob/main/ref/charu/7_ch/7_1_introduction.ipynb\" target=\"_parent\"><img src=\"https://colab.research.google.com/assets/colab-badge.svg\" alt=\"Open In Colab\"/></a>\n",
    "  </td>\n",
    "  <td>\n",
    "    <a target=\"_blank\" href=\"https://kaggle.com/kernels/welcome?src=https://github.com/marco-canas/taca/blob/main/ref/charu/7_ch/7_1_introduction.ipynb\"><img src=\"https://kaggle.com/static/images/open-in-kaggle.svg\" /></a>\n",
    "  </td>\n",
    "</table>\n"
   ]
  },
  {
   "cell_type": "markdown",
   "id": "2348d8b4",
   "metadata": {
    "slideshow": {
     "slide_type": "slide"
    }
   },
   "source": [
    "# Tema 5"
   ]
  },
  {
   "cell_type": "markdown",
   "id": "830790d7",
   "metadata": {
    "slideshow": {
     "slide_type": "slide"
    }
   },
   "source": [
    "## Relaciones directa e inversamente proporcionales "
   ]
  },
  {
   "cell_type": "code",
   "execution_count": 3,
   "id": "f72b219a",
   "metadata": {
    "slideshow": {
     "slide_type": "slide"
    }
   },
   "outputs": [],
   "source": [
    "import numpy as np \n",
    "import pandas as pd \n",
    "from random import choice\n",
    "cero = pd.read_csv('cero.csv')\n",
    "lista_estudiantes = list(cero.nombres.values)"
   ]
  },
  {
   "cell_type": "code",
   "execution_count": 4,
   "id": "e1fe1616",
   "metadata": {
    "slideshow": {
     "slide_type": "slide"
    }
   },
   "outputs": [
    {
     "name": "stdout",
     "output_type": "stream",
     "text": [
      "Miguel Angel Quiroz Usuga\n"
     ]
    }
   ],
   "source": [
    "def estudiante_que_va_a_participar():\n",
    "    if lista_estudiantes != []:\n",
    "        estudiante = choice(lista_estudiantes)\n",
    "        lista_estudiantes.remove(estudiante)\n",
    "        return print(estudiante)\n",
    "    else:\n",
    "        print('Todos los estudiantes han participado.\\n Muchas gracias y Felicitaciones')\n",
    "\n",
    "estudiante_que_va_a_participar() "
   ]
  },
  {
   "cell_type": "markdown",
   "id": "557ba0aa",
   "metadata": {
    "slideshow": {
     "slide_type": "slide"
    }
   },
   "source": [
    "### 5.1 \n",
    "\n",
    "Un grupo de 8 obreros, los cuales trabajan todos con la misma eficiencia, ejecuta una cierta obra trabajando durante 20 días. "
   ]
  },
  {
   "cell_type": "markdown",
   "id": "3ea3dd19",
   "metadata": {
    "slideshow": {
     "slide_type": "slide"
    }
   },
   "source": [
    "Si sólo se contara con 2 obreros de ese grupo, el número de días que necesitarían estos obreros en ejecutar la misma obra es: "
   ]
  },
  {
   "cell_type": "markdown",
   "id": "21295181",
   "metadata": {
    "slideshow": {
     "slide_type": "slide"
    }
   },
   "source": [
    "(a) 10   \n",
    "(b) 40   \n",
    "(c) 60  \n",
    "(d) 80   "
   ]
  },
  {
   "cell_type": "markdown",
   "id": "97263707",
   "metadata": {
    "slideshow": {
     "slide_type": "slide"
    }
   },
   "source": [
    "# Estrategia de solución: "
   ]
  },
  {
   "cell_type": "markdown",
   "id": "cb87cfe2",
   "metadata": {
    "slideshow": {
     "slide_type": "slide"
    }
   },
   "source": [
    "* Identifique las variables relacionadas en el problema.  \n",
    "\n",
    "* Establesca si la relación de de proporcionalidad directa o inversa viendo si:\n",
    "  * La relación es creciente o decreciente\n",
    "  * Viendo si la relación es homogénea (al duplicar a uno, se duplica el otro). "
   ]
  },
  {
   "cell_type": "markdown",
   "id": "8c6a2fd7",
   "metadata": {
    "slideshow": {
     "slide_type": "slide"
    }
   },
   "source": [
    "# Solución: "
   ]
  },
  {
   "cell_type": "code",
   "execution_count": null,
   "id": "03e3a5c5",
   "metadata": {
    "slideshow": {
     "slide_type": "slide"
    }
   },
   "outputs": [],
   "source": []
  },
  {
   "cell_type": "markdown",
   "id": "9138d225",
   "metadata": {
    "slideshow": {
     "slide_type": "slide"
    }
   },
   "source": [
    "### 5.2"
   ]
  },
  {
   "cell_type": "markdown",
   "id": "b08dca7a",
   "metadata": {
    "slideshow": {
     "slide_type": "slide"
    }
   },
   "source": [
    "En el segmento $AD$ ilustrado en la figura, $AC = 18$, $BD = 23$ y $CD$ mide el doble que $AB$. "
   ]
  },
  {
   "cell_type": "markdown",
   "id": "9c8a1cf4",
   "metadata": {},
   "source": [
    "<img src = 'https://github.com/marco-canas/camino-udea/blob/main/II_esquemas_proporcionalidad/segmento_AD.jpeg?raw=true'>"
   ]
  },
  {
   "cell_type": "code",
   "execution_count": 6,
   "id": "7779754e",
   "metadata": {
    "slideshow": {
     "slide_type": "slide"
    }
   },
   "outputs": [
    {
     "data": {
      "image/png": "[encoded data removed]",
      "text/plain": [
       "<Figure size 360x216 with 1 Axes>"
      ]
     },
     "metadata": {
      "needs_background": "light"
     },
     "output_type": "display_data"
    }
   ],
   "source": [
    "import numpy as np\n",
    "from matplotlib import pyplot as plt \n",
    "\n",
    "fig = plt.figure(figsize = (5,3)) \n",
    "\n",
    "ax = fig.add_subplot()\n",
    "\n",
    "ax.grid(True, alpha = 0.6)\n",
    "\n",
    "ax.set(title = 'Segmento ')\n",
    "ax.plot([0,20],[0,0], color = 'red')\n",
    "ax.text(0,0,'A')  \n",
    "\n",
    "ax.axis([-1,25,-1,1])  \n",
    "\n",
    "plt.show() "
   ]
  },
  {
   "cell_type": "markdown",
   "id": "7d36c15f",
   "metadata": {
    "slideshow": {
     "slide_type": "slide"
    }
   },
   "source": [
    "Deducción de la solucíon:\n",
    "\n",
    "$$ AD = AC + CD = 18 + CD = AB + BD = AB + 23 $$"
   ]
  },
  {
   "cell_type": "markdown",
   "id": "aaa3dfe9",
   "metadata": {
    "slideshow": {
     "slide_type": "slide"
    }
   },
   "source": [
    "de donde \n",
    "\n",
    "$$18 + 2AB = AB + 23 $$"
   ]
  },
  {
   "cell_type": "markdown",
   "id": "026b0618",
   "metadata": {
    "slideshow": {
     "slide_type": "slide"
    }
   },
   "source": [
    "$$ AB = 23 - 18 = 5 $$"
   ]
  },
  {
   "cell_type": "markdown",
   "id": "c1178911",
   "metadata": {
    "slideshow": {
     "slide_type": "slide"
    }
   },
   "source": [
    "$$ AD = AB + 23 = 5 + 23 = 28 $$"
   ]
  },
  {
   "cell_type": "markdown",
   "id": "aadd2a6c",
   "metadata": {
    "slideshow": {
     "slide_type": "slide"
    }
   },
   "source": [
    "## Recomendaciones  \n",
    "\n",
    "* Leer sobre sistemas de ecuaciones 2x2"
   ]
  },
  {
   "cell_type": "markdown",
   "id": "7d666ec4",
   "metadata": {
    "slideshow": {
     "slide_type": "slide"
    }
   },
   "source": [
    "### 5.3 "
   ]
  },
  {
   "cell_type": "markdown",
   "id": "b2faf97a",
   "metadata": {
    "slideshow": {
     "slide_type": "slide"
    }
   },
   "source": [
    "El $12\\%$ de 8000 pesos es:"
   ]
  },
  {
   "cell_type": "markdown",
   "id": "6870f518",
   "metadata": {
    "slideshow": {
     "slide_type": "slide"
    }
   },
   "source": [
    "#### Solución"
   ]
  },
  {
   "cell_type": "markdown",
   "id": "d1552f8f",
   "metadata": {
    "slideshow": {
     "slide_type": "slide"
    }
   },
   "source": [
    "$$ 8000(0.12) = 8000\\cdot \\frac{12}{100} = 80(12) = 960  $$"
   ]
  },
  {
   "cell_type": "code",
   "execution_count": null,
   "id": "077d3c8f",
   "metadata": {},
   "outputs": [],
   "source": []
  },
  {
   "cell_type": "code",
   "execution_count": null,
   "id": "281d57ab",
   "metadata": {},
   "outputs": [],
   "source": []
  },
  {
   "cell_type": "markdown",
   "id": "16e3b3b7",
   "metadata": {
    "slideshow": {
     "slide_type": "slide"
    }
   },
   "source": [
    "## 5.4 "
   ]
  },
  {
   "cell_type": "markdown",
   "id": "d471984b",
   "metadata": {
    "slideshow": {
     "slide_type": "slide"
    }
   },
   "source": [
    "Entre dos locales, A y B, hay almacenados un total de 2000 sacos de azúcar. "
   ]
  },
  {
   "cell_type": "markdown",
   "id": "2d44ec97",
   "metadata": {
    "slideshow": {
     "slide_type": "slide"
    }
   },
   "source": [
    "Si del local A se transporta el $20\\%$ de lo almacenado al local B, entonces en los dos locales habrá el mismo número de sacos de azúcar.  "
   ]
  },
  {
   "cell_type": "markdown",
   "id": "7dd33471",
   "metadata": {
    "slideshow": {
     "slide_type": "slide"
    }
   },
   "source": [
    "La cantidad de sacos que había inicialmente en el local A es:  \n",
    "(a) 200  \n",
    "(b) 400  \n",
    "(c) 750  \n",
    "(d) 1250 "
   ]
  },
  {
   "cell_type": "markdown",
   "id": "71a3762e",
   "metadata": {
    "slideshow": {
     "slide_type": "slide"
    }
   },
   "source": [
    "## Estrategia de solución: "
   ]
  },
  {
   "cell_type": "markdown",
   "id": "489d2dcb",
   "metadata": {
    "slideshow": {
     "slide_type": "slide"
    }
   },
   "source": [
    "De la hipótesis se infiere que el número de sacos original en el local A era de más de 1000, puesto que al final, ambos locales quedaron con el mimo número de sacos y el número total es de 2000."
   ]
  },
  {
   "cell_type": "markdown",
   "id": "99214cb3",
   "metadata": {
    "slideshow": {
     "slide_type": "slide"
    }
   },
   "source": [
    "## Solución: "
   ]
  },
  {
   "cell_type": "markdown",
   "id": "d347a36f",
   "metadata": {
    "slideshow": {
     "slide_type": "slide"
    }
   },
   "source": [
    "$$ A - A(0.20) = 1000 $$"
   ]
  },
  {
   "cell_type": "markdown",
   "id": "6ad20a73",
   "metadata": {
    "slideshow": {
     "slide_type": "slide"
    }
   },
   "source": [
    "$$ A(0.8) = 1000 $$"
   ]
  },
  {
   "cell_type": "markdown",
   "id": "7493dfc5",
   "metadata": {
    "slideshow": {
     "slide_type": "slide"
    }
   },
   "source": [
    "$$ \\frac{4}{5}A = 1000 $$"
   ]
  },
  {
   "cell_type": "markdown",
   "id": "35a7183b",
   "metadata": {
    "slideshow": {
     "slide_type": "slide"
    }
   },
   "source": [
    "$$ A = 1250 $$"
   ]
  },
  {
   "cell_type": "code",
   "execution_count": null,
   "id": "3c24fabd",
   "metadata": {
    "slideshow": {
     "slide_type": "slide"
    }
   },
   "outputs": [],
   "source": []
  },
  {
   "cell_type": "markdown",
   "id": "005617c4",
   "metadata": {
    "slideshow": {
     "slide_type": "slide"
    }
   },
   "source": [
    "## 5.5  y 5.6"
   ]
  },
  {
   "cell_type": "markdown",
   "id": "e38ffb70",
   "metadata": {
    "slideshow": {
     "slide_type": "slide"
    }
   },
   "source": [
    "En una prueba contrarreloj tres ciclistas $A$, $B$ y $C$ recorren exactamente la misma distancia. "
   ]
  },
  {
   "cell_type": "markdown",
   "id": "ceb5ff32",
   "metadata": {
    "slideshow": {
     "slide_type": "slide"
    }
   },
   "source": [
    "El corredor $B$ mantiene una velocidad promedio de 60 $km/h$ e invierte $4$ minutos más que el tiempo empleado por el corredor A. "
   ]
  },
  {
   "cell_type": "markdown",
   "id": "d9de16a3",
   "metadata": {
    "slideshow": {
     "slide_type": "slide"
    }
   },
   "source": [
    "El corredor $C$ mantiene una velocidad promedio de 70 $Km/h$ e invierte 2 minutos menos que el corredor $A$. "
   ]
  },
  {
   "cell_type": "markdown",
   "id": "f56e4c17",
   "metadata": {
    "slideshow": {
     "slide_type": "slide"
    }
   },
   "source": [
    "## 5.5 La distancia cubierta por cada ciclista, en kilometros, es:  \n",
    "\n",
    "(a) 42  \n",
    "(b) 44  \n",
    "(c) 48  \n",
    "(d) 50  \n",
    "\n"
   ]
  },
  {
   "cell_type": "markdown",
   "id": "56769c8c",
   "metadata": {
    "slideshow": {
     "slide_type": "slide"
    }
   },
   "source": [
    "## Estategia de solución:"
   ]
  },
  {
   "cell_type": "markdown",
   "id": "49e6d798",
   "metadata": {
    "slideshow": {
     "slide_type": "slide"
    }
   },
   "source": [
    "* Organice la información y utilice notación de subindice para identificar cada variable involucrada.\n",
    "\n",
    "* Utilice que cuando la velocidad es uniforme o constante, \n",
    "\n",
    "$$ v = \\frac{d}{t} $$  \n",
    "\n",
    "* Razone la velocidad en minutos por hora para no trabajar con fracciones\n"
   ]
  },
  {
   "cell_type": "markdown",
   "id": "6ff12ef3",
   "metadata": {
    "slideshow": {
     "slide_type": "slide"
    }
   },
   "source": [
    "$$ \\begin{matrix} v_{A} = V_{A} & t_{A} = t_{A} \\\\\n",
    "v_{B} = 60/60 = 1 \\ \\ Km/min & t_{B} = t_{A} + 4 \\\\\n",
    "v_{C} = 70/60 = \\frac{7}{6} \\ \\ Km/min  & t_{C} = t_{A} - 2 \\\\\n",
    "\\end{matrix} $$"
   ]
  },
  {
   "cell_type": "markdown",
   "id": "d458bfc6",
   "metadata": {
    "slideshow": {
     "slide_type": "slide"
    }
   },
   "source": [
    "$$ 1(t_{A} + 4) = d = \\frac{7}{6}(t_{A} - 2) $$"
   ]
  },
  {
   "cell_type": "markdown",
   "id": "63f4f3df",
   "metadata": {
    "slideshow": {
     "slide_type": "slide"
    }
   },
   "source": [
    "$$ 4 + \\frac{14}{6} = \\frac{1}{6}t_{A} $$"
   ]
  },
  {
   "cell_type": "markdown",
   "id": "5c0faefa",
   "metadata": {},
   "source": [
    "$$ \\frac{38}{6} = \\frac{1}{6}t_{A} $$"
   ]
  },
  {
   "cell_type": "markdown",
   "id": "bf12a41f",
   "metadata": {
    "slideshow": {
     "slide_type": "slide"
    }
   },
   "source": [
    "$$ t_{A} = 38 \\ \\text{minutos} $$"
   ]
  },
  {
   "cell_type": "markdown",
   "id": "1f8cc571",
   "metadata": {
    "slideshow": {
     "slide_type": "slide"
    }
   },
   "source": [
    "Entonces $d = t_{4} + 4 = = 38 + 4 = 42$ Kilometros"
   ]
  },
  {
   "cell_type": "markdown",
   "id": "8b232558",
   "metadata": {
    "slideshow": {
     "slide_type": "slide"
    }
   },
   "source": [
    "Por lo tanto, la opción correcta es la $A$. "
   ]
  },
  {
   "cell_type": "code",
   "execution_count": null,
   "id": "fa3d0a90",
   "metadata": {},
   "outputs": [],
   "source": []
  },
  {
   "cell_type": "markdown",
   "id": "06f1b59b",
   "metadata": {
    "slideshow": {
     "slide_type": "slide"
    }
   },
   "source": [
    "## 5.9  \n",
    "\n",
    "En la primera eliminatoria de una competencia salieron 8 mujeres y quedaron 2 hombres por cada mujer. "
   ]
  },
  {
   "cell_type": "markdown",
   "id": "084cc8f0",
   "metadata": {},
   "source": [
    "En la segunda fase salieron 20 hombres y quedaron 3 mujeres por cada hombre. "
   ]
  },
  {
   "cell_type": "markdown",
   "id": "89fb838f",
   "metadata": {
    "slideshow": {
     "slide_type": "slide"
    }
   },
   "source": [
    "El número de personas al inicio de la competencia era:"
   ]
  },
  {
   "cell_type": "markdown",
   "id": "242c98d4",
   "metadata": {
    "slideshow": {
     "slide_type": "slide"
    }
   },
   "source": [
    "(a) 46  \n",
    "(b) 36  \n",
    "(c) 40  \n",
    "(d) 44  \n"
   ]
  },
  {
   "cell_type": "markdown",
   "id": "9fd8aeab",
   "metadata": {
    "slideshow": {
     "slide_type": "slide"
    }
   },
   "source": [
    "# Estrategia de solución: "
   ]
  },
  {
   "cell_type": "markdown",
   "id": "6097b437",
   "metadata": {},
   "source": [
    "1. Defina variables\n",
    "2. Plantee la ecuación que relaciona los hombres y las mujeres que quedaron despues de la primera eliminatoria.\n",
    "3. Plantee la ecuación que relaciona los hombres y las mujeres que quedaron despues de la segunda eliminatoria."
   ]
  },
  {
   "cell_type": "markdown",
   "id": "23eef60f",
   "metadata": {},
   "source": [
    "$$ 2(M-8) = H $$  \n",
    "\n",
    "$$ 3(H-20) = M-8 $$"
   ]
  },
  {
   "cell_type": "markdown",
   "id": "07a57e06",
   "metadata": {
    "slideshow": {
     "slide_type": "slide"
    }
   },
   "source": [
    "# 5.10"
   ]
  },
  {
   "cell_type": "markdown",
   "id": "96dccd5a",
   "metadata": {
    "slideshow": {
     "slide_type": "slide"
    }
   },
   "source": [
    "Carlos y Gustavo deben llevar sus camiones en el recorrido Madellín - Bogota y acordaron encontrarse en cierto punto de la autopista para continuar el recorrido juntos.  \n",
    "Cuando Carlos pasó por el punto cero en Medellín se dio cuenta que si continuaba a una velocidad promedio de 50 $km/h$ llegaría a tiempo al punto acordado con Gustavo.  \n",
    "\n",
    "Sin embargo, cuando había recorrido 10 kilometros desde el punto cero, recibió una llamada de Gustavo avisándole que se había retrazado, que apenas estaba pasando por el punto cero y que iva a continuar su recorrido a $60$ $Km/h$.  \n",
    "\n",
    "Si ambos continuan con su velocidad planeada, la distancia recorrida en kilometros, desde el punto cero,  hasta el punto que se encuentran es:  \n",
    "\n",
    "\n"
   ]
  },
  {
   "cell_type": "markdown",
   "id": "75a5cd35",
   "metadata": {
    "slideshow": {
     "slide_type": "slide"
    }
   },
   "source": [
    "## Animación con matplotlib del movimiento de los dos camiones "
   ]
  },
  {
   "cell_type": "code",
   "execution_count": null,
   "id": "e45fc885",
   "metadata": {},
   "outputs": [],
   "source": []
  },
  {
   "cell_type": "code",
   "execution_count": null,
   "id": "804914e2",
   "metadata": {},
   "outputs": [],
   "source": []
  },
  {
   "cell_type": "markdown",
   "id": "3701bb8a",
   "metadata": {
    "slideshow": {
     "slide_type": "slide"
    }
   },
   "source": [
    "# Ejercicio del taller de la sesión 5 Esquemas de proporcionalidad"
   ]
  },
  {
   "cell_type": "markdown",
   "id": "5d4d82ba",
   "metadata": {
    "slideshow": {
     "slide_type": "slide"
    }
   },
   "source": [
    "## Ejemplo 5.5 (Obra civil).   \n",
    "\n",
    "Para hacer 180 metros de una obra, 15 obreros han trabajado 12 días, a razón de 10 horas por día.   \n",
    "\n",
    "Si se consideran días de 8 horas, el tiempo (en días) que necesitan 32 obreros para realizar 600 metros de la misma obra, pertenece al intervalo\n",
    "\n",
    "A. entre 23 a 24 días  \n",
    "B. entre 24 y 25 días    \n",
    "C. entre 25 a 26 días  \n",
    "D. entre 26 y 27 días   \n",
    "\n"
   ]
  },
  {
   "cell_type": "markdown",
   "id": "c690e509",
   "metadata": {
    "slideshow": {
     "slide_type": "slide"
    }
   },
   "source": [
    "## Sugerencias para abordar este pito de propblemas sobre proporcionalidad\n",
    "\n",
    "1. Identifique las variables involucradas: \n",
    "   * El número de diás que tardan en realizar la obra. $d$.\n",
    "   * El número de obreros: Obreros $o$.\n",
    "   * El número de horas que trabajan al día: $h$ \n",
    "   * La longitud de la obra: $l$. \n",
    "   \n",
    "2. Determine la variable principal. \n",
    "\n",
    "   * número de días $d$.\n",
    "   \n",
    "3. Establezca el tipo de relación de proporcionalidad entre la variable principal y las demás.\n",
    "\n",
    "$$\\text{Inversamente proporcional} \\ \\ \\iff \\ \\ \\ d \\sim \\frac{1}{o}$$\n",
    "\n",
    "$$ \\text{Inversamente proporcional}\\ \\ d \\ \\ \\ \\sim \\frac{1}{h} $$\n",
    "\n",
    "$$\\text{directamente proporcional}\\ \\ \\ \\iff \\ \\ \\ d \\sim l $$\n"
   ]
  },
  {
   "cell_type": "markdown",
   "id": "ca3f952d",
   "metadata": {
    "slideshow": {
     "slide_type": "slide"
    }
   },
   "source": [
    "## [Video de apoyo](https://www.youtube.com/watch?v=lZ_E-K7IEV4)"
   ]
  },
  {
   "cell_type": "markdown",
   "id": "befb8be2",
   "metadata": {
    "slideshow": {
     "slide_type": "slide"
    }
   },
   "source": [
    "## Conceptos asociados al problema"
   ]
  },
  {
   "cell_type": "markdown",
   "id": "f6eea7c7",
   "metadata": {
    "slideshow": {
     "slide_type": "slide"
    }
   },
   "source": [
    "* Relacines crecientes\n",
    "* Relación decreciente\n",
    "* Relación directamente proporcional\n",
    "* Relación inversamente proporcional\n",
    "* razonar variando solamente un atributo y mateniendo fijo los demás. \n",
    "* recíproco de una fracción\n",
    "* razón \n",
    "* proporción"
   ]
  },
  {
   "cell_type": "markdown",
   "id": "50e641ad",
   "metadata": {
    "slideshow": {
     "slide_type": "slide"
    }
   },
   "source": [
    "## Resultados científicos que ayudan a solucionar el problema"
   ]
  },
  {
   "cell_type": "markdown",
   "id": "d89998b3",
   "metadata": {
    "slideshow": {
     "slide_type": "slide"
    }
   },
   "source": [
    "* Cuando las relaciones son directamente proporcionales, entonces la razón entre cantidades repectivas  son iguales.\n",
    "\n",
    "* Cuando las relaciones son inversamente proporcionales, entonces la razón entre cantidades repectivas  es una el recíporoco de la otra."
   ]
  },
  {
   "cell_type": "markdown",
   "id": "6a5cd433",
   "metadata": {
    "slideshow": {
     "slide_type": "slide"
    }
   },
   "source": [
    "## Estrategia de solución"
   ]
  },
  {
   "cell_type": "markdown",
   "id": "4960e2ef",
   "metadata": {
    "slideshow": {
     "slide_type": "slide"
    }
   },
   "source": [
    "Calcular la variación del número de días para realizar la obra cambiando de auna las variables relacionadas con el número de días. "
   ]
  },
  {
   "cell_type": "markdown",
   "id": "23ca0d0d",
   "metadata": {
    "slideshow": {
     "slide_type": "slide"
    }
   },
   "source": [
    "## Solución"
   ]
  },
  {
   "cell_type": "markdown",
   "id": "bdceef9a",
   "metadata": {
    "slideshow": {
     "slide_type": "slide"
    }
   },
   "source": [
    "Enunciemos las condiciones iniciales y finales del problema: \n",
    "\n",
    "|l|o|d|h|    \n",
    "|-|-|-|-|   \n",
    "|180|15|12|10|  \n",
    "|600|32|x3|8|  \n"
   ]
  },
  {
   "cell_type": "markdown",
   "id": "f771aca4",
   "metadata": {
    "slideshow": {
     "slide_type": "slide"
    }
   },
   "source": [
    "### primera etapa"
   ]
  },
  {
   "cell_type": "markdown",
   "id": "9030e1ac",
   "metadata": {
    "slideshow": {
     "slide_type": "slide"
    }
   },
   "source": [
    "Calculemos el número de días que se tardan en realizar la obra cuando se varía solamente la longitud de la obra, es decir, variamos la longitud y mantenemos fijas a las demás variables independientes"
   ]
  },
  {
   "cell_type": "markdown",
   "id": "da317ae7",
   "metadata": {
    "slideshow": {
     "slide_type": "slide"
    }
   },
   "source": [
    "|longitud de la obra|número de días|  \n",
    "|-|-|  \n",
    "|180|12|  \n",
    "|600|$x_{1}$|"
   ]
  },
  {
   "cell_type": "markdown",
   "id": "fed50057",
   "metadata": {
    "slideshow": {
     "slide_type": "slide"
    }
   },
   "source": [
    "La relación entre estas variables es directamente proporcional y or tanto\n",
    "\n",
    "$$ \\frac{600}{180} = \\frac{x_{1}}{12} $$\n"
   ]
  },
  {
   "cell_type": "markdown",
   "id": "561d346b",
   "metadata": {
    "slideshow": {
     "slide_type": "slide"
    }
   },
   "source": [
    "$$ x_{1} = \\frac{12 \\cdot 600}{180} $$"
   ]
  },
  {
   "cell_type": "code",
   "execution_count": 5,
   "id": "fdf02e9b",
   "metadata": {
    "slideshow": {
     "slide_type": "slide"
    }
   },
   "outputs": [
    {
     "data": {
      "text/plain": [
       "40.0"
      ]
     },
     "execution_count": 5,
     "metadata": {},
     "output_type": "execute_result"
    }
   ],
   "source": [
    "12*600/180"
   ]
  },
  {
   "cell_type": "markdown",
   "id": "8b27963a",
   "metadata": {
    "slideshow": {
     "slide_type": "slide"
    }
   },
   "source": [
    "Entonces el número de días $x_{1} = 40$"
   ]
  },
  {
   "cell_type": "markdown",
   "id": "f064d9de",
   "metadata": {
    "slideshow": {
     "slide_type": "slide"
    }
   },
   "source": [
    "Por lo tanto, las nuevas condiciones iniciales y finales son:  \n",
    "\n",
    "\n",
    "|l|o|d|h| \n",
    "|-|-|-|-|   \n",
    "|600|15|40|10|  \n",
    "|600|32|x2|10|  \n",
    "\n"
   ]
  },
  {
   "cell_type": "markdown",
   "id": "ddead900",
   "metadata": {
    "slideshow": {
     "slide_type": "slide"
    }
   },
   "source": [
    "## Segunda etapa "
   ]
  },
  {
   "cell_type": "markdown",
   "id": "9136d047",
   "metadata": {
    "slideshow": {
     "slide_type": "slide"
    }
   },
   "source": [
    "Calculemos el número de días $x_{2}$ que se tardan en realizar la obra cuando se varía solamente la el número de obreros:\n",
    "\n",
    "|número de abreros|número de días|  \n",
    "|-|-|  \n",
    "|15|12|  \n",
    "|40|$x_{2}$|\n"
   ]
  },
  {
   "cell_type": "markdown",
   "id": "42abc423",
   "metadata": {
    "slideshow": {
     "slide_type": "slide"
    }
   },
   "source": [
    "$$ d = d(l, o, h ) $$"
   ]
  },
  {
   "cell_type": "markdown",
   "id": "f7ee5c57",
   "metadata": {
    "slideshow": {
     "slide_type": "slide"
    }
   },
   "source": [
    "$$ \\frac{15}{32} = \\frac{x_{2}}{40} $$"
   ]
  },
  {
   "cell_type": "markdown",
   "id": "1a5ea29b",
   "metadata": {
    "slideshow": {
     "slide_type": "slide"
    }
   },
   "source": [
    "$$ x_{2} = \\frac{40 \\cdot 15}{32} $$"
   ]
  },
  {
   "cell_type": "code",
   "execution_count": 6,
   "id": "200dea13",
   "metadata": {
    "slideshow": {
     "slide_type": "slide"
    }
   },
   "outputs": [
    {
     "data": {
      "text/plain": [
       "18.75"
      ]
     },
     "execution_count": 6,
     "metadata": {},
     "output_type": "execute_result"
    }
   ],
   "source": [
    "40*15/32"
   ]
  },
  {
   "cell_type": "markdown",
   "id": "08ef83e5",
   "metadata": {
    "slideshow": {
     "slide_type": "slide"
    }
   },
   "source": [
    "Por lo tanto, el número de días al aumentar el número de obreros bajó a 18 días y $3/4$ de día."
   ]
  },
  {
   "cell_type": "markdown",
   "id": "f595b2da",
   "metadata": {},
   "source": [
    "## Tercera etapa"
   ]
  },
  {
   "cell_type": "markdown",
   "id": "eb23fbf7",
   "metadata": {
    "slideshow": {
     "slide_type": "slide"
    }
   },
   "source": [
    "Por lo tanto, las nuevas condiciones iniciales y finales son:\n",
    "\n",
    "|l|o|d|h|    \n",
    "|-|-|-|-|   \n",
    "|600|32|18.75|10|  \n",
    "|600|32|$x_{3}$|8|"
   ]
  },
  {
   "cell_type": "markdown",
   "id": "0d6a24d4",
   "metadata": {
    "slideshow": {
     "slide_type": "slide"
    }
   },
   "source": [
    "$$ \\frac{10}{8} = \\frac{x_{3}}{18.75} $$"
   ]
  },
  {
   "cell_type": "markdown",
   "id": "f7caab0e",
   "metadata": {
    "slideshow": {
     "slide_type": "slide"
    }
   },
   "source": [
    "$$ x_{3} = \\frac{10 \\cdot 18.75}{8} $$"
   ]
  },
  {
   "cell_type": "code",
   "execution_count": 7,
   "id": "548c8cec",
   "metadata": {
    "slideshow": {
     "slide_type": "slide"
    }
   },
   "outputs": [
    {
     "data": {
      "text/plain": [
       "23.4375"
      ]
     },
     "execution_count": 7,
     "metadata": {},
     "output_type": "execute_result"
    }
   ],
   "source": [
    "10*18.75/8"
   ]
  },
  {
   "cell_type": "markdown",
   "id": "8e5a4342",
   "metadata": {
    "slideshow": {
     "slide_type": "slide"
    }
   },
   "source": [
    "Por lo tanto, la opción correcta de respuesta es la A. "
   ]
  },
  {
   "cell_type": "markdown",
   "id": "d0ffb138",
   "metadata": {
    "slideshow": {
     "slide_type": "slide"
    }
   },
   "source": [
    "## Otra manera corta de hacerlo"
   ]
  },
  {
   "cell_type": "markdown",
   "id": "77957cb7",
   "metadata": {
    "slideshow": {
     "slide_type": "slide"
    }
   },
   "source": [
    "Enunciemos las condiciones iniciales y finales del problema: \n",
    "\n",
    "|l|o|d|h|    \n",
    "|-|-|-|-|   \n",
    "|180|15|12|10|  \n",
    "|600|32|x3|8|  \n"
   ]
  },
  {
   "cell_type": "markdown",
   "id": "6b3d134f",
   "metadata": {
    "slideshow": {
     "slide_type": "slide"
    }
   },
   "source": [
    "$$ \\frac{x_{3}}{12} =  \\frac{600}{180} \\cdot \\frac{15}{32} \\cdot \\frac{10}{8} $$"
   ]
  },
  {
   "cell_type": "code",
   "execution_count": 9,
   "id": "6f5dfd63",
   "metadata": {
    "slideshow": {
     "slide_type": "slide"
    }
   },
   "outputs": [
    {
     "data": {
      "text/plain": [
       "23.4375"
      ]
     },
     "execution_count": 9,
     "metadata": {},
     "output_type": "execute_result"
    }
   ],
   "source": [
    "x3 = 12*600/180*15/32*10/8\n",
    "x3"
   ]
  },
  {
   "cell_type": "markdown",
   "id": "962266d8",
   "metadata": {},
   "source": [
    "## Ejercicio sobre movimiento a velocidad constante\n",
    "\n",
    "En los movimientos a velocidad constante, la distancia recorrida es directamente proporcional al tiempo empleado.\n",
    "\n",
    "$$ d \\sim t $$\n",
    "\n",
    "$$ d = kt $$\n",
    "\n",
    "$$ d = vt $$\n",
    "\n",
    "donde $v$ es la velocidad. \n"
   ]
  },
  {
   "cell_type": "markdown",
   "id": "6ea62735",
   "metadata": {
    "slideshow": {
     "slide_type": "slide"
    }
   },
   "source": [
    "## Situación problemática"
   ]
  },
  {
   "cell_type": "raw",
   "id": "7cc36c28",
   "metadata": {
    "slideshow": {
     "slide_type": "slide"
    }
   },
   "source": [
    "Carlos y Gustavo deben llevar sus camiones en el recorrido Medellín - Bogotá y acordaron encontrarse en cierto punto de la autopista para continuar el recorrido juntos.  \n",
    "\n",
    "Cuando Carlos pasó por el punto cero en Medellín se dió cuenta \n",
    "\n"
   ]
  },
  {
   "cell_type": "markdown",
   "id": "b89bec33",
   "metadata": {
    "slideshow": {
     "slide_type": "slide"
    }
   },
   "source": [
    "## Estrategia sugerida\n",
    "\n",
    "Traza un diagrama de una posible trayectoria resaltando el punto cero, el punto de encuantra y el punto en el que Carlos recibió la llamada de Gustavo. \n"
   ]
  },
  {
   "cell_type": "code",
   "execution_count": null,
   "id": "4be7affd",
   "metadata": {
    "slideshow": {
     "slide_type": "slide"
    }
   },
   "outputs": [],
   "source": []
  },
  {
   "cell_type": "code",
   "execution_count": null,
   "id": "84dcc422",
   "metadata": {},
   "outputs": [],
   "source": []
  },
  {
   "cell_type": "code",
   "execution_count": null,
   "id": "8acc32ba",
   "metadata": {},
   "outputs": [],
   "source": []
  }
 ],
 "metadata": {
  "celltoolbar": "Slideshow",
  "kernelspec": {
   "display_name": "Python 3 (ipykernel)",
   "language": "python",
   "name": "python3"
  },
  "language_info": {
   "codemirror_mode": {
    "name": "ipython",
    "version": 3
   },
   "file_extension": ".py",
   "mimetype": "text/x-python",
   "name": "python",
   "nbconvert_exporter": "python",
   "pygments_lexer": "ipython3",
   "version": "3.9.12"
  },
  "latex_envs": {
   "LaTeX_envs_menu_present": true,
   "autoclose": false,
   "autocomplete": false,
   "bibliofile": "biblio.bib",
   "cite_by": "apalike",
   "current_citInitial": 1,
   "eqLabelWithNumbers": true,
   "eqNumInitial": 1,
   "hotkeys": {
    "equation": "Ctrl-E",
    "itemize": "Ctrl-I"
   },
   "labels_anchors": false,
   "latex_user_defs": false,
   "report_style_numbering": false,
   "user_envs_cfg": false
  },
  "rise": {
   "enable_chalkboard": true,
   "theme": "sky",
   "transition": "zoom"
  }
 },
 "nbformat": 4,
 "nbformat_minor": 5
}
