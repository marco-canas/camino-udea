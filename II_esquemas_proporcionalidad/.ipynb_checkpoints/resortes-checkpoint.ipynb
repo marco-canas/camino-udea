{
 "cells": [
  {
   "cell_type": "markdown",
   "id": "14cda12b",
   "metadata": {
    "slideshow": {
     "slide_type": "slide"
    }
   },
   "source": []
  },
  {
   "cell_type": "markdown",
   "id": "bc4f17cd",
   "metadata": {
    "slideshow": {
     "slide_type": "slide"
    }
   },
   "source": [
    "# Relación inversamente proporcionales con resortes "
   ]
  },
  {
   "cell_type": "markdown",
   "id": "561d70b2",
   "metadata": {
    "slideshow": {
     "slide_type": "slide"
    }
   },
   "source": [
    "**Ejemplo 6.3 (Resorte).**  La gráfica muestra un resorte de espiral con uno de sus extremos empotrado en un techo; en el extremo libre se puede colgar un cuerpo. Designamos por $h_{i}$ la distancia determinada entre el extremo inferior del resorte y la superficie del piso, cuando se cuelga un cuerpo de peso $W_{i}$ y se logra el equilibrio. "
   ]
  },
  {
   "cell_type": "markdown",
   "id": "9d4a02eb",
   "metadata": {
    "slideshow": {
     "slide_type": "slide"
    }
   },
   "source": [
    "<img src = 'https://github.com/marco-canas/camino-udea/blob/main/II_esquemas_proporcionalidad/resorte.png?raw=true'>"
   ]
  },
  {
   "cell_type": "markdown",
   "id": "1c4bb688",
   "metadata": {
    "slideshow": {
     "slide_type": "slide"
    }
   },
   "source": [
    "Se dispone de cuatro cuerpos de pesos $W_{1}, W_{2}, W_{3}$ y $W_{4}$ tales que cada uno de ellos, al colgarse del resorte, determina una altura diferente. En ningún caso el cuerpo colgado alcanza el piso.\n",
    "\n",
    "Si se sabe que $W_{1} < W_{2}$ y $h_{2} > h_{4}$, entonces la única afirmación falsa es:\n",
    "\n",
    "(a) $W_{1} > w_{4}$  \n",
    "(b) $W_{2} < W_{4}$  \n",
    "(c) $h_{1} > h_{2}$   \n",
    "(d) $h_{1} > h_{4}$  \n"
   ]
  },
  {
   "cell_type": "markdown",
   "id": "40655377",
   "metadata": {
    "slideshow": {
     "slide_type": "slide"
    }
   },
   "source": [
    "## Conceptos asociados al problema"
   ]
  },
  {
   "cell_type": "markdown",
   "id": "6ecbde35",
   "metadata": {
    "slideshow": {
     "slide_type": "slide"
    }
   },
   "source": [
    "* La implicación.\n",
    "* La regla de inferencia Modus ponendo ponens.\n",
    "* Razonamiento correcto.\n",
    "* Desigualdades\n",
    "* Propiedades transitiva de las desigualdades\n",
    "$$ a < b \\ \\ \\ \\ \\text{y}\\ \\ \\ \\  b < c, \\ \\ \\ \\Rightarrow \\ \\ \\ \\ a < c $$\n"
   ]
  },
  {
   "cell_type": "markdown",
   "id": "23bc3320",
   "metadata": {
    "slideshow": {
     "slide_type": "slide"
    }
   },
   "source": [
    "## Solución del problema"
   ]
  },
  {
   "cell_type": "markdown",
   "id": "11ec224b",
   "metadata": {
    "slideshow": {
     "slide_type": "slide"
    }
   },
   "source": [
    "Empecemos estableciendo la repación entre las variables peso $W$y altura $h$. "
   ]
  },
  {
   "cell_type": "markdown",
   "id": "d7f71224",
   "metadata": {
    "slideshow": {
     "slide_type": "slide"
    }
   },
   "source": [
    "A mayor peso $W$ colgado en el resorte, la altura $h$ del extremos inferior del resorte al piso es menor, por lo tanto, la relación entre estas dos variables es decreciente ($W\\uparrow \\ \\ \\ \\Rightarrow\\ \\ \\  h\\downarrow$)"
   ]
  },
  {
   "cell_type": "markdown",
   "id": "1dd465f9",
   "metadata": {
    "slideshow": {
     "slide_type": "slide"
    }
   },
   "source": [
    "Y como al duplicar el peso, la altura se reduce a la mitad, entonces la relación entre estas variables además de decreciente es inversamente proporcional. "
   ]
  },
  {
   "cell_type": "markdown",
   "id": "a5d3b399",
   "metadata": {
    "slideshow": {
     "slide_type": "slide"
    }
   },
   "source": [
    "La relación decreciente entre estas variables se puede expresar así:\n",
    "\n",
    "$$ W_{1} < W_{2} \\ \\ \\ \\Rightarrow \\ \\ \\ h_{1} > h_{2} $$\n"
   ]
  },
  {
   "cell_type": "markdown",
   "id": "5503aa2a",
   "metadata": {
    "slideshow": {
     "slide_type": "slide"
    }
   },
   "source": [
    "<img src = ''>"
   ]
  },
  {
   "cell_type": "code",
   "execution_count": null,
   "id": "4e50d469",
   "metadata": {
    "slideshow": {
     "slide_type": "slide"
    }
   },
   "outputs": [],
   "source": []
  },
  {
   "cell_type": "code",
   "execution_count": null,
   "id": "06fc530d",
   "metadata": {},
   "outputs": [],
   "source": []
  },
  {
   "cell_type": "code",
   "execution_count": null,
   "id": "e81481e4",
   "metadata": {},
   "outputs": [],
   "source": []
  }
 ],
 "metadata": {
  "celltoolbar": "Slideshow",
  "kernelspec": {
   "display_name": "Python 3 (ipykernel)",
   "language": "python",
   "name": "python3"
  },
  "language_info": {
   "codemirror_mode": {
    "name": "ipython",
    "version": 3
   },
   "file_extension": ".py",
   "mimetype": "text/x-python",
   "name": "python",
   "nbconvert_exporter": "python",
   "pygments_lexer": "ipython3",
   "version": "3.9.12"
  },
  "rise": {
   "theme": "sky",
   "transition": "zoom"
  }
 },
 "nbformat": 4,
 "nbformat_minor": 5
}
