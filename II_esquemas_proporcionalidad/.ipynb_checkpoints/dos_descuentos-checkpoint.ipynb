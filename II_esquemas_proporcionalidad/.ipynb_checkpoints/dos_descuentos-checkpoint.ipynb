{
 "cells": [
  {
   "cell_type": "markdown",
   "id": "6e75e539",
   "metadata": {
    "slideshow": {
     "slide_type": "slide"
    }
   },
   "source": [
    "<table align=\"left\">\n",
    "  <td>\n",
    "    <a href=\"https://colab.research.google.com/github/marco-canas/camino-udea/blob/main/II_esquemas_proporcionalidad/6_tema.ipynb\" target=\"_parent\"><img src=\"https://colab.research.google.com/assets/colab-badge.svg\" alt=\"Open In Colab\"/></a>\n",
    "  </td>\n",
    "</table>"
   ]
  },
  {
   "cell_type": "markdown",
   "id": "396520d4",
   "metadata": {
    "slideshow": {
     "slide_type": "slide"
    }
   },
   "source": [
    "# Participación aleatoria"
   ]
  },
  {
   "cell_type": "code",
   "execution_count": 1,
   "id": "75b80fa9",
   "metadata": {
    "slideshow": {
     "slide_type": "slide"
    }
   },
   "outputs": [
    {
     "name": "stdout",
     "output_type": "stream",
     "text": [
      "Maria Fernanda Solis Castro\n"
     ]
    }
   ],
   "source": [
    "def estudiante_que_va_a_participar():\n",
    "    import numpy as np \n",
    "    import pandas as pd \n",
    "    from random import choice\n",
    "    cero = pd.read_csv('cero.csv')\n",
    "    lista_estudiantes = list(cero.nombres.values)\n",
    "    if lista_estudiantes != []:\n",
    "        estudiante = choice(lista_estudiantes)\n",
    "        lista_estudiantes.remove(estudiante)\n",
    "        return print(estudiante)\n",
    "    else:\n",
    "        print('Todos los estudiantes han participado.\\n Muchas gracias y Felicitaciones')\n",
    "\n",
    "estudiante_que_va_a_participar() "
   ]
  },
  {
   "cell_type": "markdown",
   "id": "77deded4",
   "metadata": {
    "slideshow": {
     "slide_type": "slide"
    }
   },
   "source": [
    "(Bicicletas). El precio de una bicicleta se redujo un $25 \\%$ y este nuevo precio se redujo un $20 \\%$. Las dos reducciones juntas son equivalentes a una reducción de:  \n",
    "\n",
    "A. $45\\%$  \n",
    "B. $40\\%$  \n",
    "C. $35\\%$  \n",
    "D. $32.5\\%$  "
   ]
  },
  {
   "cell_type": "markdown",
   "id": "deb8f3a0",
   "metadata": {
    "slideshow": {
     "slide_type": "slide"
    }
   },
   "source": [
    "## Conceptos asociados  \n",
    "\n",
    "* Independencia del porcentaje de descuento quivamente del precio.\n",
    "* "
   ]
  },
  {
   "cell_type": "markdown",
   "id": "33b278fb",
   "metadata": {
    "slideshow": {
     "slide_type": "slide"
    }
   },
   "source": [
    "## Una forma extraordinaria de solución diseñada por mis estudiantes"
   ]
  },
  {
   "cell_type": "markdown",
   "id": "89a3f9c5",
   "metadata": {
    "slideshow": {
     "slide_type": "slide"
    }
   },
   "source": [
    "Suponga que el precio de la bicicleta es 100 pesos. \n",
    "\n",
    "Entonces si descontamos un 25%, el nuevo precio es $75$. \n",
    "\n",
    "Y si descontamos un $20\\%$, entonces el nuevo precio es 60.   \n",
    "Por lo tanto, el porcentaje de descuento equivalente es $40\\%$.  "
   ]
  },
  {
   "cell_type": "markdown",
   "id": "ea9f20fb",
   "metadata": {
    "slideshow": {
     "slide_type": "slide"
    }
   },
   "source": [
    "# Ahora la forma general de solución"
   ]
  },
  {
   "cell_type": "markdown",
   "id": "f21883cd",
   "metadata": {
    "slideshow": {
     "slide_type": "slide"
    }
   },
   "source": [
    "sea $p$ el precio original de la bicicleta.  "
   ]
  },
  {
   "cell_type": "markdown",
   "id": "e886236e",
   "metadata": {
    "slideshow": {
     "slide_type": "slide"
    }
   },
   "source": []
  },
  {
   "cell_type": "code",
   "execution_count": 6,
   "id": "3efcb7b9",
   "metadata": {
    "slideshow": {
     "slide_type": "slide"
    }
   },
   "outputs": [
    {
     "data": {
      "text/plain": [
       "1000000.0"
      ]
     },
     "execution_count": 6,
     "metadata": {},
     "output_type": "execute_result"
    }
   ],
   "source": [
    "1e6"
   ]
  },
  {
   "cell_type": "code",
   "execution_count": null,
   "id": "5debb898",
   "metadata": {},
   "outputs": [],
   "source": []
  },
  {
   "cell_type": "code",
   "execution_count": null,
   "id": "7588373c",
   "metadata": {},
   "outputs": [],
   "source": []
  },
  {
   "cell_type": "code",
   "execution_count": null,
   "id": "bea87acf",
   "metadata": {},
   "outputs": [],
   "source": []
  }
 ],
 "metadata": {
  "celltoolbar": "Slideshow",
  "kernelspec": {
   "display_name": "Python 3 (ipykernel)",
   "language": "python",
   "name": "python3"
  },
  "language_info": {
   "codemirror_mode": {
    "name": "ipython",
    "version": 3
   },
   "file_extension": ".py",
   "mimetype": "text/x-python",
   "name": "python",
   "nbconvert_exporter": "python",
   "pygments_lexer": "ipython3",
   "version": "3.9.12"
  }
 },
 "nbformat": 4,
 "nbformat_minor": 5
}
