{
 "cells": [
  {
   "cell_type": "markdown",
   "id": "2348d8b4",
   "metadata": {},
   "source": [
    "# Tema 5"
   ]
  },
  {
   "cell_type": "markdown",
   "id": "830790d7",
   "metadata": {},
   "source": [
    "## Relaciones directa e inversamente proporcionales "
   ]
  },
  {
   "cell_type": "markdown",
   "id": "3ea3dd19",
   "metadata": {},
   "source": [
    "### 5.1 \n",
    "\n",
    "Un grupo de 8 obreros, los cuales trabajan todos con la misma eficiencia, una cierta obra trabajando durante 20 días. Si sólo se contara con 2 obreros de ese grupo, el número de días que necesitarían estos obreros en ejecutar la misma obra es: "
   ]
  },
  {
   "cell_type": "markdown",
   "id": "21295181",
   "metadata": {},
   "source": [
    "(a) 10   \n",
    "(b) 40   \n",
    "(c) 60  \n",
    "(d) 80   "
   ]
  },
  {
   "cell_type": "markdown",
   "id": "9138d225",
   "metadata": {},
   "source": [
    "### 5.2"
   ]
  },
  {
   "cell_type": "markdown",
   "id": "b08dca7a",
   "metadata": {},
   "source": [
    "En el segmento $AD$ ilustrado en la figura, $AC = 18$, $BD = 23$ y $CD$ mide el doblre que $AB$. "
   ]
  },
  {
   "cell_type": "code",
   "execution_count": 4,
   "id": "7779754e",
   "metadata": {},
   "outputs": [
    {
     "data": {
      "image/png": "[encoded data removed]",
      "text/plain": [
       "<Figure size 360x216 with 1 Axes>"
      ]
     },
     "metadata": {
      "needs_background": "light"
     },
     "output_type": "display_data"
    }
   ],
   "source": [
    "import numpy as np\n",
    "from matplotlib import pyplot as plt \n",
    "\n",
    "fig = plt.figure(figsize = (5,3)) \n",
    "\n",
    "ax = fig.add_subplot()\n",
    "\n",
    "ax.grid(True, alpha = 0.6)\n",
    "\n",
    "plt.show() "
   ]
  },
  {
   "cell_type": "code",
   "execution_count": null,
   "id": "1f836c02",
   "metadata": {},
   "outputs": [],
   "source": []
  },
  {
   "cell_type": "code",
   "execution_count": null,
   "id": "5e3321a5",
   "metadata": {},
   "outputs": [],
   "source": []
  }
 ],
 "metadata": {
  "kernelspec": {
   "display_name": "Python 3",
   "language": "python",
   "name": "python3"
  },
  "language_info": {
   "codemirror_mode": {
    "name": "ipython",
    "version": 3
   },
   "file_extension": ".py",
   "mimetype": "text/x-python",
   "name": "python",
   "nbconvert_exporter": "python",
   "pygments_lexer": "ipython3",
   "version": "3.8.8"
  },
  "latex_envs": {
   "LaTeX_envs_menu_present": true,
   "autoclose": false,
   "autocomplete": false,
   "bibliofile": "biblio.bib",
   "cite_by": "apalike",
   "current_citInitial": 1,
   "eqLabelWithNumbers": true,
   "eqNumInitial": 1,
   "hotkeys": {
    "equation": "Ctrl-E",
    "itemize": "Ctrl-I"
   },
   "labels_anchors": false,
   "latex_user_defs": false,
   "report_style_numbering": false,
   "user_envs_cfg": false
  }
 },
 "nbformat": 4,
 "nbformat_minor": 5
}
