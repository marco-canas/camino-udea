{
 "cells": [
  {
   "cell_type": "markdown",
   "id": "331f3498",
   "metadata": {
    "slideshow": {
     "slide_type": "slide"
    }
   },
   "source": [
    "<table align=\"left\">\n",
    "  <td>\n",
    "    <a href=\"https://colab.research.google.com/github/marco-canas/taca/blob/main/ref/charu/7_ch/7_1_introduction.ipynb\" target=\"_parent\"><img src=\"https://colab.research.google.com/assets/colab-badge.svg\" alt=\"Open In Colab\"/></a>\n",
    "  </td>\n",
    "  <td>\n",
    "    <a target=\"_blank\" href=\"https://kaggle.com/kernels/welcome?src=https://github.com/marco-canas/taca/blob/main/ref/charu/7_ch/7_1_introduction.ipynb\"><img src=\"https://kaggle.com/static/images/open-in-kaggle.svg\" /></a>\n",
    "  </td>\n",
    "</table>\n"
   ]
  },
  {
   "cell_type": "markdown",
   "id": "2348d8b4",
   "metadata": {
    "slideshow": {
     "slide_type": "slide"
    }
   },
   "source": [
    "# Tema 5"
   ]
  },
  {
   "cell_type": "markdown",
   "id": "830790d7",
   "metadata": {
    "slideshow": {
     "slide_type": "slide"
    }
   },
   "source": [
    "## Relaciones directa e inversamente proporcionales "
   ]
  },
  {
   "cell_type": "code",
   "execution_count": 1,
   "id": "cbcf58fb",
   "metadata": {
    "slideshow": {
     "slide_type": "slide"
    }
   },
   "outputs": [],
   "source": [
    "import numpy as np \n",
    "import pandas as pd \n",
    "from random import choice\n",
    "pivu = pd.read_csv('pivu_nombres.csv')\n",
    "lista_estudiantes = list(pivu.nombre.values)"
   ]
  },
  {
   "cell_type": "code",
   "execution_count": 2,
   "id": "729f4994",
   "metadata": {
    "slideshow": {
     "slide_type": "slide"
    }
   },
   "outputs": [
    {
     "name": "stdout",
     "output_type": "stream",
     "text": [
      "alejandro manjarrez \n"
     ]
    }
   ],
   "source": [
    "def estudiante_que_va_a_participar():\n",
    "    if lista_estudiantes != []:\n",
    "        estudiante = choice(lista_estudiantes)\n",
    "        lista_estudiantes.remove(estudiante)\n",
    "        return print(estudiante)\n",
    "    else:\n",
    "        print('Todos los estudiantes han participado.\\n Muchas gracias y Felicitaciones')\n",
    "\n",
    "estudiante_que_va_a_participar() "
   ]
  },
  {
   "cell_type": "markdown",
   "id": "557ba0aa",
   "metadata": {
    "slideshow": {
     "slide_type": "slide"
    }
   },
   "source": [
    "### 5.1 \n",
    "\n",
    "Un grupo de 8 obreros, los cuales trabajan todos con la misma eficiencia, ejecuta una cierta obra trabajando durante 20 días. "
   ]
  },
  {
   "cell_type": "markdown",
   "id": "3ea3dd19",
   "metadata": {
    "slideshow": {
     "slide_type": "slide"
    }
   },
   "source": [
    "Si sólo se contara con 2 obreros de ese grupo, el número de días que necesitarían estos obreros en ejecutar la misma obra es: "
   ]
  },
  {
   "cell_type": "markdown",
   "id": "21295181",
   "metadata": {
    "slideshow": {
     "slide_type": "slide"
    }
   },
   "source": [
    "(a) 10   \n",
    "(b) 40   \n",
    "(c) 60  \n",
    "(d) 80   "
   ]
  },
  {
   "cell_type": "markdown",
   "id": "9982b4ae",
   "metadata": {
    "slideshow": {
     "slide_type": "slide"
    }
   },
   "source": [
    "# Estrategia de solución: "
   ]
  },
  {
   "cell_type": "markdown",
   "id": "48f9832e",
   "metadata": {
    "slideshow": {
     "slide_type": "slide"
    }
   },
   "source": [
    "* Identifique las variables relacionadas en el problema.  \n",
    "\n",
    "* Establesca si la relación de de proporcionalidad directa o inversa viendo si:\n",
    "  * La relación es creciente o decreciente\n",
    "  * Viendo si la relación es homogénea (al duplicar a uno, se duplica el otro). "
   ]
  },
  {
   "cell_type": "markdown",
   "id": "471e6fa4",
   "metadata": {
    "slideshow": {
     "slide_type": "slide"
    }
   },
   "source": [
    "# Solución: "
   ]
  },
  {
   "cell_type": "code",
   "execution_count": null,
   "id": "6ed75801",
   "metadata": {
    "slideshow": {
     "slide_type": "slide"
    }
   },
   "outputs": [],
   "source": []
  },
  {
   "cell_type": "markdown",
   "id": "9138d225",
   "metadata": {
    "slideshow": {
     "slide_type": "slide"
    }
   },
   "source": [
    "### 5.2"
   ]
  },
  {
   "cell_type": "markdown",
   "id": "b08dca7a",
   "metadata": {
    "slideshow": {
     "slide_type": "slide"
    }
   },
   "source": [
    "En el segmento $AD$ ilustrado en la figura, $AC = 18$, $BD = 23$ y $CD$ mide el doble que $AB$. "
   ]
  },
  {
   "cell_type": "code",
   "execution_count": 6,
   "id": "7779754e",
   "metadata": {
    "slideshow": {
     "slide_type": "slide"
    }
   },
   "outputs": [
    {
     "data": {
      "image/png": "[encoded data removed]",
      "text/plain": [
       "<Figure size 360x216 with 1 Axes>"
      ]
     },
     "metadata": {
      "needs_background": "light"
     },
     "output_type": "display_data"
    }
   ],
   "source": [
    "import numpy as np\n",
    "from matplotlib import pyplot as plt \n",
    "\n",
    "fig = plt.figure(figsize = (5,3)) \n",
    "\n",
    "ax = fig.add_subplot()\n",
    "\n",
    "ax.grid(True, alpha = 0.6)\n",
    "\n",
    "ax.set(title = 'Segmento ')\n",
    "ax.plot([0,20],[0,0], color = 'red')\n",
    "ax.text(0,0,'A')  \n",
    "\n",
    "ax.axis([-1,25,-1,1])  \n",
    "\n",
    "plt.show() "
   ]
  },
  {
   "cell_type": "markdown",
   "id": "026b0618",
   "metadata": {
    "slideshow": {
     "slide_type": "slide"
    }
   },
   "source": [
    "Deducción de la solucíon:\n",
    "\n",
    "$$ AD = AB + BC + CD = 18 + CD = AB + BD = AB + 23 $$\n",
    "\n",
    "$$18 + 2AB = AB + 23 $$"
   ]
  },
  {
   "cell_type": "markdown",
   "id": "0b15f134",
   "metadata": {
    "slideshow": {
     "slide_type": "slide"
    }
   },
   "source": [
    "## Recomendaciones  \n",
    "\n",
    "* Leer sobre sistemas de ecuaciones 2x2"
   ]
  },
  {
   "cell_type": "markdown",
   "id": "7d666ec4",
   "metadata": {
    "slideshow": {
     "slide_type": "slide"
    }
   },
   "source": [
    "### 5.3 "
   ]
  },
  {
   "cell_type": "markdown",
   "id": "b2faf97a",
   "metadata": {
    "slideshow": {
     "slide_type": "slide"
    }
   },
   "source": [
    "El $12\\%$ de 8000 pesos es:"
   ]
  },
  {
   "cell_type": "markdown",
   "id": "6870f518",
   "metadata": {
    "slideshow": {
     "slide_type": "slide"
    }
   },
   "source": [
    "#### Solución"
   ]
  },
  {
   "cell_type": "code",
   "execution_count": null,
   "id": "be6a42c8",
   "metadata": {},
   "outputs": [],
   "source": []
  },
  {
   "cell_type": "code",
   "execution_count": null,
   "id": "8cf4d073",
   "metadata": {},
   "outputs": [],
   "source": []
  },
  {
   "cell_type": "code",
   "execution_count": null,
   "id": "55607bd7",
   "metadata": {},
   "outputs": [],
   "source": []
  },
  {
   "cell_type": "markdown",
   "id": "16e3b3b7",
   "metadata": {
    "slideshow": {
     "slide_type": "slide"
    }
   },
   "source": [
    "## 5.4 "
   ]
  },
  {
   "cell_type": "markdown",
   "id": "d471984b",
   "metadata": {
    "slideshow": {
     "slide_type": "slide"
    }
   },
   "source": [
    "Entre dos locales, A y B, hay almacenados un total de 2000 sacos de azúcar. "
   ]
  },
  {
   "cell_type": "markdown",
   "id": "2d44ec97",
   "metadata": {
    "slideshow": {
     "slide_type": "slide"
    }
   },
   "source": [
    "Si del local A se transporta el $20\\%$ de lo almacenado al local B, entonces en los dos locales habrá el mismo número de sacos de azúcar.  "
   ]
  },
  {
   "cell_type": "markdown",
   "id": "7dd33471",
   "metadata": {
    "slideshow": {
     "slide_type": "slide"
    }
   },
   "source": [
    "La cantidad de sacos que había inicialmente en el local A es:  \n",
    "(a) 200  \n",
    "(b) 400  \n",
    "(c) 750  \n",
    "(d) 1250 "
   ]
  },
  {
   "cell_type": "markdown",
   "id": "005617c4",
   "metadata": {
    "slideshow": {
     "slide_type": "slide"
    }
   },
   "source": [
    "## 5.5 "
   ]
  },
  {
   "cell_type": "code",
   "execution_count": null,
   "id": "6638c085",
   "metadata": {
    "slideshow": {
     "slide_type": "slide"
    }
   },
   "outputs": [],
   "source": []
  },
  {
   "cell_type": "code",
   "execution_count": null,
   "id": "7323de8e",
   "metadata": {
    "slideshow": {
     "slide_type": "slide"
    }
   },
   "outputs": [],
   "source": []
  },
  {
   "cell_type": "code",
   "execution_count": null,
   "id": "f542a97f",
   "metadata": {},
   "outputs": [],
   "source": []
  },
  {
   "cell_type": "code",
   "execution_count": null,
   "id": "cfe345e6",
   "metadata": {},
   "outputs": [],
   "source": []
  },
  {
   "cell_type": "code",
   "execution_count": null,
   "id": "2b445e20",
   "metadata": {},
   "outputs": [],
   "source": []
  }
 ],
 "metadata": {
  "celltoolbar": "Slideshow",
  "kernelspec": {
   "display_name": "Python 3 (ipykernel)",
   "language": "python",
   "name": "python3"
  },
  "language_info": {
   "codemirror_mode": {
    "name": "ipython",
    "version": 3
   },
   "file_extension": ".py",
   "mimetype": "text/x-python",
   "name": "python",
   "nbconvert_exporter": "python",
   "pygments_lexer": "ipython3",
   "version": "3.9.7"
  },
  "latex_envs": {
   "LaTeX_envs_menu_present": true,
   "autoclose": false,
   "autocomplete": false,
   "bibliofile": "biblio.bib",
   "cite_by": "apalike",
   "current_citInitial": 1,
   "eqLabelWithNumbers": true,
   "eqNumInitial": 1,
   "hotkeys": {
    "equation": "Ctrl-E",
    "itemize": "Ctrl-I"
   },
   "labels_anchors": false,
   "latex_user_defs": false,
   "report_style_numbering": false,
   "user_envs_cfg": false
  },
  "rise": {
   "enable_chalkboard": true,
   "theme": "sky",
   "transition": "zoom"
  }
 },
 "nbformat": 4,
 "nbformat_minor": 5
}
