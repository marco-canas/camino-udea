{
 "cells": [
  {
   "cell_type": "markdown",
   "id": "043ce436",
   "metadata": {},
   "source": [
    "\n",
    "<table align=\"left\">\n",
    "  <td>\n",
    "    <a href=\"https://colab.research.google.com/github/marco-canas/taca/blob/main/ref/charu/7_ch/7_1_introduction.ipynb\" target=\"_parent\"><img src=\"https://colab.research.google.com/assets/colab-badge.svg\" alt=\"Open In Colab\"/></a>\n",
    "  </td>\n",
    "  <td>\n",
    "    <a target=\"_blank\" href=\"https://kaggle.com/kernels/welcome?src=https://github.com/marco-canas/taca/blob/main/ref/charu/7_ch/7_1_introduction.ipynb\"><img src=\"https://kaggle.com/static/images/open-in-kaggle.svg\" /></a>\n",
    "  </td>\n",
    "</table>\n"
   ]
  },
  {
   "cell_type": "markdown",
   "id": "e1c5c454",
   "metadata": {},
   "source": [
    "# Tema 6 "
   ]
  },
  {
   "cell_type": "markdown",
   "id": "4a5fba41",
   "metadata": {},
   "source": [
    "## Compensaciones aditivas y multiplicativas "
   ]
  },
  {
   "cell_type": "markdown",
   "id": "2940faca",
   "metadata": {},
   "source": [
    "### 6.1 \n",
    "\n",
    "En un edificio de 20 pisos las labores de aseo se realizan por piso de la siguiente forma:  \n",
    "\n",
    "Para los pisos 1,2 y 3 el tiempo requerido es de 1,2 y 3 horas respectivamente;  \n",
    "para los pisos de 4 en adelante el tiempo requerido es el promedio de todos los pisos anteriores.  \n",
    "\n",
    "El tiempo requerido para realizar las labores de aseo del piso 17 es: \n",
    "\n",
    "(a) 6 horas  \n",
    "(b) 2 horas  \n",
    "(c) 3 horas  \n",
    "(d) 17 horas \n"
   ]
  },
  {
   "cell_type": "markdown",
   "id": "767c32f6",
   "metadata": {},
   "source": [
    "### 6.2  "
   ]
  },
  {
   "cell_type": "code",
   "execution_count": null,
   "id": "375937f9",
   "metadata": {},
   "outputs": [],
   "source": []
  },
  {
   "cell_type": "code",
   "execution_count": null,
   "id": "99205a4e",
   "metadata": {},
   "outputs": [],
   "source": []
  },
  {
   "cell_type": "code",
   "execution_count": null,
   "id": "59ff2973",
   "metadata": {},
   "outputs": [],
   "source": []
  },
  {
   "cell_type": "code",
   "execution_count": null,
   "id": "535b9c32",
   "metadata": {},
   "outputs": [],
   "source": []
  },
  {
   "cell_type": "code",
   "execution_count": null,
   "id": "59ce757c",
   "metadata": {},
   "outputs": [],
   "source": []
  }
 ],
 "metadata": {
  "kernelspec": {
   "display_name": "Python 3",
   "language": "python",
   "name": "python3"
  },
  "language_info": {
   "codemirror_mode": {
    "name": "ipython",
    "version": 3
   },
   "file_extension": ".py",
   "mimetype": "text/x-python",
   "name": "python",
   "nbconvert_exporter": "python",
   "pygments_lexer": "ipython3",
   "version": "3.8.8"
  },
  "latex_envs": {
   "LaTeX_envs_menu_present": true,
   "autoclose": false,
   "autocomplete": false,
   "bibliofile": "biblio.bib",
   "cite_by": "apalike",
   "current_citInitial": 1,
   "eqLabelWithNumbers": true,
   "eqNumInitial": 1,
   "hotkeys": {
    "equation": "Ctrl-E",
    "itemize": "Ctrl-I"
   },
   "labels_anchors": false,
   "latex_user_defs": false,
   "report_style_numbering": false,
   "user_envs_cfg": false
  }
 },
 "nbformat": 4,
 "nbformat_minor": 5
}
