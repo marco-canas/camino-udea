{
 "cells": [
  {
   "cell_type": "markdown",
   "id": "2f7ce003",
   "metadata": {},
   "source": []
  },
  {
   "cell_type": "markdown",
   "id": "707caa02",
   "metadata": {},
   "source": [
    "# Tema 6 "
   ]
  },
  {
   "cell_type": "markdown",
   "id": "00136ba3",
   "metadata": {},
   "source": [
    "## Compensaciones aditivas y multiplicativas "
   ]
  },
  {
   "cell_type": "markdown",
   "id": "1348a6af",
   "metadata": {},
   "source": [
    "### 6.1 \n",
    "\n",
    "En un edificio de 20 pisos las labores de aseo se realizan por piso de la siguiente forma:  \n"
   ]
  },
  {
   "cell_type": "code",
   "execution_count": null,
   "id": "340f73c7",
   "metadata": {},
   "outputs": [],
   "source": []
  },
  {
   "cell_type": "code",
   "execution_count": null,
   "id": "d8939a72",
   "metadata": {},
   "outputs": [],
   "source": []
  },
  {
   "cell_type": "code",
   "execution_count": null,
   "id": "d3a7c116",
   "metadata": {},
   "outputs": [],
   "source": []
  },
  {
   "cell_type": "code",
   "execution_count": null,
   "id": "3705d35f",
   "metadata": {},
   "outputs": [],
   "source": []
  },
  {
   "cell_type": "code",
   "execution_count": null,
   "id": "b7000405",
   "metadata": {},
   "outputs": [],
   "source": []
  },
  {
   "cell_type": "code",
   "execution_count": null,
   "id": "c7ecd41b",
   "metadata": {},
   "outputs": [],
   "source": []
  }
 ],
 "metadata": {
  "kernelspec": {
   "display_name": "Python 3",
   "language": "python",
   "name": "python3"
  },
  "language_info": {
   "codemirror_mode": {
    "name": "ipython",
    "version": 3
   },
   "file_extension": ".py",
   "mimetype": "text/x-python",
   "name": "python",
   "nbconvert_exporter": "python",
   "pygments_lexer": "ipython3",
   "version": "3.8.8"
  },
  "latex_envs": {
   "LaTeX_envs_menu_present": true,
   "autoclose": false,
   "autocomplete": false,
   "bibliofile": "biblio.bib",
   "cite_by": "apalike",
   "current_citInitial": 1,
   "eqLabelWithNumbers": true,
   "eqNumInitial": 1,
   "hotkeys": {
    "equation": "Ctrl-E",
    "itemize": "Ctrl-I"
   },
   "labels_anchors": false,
   "latex_user_defs": false,
   "report_style_numbering": false,
   "user_envs_cfg": false
  }
 },
 "nbformat": 4,
 "nbformat_minor": 5
}
