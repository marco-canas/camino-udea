{
 "cells": [
  {
   "cell_type": "markdown",
   "id": "043ce436",
   "metadata": {
    "slideshow": {
     "slide_type": "slide"
    }
   },
   "source": [
    "\n",
    "<table align=\"left\">\n",
    "  <td>\n",
    "    <a href=\"https://colab.research.google.com/github/marco-canas/camino-udea/blob/main/II_esquemas_proporcionalidad/6_tema.ipynb\" target=\"_parent\"><img src=\"https://colab.research.google.com/assets/colab-badge.svg\" alt=\"Open In Colab\"/></a>\n",
    "  </td>\n",
    "</table>\n"
   ]
  },
  {
   "cell_type": "markdown",
   "id": "ed6b4ec7",
   "metadata": {
    "slideshow": {
     "slide_type": "slide"
    }
   },
   "source": [
    "# Participación aleatoria"
   ]
  },
  {
   "cell_type": "code",
   "execution_count": 3,
   "id": "a972afd3",
   "metadata": {
    "slideshow": {
     "slide_type": "slide"
    }
   },
   "outputs": [
    {
     "name": "stdout",
     "output_type": "stream",
     "text": [
      "Luisa María Atehortúa Zuluaga\n"
     ]
    }
   ],
   "source": [
    "def estudiante_que_va_a_participar():\n",
    "    import numpy as np \n",
    "    import pandas as pd \n",
    "    from random import choice\n",
    "    cero = pd.read_csv('cero.csv')\n",
    "    lista_estudiantes = list(cero.nombres.values)\n",
    "    if lista_estudiantes != []:\n",
    "        estudiante = choice(lista_estudiantes)\n",
    "        lista_estudiantes.remove(estudiante)\n",
    "        return print(estudiante)\n",
    "    else:\n",
    "        print('Todos los estudiantes han participado.\\n Muchas gracias y Felicitaciones')\n",
    "\n",
    "estudiante_que_va_a_participar() "
   ]
  },
  {
   "cell_type": "markdown",
   "id": "e1c5c454",
   "metadata": {
    "slideshow": {
     "slide_type": "slide"
    }
   },
   "source": [
    "# Tema 6 "
   ]
  },
  {
   "cell_type": "markdown",
   "id": "4a5fba41",
   "metadata": {
    "slideshow": {
     "slide_type": "slide"
    }
   },
   "source": [
    "## Compensaciones aditivas y multiplicativas "
   ]
  },
  {
   "cell_type": "markdown",
   "id": "2940faca",
   "metadata": {
    "slideshow": {
     "slide_type": "slide"
    }
   },
   "source": [
    "### 6.1 \n",
    "\n",
    "En un edificio de 20 pisos las labores de aseo se realizan por piso de la siguiente forma:  \n",
    "\n",
    "Para los pisos 1,2 y 3 el tiempo requerido es de 1,2 y 3 horas respectivamente;  \n",
    "para los pisos de 4 en adelante el tiempo requerido es el promedio de todos los pisos anteriores.  \n",
    "\n",
    "El tiempo requerido para realizar las labores de aseo del piso 17 es: \n",
    "\n",
    "(a) 6 horas  \n",
    "(b) 2 horas  \n",
    "(c) 3 horas  \n",
    "(d) 17 horas \n"
   ]
  },
  {
   "cell_type": "markdown",
   "id": "72afd0e2",
   "metadata": {
    "slideshow": {
     "slide_type": "slide"
    }
   },
   "source": [
    "## Estrategia de solución:"
   ]
  },
  {
   "cell_type": "markdown",
   "id": "6dd19cba",
   "metadata": {
    "slideshow": {
     "slide_type": "slide"
    }
   },
   "source": [
    "* Razone de manera inductiva, es decir, calcule el tiempo para hacer el aseo en el cuarto, en el quinto y en el sexto y luego realice una generalización. \n",
    "\n",
    "* Notará que su una colección de números se aumenta en en promedio, el permanece invariante.  \n",
    "\n"
   ]
  },
  {
   "cell_type": "markdown",
   "id": "38508009",
   "metadata": {
    "slideshow": {
     "slide_type": "slide"
    }
   },
   "source": [
    "## Solución:"
   ]
  },
  {
   "cell_type": "markdown",
   "id": "76326c27",
   "metadata": {
    "slideshow": {
     "slide_type": "slide"
    }
   },
   "source": [
    "Tiempo para asear el cuarto piso es:\n",
    "\n",
    "$$ \\frac{1+2+3}{3} = 2 \\ \\text{horas} $$\n"
   ]
  },
  {
   "cell_type": "markdown",
   "id": "64a28971",
   "metadata": {
    "slideshow": {
     "slide_type": "slide"
    }
   },
   "source": [
    "Tiempo para asear el quinto piso es:\n",
    "\n",
    "$$ \\frac{1+2+3 + 2}{4} = 2 \\ \\text{horas} $$\n"
   ]
  },
  {
   "cell_type": "markdown",
   "id": "00f1a907",
   "metadata": {
    "slideshow": {
     "slide_type": "slide"
    }
   },
   "source": [
    "Tiempo para asear el sexto piso es:\n",
    "\n",
    "$$ \\frac{1+2+3+2 + 2}{5} = 2 \\ \\text{horas} $$\n"
   ]
  },
  {
   "cell_type": "markdown",
   "id": "34ae29ec",
   "metadata": {
    "slideshow": {
     "slide_type": "slide"
    }
   },
   "source": [
    "Por lo tanto, el tiempo para asear cada uno de los pisos despues del tercero es constante e igual a 2 horas. "
   ]
  },
  {
   "cell_type": "markdown",
   "id": "767c32f6",
   "metadata": {
    "slideshow": {
     "slide_type": "slide"
    }
   },
   "source": [
    "### 6.2  "
   ]
  },
  {
   "cell_type": "markdown",
   "id": "0063912b",
   "metadata": {
    "slideshow": {
     "slide_type": "slide"
    }
   },
   "source": [
    "Un tanque de reserva de agua utiliza una bomba neumatica para surtirse de un río cercano. "
   ]
  },
  {
   "cell_type": "markdown",
   "id": "17468f20",
   "metadata": {
    "slideshow": {
     "slide_type": "slide"
    }
   },
   "source": [
    "Todos los días la bomba sube el nivel del agua 2m; por la noche (de las 18 a las 24 horas), el agua se filtra de regreso al río y el nivel baja 50 cm. "
   ]
  },
  {
   "cell_type": "code",
   "execution_count": null,
   "id": "59ff2973",
   "metadata": {
    "slideshow": {
     "slide_type": "slide"
    }
   },
   "outputs": [],
   "source": []
  },
  {
   "cell_type": "markdown",
   "id": "561fcbeb",
   "metadata": {
    "slideshow": {
     "slide_type": "slide"
    }
   },
   "source": [
    "# 6.6 y 6.7"
   ]
  },
  {
   "cell_type": "markdown",
   "id": "e0ea14b2",
   "metadata": {
    "slideshow": {
     "slide_type": "slide"
    }
   },
   "source": [
    "La totalidad de asistentes a un encuentro deportivo están repartidos así (cada asistente es hincha de un único equipo):"
   ]
  },
  {
   "cell_type": "markdown",
   "id": "30bfd9f2",
   "metadata": {},
   "source": [
    "I. $50\\%$ son hinchas de los Leones.  \n",
    "II. El $50\\%$ del resto son hinchas de los tigres.  \n",
    "III. Los hinchas de los Caimanes son el doble de los de las Panteras. \n",
    "IV.  \n",
    "V.  "
   ]
  },
  {
   "cell_type": "markdown",
   "id": "5247f3c1",
   "metadata": {},
   "source": [
    "## 6.6 El número de asistentes al encuentro fue:"
   ]
  },
  {
   "cell_type": "markdown",
   "id": "c039d7ad",
   "metadata": {},
   "source": [
    "(a) 20_000  \n",
    "(b) 22_000  \n",
    "(c) 25_000  \n",
    "(d) 28_000  "
   ]
  },
  {
   "cell_type": "markdown",
   "id": "f2323e54",
   "metadata": {},
   "source": [
    "## 6.7 El porcentaje del total de asistentes que son hinchas de las Aguilas es:"
   ]
  },
  {
   "cell_type": "markdown",
   "id": "8ffd068a",
   "metadata": {},
   "source": [
    "(a) $8\\%$  \n",
    "(b) "
   ]
  },
  {
   "cell_type": "code",
   "execution_count": null,
   "id": "926377ba",
   "metadata": {},
   "outputs": [],
   "source": []
  },
  {
   "cell_type": "code",
   "execution_count": null,
   "id": "ddc7c474",
   "metadata": {},
   "outputs": [],
   "source": []
  },
  {
   "cell_type": "code",
   "execution_count": null,
   "id": "af64ddb6",
   "metadata": {},
   "outputs": [],
   "source": []
  }
 ],
 "metadata": {
  "celltoolbar": "Slideshow",
  "kernelspec": {
   "display_name": "Python 3 (ipykernel)",
   "language": "python",
   "name": "python3"
  },
  "language_info": {
   "codemirror_mode": {
    "name": "ipython",
    "version": 3
   },
   "file_extension": ".py",
   "mimetype": "text/x-python",
   "name": "python",
   "nbconvert_exporter": "python",
   "pygments_lexer": "ipython3",
   "version": "3.9.12"
  },
  "latex_envs": {
   "LaTeX_envs_menu_present": true,
   "autoclose": false,
   "autocomplete": false,
   "bibliofile": "biblio.bib",
   "cite_by": "apalike",
   "current_citInitial": 1,
   "eqLabelWithNumbers": true,
   "eqNumInitial": 1,
   "hotkeys": {
    "equation": "Ctrl-E",
    "itemize": "Ctrl-I"
   },
   "labels_anchors": false,
   "latex_user_defs": false,
   "report_style_numbering": false,
   "user_envs_cfg": false
  }
 },
 "nbformat": 4,
 "nbformat_minor": 5
}
