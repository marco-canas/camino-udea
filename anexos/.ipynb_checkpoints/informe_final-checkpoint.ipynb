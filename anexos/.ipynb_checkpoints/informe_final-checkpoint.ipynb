{
 "cells": [
  {
   "cell_type": "markdown",
   "id": "007baf24",
   "metadata": {
    "slideshow": {
     "slide_type": "slide"
    }
   },
   "source": []
  },
  {
   "cell_type": "markdown",
   "id": "f19eb103",
   "metadata": {
    "slideshow": {
     "slide_type": "slide"
    }
   },
   "source": [
    "# Informe final Nivel Cero"
   ]
  },
  {
   "cell_type": "markdown",
   "id": "e665998f",
   "metadata": {
    "slideshow": {
     "slide_type": "slide"
    }
   },
   "source": [
    "# Objetivo general"
   ]
  },
  {
   "cell_type": "markdown",
   "id": "7631e61b",
   "metadata": {
    "slideshow": {
     "slide_type": "slide"
    }
   },
   "source": [
    "Desarrollar en el estudiante algunas de las funciones intelectuales superiores como son: \n",
    "* el análisis;\n",
    "* la deducción; \n",
    "* la inferencia; la síntesis; \n",
    "* la identificación y el control de variables en un problema; \n",
    "* el razonamiento ante una situación problemática presentada y el procedimiento utilizado para generar respuestas o emitir juicios válidos frente a la misma;  \n",
    "* la construcción e interpretación de lenguajes artificiales que le permitan el estudio de teorías con niveles de abstracción y conplejidad cada vez más altos, y, \n",
    "* la capacidad de comunicarse con sus pares. "
   ]
  },
  {
   "cell_type": "markdown",
   "id": "c06cb7db",
   "metadata": {
    "slideshow": {
     "slide_type": "slide"
    }
   },
   "source": [
    "## Objetivo específico 1"
   ]
  },
  {
   "cell_type": "markdown",
   "id": "2b97aab8",
   "metadata": {
    "slideshow": {
     "slide_type": "slide"
    }
   },
   "source": [
    "Desarrollar la competencia para implementar el razonamiento hipotético deductivo, el control de variables ante el análisis de una situación problemática, la eliminación de hipótesis simples, y el caracter proposicional que prevalece en las argumentaciones y en los juicios. "
   ]
  },
  {
   "cell_type": "markdown",
   "id": "402a8cbe",
   "metadata": {
    "slideshow": {
     "slide_type": "slide"
    }
   },
   "source": [
    "## Objetivo específico 2"
   ]
  },
  {
   "cell_type": "markdown",
   "id": "3ac7dc8d",
   "metadata": {
    "slideshow": {
     "slide_type": "slide"
    }
   },
   "source": [
    "Desarrollar en el estudiante la capacidad de abordar un problema concibiendo todas o casi todas las relaciones posibles entre sus elementos, aplicando a su acción comprobatoria un razonamiento deductivo mediante el control de variables; permitiendo así el análisis sistemático de cada uno de los factores que intervienen en el problema objeto de sus trabajo. "
   ]
  },
  {
   "cell_type": "markdown",
   "id": "769bdb06",
   "metadata": {
    "slideshow": {
     "slide_type": "slide"
    }
   },
   "source": [
    "## Objetivo específico 3\n"
   ]
  },
  {
   "cell_type": "markdown",
   "id": "e2bf2270",
   "metadata": {
    "slideshow": {
     "slide_type": "slide"
    }
   },
   "source": [
    "Desarrollar en el estudiante el esquema de la implicación, constituyendolo inicialmente en el ámbito de las situaciones reales de la vida diaria, donde la implicación tiene una ubicación espacio-temporal y una relación causa-efecto significativa para éste  porque puede darle una interpretación más cercana a sus vivencias propias. \n",
    "Cuando este esquema logra un nivel de desarrollo formal se tiene lo que se designa como la implicación material de la lógica proposicional. "
   ]
  },
  {
   "cell_type": "markdown",
   "id": "c565154f",
   "metadata": {
    "slideshow": {
     "slide_type": "slide"
    }
   },
   "source": [
    "## Objetivo específico 4"
   ]
  },
  {
   "cell_type": "markdown",
   "id": "407a78cb",
   "metadata": {
    "slideshow": {
     "slide_type": "slide"
    }
   },
   "source": []
  },
  {
   "cell_type": "markdown",
   "id": "3c9cbdf7",
   "metadata": {
    "slideshow": {
     "slide_type": "slide"
    }
   },
   "source": [
    "# Describa la metodología empleada tanto para cursos virtuales como presenciales"
   ]
  },
  {
   "cell_type": "markdown",
   "id": "af330d96",
   "metadata": {
    "slideshow": {
     "slide_type": "slide"
    }
   },
   "source": [
    "Los métodos idóneos para un eficaz proceso enseñanza-aprendizaje serían los interactivos, que se fundamentan en la corresponsabilidad de profesor y estudiantes en el proceso. Este método interactivo lo escogí por el objetivo de que el estudiante se sienta protagonista del proceso de solución de los problemas que se le planteen. "
   ]
  },
  {
   "cell_type": "markdown",
   "id": "3aa25567",
   "metadata": {
    "slideshow": {
     "slide_type": "slide"
    }
   },
   "source": [
    "### Métodos docentes según el modo de razonamiento\n",
    "\n",
    "* Un profesor emplea **el método deductivo** cuando transmite el conocimiento siguiendo una línea argumental que fluye de lo general a lo particular. Este método docente se ha empleado tradicionalmente en la enseñanza de la Ingeniería Civil y en muchas otras enseñanzas universitarias. La presentación de conceptos y principios generales que se van particularizando está muy ligada a la técnica expositiva de la lección magistral. En la docencia de las asignaturas esta sistemática se emplea en aquellos temas que establecen unos principios generales (por ejemplo técnicas de planificación de obras) para posteriormente particularizarlos en casos concretos (programación de una obra).  \n",
    "\n"
   ]
  },
  {
   "cell_type": "markdown",
   "id": "6220fd07",
   "metadata": {
    "slideshow": {
     "slide_type": "slide"
    }
   },
   "source": [
    "# Describa los ejercicios o prácticas que facilitaron la interacción entre los estudiantes y la comunidad o la academia, aplicadas en el programa."
   ]
  },
  {
   "cell_type": "markdown",
   "id": "5b69bb2d",
   "metadata": {
    "slideshow": {
     "slide_type": "slide"
    }
   },
   "source": [
    "* Uso de la aplicación OneNote como pizarra digital que permite presentar la metodología y solución de problemas.\n",
    "* Constitución de un repositorio en la red social GitHub donde se consigne la estructura del curso y los métodos de solución discutidos en clase.\n",
    "* Constitución de un canal en la red social YouTube para presentar explicaciones de solución de problemas ilustrativos de los cuatro ejes de razonamiento que se evaluan en el examen de edmisión de la Universidad de Antioquia. "
   ]
  },
  {
   "cell_type": "markdown",
   "id": "c767e083",
   "metadata": {
    "slideshow": {
     "slide_type": "slide"
    }
   },
   "source": [
    "# Logros y aprendizajes significativos"
   ]
  },
  {
   "cell_type": "markdown",
   "id": "10c94704",
   "metadata": {
    "slideshow": {
     "slide_type": "slide"
    }
   },
   "source": [
    "* Gran asistencia de los estudiantes\n",
    "* Mucha participación en clase y a través del grupo de WhatsApp.\n",
    "* un desempeño académico muy satisfactorio.\n",
    "* Calificaciones con un promedio de 4.0 para todo el grupo y en todas las cuatro evaluaciones de unidad. "
   ]
  },
  {
   "cell_type": "markdown",
   "id": "142e62b6",
   "metadata": {
    "slideshow": {
     "slide_type": "slide"
    }
   },
   "source": [
    "# En sus propias palabras mencione casos de éxito y talentos destacados dentro del curso."
   ]
  },
  {
   "cell_type": "markdown",
   "id": "e7811c4c",
   "metadata": {
    "slideshow": {
     "slide_type": "slide"
    }
   },
   "source": [
    "* La participación y buen desempeño académico de una estudiante que ya era madre de un hijo que le ayudaba en el proceso de aprendizaje durante el curso. "
   ]
  },
  {
   "cell_type": "markdown",
   "id": "1285c3e5",
   "metadata": {
    "slideshow": {
     "slide_type": "slide"
    }
   },
   "source": [
    "# Aspectos por mejorar del proceso administrativo *\n"
   ]
  },
  {
   "cell_type": "markdown",
   "id": "ad3b131f",
   "metadata": {
    "slideshow": {
     "slide_type": "slide"
    }
   },
   "source": [
    "* Unificar la manera de ordenar la lista de estudiantes en la lista de matriculado, en la lista de autoevaluaciones y en la lista de evaluaciones de unidad con la forma de listar los estudiantes en la plataforma Universitaria Mares. "
   ]
  },
  {
   "cell_type": "markdown",
   "id": "1945a9b9",
   "metadata": {
    "slideshow": {
     "slide_type": "slide"
    }
   },
   "source": [
    "# Aspectos por mejorar del profesor "
   ]
  },
  {
   "cell_type": "markdown",
   "id": "e8cb6cae",
   "metadata": {
    "slideshow": {
     "slide_type": "slide"
    }
   },
   "source": [
    "* Mejorar las visualizaciones animadas a través de matplotlib, de tal manera que ayude a la comprensión de los procesos de identificación y control de variables. "
   ]
  },
  {
   "cell_type": "markdown",
   "id": "7d0bb98d",
   "metadata": {
    "slideshow": {
     "slide_type": "slide"
    }
   },
   "source": [
    "# Aspectos por mejorar del curso o semillero (puede incluir aspectos de los estudiantes)"
   ]
  },
  {
   "cell_type": "markdown",
   "id": "8e9674d9",
   "metadata": {
    "slideshow": {
     "slide_type": "slide"
    }
   },
   "source": [
    "* Implementar la utilización de Google Colab de tal manera que cada estudiante pueda compartir en tiempo real sus ideas de solución para cada problema que se plantee en clase. "
   ]
  },
  {
   "cell_type": "markdown",
   "id": "65929e3d",
   "metadata": {
    "slideshow": {
     "slide_type": "slide"
    }
   },
   "source": [
    "# Oportunidades "
   ]
  },
  {
   "cell_type": "markdown",
   "id": "9ed75178",
   "metadata": {
    "slideshow": {
     "slide_type": "slide"
    }
   },
   "source": [
    "Este curso, ayuda mucho a los estudiantes para conocer la vida universitaria de tal menera que lleguen mejor preparados para afrontar esta maravillosa experiencia de formación"
   ]
  },
  {
   "cell_type": "markdown",
   "id": "369801e1",
   "metadata": {
    "slideshow": {
     "slide_type": "slide"
    }
   },
   "source": [
    "## Referentes:  \n",
    "\n",
    "* Métodos docentes en la enseñanza universitaria: https://victoryepes.blogs.upv.es/2018/01/12/metodos-docentes-en-la-ensenanza-universitaria/"
   ]
  },
  {
   "cell_type": "code",
   "execution_count": null,
   "id": "0a8c6421",
   "metadata": {
    "slideshow": {
     "slide_type": "slide"
    }
   },
   "outputs": [],
   "source": []
  }
 ],
 "metadata": {
  "celltoolbar": "Slideshow",
  "kernelspec": {
   "display_name": "Python 3 (ipykernel)",
   "language": "python",
   "name": "python3"
  },
  "language_info": {
   "codemirror_mode": {
    "name": "ipython",
    "version": 3
   },
   "file_extension": ".py",
   "mimetype": "text/x-python",
   "name": "python",
   "nbconvert_exporter": "python",
   "pygments_lexer": "ipython3",
   "version": "3.9.12"
  }
 },
 "nbformat": 4,
 "nbformat_minor": 5
}
