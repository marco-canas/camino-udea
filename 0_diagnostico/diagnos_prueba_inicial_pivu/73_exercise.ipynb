{
 "cells": [
  {
   "cell_type": "markdown",
   "id": "5e1b3817",
   "metadata": {
    "slideshow": {
     "slide_type": "slide"
    }
   },
   "source": [
    "<table align=\"left\">\n",
    "  <td>\n",
    "    <a href=\"https://colab.research.google.com/github/marco-canas/taca/blob/main/ref/geron/chap_2/5_prepare_for_algorithms/2_data_cleaning.ipynb\" target=\"_parent\"><img src=\"https://colab.research.google.com/assets/colab-badge.svg\" alt=\"Open In Colab\"/></a>\n",
    "  </td>\n",
    "  <td>\n",
    "    <a target=\"_blank\" href=\"https://kaggle.com/kernels/welcome?src=https://github.com/marco-canas/taca/blob/main/ref/geron/chap_2/5_prepare_for_algorithms/2_data_cleaning.ipynb\"><img src=\"https://kaggle.com/static/images/open-in-kaggle.svg\" /></a>\n",
    "  </td>\n",
    "</table>\n"
   ]
  },
  {
   "cell_type": "markdown",
   "id": "f3f96c7d",
   "metadata": {
    "slideshow": {
     "slide_type": "slide"
    }
   },
   "source": [
    "# Ejercicios 73 y 74 de la prueba diagnóstica del PIVU"
   ]
  },
  {
   "cell_type": "markdown",
   "id": "8218b32b",
   "metadata": {
    "slideshow": {
     "slide_type": "slide"
    }
   },
   "source": [
    "La pirámide de la figura está formada por 16 cubos de igual tamaño. El área total de la pirámide, incluyendo la superficie inferior, es de $864$ $cm^{2}$. \n",
    "\n",
    "<img src = 'https://github.com/marco-canas/camino-udea/blob/main/0_diagnostico/diagnos_prueba_inicial_pivu/piramide_ejer_73_y_74.png?raw=true'>  "
   ]
  },
  {
   "cell_type": "markdown",
   "id": "63e1df60",
   "metadata": {
    "slideshow": {
     "slide_type": "slide"
    }
   },
   "source": [
    "73. La longitud $AB$ de la base de la pirámide es: \n",
    "\n",
    "A. 16 cm  \n",
    "B. 28 cm  \n",
    "C. 64 cm  \n",
    "D. 112 cm  \n"
   ]
  },
  {
   "cell_type": "markdown",
   "id": "f23f3f54",
   "metadata": {
    "slideshow": {
     "slide_type": "slide"
    }
   },
   "source": [
    "## Solución:\n",
    "\n"
   ]
  },
  {
   "cell_type": "markdown",
   "id": "fc7b65ca",
   "metadata": {
    "slideshow": {
     "slide_type": "slide"
    }
   },
   "source": [
    "16a + 16a + 15a + 7a = 54a = 864"
   ]
  },
  {
   "cell_type": "markdown",
   "id": "1a612b3d",
   "metadata": {},
   "source": [
    "$$ a = \\frac{864}{45} = \\frac{432}{27} = \\frac{144}{9} =  $$"
   ]
  },
  {
   "cell_type": "markdown",
   "id": "8fd4f2bb",
   "metadata": {
    "slideshow": {
     "slide_type": "slide"
    }
   },
   "source": [
    "Si $a = l^{2} = 16$, entonces $l = 4$. "
   ]
  },
  {
   "cell_type": "markdown",
   "id": "14454eac",
   "metadata": {
    "slideshow": {
     "slide_type": "slide"
    }
   },
   "source": [
    "Como la base tiene 7 cubos, entonces la longitu de la base es $7(4) = 28$ centímetros y así, la respuesta correcta es la B. "
   ]
  },
  {
   "cell_type": "code",
   "execution_count": 4,
   "id": "665e22aa",
   "metadata": {
    "slideshow": {
     "slide_type": "slide"
    }
   },
   "outputs": [
    {
     "data": {
      "text/plain": [
       "16.0"
      ]
     },
     "execution_count": 4,
     "metadata": {},
     "output_type": "execute_result"
    }
   ],
   "source": [
    "864/54"
   ]
  },
  {
   "cell_type": "code",
   "execution_count": 2,
   "id": "0c782b16",
   "metadata": {
    "slideshow": {
     "slide_type": "slide"
    }
   },
   "outputs": [],
   "source": [
    "from sympy import *\n"
   ]
  },
  {
   "cell_type": "markdown",
   "id": "c04ca1e4",
   "metadata": {
    "slideshow": {
     "slide_type": "slide"
    }
   },
   "source": [
    "## Tipo de razonamiento al que pertenece:\n",
    "\n",
    "* Razonamiento geométrico en el subtena de Razonamiento espacial  \n"
   ]
  },
  {
   "cell_type": "markdown",
   "id": "a6d043f5",
   "metadata": {},
   "source": [
    "## Grafico de un cubo con matplotlib para desarrollar el concepto de área superficial de un sólido"
   ]
  },
  {
   "cell_type": "code",
   "execution_count": 8,
   "id": "d5e3e843",
   "metadata": {},
   "outputs": [],
   "source": [
    "import matplotlib.pyplot as plt\n",
    "from mpl_toolkits.mplot3d import Axes3D \n",
    "import numpy as np"
   ]
  },
  {
   "cell_type": "code",
   "execution_count": null,
   "id": "b38eb05e",
   "metadata": {},
   "outputs": [],
   "source": []
  },
  {
   "cell_type": "code",
   "execution_count": null,
   "id": "e2575683",
   "metadata": {},
   "outputs": [],
   "source": []
  },
  {
   "cell_type": "markdown",
   "id": "a8e311ca",
   "metadata": {
    "slideshow": {
     "slide_type": "slide"
    }
   },
   "source": [
    "## Pregunta 74\n"
   ]
  },
  {
   "cell_type": "markdown",
   "id": "dd138410",
   "metadata": {
    "slideshow": {
     "slide_type": "slide"
    }
   },
   "source": [
    "La pirámide se desarma y todos los cubos llenan completamente un caja de 16 cm de largo por 8 cm de ancho.  \n",
    "La altura de la caja en centímetros es:  \n",
    "\n",
    "A. 4  \n",
    "B. 6  \n",
    "**C. 8**    \n",
    "D. 12"
   ]
  },
  {
   "cell_type": "markdown",
   "id": "108d8abe",
   "metadata": {
    "slideshow": {
     "slide_type": "slide"
    }
   },
   "source": [
    "## Solución:"
   ]
  },
  {
   "cell_type": "code",
   "execution_count": null,
   "id": "231cba44",
   "metadata": {
    "slideshow": {
     "slide_type": "slide"
    }
   },
   "outputs": [],
   "source": []
  },
  {
   "cell_type": "code",
   "execution_count": null,
   "id": "b34c8f3e",
   "metadata": {
    "slideshow": {
     "slide_type": "slide"
    }
   },
   "outputs": [],
   "source": []
  },
  {
   "cell_type": "code",
   "execution_count": null,
   "id": "729d8c72",
   "metadata": {
    "slideshow": {
     "slide_type": "slide"
    }
   },
   "outputs": [],
   "source": []
  },
  {
   "cell_type": "markdown",
   "id": "e2f02558",
   "metadata": {
    "slideshow": {
     "slide_type": "slide"
    }
   },
   "source": [
    "## Dificultades para la solución de estos ploblemas encontradas en el aula"
   ]
  },
  {
   "cell_type": "markdown",
   "id": "b2a1a31a",
   "metadata": {
    "slideshow": {
     "slide_type": "slide"
    }
   },
   "source": [
    "* Conocer el concepto de área superficial de un sólido. \n",
    "* Notar que en este ejercicio, para el área superficial de la pirámide, se incluirá el área de la la superficie que entra en contacto con la superficie que sostiene la pirámide. "
   ]
  },
  {
   "cell_type": "markdown",
   "id": "1c04ad87",
   "metadata": {
    "slideshow": {
     "slide_type": "-"
    }
   },
   "source": [
    "## Referentes\n",
    "\n",
    "* Trazado de cubos con matplotlib: https://www.geeksforgeeks.org/how-to-draw-3d-cube-using-matplotlib-in-python/"
   ]
  },
  {
   "cell_type": "code",
   "execution_count": null,
   "id": "cd118e95",
   "metadata": {},
   "outputs": [],
   "source": []
  }
 ],
 "metadata": {
  "celltoolbar": "Slideshow",
  "kernelspec": {
   "display_name": "Python 3",
   "language": "python",
   "name": "python3"
  },
  "language_info": {
   "codemirror_mode": {
    "name": "ipython",
    "version": 3
   },
   "file_extension": ".py",
   "mimetype": "text/x-python",
   "name": "python",
   "nbconvert_exporter": "python",
   "pygments_lexer": "ipython3",
   "version": "3.8.8"
  },
  "latex_envs": {
   "LaTeX_envs_menu_present": true,
   "autoclose": false,
   "autocomplete": false,
   "bibliofile": "biblio.bib",
   "cite_by": "apalike",
   "current_citInitial": 1,
   "eqLabelWithNumbers": true,
   "eqNumInitial": 1,
   "hotkeys": {
    "equation": "Ctrl-E",
    "itemize": "Ctrl-I"
   },
   "labels_anchors": false,
   "latex_user_defs": false,
   "report_style_numbering": false,
   "user_envs_cfg": false
  },
  "rise": {
   "enable_chalkboard": true,
   "theme": "sky",
   "transition": "zoom"
  }
 },
 "nbformat": 4,
 "nbformat_minor": 5
}
