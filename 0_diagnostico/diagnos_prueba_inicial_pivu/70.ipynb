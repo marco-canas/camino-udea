{
 "cells": [
  {
   "cell_type": "markdown",
   "id": "35dd2b78",
   "metadata": {
    "slideshow": {
     "slide_type": "slide"
    }
   },
   "source": [
    "<table align=\"left\">\n",
    "  <td>\n",
    "    <a href=\"https://colab.research.google.com/github/marco-canas/camino-udea/blob/main/0_diagnostico/diagnos_prueba_inicial_pivu/51_exercise.ipynb\" target=\"_parent\"><img src=\"https://colab.research.google.com/assets/colab-badge.svg\" alt=\"Open In Colab\"/></a>\n",
    "  </td>\n",
    "  <td>\n",
    "    <a target=\"_blank\" href=\"https://kaggle.com/kernels/welcome?src=https://github.com/marco-canas/camino-udea/blob/main/0_diagnostico/diagnos_prueba_inicial_pivu/51_exercise.ipynb\"><img src=\"https://kaggle.com/static/images/open-in-kaggle.svg\" /></a>\n",
    "  </td>\n",
    "</table>"
   ]
  },
  {
   "cell_type": "markdown",
   "id": "ec617967",
   "metadata": {
    "slideshow": {
     "slide_type": "slide"
    }
   },
   "source": [
    "# Ejercicio 70 de la prueba diagnóstica del PIVU"
   ]
  },
  {
   "cell_type": "markdown",
   "id": "e9e8f93e",
   "metadata": {
    "slideshow": {
     "slide_type": "slide"
    }
   },
   "source": [
    "## [Video de apoyo]() "
   ]
  },
  {
   "cell_type": "markdown",
   "id": "d25dae27",
   "metadata": {
    "slideshow": {
     "slide_type": "slide"
    }
   },
   "source": [
    "## Enunciado"
   ]
  },
  {
   "cell_type": "markdown",
   "id": "2ad765a0",
   "metadata": {
    "slideshow": {
     "slide_type": "slide"
    }
   },
   "source": [
    "El $\\Delta ABC$ es equilátero y su área es 4 $m^{2}$. Los triángulos interiores se forman uniendo los puntos medios de los lados. "
   ]
  },
  {
   "cell_type": "markdown",
   "id": "332451f2",
   "metadata": {
    "slideshow": {
     "slide_type": "slide"
    }
   },
   "source": [
    "<img src = 'https://github.com/marco-canas/camino-udea/blob/main/0_diagnostico/diagnos_prueba_inicial_pivu/ejer_70.jpg?raw=true'> "
   ]
  },
  {
   "cell_type": "markdown",
   "id": "9d505ffa",
   "metadata": {
    "slideshow": {
     "slide_type": "slide"
    }
   },
   "source": [
    "El área sombreada en $m^{2}$ es:\n",
    "\n",
    "a. $\\frac{5}{16}$\n",
    "\n",
    "**b. $\\mathbf{\\frac{21}{16}}$**  \n",
    "\n",
    "c. $\\frac{3}{8}$  \n",
    "\n",
    "d. $\\frac{17}{48}$  "
   ]
  },
  {
   "cell_type": "markdown",
   "id": "2dc78b4d",
   "metadata": {
    "slideshow": {
     "slide_type": "slide"
    }
   },
   "source": [
    "## Conceptos asociados  \n",
    "\n",
    "* **Multiplicación de fracciones**: es la más facíl de las operaciones con fracciones ya que se realiza multiplicándo entre sí a los numeradores y entre sí a los denominadores.  \n",
    "* División de fracciones: \n",
    "* Triángulo equilátero: triángulo cuyas medidas de sus lados son iguales. \n",
    "* suma de fracciones homogéneas: \n",
    "* suma de fracciones heterogéneas amplificándolas para convertirlas en homogéneas: "
   ]
  },
  {
   "cell_type": "markdown",
   "id": "07fed6c2",
   "metadata": {
    "slideshow": {
     "slide_type": "slide"
    }
   },
   "source": [
    "## Estrategia de solución"
   ]
  },
  {
   "cell_type": "markdown",
   "id": "3886dd1f",
   "metadata": {
    "slideshow": {
     "slide_type": "slide"
    }
   },
   "source": [
    "El área sombreada es la suma de las áreas de las partes. "
   ]
  },
  {
   "cell_type": "markdown",
   "id": "54aa72ad",
   "metadata": {
    "slideshow": {
     "slide_type": "slide"
    }
   },
   "source": [
    "## Solución "
   ]
  },
  {
   "cell_type": "markdown",
   "id": "48b667d2",
   "metadata": {
    "slideshow": {
     "slide_type": "slide"
    }
   },
   "source": [
    "Área del triángulo mayor es \n",
    "\n",
    "$$ \\text{área triángulo sombreado mayor} = \\frac{1}{4}(4) = 1 $$\n"
   ]
  },
  {
   "cell_type": "markdown",
   "id": "c604093f",
   "metadata": {
    "slideshow": {
     "slide_type": "slide"
    }
   },
   "source": [
    "Área del triángulo sombreado mediano es: \n",
    "\n",
    "$$ \\text{área triángulo mediano} = \\frac{1}{4}(\\text{triángulo grande})  = \\frac{1}{4}(1) = \\frac{1}{4} $$\n"
   ]
  },
  {
   "cell_type": "markdown",
   "id": "4e7691bf",
   "metadata": {
    "slideshow": {
     "slide_type": "slide"
    }
   },
   "source": [
    "Área del triángulo sombreado pequeño es: \n",
    "\n",
    "$$ \\text{área triángulo pequeño} = \\frac{1}{4}(\\text{área triángulo mediano})  = \\frac{1}{4}\\cdot \\frac{1}{4} = \\frac{1}{16} $$"
   ]
  },
  {
   "cell_type": "markdown",
   "id": "31bc40dc",
   "metadata": {
    "slideshow": {
     "slide_type": "slide"
    }
   },
   "source": [
    "Área sombreada es la suma de las áreas de los triángulos grande, mediano y pequeño:\n",
    "\n",
    "$$ \\text{área sombreada} = 1 + \\frac{1}{4} + \\frac{1}{16} $$\n"
   ]
  },
  {
   "cell_type": "markdown",
   "id": "852454d8",
   "metadata": {
    "slideshow": {
     "slide_type": "slide"
    }
   },
   "source": [
    "$$ \\text{área sombreada} = \\frac{16}{16} + \\frac{4}{16} + \\frac{1}{16} = \\frac{21}{16} $$"
   ]
  },
  {
   "cell_type": "markdown",
   "id": "95a03f4a",
   "metadata": {
    "slideshow": {
     "slide_type": "slide"
    }
   },
   "source": [
    "Por lo tanto, la opción correcta de respuesta es la $b.$"
   ]
  },
  {
   "cell_type": "code",
   "execution_count": null,
   "id": "09cd2cd1",
   "metadata": {},
   "outputs": [],
   "source": []
  }
 ],
 "metadata": {
  "celltoolbar": "Slideshow",
  "kernelspec": {
   "display_name": "Python 3 (ipykernel)",
   "language": "python",
   "name": "python3"
  },
  "language_info": {
   "codemirror_mode": {
    "name": "ipython",
    "version": 3
   },
   "file_extension": ".py",
   "mimetype": "text/x-python",
   "name": "python",
   "nbconvert_exporter": "python",
   "pygments_lexer": "ipython3",
   "version": "3.9.12"
  }
 },
 "nbformat": 4,
 "nbformat_minor": 5
}
