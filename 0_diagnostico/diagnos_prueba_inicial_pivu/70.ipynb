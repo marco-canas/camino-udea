{
 "cells": [
  {
   "cell_type": "markdown",
   "id": "35dd2b78",
   "metadata": {},
   "source": [
    "<table align=\"left\">\n",
    "  <td>\n",
    "    <a href=\"https://colab.research.google.com/github/marco-canas/camino-udea/blob/main/0_diagnostico/diagnos_prueba_inicial_pivu/51_exercise.ipynb\" target=\"_parent\"><img src=\"https://colab.research.google.com/assets/colab-badge.svg\" alt=\"Open In Colab\"/></a>\n",
    "  </td>\n",
    "  <td>\n",
    "    <a target=\"_blank\" href=\"https://kaggle.com/kernels/welcome?src=https://github.com/marco-canas/camino-udea/blob/main/0_diagnostico/diagnos_prueba_inicial_pivu/51_exercise.ipynb\"><img src=\"https://kaggle.com/static/images/open-in-kaggle.svg\" /></a>\n",
    "  </td>\n",
    "</table>"
   ]
  },
  {
   "cell_type": "markdown",
   "id": "ec617967",
   "metadata": {},
   "source": [
    "# Ejercicio 70 de la prueba diagnóstica del PIVU"
   ]
  },
  {
   "cell_type": "markdown",
   "id": "d25dae27",
   "metadata": {},
   "source": [
    "## Enunciado"
   ]
  },
  {
   "cell_type": "markdown",
   "id": "2ad765a0",
   "metadata": {},
   "source": [
    "70.\tEl $\\Delta ABC$ es equilátero y su área es 4 $m^{2}$. Los triángulos interiores se forman uniendo los puntos medios de los lados. "
   ]
  },
  {
   "cell_type": "markdown",
   "id": "332451f2",
   "metadata": {},
   "source": [
    "<img src = 'https://github.com/marco-canas/camino-udea/blob/main/0_diagnostico/diagnos_prueba_inicial_pivu/ejer_70.jpg?raw=true'> "
   ]
  },
  {
   "cell_type": "markdown",
   "id": "2dc78b4d",
   "metadata": {},
   "source": [
    "## Conceptos asociados  \n",
    "\n",
    "* Multiplicación de fracciones \n",
    "* División de fracciones \n",
    "* Triengulo equilátero\n",
    "* suma de fracciones "
   ]
  },
  {
   "cell_type": "markdown",
   "id": "07fed6c2",
   "metadata": {},
   "source": [
    "## Estrategia de solución"
   ]
  },
  {
   "cell_type": "markdown",
   "id": "3886dd1f",
   "metadata": {},
   "source": [
    "El área sombreada es la suma de las áreas de las partes. "
   ]
  },
  {
   "cell_type": "markdown",
   "id": "54aa72ad",
   "metadata": {},
   "source": [
    "## Solución "
   ]
  },
  {
   "cell_type": "code",
   "execution_count": null,
   "id": "457da7b9",
   "metadata": {},
   "outputs": [],
   "source": []
  }
 ],
 "metadata": {
  "kernelspec": {
   "display_name": "Python 3 (ipykernel)",
   "language": "python",
   "name": "python3"
  },
  "language_info": {
   "codemirror_mode": {
    "name": "ipython",
    "version": 3
   },
   "file_extension": ".py",
   "mimetype": "text/x-python",
   "name": "python",
   "nbconvert_exporter": "python",
   "pygments_lexer": "ipython3",
   "version": "3.9.12"
  }
 },
 "nbformat": 4,
 "nbformat_minor": 5
}
