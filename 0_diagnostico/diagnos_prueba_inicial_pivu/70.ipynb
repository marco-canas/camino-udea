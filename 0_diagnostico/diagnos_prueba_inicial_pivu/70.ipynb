{
 "cells": [
  {
   "cell_type": "markdown",
   "id": "0f917dc3",
   "metadata": {},
   "source": []
  },
  {
   "cell_type": "markdown",
   "id": "4ad63cf8",
   "metadata": {},
   "source": [
    "# Ejercicio 70 de la prueba diagnóstica del PIVU"
   ]
  },
  {
   "cell_type": "markdown",
   "id": "e6b42729",
   "metadata": {},
   "source": [
    "## Enunciado"
   ]
  },
  {
   "cell_type": "markdown",
   "id": "5ce4748d",
   "metadata": {},
   "source": [
    "70.\tEl $\\Delta ABC$ es equilátero y su área es 4 $m^{2}$. Los triángulos interiores se forman uniendo los puntos medios de los lados. "
   ]
  },
  {
   "cell_type": "markdown",
   "id": "07749900",
   "metadata": {},
   "source": [
    "<img src = 'https://github.com/marco-canas/camino-udea/blob/main/0_diagnostico/diagnos_prueba_inicial_pivu/ejer_70.jpg?raw=true'> "
   ]
  },
  {
   "cell_type": "markdown",
   "id": "25a09c40",
   "metadata": {},
   "source": [
    "## Conceptos asociados  \n",
    "\n",
    "* Multiplicación de fracciones \n",
    "* División de fracciones \n",
    "* Triengulo equilátero\n",
    "* suma de fracciones "
   ]
  },
  {
   "cell_type": "markdown",
   "id": "6ba39b93",
   "metadata": {},
   "source": [
    "## Estrategia de solución"
   ]
  },
  {
   "cell_type": "markdown",
   "id": "15499f3a",
   "metadata": {},
   "source": [
    "El área sombreada es la suma de las áreas de las partes. "
   ]
  },
  {
   "cell_type": "markdown",
   "id": "505fc985",
   "metadata": {},
   "source": [
    "## Solución "
   ]
  },
  {
   "cell_type": "code",
   "execution_count": null,
   "id": "101d155c",
   "metadata": {},
   "outputs": [],
   "source": []
  }
 ],
 "metadata": {
  "kernelspec": {
   "display_name": "Python 3 (ipykernel)",
   "language": "python",
   "name": "python3"
  },
  "language_info": {
   "codemirror_mode": {
    "name": "ipython",
    "version": 3
   },
   "file_extension": ".py",
   "mimetype": "text/x-python",
   "name": "python",
   "nbconvert_exporter": "python",
   "pygments_lexer": "ipython3",
   "version": "3.9.12"
  }
 },
 "nbformat": 4,
 "nbformat_minor": 5
}
