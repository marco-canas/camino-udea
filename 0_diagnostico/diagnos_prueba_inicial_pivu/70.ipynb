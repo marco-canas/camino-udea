{
 "cells": [
  {
   "cell_type": "markdown",
   "id": "4fd6dd2b",
   "metadata": {},
   "source": []
  },
  {
   "cell_type": "markdown",
   "id": "a927aa78",
   "metadata": {},
   "source": [
    "# Ejercicio 70 de la prueba diagnóstica del PIVU"
   ]
  },
  {
   "cell_type": "markdown",
   "id": "5843c84b",
   "metadata": {},
   "source": [
    "## Enunciado"
   ]
  },
  {
   "cell_type": "markdown",
   "id": "0ca39898",
   "metadata": {},
   "source": [
    "70.\tEl $\\Delta ABC$ es equilátero y su área es 4 m2. Los triángulos interiores se forman uniendo los puntos medios de los lados. "
   ]
  },
  {
   "cell_type": "code",
   "execution_count": null,
   "id": "86af75f7",
   "metadata": {},
   "outputs": [],
   "source": []
  },
  {
   "cell_type": "code",
   "execution_count": null,
   "id": "6edc2948",
   "metadata": {},
   "outputs": [],
   "source": []
  },
  {
   "cell_type": "code",
   "execution_count": null,
   "id": "0495219e",
   "metadata": {},
   "outputs": [],
   "source": []
  },
  {
   "cell_type": "code",
   "execution_count": null,
   "id": "6857806c",
   "metadata": {},
   "outputs": [],
   "source": []
  }
 ],
 "metadata": {
  "kernelspec": {
   "display_name": "Python 3 (ipykernel)",
   "language": "python",
   "name": "python3"
  },
  "language_info": {
   "codemirror_mode": {
    "name": "ipython",
    "version": 3
   },
   "file_extension": ".py",
   "mimetype": "text/x-python",
   "name": "python",
   "nbconvert_exporter": "python",
   "pygments_lexer": "ipython3",
   "version": "3.9.12"
  }
 },
 "nbformat": 4,
 "nbformat_minor": 5
}
