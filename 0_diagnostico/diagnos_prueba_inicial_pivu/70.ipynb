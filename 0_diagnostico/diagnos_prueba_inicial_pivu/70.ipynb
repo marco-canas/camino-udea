{
 "cells": [
  {
   "cell_type": "markdown",
   "id": "25d689fa",
   "metadata": {},
   "source": []
  },
  {
   "cell_type": "markdown",
   "id": "38d7f868",
   "metadata": {},
   "source": [
    "# Ejercicio 70 de la prueba diagnóstica del PIVU"
   ]
  },
  {
   "cell_type": "markdown",
   "id": "b328a1a7",
   "metadata": {},
   "source": [
    "## Enunciado"
   ]
  },
  {
   "cell_type": "markdown",
   "id": "2f5acc6f",
   "metadata": {},
   "source": [
    "70.\tEl $\\Delta ABC$ es equilátero y su área es 4 m2. Los triángulos interiores se forman uniendo los puntos medios de los lados. "
   ]
  },
  {
   "cell_type": "markdown",
   "id": "8adaf6e3",
   "metadata": {},
   "source": [
    "<img src = ''>"
   ]
  },
  {
   "cell_type": "markdown",
   "id": "2a03c76d",
   "metadata": {},
   "source": [
    "## Conceptos asociados  \n",
    "\n",
    "* Multiplicación de fracciones \n",
    "* División de fracciones \n",
    "* Triengulo equilátero\n",
    "* suma de fracciones "
   ]
  },
  {
   "cell_type": "code",
   "execution_count": null,
   "id": "4ac153eb",
   "metadata": {},
   "outputs": [],
   "source": []
  },
  {
   "cell_type": "code",
   "execution_count": null,
   "id": "925744c4",
   "metadata": {},
   "outputs": [],
   "source": []
  },
  {
   "cell_type": "code",
   "execution_count": null,
   "id": "674fb09d",
   "metadata": {},
   "outputs": [],
   "source": []
  }
 ],
 "metadata": {
  "kernelspec": {
   "display_name": "Python 3 (ipykernel)",
   "language": "python",
   "name": "python3"
  },
  "language_info": {
   "codemirror_mode": {
    "name": "ipython",
    "version": 3
   },
   "file_extension": ".py",
   "mimetype": "text/x-python",
   "name": "python",
   "nbconvert_exporter": "python",
   "pygments_lexer": "ipython3",
   "version": "3.9.12"
  }
 },
 "nbformat": 4,
 "nbformat_minor": 5
}
