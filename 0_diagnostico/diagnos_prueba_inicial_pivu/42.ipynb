{
 "cells": [
  {
   "cell_type": "markdown",
   "id": "fcfc29c7",
   "metadata": {
    "slideshow": {
     "slide_type": "slide"
    }
   },
   "source": [
    "<table align=\"left\">\n",
    "  <td>\n",
    "    <a href=\"https://colab.research.google.com/github/marco-canas/camino-udea/blob/main/0_diagnostico/diagnos_prueba_inicial_pivu/41.ipynb\" target=\"_parent\"><img src=\"https://colab.research.google.com/assets/colab-badge.svg\" alt=\"Open In Colab\"/></a>\n",
    "  </td>\n",
    "</table>"
   ]
  },
  {
   "cell_type": "markdown",
   "id": "cf0f852c",
   "metadata": {
    "slideshow": {
     "slide_type": "slide"
    }
   },
   "source": [
    "# Pregunta 42 de la prueba inicial del PIVU"
   ]
  },
  {
   "cell_type": "markdown",
   "id": "778cd6ce",
   "metadata": {
    "slideshow": {
     "slide_type": "slide"
    }
   },
   "source": [
    "En una delegación formada por 200 deportistas se determinó que:\n",
    "\n",
    "* 64 son atletas\n",
    "* 86 son ciclistas  \n",
    "* 90 son mujeres de las cuales 30 son atletas y 36 ciclistas.   \n",
    "\n",
    "El número de deportistas de la delegación que no son ciclistas, ni atletas, ni mujeres es:  \n",
    "\n",
    "A. 26  \n",
    "B. 36  \n",
    "C. 40  \n",
    "D. 44  "
   ]
  },
  {
   "cell_type": "markdown",
   "id": "0900f5e6",
   "metadata": {
    "slideshow": {
     "slide_type": "slide"
    }
   },
   "source": [
    "# Tipo de razonamiento al que pertenece la pregunta"
   ]
  },
  {
   "cell_type": "markdown",
   "id": "8e8bb015",
   "metadata": {
    "slideshow": {
     "slide_type": "slide"
    }
   },
   "source": []
  },
  {
   "cell_type": "markdown",
   "id": "9e15958c",
   "metadata": {
    "slideshow": {
     "slide_type": "slide"
    }
   },
   "source": [
    "## Estrategia  \n",
    "\n",
    "* ordenar los datos\n",
    "\n",
    "* Hacer un diagrama de Venn\n",
    "\n",
    "* Hacer sumas y retas. "
   ]
  },
  {
   "cell_type": "code",
   "execution_count": null,
   "id": "b7013ea4",
   "metadata": {},
   "outputs": [],
   "source": []
  },
  {
   "cell_type": "code",
   "execution_count": 24,
   "id": "3a46a65e",
   "metadata": {
    "slideshow": {
     "slide_type": "slide"
    }
   },
   "outputs": [
    {
     "data": {
      "image/png": "[encoded data removed]",
      "text/plain": [
       "<Figure size 432x288 with 1 Axes>"
      ]
     },
     "metadata": {},
     "output_type": "display_data"
    }
   ],
   "source": [
    "from matplotlib import pyplot as plt\n",
    "from matplotlib_venn import venn3\n",
    "from matplotlib_venn import venn2, venn2_circles\n",
    "from sympy import FiniteSet\n",
    "A = FiniteSet(1)\n",
    "B = FiniteSet(1,2)\n",
    "C = FiniteSet(3)\n",
    "v = venn3(subsets=[A, B, C], set_labels=('A', 'C', 'M'))"
   ]
  },
  {
   "cell_type": "code",
   "execution_count": null,
   "id": "d2cdc841",
   "metadata": {
    "slideshow": {
     "slide_type": "slide"
    }
   },
   "outputs": [],
   "source": []
  },
  {
   "cell_type": "code",
   "execution_count": null,
   "id": "61929047",
   "metadata": {
    "slideshow": {
     "slide_type": "slide"
    }
   },
   "outputs": [],
   "source": []
  },
  {
   "cell_type": "code",
   "execution_count": null,
   "id": "12c66f19",
   "metadata": {},
   "outputs": [],
   "source": []
  },
  {
   "cell_type": "code",
   "execution_count": null,
   "id": "840f72ae",
   "metadata": {},
   "outputs": [],
   "source": []
  },
  {
   "cell_type": "code",
   "execution_count": null,
   "id": "c88c9902",
   "metadata": {},
   "outputs": [],
   "source": []
  },
  {
   "cell_type": "code",
   "execution_count": null,
   "id": "0c8060b5",
   "metadata": {
    "slideshow": {
     "slide_type": "slide"
    }
   },
   "outputs": [],
   "source": []
  },
  {
   "cell_type": "markdown",
   "id": "e06cee63",
   "metadata": {
    "slideshow": {
     "slide_type": "slide"
    }
   },
   "source": [
    "## Referentes\n",
    "\n",
    "* Documentación sobre trazado de diagramas de venn: https://recursospython.com/guias-y-manuales/diagramas-de-venn-con-matplotlib/\n",
    "\n",
    "* conjuntos con python: https://relopezbriega.github.io/blog/2015/10/11/conjuntos-con-python/\n",
    "\n"
   ]
  },
  {
   "cell_type": "code",
   "execution_count": null,
   "id": "d89448cd",
   "metadata": {},
   "outputs": [],
   "source": []
  }
 ],
 "metadata": {
  "celltoolbar": "Slideshow",
  "kernelspec": {
   "display_name": "Python 3 (ipykernel)",
   "language": "python",
   "name": "python3"
  },
  "language_info": {
   "codemirror_mode": {
    "name": "ipython",
    "version": 3
   },
   "file_extension": ".py",
   "mimetype": "text/x-python",
   "name": "python",
   "nbconvert_exporter": "python",
   "pygments_lexer": "ipython3",
   "version": "3.9.12"
  },
  "rise": {
   "theme": "sky"
  }
 },
 "nbformat": 4,
 "nbformat_minor": 5
}
