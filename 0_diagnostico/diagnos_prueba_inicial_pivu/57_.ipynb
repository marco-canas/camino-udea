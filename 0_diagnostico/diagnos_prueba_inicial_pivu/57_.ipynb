{
 "cells": [
  {
   "cell_type": "code",
   "execution_count": null,
   "metadata": {},
   "outputs": [],
   "source": []
  },
  {
   "cell_type": "code",
   "execution_count": null,
   "metadata": {},
   "outputs": [],
   "source": []
  },
  {
   "cell_type": "markdown",
   "metadata": {},
   "source": [
    "* Trace un tabla con dos columnas con nombres D1 y D2\n",
    "* Los valores asociados a cada columna sean los resultados posibles al lanzar un dado\n",
    "* trace todos los segmentos que representes los casos favorables\n",
    "\n",
    "* Una fracción es menor que uno cuando dividimos por un número mayor\n",
    "\n",
    "|D1|D2|  \n",
    "|-|-|    \n",
    "|1||\n",
    "|2||\n",
    "|3||\n",
    "|4||\n",
    "|5||\n",
    "|6||\n",
    "\n",
    "$$ p = \\frac{\\text{Casos favorables}}{\\text{casos posibles}}  $$"
   ]
  },
  {
   "cell_type": "code",
   "execution_count": null,
   "metadata": {},
   "outputs": [],
   "source": []
  },
  {
   "cell_type": "code",
   "execution_count": null,
   "metadata": {},
   "outputs": [],
   "source": []
  },
  {
   "cell_type": "code",
   "execution_count": null,
   "metadata": {},
   "outputs": [],
   "source": []
  }
 ],
 "metadata": {
  "kernelspec": {
   "display_name": "Python 3.10.7 64-bit",
   "language": "python",
   "name": "python3"
  },
  "language_info": {
   "name": "python",
   "version": "3.10.7"
  },
  "orig_nbformat": 4,
  "vscode": {
   "interpreter": {
    "hash": "af153e239d61b5c0d363f35fe8a0509d492506f382d017c98fa3fb49fce70a72"
   }
  }
 },
 "nbformat": 4,
 "nbformat_minor": 2
}
