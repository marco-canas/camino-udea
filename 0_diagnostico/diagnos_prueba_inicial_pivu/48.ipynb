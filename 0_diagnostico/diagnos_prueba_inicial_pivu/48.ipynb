{
 "cells": [
  {
   "cell_type": "markdown",
   "id": "b2e193e3",
   "metadata": {
    "slideshow": {
     "slide_type": "slide"
    }
   },
   "source": [
    "<table align=\"left\">\n",
    "  <td>\n",
    "    <a href=\"https://colab.research.google.com/github/marco-canas/camino-udea/blob/main/0_diagnostico/diagnos_prueba_inicial_pivu/51_exercise.ipynb\" target=\"_parent\"><img src=\"https://colab.research.google.com/assets/colab-badge.svg\" alt=\"Open In Colab\"/></a>\n",
    "  </td>\n",
    "</table>"
   ]
  },
  {
   "cell_type": "markdown",
   "id": "6959163e",
   "metadata": {
    "slideshow": {
     "slide_type": "slide"
    }
   },
   "source": [
    "# Pregunta 48 de la prueba de diagnóstico del PIVU"
   ]
  },
  {
   "cell_type": "markdown",
   "id": "9f8cb7d6",
   "metadata": {
    "slideshow": {
     "slide_type": "slide"
    }
   },
   "source": [
    "48.\tSe sabe que uno de 3 sospechosos de haber cometido un asesinato es el culpable. El inspector recogió las siguientes declaraciones:\n",
    "\n",
    "\n",
    "Jesús: “Yo no fuí y Pedro tampoco.”\n",
    "Pedro: “Jesús no fue, lo hizo Mateo.”\n",
    "Mateo: “Yo no lo hice, fue Jesús.”\n",
    "\n",
    "El inspector sabe  además  que uno  de  ellos  ha dicho la Verdad, otro ha mentido en todas sus afirmaciones y otro solo en una de ellas.  \n",
    "\n",
    "Con esta información se puede afirmar con certeza que:  \n",
    "\n",
    "A.\tJesús es el asesino\n",
    "B.\tPedro es el asesino\n",
    "C.\tMateo es el asesino\n",
    "D.\tNo hay información suficiente para determinar quién es el asesino\n"
   ]
  },
  {
   "cell_type": "markdown",
   "id": "2f09a86f",
   "metadata": {
    "slideshow": {
     "slide_type": "slide"
    }
   },
   "source": [
    "## Estrategia de solución"
   ]
  },
  {
   "cell_type": "code",
   "execution_count": null,
   "id": "f02ed9d2",
   "metadata": {
    "slideshow": {
     "slide_type": "slide"
    }
   },
   "outputs": [],
   "source": []
  },
  {
   "cell_type": "markdown",
   "id": "8ada859f",
   "metadata": {},
   "source": [
    "## Solución"
   ]
  },
  {
   "cell_type": "code",
   "execution_count": null,
   "id": "7787064b",
   "metadata": {},
   "outputs": [],
   "source": []
  }
 ],
 "metadata": {
  "celltoolbar": "Slideshow",
  "kernelspec": {
   "display_name": "Python 3 (ipykernel)",
   "language": "python",
   "name": "python3"
  },
  "language_info": {
   "codemirror_mode": {
    "name": "ipython",
    "version": 3
   },
   "file_extension": ".py",
   "mimetype": "text/x-python",
   "name": "python",
   "nbconvert_exporter": "python",
   "pygments_lexer": "ipython3",
   "version": "3.9.12"
  }
 },
 "nbformat": 4,
 "nbformat_minor": 5
}
