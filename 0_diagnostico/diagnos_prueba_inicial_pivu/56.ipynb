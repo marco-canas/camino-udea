{
 "cells": [
  {
   "cell_type": "markdown",
   "id": "efc05c69",
   "metadata": {
    "slideshow": {
     "slide_type": "slide"
    }
   },
   "source": [
    "<table align=\"left\">\n",
    "  <td>\n",
    "    <a href=\"https://colab.research.google.com/github/marco-canas/camino-udea/blob/main/0_diagnostico/diagnos_prueba_inicial_pivu/41.ipynb\" target=\"_parent\"><img src=\"https://colab.research.google.com/assets/colab-badge.svg\" alt=\"Open In Colab\"/></a>\n",
    "  </td>\n",
    "</table>"
   ]
  },
  {
   "cell_type": "markdown",
   "id": "1125812b",
   "metadata": {
    "slideshow": {
     "slide_type": "slide"
    }
   },
   "source": [
    "# Ejercicio 56 de la prueba diagnóstica del PIVU UdeA"
   ]
  },
  {
   "cell_type": "markdown",
   "id": "75e6c583",
   "metadata": {
    "slideshow": {
     "slide_type": "slide"
    }
   },
   "source": [
    "* Juan entrega a domicilio pizzas y gaseosas que transporta en su camioneta.   \n",
    "* A la camioneta de Juan le caben  exactamente 50 pizzas **ó** 300 gaseosas.   \n",
    "* Si a Juan le han encargado llevar a una fiesta 20 pizzas, entonces el número máximo de gaseosas que podrá llevar Juan en su camioneta a la fiesta es:  \n",
    "\n",
    "A.\t60  \n",
    "B.\t180  \n",
    "C.\t150  \n",
    "D.\t200  \n"
   ]
  },
  {
   "cell_type": "markdown",
   "id": "6f1f7a55",
   "metadata": {
    "slideshow": {
     "slide_type": "slide"
    }
   },
   "source": [
    "## Conceptos asociados "
   ]
  },
  {
   "cell_type": "markdown",
   "id": "079c1369",
   "metadata": {
    "slideshow": {
     "slide_type": "slide"
    }
   },
   "source": [
    "* Determinación del pordentaje que de una cantidad dada $T$ es una cantidad es dada $p$:\n",
    "\n",
    "$$ \\frac{p}{T} = \\text{porcentaje de $p$ con respecto a $T$} $$\n",
    "\n",
    "es el porcentaje que $p$ és,en representación decimal, con respecto a la cantidad $T$.  \n"
   ]
  },
  {
   "cell_type": "markdown",
   "id": "fc3335a1",
   "metadata": {
    "slideshow": {
     "slide_type": "slide"
    }
   },
   "source": [
    "## Solución "
   ]
  },
  {
   "cell_type": "markdown",
   "id": "948bdac0",
   "metadata": {
    "slideshow": {
     "slide_type": "slide"
    }
   },
   "source": [
    "Con 50 pizzas podemos ocupar el 100% del espacio de transporte de la camioneta de Juan. \n",
    "\n",
    "Luego, si juan le han encargado llevar 20 pizzas, entonces, el porcentaje de la camioneta que ocupó es el mismo porcentaje que 20 es de 50:  \n",
    "\n",
    "$$ \\text{porcentaje que ocupan 20 pizas} = \\frac{20}{50} = \\frac{2}{5} = 0.4 = 40\\%\\ \\text{ de la camioneta} $$\n"
   ]
  },
  {
   "cell_type": "markdown",
   "id": "50895733",
   "metadata": {
    "slideshow": {
     "slide_type": "slide"
    }
   },
   "source": [
    "Entonces, podemos destinar el 60% del espacio de la camioneta para llevar gaseosas. Como 300 gaseosas caben en el 100% de la camioneta, entonces, el número máximo de gaseosas que puedo meter en el 60% de la camioneta es:\n",
    "\n",
    "$$ 300 \\frac{60}{100} = 180\\ \\text{gaseosas} $$\n"
   ]
  },
  {
   "cell_type": "markdown",
   "id": "40740b8d",
   "metadata": {
    "slideshow": {
     "slide_type": "slide"
    }
   },
   "source": [
    "Por lo tanto, la opción correcta de respuesta es la B. "
   ]
  },
  {
   "cell_type": "code",
   "execution_count": null,
   "id": "b4e479d3",
   "metadata": {
    "slideshow": {
     "slide_type": "slide"
    }
   },
   "outputs": [],
   "source": []
  },
  {
   "cell_type": "code",
   "execution_count": null,
   "id": "2f09f583",
   "metadata": {},
   "outputs": [],
   "source": []
  },
  {
   "cell_type": "code",
   "execution_count": null,
   "id": "02227b56",
   "metadata": {
    "slideshow": {
     "slide_type": "slide"
    }
   },
   "outputs": [],
   "source": []
  }
 ],
 "metadata": {
  "celltoolbar": "Slideshow",
  "kernelspec": {
   "display_name": "Python 3 (ipykernel)",
   "language": "python",
   "name": "python3"
  },
  "language_info": {
   "codemirror_mode": {
    "name": "ipython",
    "version": 3
   },
   "file_extension": ".py",
   "mimetype": "text/x-python",
   "name": "python",
   "nbconvert_exporter": "python",
   "pygments_lexer": "ipython3",
   "version": "3.9.12"
  }
 },
 "nbformat": 4,
 "nbformat_minor": 5
}
