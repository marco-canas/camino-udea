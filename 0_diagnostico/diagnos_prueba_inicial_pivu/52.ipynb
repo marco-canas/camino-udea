{
 "cells": [
  {
   "cell_type": "markdown",
   "id": "d5264fa4",
   "metadata": {
    "slideshow": {
     "slide_type": "slide"
    }
   },
   "source": [
    "<table align=\"left\">\n",
    "  <td>\n",
    "    <a href=\"https://colab.research.google.com/github/marco-canas/camino-udea/blob/main/0_diagnostico/diagnos_prueba_inicial_pivu/52.ipynb\" target=\"_parent\"><img src=\"https://colab.research.google.com/assets/colab-badge.svg\" alt=\"Open In Colab\"/></a>\n",
    "  </td>\n",
    "</table>"
   ]
  },
  {
   "cell_type": "markdown",
   "id": "ab82c254",
   "metadata": {
    "slideshow": {
     "slide_type": "slide"
    }
   },
   "source": [
    "# Ejercicio 52 de la prueba diagnóstica del PIVU "
   ]
  },
  {
   "cell_type": "markdown",
   "id": "739d23ee",
   "metadata": {
    "slideshow": {
     "slide_type": "slide"
    }
   },
   "source": [
    "Cuatro mangos y dos papayas pesan lo mismo que 20 naranjas.   \n",
    "\n",
    "Una papaya pesa lo mismo que 6 naranjas y 2 mangos.   \n",
    "\n",
    "Acerca del peso de cada papaya se puede afirmar que:\n",
    "\n",
    "\n",
    "A.\tEs igual al de 2 mangos  \n",
    "B.\tEs igual al de 4 mangos  \n",
    "C.\tEs igual al de 6 mangos  \n",
    "D.\tEs igual al de 8 mangos  \n"
   ]
  },
  {
   "cell_type": "markdown",
   "id": "0d9c3430",
   "metadata": {
    "slideshow": {
     "slide_type": "slide"
    }
   },
   "source": [
    "## Conceptos y resultados científicos asociados "
   ]
  },
  {
   "cell_type": "markdown",
   "id": "7413e920",
   "metadata": {
    "slideshow": {
     "slide_type": "slide"
    }
   },
   "source": [
    "* Representación de equivalencias a través de equaciones  \n",
    "* el método de sustitución para eliminar variables (en este caso eliminar la variable naranjas de un sistema $2 \\times 3$)  \n",
    "* "
   ]
  },
  {
   "cell_type": "markdown",
   "id": "6952edb4",
   "metadata": {
    "slideshow": {
     "slide_type": "slide"
    }
   },
   "source": [
    "## Solución "
   ]
  },
  {
   "cell_type": "markdown",
   "id": "a10985bd",
   "metadata": {
    "slideshow": {
     "slide_type": "slide"
    }
   },
   "source": [
    "* Sea $m$ el peso de un mango.  \n",
    "* Sea $n$ el peso de una naranja.  \n",
    "* Sea $p$ el peso de una papaya. "
   ]
  },
  {
   "cell_type": "markdown",
   "id": "9408bee4",
   "metadata": {
    "slideshow": {
     "slide_type": "slide"
    }
   },
   "source": [
    "Ecuación 1\n",
    "\n",
    "\n",
    "\\begin{equation}\\label{eq1}\n",
    "4m + 2p = 20n \n",
    "\\end{equation}\n",
    "\n"
   ]
  },
  {
   "cell_type": "markdown",
   "id": "0221d61c",
   "metadata": {
    "slideshow": {
     "slide_type": "slide"
    }
   },
   "source": [
    "Ecuación 2\n",
    "\\begin{equation}\\label{eq2}\n",
    "p = 6n + 2m \n",
    "\\end{equation}"
   ]
  },
  {
   "cell_type": "markdown",
   "id": "9b800e9b",
   "metadata": {
    "slideshow": {
     "slide_type": "slide"
    }
   },
   "source": [
    "multipliquemos la primera ecuación por $3$ y la segunda por $-10$ para poder eliminar la variable $n$"
   ]
  },
  {
   "cell_type": "markdown",
   "id": "47b91923",
   "metadata": {
    "slideshow": {
     "slide_type": "slide"
    }
   },
   "source": [
    "\\begin{align*}\n",
    "12m + 6p & = 60n \\\\\n",
    "-10p & = -60n - 20m \n",
    "\\end{align*}"
   ]
  },
  {
   "cell_type": "markdown",
   "id": "862a8388",
   "metadata": {
    "slideshow": {
     "slide_type": "slide"
    }
   },
   "source": [
    "Sumemos lados a lado las ecuaciones anteriores:\n",
    "\n",
    "$$ 12m - 4p = -20m $$\n"
   ]
  },
  {
   "cell_type": "markdown",
   "id": "e405471e",
   "metadata": {
    "slideshow": {
     "slide_type": "slide"
    }
   },
   "source": [
    "$$ 12m + 20 m = 4p  $$"
   ]
  },
  {
   "cell_type": "markdown",
   "id": "861b5d8d",
   "metadata": {
    "slideshow": {
     "slide_type": "slide"
    }
   },
   "source": [
    "$$ 32m = 4p $$"
   ]
  },
  {
   "cell_type": "markdown",
   "id": "fabb7f2a",
   "metadata": {
    "slideshow": {
     "slide_type": "slide"
    }
   },
   "source": [
    "$$ \\frac{32}{4}m = p $$"
   ]
  },
  {
   "cell_type": "markdown",
   "id": "e427ce50",
   "metadata": {
    "slideshow": {
     "slide_type": "slide"
    }
   },
   "source": [
    "$$ 8m = p $$"
   ]
  },
  {
   "cell_type": "markdown",
   "id": "91240400",
   "metadata": {
    "slideshow": {
     "slide_type": "slide"
    }
   },
   "source": [
    "Por lo tanto, una papaya pesa lo mismo que ocho mangos y así la opción correcta de respuesta es la D. "
   ]
  },
  {
   "cell_type": "code",
   "execution_count": null,
   "id": "ac9b292a",
   "metadata": {},
   "outputs": [],
   "source": []
  }
 ],
 "metadata": {
  "celltoolbar": "Slideshow",
  "kernelspec": {
   "display_name": "Python 3 (ipykernel)",
   "language": "python",
   "name": "python3"
  },
  "language_info": {
   "codemirror_mode": {
    "name": "ipython",
    "version": 3
   },
   "file_extension": ".py",
   "mimetype": "text/x-python",
   "name": "python",
   "nbconvert_exporter": "python",
   "pygments_lexer": "ipython3",
   "version": "3.9.12"
  }
 },
 "nbformat": 4,
 "nbformat_minor": 5
}
