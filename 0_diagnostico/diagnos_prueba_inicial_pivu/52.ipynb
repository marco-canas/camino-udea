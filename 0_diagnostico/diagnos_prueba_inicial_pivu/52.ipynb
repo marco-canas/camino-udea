{
 "cells": [
  {
   "cell_type": "markdown",
   "id": "3786ef51",
   "metadata": {
    "slideshow": {
     "slide_type": "slide"
    }
   },
   "source": [
    "<table align=\"left\">\n",
    "  <td>\n",
    "    <a href=\"https://colab.research.google.com/github/marco-canas/camino-udea/blob/main/0_diagnostico/diagnos_prueba_inicial_pivu/41.ipynb\" target=\"_parent\"><img src=\"https://colab.research.google.com/assets/colab-badge.svg\" alt=\"Open In Colab\"/></a>\n",
    "  </td>\n",
    "</table>"
   ]
  },
  {
   "cell_type": "markdown",
   "id": "d1e45a25",
   "metadata": {
    "slideshow": {
     "slide_type": "slide"
    }
   },
   "source": [
    "# Ejercicio 52 de la prueba diagnóstica del PIVU "
   ]
  },
  {
   "cell_type": "markdown",
   "id": "b54bcf6e",
   "metadata": {
    "slideshow": {
     "slide_type": "slide"
    }
   },
   "source": [
    "Cuatro mangos y dos papayas pesan lo mismo que 20 naranjas.   \n",
    "\n",
    "Una papaya pesa lo mismo que 6 naranjas y 2 mangos.   \n",
    "\n",
    "Acerca del peso de cada papaya se puede afirmar que:\n",
    "\n",
    "\n",
    "A.\tEs igual al de 2 mangos  \n",
    "B.\tEs igual al de 4 mangos  \n",
    "C.\tEs igual al de 6 mangos  \n",
    "D.\tEs igual al de 8 mangos  \n"
   ]
  },
  {
   "cell_type": "markdown",
   "id": "9c1f6e39",
   "metadata": {
    "slideshow": {
     "slide_type": "slide"
    }
   },
   "source": [
    "## Conceptos y resultados científicos asociados "
   ]
  },
  {
   "cell_type": "markdown",
   "id": "7c1827a2",
   "metadata": {
    "slideshow": {
     "slide_type": "slide"
    }
   },
   "source": [
    "* Representación de equivalencias a través de equaciones  \n",
    "* el método de sustitución para eliminar variables (en este caso eliminar la variable naranjas de un sistema $2 \\times 3$)  \n",
    "* "
   ]
  },
  {
   "cell_type": "markdown",
   "id": "feb7d50a",
   "metadata": {
    "slideshow": {
     "slide_type": "slide"
    }
   },
   "source": [
    "## Solución "
   ]
  },
  {
   "cell_type": "markdown",
   "id": "61945664",
   "metadata": {
    "slideshow": {
     "slide_type": "slide"
    }
   },
   "source": [
    "* Sea $m$ el peso de un mango.  \n",
    "* Sea $n$ el peso de una naranja.  \n",
    "* Sea $p$ el peso de una papaya. "
   ]
  },
  {
   "cell_type": "markdown",
   "id": "6a60b748",
   "metadata": {
    "slideshow": {
     "slide_type": "slide"
    }
   },
   "source": [
    "Ecuación 1\n",
    "\n",
    "\n",
    "\\begin{equation}\\label{eq1}\n",
    "4m + 2p = 20n \n",
    "\\end{equation}\n",
    "\n"
   ]
  },
  {
   "cell_type": "markdown",
   "id": "14dc4e52",
   "metadata": {
    "slideshow": {
     "slide_type": "slide"
    }
   },
   "source": [
    "Ecuación 2\n",
    "\\begin{equation}\\label{eq2}\n",
    "p = 6n + 2m \n",
    "\\end{equation}"
   ]
  },
  {
   "cell_type": "markdown",
   "id": "7c1314a4",
   "metadata": {
    "slideshow": {
     "slide_type": "slide"
    }
   },
   "source": [
    "multipliquemos la primera ecuación por $3$ y la segunda por $-10$ para poder eliminar la variable $n$"
   ]
  },
  {
   "cell_type": "markdown",
   "id": "0ff77c46",
   "metadata": {
    "slideshow": {
     "slide_type": "slide"
    }
   },
   "source": [
    "\\begin{align*}\n",
    "12m + 6p & = 60n \\\\\n",
    "-10p & = -60n - 20m \n",
    "\\end{align*}"
   ]
  },
  {
   "cell_type": "markdown",
   "id": "de069e44",
   "metadata": {
    "slideshow": {
     "slide_type": "slide"
    }
   },
   "source": [
    "Sumemos lados a lado las ecuaciones anteriores:\n",
    "\n",
    "$$ 12m - 4p = -20m $$\n"
   ]
  },
  {
   "cell_type": "markdown",
   "id": "5ea2404f",
   "metadata": {
    "slideshow": {
     "slide_type": "slide"
    }
   },
   "source": [
    "$$ 12m + 20 m = 4p  $$"
   ]
  },
  {
   "cell_type": "markdown",
   "id": "738f2419",
   "metadata": {
    "slideshow": {
     "slide_type": "slide"
    }
   },
   "source": [
    "$$ 32m = 4p $$"
   ]
  },
  {
   "cell_type": "markdown",
   "id": "bebcddab",
   "metadata": {
    "slideshow": {
     "slide_type": "slide"
    }
   },
   "source": [
    "$$ \\frac{32}{4}m = p $$"
   ]
  },
  {
   "cell_type": "markdown",
   "id": "9145bcca",
   "metadata": {
    "slideshow": {
     "slide_type": "slide"
    }
   },
   "source": [
    "$$ 8m = p $$"
   ]
  },
  {
   "cell_type": "markdown",
   "id": "d2f95018",
   "metadata": {
    "slideshow": {
     "slide_type": "slide"
    }
   },
   "source": [
    "Por lo tanto, una papaya pesa lo mismo que ocho mangos y así la opción correcta de respuesta es la D. "
   ]
  },
  {
   "cell_type": "code",
   "execution_count": null,
   "id": "be52be3b",
   "metadata": {},
   "outputs": [],
   "source": []
  }
 ],
 "metadata": {
  "celltoolbar": "Slideshow",
  "kernelspec": {
   "display_name": "Python 3 (ipykernel)",
   "language": "python",
   "name": "python3"
  },
  "language_info": {
   "codemirror_mode": {
    "name": "ipython",
    "version": 3
   },
   "file_extension": ".py",
   "mimetype": "text/x-python",
   "name": "python",
   "nbconvert_exporter": "python",
   "pygments_lexer": "ipython3",
   "version": "3.9.12"
  }
 },
 "nbformat": 4,
 "nbformat_minor": 5
}
