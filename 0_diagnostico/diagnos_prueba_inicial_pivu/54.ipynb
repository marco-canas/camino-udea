{
 "cells": [
  {
   "cell_type": "markdown",
   "id": "9fa3e22f",
   "metadata": {
    "slideshow": {
     "slide_type": "slide"
    }
   },
   "source": []
  },
  {
   "cell_type": "markdown",
   "id": "2f5f2691",
   "metadata": {
    "slideshow": {
     "slide_type": "slide"
    }
   },
   "source": [
    "# Ejercicio 54 del la prueba de diagnóstico el PIVU"
   ]
  },
  {
   "cell_type": "markdown",
   "id": "8a3dbcfd",
   "metadata": {
    "slideshow": {
     "slide_type": "slide"
    }
   },
   "source": [
    "Enumciado\n",
    "\n",
    "54.\tEl gráfico muestra las inversiones realizadas en 4 departamentos de una empresa. El monto total de la inversión fue de 108.000 US."
   ]
  },
  {
   "cell_type": "markdown",
   "id": "536b80f4",
   "metadata": {
    "slideshow": {
     "slide_type": "slide"
    }
   },
   "source": [
    "Gráfico\n",
    "\n",
    "<img src = 'https://github.com/marco-canas/camino-udea/blob/main/0_diagnostico/diagnos_prueba_inicial_pivu/ejer_54.jpg?raw=true'>\n"
   ]
  },
  {
   "cell_type": "markdown",
   "id": "989309a3",
   "metadata": {
    "slideshow": {
     "slide_type": "slide"
    }
   },
   "source": [
    "Opciones de respuesta:\n",
    "\n",
    "a. $50.\\ 000$   \n",
    "b. $43.\\ 200$   \n",
    "c. $41.\\ 300$    \n",
    "d. $55.\\ 000$    \n"
   ]
  },
  {
   "cell_type": "markdown",
   "id": "25ba4ad2",
   "metadata": {
    "slideshow": {
     "slide_type": "slide"
    }
   },
   "source": [
    "## Elementos conceptuales asociados \n",
    "\n",
    "* El criterio de divisibilidad por 3: Un número entero positivo se deja dividor por tres si y solo si la suma de sus cifras es tres o múltiplo de tres. "
   ]
  },
  {
   "cell_type": "code",
   "execution_count": null,
   "id": "cd6db3cf",
   "metadata": {},
   "outputs": [],
   "source": []
  },
  {
   "cell_type": "code",
   "execution_count": null,
   "id": "f0f5513a",
   "metadata": {},
   "outputs": [],
   "source": []
  },
  {
   "cell_type": "code",
   "execution_count": null,
   "id": "aa8871f0",
   "metadata": {},
   "outputs": [],
   "source": []
  },
  {
   "cell_type": "code",
   "execution_count": null,
   "id": "65ff1928",
   "metadata": {},
   "outputs": [],
   "source": []
  },
  {
   "cell_type": "code",
   "execution_count": null,
   "id": "841fd3bc",
   "metadata": {},
   "outputs": [],
   "source": []
  },
  {
   "cell_type": "code",
   "execution_count": null,
   "id": "b012fbd6",
   "metadata": {},
   "outputs": [],
   "source": []
  },
  {
   "cell_type": "code",
   "execution_count": null,
   "id": "1422412c",
   "metadata": {},
   "outputs": [],
   "source": []
  }
 ],
 "metadata": {
  "celltoolbar": "Slideshow",
  "kernelspec": {
   "display_name": "Python 3 (ipykernel)",
   "language": "python",
   "name": "python3"
  },
  "language_info": {
   "codemirror_mode": {
    "name": "ipython",
    "version": 3
   },
   "file_extension": ".py",
   "mimetype": "text/x-python",
   "name": "python",
   "nbconvert_exporter": "python",
   "pygments_lexer": "ipython3",
   "version": "3.9.12"
  }
 },
 "nbformat": 4,
 "nbformat_minor": 5
}
