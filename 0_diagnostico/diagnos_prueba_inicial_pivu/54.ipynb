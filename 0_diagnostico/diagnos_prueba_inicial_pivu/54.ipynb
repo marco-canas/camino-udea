{
 "cells": [
  {
   "cell_type": "markdown",
   "id": "e88a2af1",
   "metadata": {
    "slideshow": {
     "slide_type": "slide"
    }
   },
   "source": []
  },
  {
   "cell_type": "markdown",
   "id": "981f17ba",
   "metadata": {
    "slideshow": {
     "slide_type": "slide"
    }
   },
   "source": [
    "# Ejercicio 54 del la prueba de diagnóstico el PIVU"
   ]
  },
  {
   "cell_type": "markdown",
   "id": "fbb9800b",
   "metadata": {
    "slideshow": {
     "slide_type": "slide"
    }
   },
   "source": [
    "Enumciado\n",
    "\n",
    "54.\tEl gráfico muestra las inversiones realizadas en 4 departamentos de una empresa. El monto total de la inversión fue de 108.000 US."
   ]
  },
  {
   "cell_type": "markdown",
   "id": "bdf88b38",
   "metadata": {
    "slideshow": {
     "slide_type": "slide"
    }
   },
   "source": [
    "Gráfico\n",
    "\n",
    "<img src = ''>\n"
   ]
  },
  {
   "cell_type": "markdown",
   "id": "abb58b28",
   "metadata": {
    "slideshow": {
     "slide_type": "slide"
    }
   },
   "source": [
    "Opciones de respuesta"
   ]
  },
  {
   "cell_type": "markdown",
   "id": "0b5cc80f",
   "metadata": {},
   "source": [
    "## Elementos conceptuales asociados \n",
    "\n",
    "* El criterio de divisibilidad por 3 "
   ]
  },
  {
   "cell_type": "code",
   "execution_count": null,
   "id": "21caa291",
   "metadata": {},
   "outputs": [],
   "source": []
  },
  {
   "cell_type": "code",
   "execution_count": null,
   "id": "a7a17512",
   "metadata": {},
   "outputs": [],
   "source": []
  },
  {
   "cell_type": "code",
   "execution_count": null,
   "id": "fc000fee",
   "metadata": {},
   "outputs": [],
   "source": []
  },
  {
   "cell_type": "code",
   "execution_count": null,
   "id": "baef597a",
   "metadata": {},
   "outputs": [],
   "source": []
  },
  {
   "cell_type": "code",
   "execution_count": null,
   "id": "0e159fed",
   "metadata": {},
   "outputs": [],
   "source": []
  },
  {
   "cell_type": "code",
   "execution_count": null,
   "id": "6c84b637",
   "metadata": {},
   "outputs": [],
   "source": []
  },
  {
   "cell_type": "code",
   "execution_count": null,
   "id": "6c7c175a",
   "metadata": {},
   "outputs": [],
   "source": []
  }
 ],
 "metadata": {
  "celltoolbar": "Slideshow",
  "kernelspec": {
   "display_name": "Python 3 (ipykernel)",
   "language": "python",
   "name": "python3"
  },
  "language_info": {
   "codemirror_mode": {
    "name": "ipython",
    "version": 3
   },
   "file_extension": ".py",
   "mimetype": "text/x-python",
   "name": "python",
   "nbconvert_exporter": "python",
   "pygments_lexer": "ipython3",
   "version": "3.9.12"
  }
 },
 "nbformat": 4,
 "nbformat_minor": 5
}
