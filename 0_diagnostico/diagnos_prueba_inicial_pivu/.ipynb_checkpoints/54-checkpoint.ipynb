{
 "cells": [
  {
   "cell_type": "markdown",
   "id": "bbfcae3f",
   "metadata": {
    "slideshow": {
     "slide_type": "slide"
    }
   },
   "source": []
  },
  {
   "cell_type": "markdown",
   "id": "f94d7629",
   "metadata": {
    "slideshow": {
     "slide_type": "slide"
    }
   },
   "source": [
    "# Ejercicio 54 del la prueba de diagnóstico el PIVU"
   ]
  },
  {
   "cell_type": "markdown",
   "id": "5938912a",
   "metadata": {
    "slideshow": {
     "slide_type": "slide"
    }
   },
   "source": [
    "Enumciado\n",
    "\n",
    "54.\tEl gráfico muestra las inversiones realizadas en 4 departamentos de una empresa. El monto total de la inversión fue de 108.000 US."
   ]
  },
  {
   "cell_type": "markdown",
   "id": "90df5e6a",
   "metadata": {
    "slideshow": {
     "slide_type": "slide"
    }
   },
   "source": [
    "Gráfico\n",
    "\n",
    "<img src = ''>\n"
   ]
  },
  {
   "cell_type": "markdown",
   "id": "e4c64b4e",
   "metadata": {
    "slideshow": {
     "slide_type": "slide"
    }
   },
   "source": [
    "Opciones de respuesta"
   ]
  },
  {
   "cell_type": "markdown",
   "id": "54d3b5d1",
   "metadata": {
    "slideshow": {
     "slide_type": "slide"
    }
   },
   "source": [
    "## Elementos conceptuales asociados \n",
    "\n",
    "* El criterio de divisibilidad por 3: Un número entero positivo se deja dividor por tres si y solo si la suma de sus cifras es tres o múltiplo de tres. "
   ]
  },
  {
   "cell_type": "code",
   "execution_count": null,
   "id": "faeb7bd8",
   "metadata": {},
   "outputs": [],
   "source": []
  },
  {
   "cell_type": "code",
   "execution_count": null,
   "id": "34ffdc05",
   "metadata": {},
   "outputs": [],
   "source": []
  },
  {
   "cell_type": "code",
   "execution_count": null,
   "id": "fc87f2ab",
   "metadata": {},
   "outputs": [],
   "source": []
  },
  {
   "cell_type": "code",
   "execution_count": null,
   "id": "2e2fe8de",
   "metadata": {},
   "outputs": [],
   "source": []
  },
  {
   "cell_type": "code",
   "execution_count": null,
   "id": "f5bf14ae",
   "metadata": {},
   "outputs": [],
   "source": []
  },
  {
   "cell_type": "code",
   "execution_count": null,
   "id": "e5a0f63e",
   "metadata": {},
   "outputs": [],
   "source": []
  },
  {
   "cell_type": "code",
   "execution_count": null,
   "id": "3706e7ad",
   "metadata": {},
   "outputs": [],
   "source": []
  }
 ],
 "metadata": {
  "celltoolbar": "Slideshow",
  "kernelspec": {
   "display_name": "Python 3 (ipykernel)",
   "language": "python",
   "name": "python3"
  },
  "language_info": {
   "codemirror_mode": {
    "name": "ipython",
    "version": 3
   },
   "file_extension": ".py",
   "mimetype": "text/x-python",
   "name": "python",
   "nbconvert_exporter": "python",
   "pygments_lexer": "ipython3",
   "version": "3.9.12"
  }
 },
 "nbformat": 4,
 "nbformat_minor": 5
}
