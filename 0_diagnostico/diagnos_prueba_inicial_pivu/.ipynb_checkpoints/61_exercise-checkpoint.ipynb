{
 "cells": [
  {
   "cell_type": "markdown",
   "id": "670098e1",
   "metadata": {
    "slideshow": {
     "slide_type": "slide"
    }
   },
   "source": [
    "<table align=\"left\">\n",
    "  <td>\n",
    "    <a href=\"https://colab.research.google.com/github/marco-canas/camino-udea/blob/main/0_diagnostico/diagnos_prueba_inicial_pivu/56.ipynb\" target=\"_parent\"><img src=\"https://colab.research.google.com/assets/colab-badge.svg\" alt=\"Open In Colab\"/></a>\n",
    "  </td>\n",
    "</table>"
   ]
  },
  {
   "cell_type": "markdown",
   "id": "5d645df5",
   "metadata": {
    "slideshow": {
     "slide_type": "slide"
    }
   },
   "source": [
    "# Ejercicio 61 de la prueba diagnóstica del PIVU"
   ]
  },
  {
   "cell_type": "markdown",
   "id": "90667336",
   "metadata": {},
   "source": [
    "Una operación denotada por $\\clubsuit$ está definida para enteros positivos. La siguiente tabla muestra el resultado de la operación para algunos enteros, por ejemplo $2 \\clubsuit 6=14$:\n"
   ]
  },
  {
   "cell_type": "markdown",
   "id": "bd3f4ebf",
   "metadata": {
    "slideshow": {
     "slide_type": "slide"
    }
   },
   "source": [
    "<img src = 'https://github.com/marco-canas/camino-udea/blob/main/0_diagnostico/diagnos_prueba_inicial_pivu/fig_ejer_61.png?raw=true'>"
   ]
  },
  {
   "cell_type": "markdown",
   "id": "57e4ec3b",
   "metadata": {},
   "source": [
    "Este es un ejercicio en el que se puede presentar frecuentemente la dificultad para interpretar la progunta o entender el enuncioado el problema. "
   ]
  },
  {
   "cell_type": "markdown",
   "id": "162c3394",
   "metadata": {},
   "source": [
    "# Invitación a participar de manera aleatoria"
   ]
  },
  {
   "cell_type": "code",
   "execution_count": 11,
   "id": "95b55662",
   "metadata": {},
   "outputs": [
    {
     "data": {
      "text/plain": [
       "'alejandromanjarrez350@gmail.com '"
      ]
     },
     "execution_count": 11,
     "metadata": {},
     "output_type": "execute_result"
    }
   ],
   "source": [
    "import numpy as np \n",
    "import pandas as pd \n",
    "from random import choice\n",
    "pivu = pd.read_csv('pivu_nombres.csv')\n",
    "lista_estudiantes = list(pivu.nombre.values)"
   ]
  },
  {
   "cell_type": "code",
   "execution_count": 3,
   "id": "520a402a",
   "metadata": {},
   "outputs": [
    {
     "data": {
      "text/plain": [
       "11"
      ]
     },
     "execution_count": 3,
     "metadata": {},
     "output_type": "execute_result"
    }
   ],
   "source": [
    "def estudiante_que_va_a_participar():\n",
    "    if lista_estudiantes != []:\n",
    "        estudiante = choice(lista_estudiantes)\n",
    "        lista_estudiantes.remove(estudiante)\n",
    "        return print(estudiante)\n",
    "    else:\n",
    "        print('Todos los estudiantes han participado.\\n Muchas gracias y Felicitaciones')\n",
    "\n",
    "estudiante_que_va_a_participar() "
   ]
  },
  {
   "cell_type": "code",
   "execution_count": null,
   "id": "2a001c9f",
   "metadata": {},
   "outputs": [],
   "source": []
  }
 ],
 "metadata": {
  "celltoolbar": "Slideshow",
  "kernelspec": {
   "display_name": "Python 3 (ipykernel)",
   "language": "python",
   "name": "python3"
  },
  "language_info": {
   "codemirror_mode": {
    "name": "ipython",
    "version": 3
   },
   "file_extension": ".py",
   "mimetype": "text/x-python",
   "name": "python",
   "nbconvert_exporter": "python",
   "pygments_lexer": "ipython3",
   "version": "3.9.12"
  },
  "latex_envs": {
   "LaTeX_envs_menu_present": true,
   "autoclose": false,
   "autocomplete": false,
   "bibliofile": "biblio.bib",
   "cite_by": "apalike",
   "current_citInitial": 1,
   "eqLabelWithNumbers": true,
   "eqNumInitial": 1,
   "hotkeys": {
    "equation": "Ctrl-E",
    "itemize": "Ctrl-I"
   },
   "labels_anchors": false,
   "latex_user_defs": false,
   "report_style_numbering": false,
   "user_envs_cfg": false
  }
 },
 "nbformat": 4,
 "nbformat_minor": 5
}
