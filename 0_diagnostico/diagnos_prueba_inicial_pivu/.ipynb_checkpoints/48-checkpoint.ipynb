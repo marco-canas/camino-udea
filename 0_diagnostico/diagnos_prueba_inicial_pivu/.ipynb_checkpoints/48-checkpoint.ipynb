{
 "cells": [
  {
   "cell_type": "markdown",
   "id": "dd0f523b",
   "metadata": {
    "slideshow": {
     "slide_type": "slide"
    }
   },
   "source": [
    "<table align=\"left\">\n",
    "  <td>\n",
    "    <a href=\"https://colab.research.google.com/github/marco-canas/camino-udea/blob/main/0_diagnostico/diagnos_prueba_inicial_pivu/48.ipynb\" target=\"_parent\"><img src=\"https://colab.research.google.com/assets/colab-badge.svg\" alt=\"Open In Colab\"/></a>\n",
    "  </td>\n",
    "</table>"
   ]
  },
  {
   "cell_type": "markdown",
   "id": "bb8bb406",
   "metadata": {
    "slideshow": {
     "slide_type": "slide"
    }
   },
   "source": [
    "# Pregunta 48 de la prueba de diagnóstico del PIVU"
   ]
  },
  {
   "cell_type": "markdown",
   "id": "bbeb7ef8",
   "metadata": {
    "slideshow": {
     "slide_type": "slide"
    }
   },
   "source": [
    "Se sabe que uno de 3 sospechosos de haber cometido un asesinato es el culpable. El inspector recogió las siguientes declaraciones:\n",
    "\n",
    "\n",
    "Jesús: “Yo no fuí y Pedro tampoco.”  \n",
    "Pedro: “Jesús no fue, lo hizo Mateo.”  \n",
    "Mateo: “Yo no lo hice, fue Jesús.”  \n",
    "\n",
    "El inspector sabe  además  que uno  de  ellos  ha dicho la Verdad, otro ha mentido en todas sus afirmaciones y otro solo en una de ellas.  \n",
    "\n",
    "Con esta información se puede afirmar con certeza que:    \n",
    "\n",
    "A.\tJesús es el asesino  \n",
    "B.\tPedro es el asesino  \n",
    "C.\tMateo es el asesino  \n",
    "D.\tNo hay información suficiente para determinar quién es el asesino  \n"
   ]
  },
  {
   "cell_type": "markdown",
   "id": "30bc2d5f",
   "metadata": {
    "slideshow": {
     "slide_type": "slide"
    }
   },
   "source": [
    "## [Video de apoyo](https://www.youtube.com/watch?v=ezUcp2L03s0) "
   ]
  },
  {
   "cell_type": "markdown",
   "id": "50dfb54b",
   "metadata": {
    "slideshow": {
     "slide_type": "slide"
    }
   },
   "source": [
    "## Estrategia de solución"
   ]
  },
  {
   "cell_type": "markdown",
   "id": "76cedc3c",
   "metadata": {
    "slideshow": {
     "slide_type": "slide"
    }
   },
   "source": [
    "La estrategia es la de ensayo error. y búsqueda de consistencia con cada uno de los supuestos.  "
   ]
  },
  {
   "cell_type": "markdown",
   "id": "1369aca0",
   "metadata": {
    "slideshow": {
     "slide_type": "slide"
    }
   },
   "source": [
    "## Solución"
   ]
  },
  {
   "cell_type": "markdown",
   "id": "ff5a27e0",
   "metadata": {
    "slideshow": {
     "slide_type": "slide"
    }
   },
   "source": [
    "**Primer supuesto**:  \n",
    "Supongamos que Jesús ha dicho la verdad, \n",
    "que pedro a mentido en todas las afirmaciones y\n",
    "que mateo ha mentido en solo una de ellas.\n",
    "\n",
    "Si este supuesto no nos lleva a ninguna contradicción, entonces las inferencias a las que este supuesto nos lleve nos conducirá a la respuesta correcta. \n",
    "\n",
    "Mateo es el asesino y así la opción de respuesta es la C. \n",
    "\n",
    "Jesús fue el asesino o no lo hizo mateo. \n",
    "\n",
    "de donde por la regla de inferencia de afirmar negando se infiere que Jesús es el asesino, lo que contradice la primera inferencia a la que llegamos, por tanto, nuestro supuesto es falso. "
   ]
  },
  {
   "cell_type": "markdown",
   "id": "26dad275",
   "metadata": {
    "slideshow": {
     "slide_type": "slide"
    }
   },
   "source": [
    "**Segundo supuesto:**  \n",
    "\n",
    "Supongamos que Jesús ha mentido, \n",
    "que pedro ha dicho la verdad en todas las afirmaciones y\n",
    "que mateo ha mentido en solo una de ellas.\n",
    "\n",
    "De lo dicho por pedro se infiere que jesús no fue y lo hizo mateo y así la opción correcta es la opción $C$. \n",
    "Jesús fue o pedro fue. \n",
    "\n",
    "Y de que mateo haya sido se infiere que Jesús no fue y por la regla de afirmar negando se infiere qe pedro fue lo contradice la inferencia previa sobre que mateo habia sido. Por lo tanto, este segundo supuesto también es falso. \n",
    "\n",
    "\n"
   ]
  },
  {
   "cell_type": "markdown",
   "id": "db674360",
   "metadata": {
    "slideshow": {
     "slide_type": "slide"
    }
   },
   "source": [
    "**tercer supuesto**\n",
    "Supongamos que \n",
    "\n",
    "Mateo dijo la verdad, \n",
    "que jesús mintio, y que \n",
    "pedro solo mintió en una de las afirmaciones. \n",
    "\n",
    "Entonces Jesús es el asesino y la opción correcta sería la $A.$. \n",
    "\n",
    "Jesús fue o pedro fue\n",
    "\n",
    "jesús fue o mateo no fue. \n"
   ]
  },
  {
   "cell_type": "markdown",
   "id": "b8950c22",
   "metadata": {
    "slideshow": {
     "slide_type": "slide"
    }
   },
   "source": [
    "Como este tercer supuesto no nos ha llevado a ninguna contradicción entonces la opción correcta es la A. "
   ]
  },
  {
   "cell_type": "code",
   "execution_count": null,
   "id": "e3d9f9b1",
   "metadata": {},
   "outputs": [],
   "source": []
  },
  {
   "cell_type": "code",
   "execution_count": null,
   "id": "e040de98",
   "metadata": {},
   "outputs": [],
   "source": []
  }
 ],
 "metadata": {
  "celltoolbar": "Slideshow",
  "kernelspec": {
   "display_name": "Python 3 (ipykernel)",
   "language": "python",
   "name": "python3"
  },
  "language_info": {
   "codemirror_mode": {
    "name": "ipython",
    "version": 3
   },
   "file_extension": ".py",
   "mimetype": "text/x-python",
   "name": "python",
   "nbconvert_exporter": "python",
   "pygments_lexer": "ipython3",
   "version": "3.9.12"
  }
 },
 "nbformat": 4,
 "nbformat_minor": 5
}
