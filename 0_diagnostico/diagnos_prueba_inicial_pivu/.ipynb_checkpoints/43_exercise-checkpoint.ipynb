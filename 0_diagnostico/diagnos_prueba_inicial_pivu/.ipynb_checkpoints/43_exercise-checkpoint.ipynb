{
 "cells": [
  {
   "cell_type": "markdown",
   "id": "e46584d8",
   "metadata": {
    "slideshow": {
     "slide_type": "slide"
    }
   },
   "source": [
    "<table align=\"left\">\n",
    "  <td>\n",
    "    <a href=\"https://colab.research.google.com/github/marco-canas/camino-udea/blob/main/0_diagnostico/diagnos_prueba_inicial_pivu/51_exercise.ipynb\" target=\"_parent\"><img src=\"https://colab.research.google.com/assets/colab-badge.svg\" alt=\"Open In Colab\"/></a>\n",
    "  </td>\n",
    "</table>"
   ]
  },
  {
   "cell_type": "markdown",
   "id": "4e90506e",
   "metadata": {
    "slideshow": {
     "slide_type": "slide"
    }
   },
   "source": [
    "# Invitación a participar de manera aleatoria"
   ]
  },
  {
   "cell_type": "code",
   "execution_count": 4,
   "id": "471da5ab",
   "metadata": {
    "slideshow": {
     "slide_type": "slide"
    }
   },
   "outputs": [
    {
     "name": "stdout",
     "output_type": "stream",
     "text": [
      "augusto23jimenez8@gmail.com\n"
     ]
    }
   ],
   "source": [
    "def estudiante_que_va_a_participar(grupo):\n",
    "    import numpy as np \n",
    "    import pandas as pd \n",
    "    from random import choice\n",
    "    grupo_df = pd.read_csv(grupo + '.csv')\n",
    "    lista_estudiantes = list(grupo_df.email.values)\n",
    "    if lista_estudiantes != []:\n",
    "        estudiante = choice(lista_estudiantes)\n",
    "        lista_estudiantes.remove(estudiante)\n",
    "        return print(estudiante)\n",
    "    else:\n",
    "        print('Todos los estudiantes han participado.\\n Muchas gracias y Felicitaciones')\n",
    "\n",
    "estudiante_que_va_a_participar('pivu') "
   ]
  },
  {
   "cell_type": "markdown",
   "id": "9bbffc33",
   "metadata": {
    "slideshow": {
     "slide_type": "slide"
    }
   },
   "source": [
    "## Punto 43 DE LA PRUEBA DIAGNÓSTICA DEL Pivu"
   ]
  },
  {
   "cell_type": "markdown",
   "id": "6dfc9d4f",
   "metadata": {
    "slideshow": {
     "slide_type": "slide"
    }
   },
   "source": [
    "43.\tEn la resta indicada figuran todos los dígitos del 0 al 9 una sola vez. A,B,C,D,E, y F, representan los 6 dígitos desconocidos en la operación, los restantes 4 dígitos se dan en sus respectivas posiciones."
   ]
  },
  {
   "cell_type": "markdown",
   "id": "dec8c7d1",
   "metadata": {
    "slideshow": {
     "slide_type": "slide"
    }
   },
   "source": [
    "<img src = 'https://github.com/marco-canas/camino-udea/blob/main/0_diagnostico/diagnos_prueba_inicial_pivu/ejer_43_resta.png?raw=true'> "
   ]
  },
  {
   "cell_type": "markdown",
   "id": "ab6e03bf",
   "metadata": {
    "slideshow": {
     "slide_type": "slide"
    }
   },
   "source": [
    "## Solución: "
   ]
  },
  {
   "cell_type": "markdown",
   "id": "d2127306",
   "metadata": {
    "slideshow": {
     "slide_type": "slide"
    }
   },
   "source": [
    "* La resta vertical siempre se resta mayor menos menor. \n"
   ]
  },
  {
   "cell_type": "markdown",
   "id": "16160465",
   "metadata": {
    "slideshow": {
     "slide_type": "slide"
    }
   },
   "source": [
    "Es necesario escribir la lista de números dígitus para ir tachando de la lista los que vallamos deduciendo. "
   ]
  },
  {
   "cell_type": "code",
   "execution_count": 6,
   "id": "094aa731",
   "metadata": {
    "slideshow": {
     "slide_type": "slide"
    }
   },
   "outputs": [
    {
     "data": {
      "text/plain": [
       "(2, 10)"
      ]
     },
     "execution_count": 6,
     "metadata": {},
     "output_type": "execute_result"
    }
   ],
   "source": [
    "from sympy import * \n",
    "import numpy as np \n",
    "A,B,C,D,E,F = symbols('A,B,C,D,E,F', integer = True)\n",
    "digitos = np.arange(0,10)\n",
    "asignaciones = np.zeros_like(digitos)\n",
    "matriz = np.vstack((digitos, asignaciones))\n",
    "matriz.shape"
   ]
  },
  {
   "cell_type": "markdown",
   "id": "3577fd56",
   "metadata": {
    "slideshow": {
     "slide_type": "slide"
    }
   },
   "source": [
    "Ahora, empecemos el prceso deductivo"
   ]
  },
  {
   "cell_type": "markdown",
   "id": "cd56c53b",
   "metadata": {
    "slideshow": {
     "slide_type": "slide"
    }
   },
   "source": [
    "**Afirmación 1** $F = 9$. "
   ]
  },
  {
   "cell_type": "code",
   "execution_count": 11,
   "id": "c0a79c55",
   "metadata": {
    "slideshow": {
     "slide_type": "slide"
    }
   },
   "outputs": [
    {
     "data": {
      "text/plain": [
       "array([[0, 1, 2, 3, 4, 5, 6, 7, 8, 9],\n",
       "       [0, 0, 0, 0, 0, 0, 0, 0, 0, 9]])"
      ]
     },
     "execution_count": 11,
     "metadata": {},
     "output_type": "execute_result"
    }
   ],
   "source": [
    "F = 9\n",
    "matriz[1,9] = F\n",
    "matriz"
   ]
  },
  {
   "cell_type": "code",
   "execution_count": null,
   "id": "3210a9d3",
   "metadata": {
    "slideshow": {
     "slide_type": "slide"
    }
   },
   "outputs": [],
   "source": []
  },
  {
   "cell_type": "code",
   "execution_count": null,
   "id": "41f9dfcc",
   "metadata": {},
   "outputs": [],
   "source": []
  }
 ],
 "metadata": {
  "celltoolbar": "Slideshow",
  "kernelspec": {
   "display_name": "Python 3 (ipykernel)",
   "language": "python",
   "name": "python3"
  },
  "language_info": {
   "codemirror_mode": {
    "name": "ipython",
    "version": 3
   },
   "file_extension": ".py",
   "mimetype": "text/x-python",
   "name": "python",
   "nbconvert_exporter": "python",
   "pygments_lexer": "ipython3",
   "version": "3.9.12"
  },
  "latex_envs": {
   "LaTeX_envs_menu_present": true,
   "autoclose": false,
   "autocomplete": false,
   "bibliofile": "biblio.bib",
   "cite_by": "apalike",
   "current_citInitial": 1,
   "eqLabelWithNumbers": true,
   "eqNumInitial": 1,
   "hotkeys": {
    "equation": "Ctrl-E",
    "itemize": "Ctrl-I"
   },
   "labels_anchors": false,
   "latex_user_defs": false,
   "report_style_numbering": false,
   "user_envs_cfg": false
  },
  "rise": {
   "enable_chalkboard": true,
   "theme": "sky",
   "transition": "sky"
  }
 },
 "nbformat": 4,
 "nbformat_minor": 5
}
