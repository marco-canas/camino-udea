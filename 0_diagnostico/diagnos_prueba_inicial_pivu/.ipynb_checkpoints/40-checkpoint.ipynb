{
 "cells": [
  {
   "cell_type": "markdown",
   "id": "937b25c1",
   "metadata": {},
   "source": []
  },
  {
   "cell_type": "markdown",
   "id": "4dbe5079",
   "metadata": {},
   "source": [
    "# Pregunta número 40"
   ]
  },
  {
   "cell_type": "markdown",
   "id": "80445201",
   "metadata": {},
   "source": [
    "Anita recibe de su padre una bolsa con 5 bolitas de chicle de las cuales 3 son rojas y dos azules. "
   ]
  },
  {
   "cell_type": "markdown",
   "id": "4d11a5a0",
   "metadata": {},
   "source": [
    "Si Anita saca de la bolsa 3 bolas de chicle y se las come, entonces se puede afirmar con certeza que: "
   ]
  },
  {
   "cell_type": "markdown",
   "id": "6c55ead4",
   "metadata": {},
   "source": [
    "A.  Anita se comió tres bolas de chicle del mismo color. \n",
    "B.  \n",
    "C.  \n",
    "D.  "
   ]
  },
  {
   "cell_type": "markdown",
   "id": "c7fb92f1",
   "metadata": {},
   "source": [
    "## Conceptos asociados "
   ]
  },
  {
   "cell_type": "code",
   "execution_count": null,
   "id": "d09a27f9",
   "metadata": {},
   "outputs": [],
   "source": []
  },
  {
   "cell_type": "markdown",
   "id": "f0a9111e",
   "metadata": {},
   "source": [
    "## Estrategia de solución\n"
   ]
  },
  {
   "cell_type": "code",
   "execution_count": null,
   "id": "2fa34ccb",
   "metadata": {},
   "outputs": [],
   "source": []
  },
  {
   "cell_type": "code",
   "execution_count": null,
   "id": "27a2b7db",
   "metadata": {},
   "outputs": [],
   "source": []
  }
 ],
 "metadata": {
  "kernelspec": {
   "display_name": "Python 3 (ipykernel)",
   "language": "python",
   "name": "python3"
  },
  "language_info": {
   "codemirror_mode": {
    "name": "ipython",
    "version": 3
   },
   "file_extension": ".py",
   "mimetype": "text/x-python",
   "name": "python",
   "nbconvert_exporter": "python",
   "pygments_lexer": "ipython3",
   "version": "3.9.12"
  }
 },
 "nbformat": 4,
 "nbformat_minor": 5
}
