{
 "cells": [
  {
   "cell_type": "markdown",
   "id": "937b25c1",
   "metadata": {},
   "source": [
    "<table align=\"left\">\n",
    "  <td>\n",
    "    <a href=\"https://colab.research.google.com/github/marco-canas/camino-udea/blob/main/0_diagnostico/diagnos_prueba_inicial_pivu/51_exercise.ipynb\" target=\"_parent\"><img src=\"https://colab.research.google.com/assets/colab-badge.svg\" alt=\"Open In Colab\"/></a>\n",
    "  </td>\n",
    "  <td>\n",
    "    <a target=\"_blank\" href=\"https://kaggle.com/kernels/welcome?src=https://github.com/marco-canas/camino-udea/blob/main/0_diagnostico/diagnos_prueba_inicial_pivu/51_exercise.ipynb\"><img src=\"https://kaggle.com/static/images/open-in-kaggle.svg\" /></a>\n",
    "  </td>\n",
    "</table>"
   ]
  },
  {
   "cell_type": "markdown",
   "id": "4dbe5079",
   "metadata": {},
   "source": [
    "# Pregunta número 40"
   ]
  },
  {
   "cell_type": "markdown",
   "id": "80445201",
   "metadata": {},
   "source": [
    "Anita recibe de su padre una bolsa con 5 bolitas de chicle de las cuales 3 son rojas y dos azules. "
   ]
  },
  {
   "cell_type": "markdown",
   "id": "993374f3",
   "metadata": {},
   "source": [
    "Si Anita saca de la bolsa 3 bolas de chicle y se las come, entonces se puede afirmar con certeza que: "
   ]
  },
  {
   "cell_type": "markdown",
   "id": "6a9d5232",
   "metadata": {},
   "source": [
    "A.  Anita se comió tres bolas de chicle del mismo color. \n",
    "B.  \n",
    "C.  \n",
    "D.  "
   ]
  },
  {
   "cell_type": "markdown",
   "id": "a33ce880",
   "metadata": {},
   "source": [
    "## Conceptos asociados "
   ]
  },
  {
   "cell_type": "code",
   "execution_count": null,
   "id": "342e4118",
   "metadata": {},
   "outputs": [],
   "source": []
  },
  {
   "cell_type": "markdown",
   "id": "64344927",
   "metadata": {},
   "source": [
    "## Estrategia de solución\n"
   ]
  },
  {
   "cell_type": "code",
   "execution_count": null,
   "id": "5a115445",
   "metadata": {},
   "outputs": [],
   "source": []
  },
  {
   "cell_type": "markdown",
   "id": "4275c0a9",
   "metadata": {},
   "source": []
  }
 ],
 "metadata": {
  "kernelspec": {
   "display_name": "Python 3 (ipykernel)",
   "language": "python",
   "name": "python3"
  },
  "language_info": {
   "codemirror_mode": {
    "name": "ipython",
    "version": 3
   },
   "file_extension": ".py",
   "mimetype": "text/x-python",
   "name": "python",
   "nbconvert_exporter": "python",
   "pygments_lexer": "ipython3",
   "version": "3.9.12"
  }
 },
 "nbformat": 4,
 "nbformat_minor": 5
}
