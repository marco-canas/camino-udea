{
 "cells": [
  {
   "cell_type": "markdown",
   "id": "f322488e",
   "metadata": {
    "slideshow": {
     "slide_type": "slide"
    }
   },
   "source": [
    "\n",
    "<table align=\"left\">\n",
    "  <td>\n",
    "    <a href=\"https://colab.research.google.com/github/marco-canas/introducci-n-al-Machine-Learning/blob/main/classes/class_5/class_5.ipynb\" target=\"_parent\"><img src=\"https://colab.research.google.com/assets/colab-badge.svg\" alt=\"Open In Colab\"/></a>\n",
    "  </td>\n",
    "  <td>\n",
    "    <a target=\"_blank\" href=\"https://kaggle.com/kernels/welcome?src=https://github.com/marco-canas/introducci-n-al-Machine-Learning/blob/main/classes/class_5/class_5.ipynb\"><img src=\"https://kaggle.com/static/images/open-in-kaggle.svg\" /></a>\n",
    "  </td>\n",
    "</table>\n",
    "\n"
   ]
  },
  {
   "cell_type": "markdown",
   "id": "88373a1b",
   "metadata": {
    "slideshow": {
     "slide_type": "slide"
    }
   },
   "source": [
    "## Conceptos necesarios para la solución del problema 68"
   ]
  },
  {
   "cell_type": "code",
   "execution_count": null,
   "id": "ce30e3e1",
   "metadata": {
    "slideshow": {
     "slide_type": "slide"
    }
   },
   "outputs": [],
   "source": []
  },
  {
   "cell_type": "markdown",
   "id": "9ff2f877",
   "metadata": {
    "slideshow": {
     "slide_type": "slide"
    }
   },
   "source": [
    "## Ejercicio 68 de la prueba diagnóstica"
   ]
  },
  {
   "cell_type": "markdown",
   "id": "2f7de697",
   "metadata": {
    "slideshow": {
     "slide_type": "slide"
    }
   },
   "source": [
    "En la figura se ilustra un rectángulo mayor que está subdividido en cuatro rectángulos de menor tamaño. "
   ]
  },
  {
   "cell_type": "markdown",
   "id": "e651901a",
   "metadata": {
    "slideshow": {
     "slide_type": "slide"
    }
   },
   "source": [
    "<img src = 'https://github.com/marco-canas/camino-udea/blob/main/IV_razonamiento_geometrico/ejer_68_prueba_diagnostica.png?raw=true'>"
   ]
  },
  {
   "cell_type": "code",
   "execution_count": 1,
   "id": "b9779e88",
   "metadata": {
    "slideshow": {
     "slide_type": "slide"
    }
   },
   "outputs": [
    {
     "data": {
      "image/png": "[encoded data removed]",
      "text/plain": [
       "<Figure size 432x288 with 1 Axes>"
      ]
     },
     "metadata": {
      "needs_background": "light"
     },
     "output_type": "display_data"
    }
   ],
   "source": [
    "import numpy as np \n",
    "import matplotlib.pyplot as plt\n",
    "\n",
    "punto1 = [0,0]\n",
    "punto2 = [3/4,0]\n",
    "punto3 = [1,0]\n",
    "punto4 = [1,3/4]\n",
    "punto5 = [1,1]\n",
    "punto6 = [3/4,1]\n",
    "punto7 = [0,1]\n",
    "punto8 = [0,3/4]\n",
    "\n",
    "x_coor = list(zip(punto1,punto2,punto3,punto4,punto5,punto6,punto7, punto8))[0]\n",
    "\n",
    "y_coor = list(zip(punto1,punto2,punto3,punto4,punto5,punto6,punto7,punto8))[1]\n",
    "\n",
    "plt.scatter(x_coor,y_coor) \n",
    "\n",
    "plt.grid(False)\n"
   ]
  },
  {
   "cell_type": "markdown",
   "id": "74e59654",
   "metadata": {
    "slideshow": {
     "slide_type": "slide"
    }
   },
   "source": [
    "Cada uno de los tres números mostrados representa el perímetro del rectángulo que lo contiene.   \n",
    "\n",
    "El perímetro del rectángulo marcado con $X$ es: \n",
    "\n",
    "A. 3  \n",
    "B. 4  \n",
    "C. 5  \n",
    "D. 6  \n"
   ]
  },
  {
   "cell_type": "markdown",
   "id": "93b800a2",
   "metadata": {
    "slideshow": {
     "slide_type": "slide"
    }
   },
   "source": [
    "## Solución: "
   ]
  },
  {
   "cell_type": "markdown",
   "id": "4a327514",
   "metadata": {
    "slideshow": {
     "slide_type": "slide"
    }
   },
   "source": [
    "Sujerencia para la solución de este problema: Dibuje un conjunto de rectangulos como los de la figura dada y cuyas medidas de los lados satosfagan la hipótesis del problema. "
   ]
  },
  {
   "cell_type": "markdown",
   "id": "c8376038",
   "metadata": {
    "slideshow": {
     "slide_type": "slide"
    }
   },
   "source": [
    "La situación la puedes analizar adicionando la hipótesis auxiliar de que el rectángulo de perímetro 1 es un cuadrado. "
   ]
  },
  {
   "cell_type": "markdown",
   "id": "79f4d5a7",
   "metadata": {},
   "source": [
    "De donde se infiere que los rectángulos de perímetro 2 son congruentes, por tener un par de lados respectivos congruentes. \n",
    "\n"
   ]
  },
  {
   "cell_type": "markdown",
   "id": "b58bf916",
   "metadata": {
    "slideshow": {
     "slide_type": "slide"
    }
   },
   "source": []
  },
  {
   "cell_type": "code",
   "execution_count": null,
   "id": "10e89324",
   "metadata": {
    "slideshow": {
     "slide_type": "slide"
    }
   },
   "outputs": [],
   "source": []
  },
  {
   "cell_type": "code",
   "execution_count": null,
   "id": "7fb17be3",
   "metadata": {},
   "outputs": [],
   "source": []
  },
  {
   "cell_type": "code",
   "execution_count": null,
   "id": "221fd64f",
   "metadata": {},
   "outputs": [],
   "source": []
  },
  {
   "cell_type": "code",
   "execution_count": null,
   "id": "97cfacc7",
   "metadata": {},
   "outputs": [],
   "source": []
  },
  {
   "cell_type": "markdown",
   "id": "011bf895",
   "metadata": {
    "slideshow": {
     "slide_type": "slide"
    }
   },
   "source": [
    "## Participación aleatoria en clase"
   ]
  },
  {
   "cell_type": "code",
   "execution_count": 1,
   "id": "92fc4f06",
   "metadata": {
    "slideshow": {
     "slide_type": "slide"
    }
   },
   "outputs": [
    {
     "name": "stdout",
     "output_type": "stream",
     "text": [
      "augusto23jimenez8@gmail.com\n"
     ]
    }
   ],
   "source": [
    "def estudiante_que_va_a_participar(grupo): # el grupo se introduce como una cadena de caracteres \n",
    "    import numpy as np \n",
    "    import pandas as pd \n",
    "    from random import choice\n",
    "    pivu = pd.read_csv(grupo + '.csv')\n",
    "    lista_estudiantes = list(pivu.email.values)\n",
    "    if lista_estudiantes != []:\n",
    "        estudiante = choice(lista_estudiantes)\n",
    "        lista_estudiantes.remove(estudiante)\n",
    "        return print(estudiante)\n",
    "    else:\n",
    "        print('Todos los estudiantes han participado.\\n Muchas gracias y Felicitaciones')\n",
    "\n",
    "estudiante_que_va_a_participar('pivu') "
   ]
  },
  {
   "cell_type": "code",
   "execution_count": null,
   "id": "88de32cd",
   "metadata": {},
   "outputs": [],
   "source": []
  }
 ],
 "metadata": {
  "celltoolbar": "Slideshow",
  "kernelspec": {
   "display_name": "Python 3 (ipykernel)",
   "language": "python",
   "name": "python3"
  },
  "language_info": {
   "codemirror_mode": {
    "name": "ipython",
    "version": 3
   },
   "file_extension": ".py",
   "mimetype": "text/x-python",
   "name": "python",
   "nbconvert_exporter": "python",
   "pygments_lexer": "ipython3",
   "version": "3.9.12"
  },
  "latex_envs": {
   "LaTeX_envs_menu_present": true,
   "autoclose": false,
   "autocomplete": false,
   "bibliofile": "biblio.bib",
   "cite_by": "apalike",
   "current_citInitial": 1,
   "eqLabelWithNumbers": true,
   "eqNumInitial": 1,
   "hotkeys": {
    "equation": "Ctrl-E",
    "itemize": "Ctrl-I"
   },
   "labels_anchors": false,
   "latex_user_defs": false,
   "report_style_numbering": false,
   "user_envs_cfg": false
  }
 },
 "nbformat": 4,
 "nbformat_minor": 5
}
