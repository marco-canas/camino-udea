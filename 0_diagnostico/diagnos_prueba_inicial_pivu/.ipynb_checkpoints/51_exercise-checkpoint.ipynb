{
 "cells": [
  {
   "cell_type": "markdown",
   "id": "44f05b71",
   "metadata": {},
   "source": [
    "<table align=\"left\">\n",
    "  <td>\n",
    "    <a href=\"https://colab.research.google.com/github/marco-canas/taca/blob/main/ref/charu/7_ch/7_2_SVD_A_Linear_Algebra_Perspective.ipynb\" target=\"_parent\"><img src=\"https://colab.research.google.com/assets/colab-badge.svg\" alt=\"Open In Colab\"/></a>\n",
    "  </td>\n",
    "  <td>\n",
    "    <a target=\"_blank\" href=\"https://kaggle.com/kernels/welcome?src=https://github.com/marco-canas/taca/blob/main/ref/charu/7_ch/7_2_SVD_A_Linear_Algebra_Perspective.ipynb\"><img src=\"https://kaggle.com/static/images/open-in-kaggle.svg\" /></a>\n",
    "  </td>\n",
    "</table>\n"
   ]
  },
  {
   "cell_type": "markdown",
   "id": "77118cd3",
   "metadata": {},
   "source": [
    "# Ejercicio 51 de la prueba diagnóstica del PIVU"
   ]
  },
  {
   "cell_type": "markdown",
   "id": "b1e46375",
   "metadata": {},
   "source": [
    "Martha y Leonor juegan a las cartas y convienen que la que pierda una partida deberá pagar a su compañera 5 US.   \n",
    "\n",
    "Después de 18 partidas, Martha ganó 40 US.   \n",
    "\n",
    "El número de partidas que gano Leonor fue:  \n",
    "\n",
    "A. 2  \n",
    "B. 3  \n",
    "C. 5  \n",
    "D. 6  \n"
   ]
  },
  {
   "cell_type": "markdown",
   "id": "ed83ecd6",
   "metadata": {},
   "source": [
    "## Tipo de razonamiento al que pertenece la pregunta:\n",
    "\n",
    "* Esquemas de proporcionalidad  \n",
    "\n"
   ]
  },
  {
   "cell_type": "markdown",
   "id": "837ad47b",
   "metadata": {},
   "source": [
    "## Conceptos asociados al problema "
   ]
  },
  {
   "cell_type": "markdown",
   "id": "74b3df95",
   "metadata": {},
   "source": [
    "* "
   ]
  },
  {
   "cell_type": "markdown",
   "id": "7227022d",
   "metadata": {},
   "source": [
    "## Autoevaluación y coevaluación"
   ]
  },
  {
   "cell_type": "markdown",
   "id": "5b59e417",
   "metadata": {},
   "source": []
  },
  {
   "cell_type": "markdown",
   "id": "269c7c33",
   "metadata": {},
   "source": [
    "## Solución: "
   ]
  },
  {
   "cell_type": "markdown",
   "id": "d5182760",
   "metadata": {},
   "source": [
    "Sean $m$ y $l$ el número de partidas que ganó marta y leonor, respectivamente "
   ]
  },
  {
   "cell_type": "markdown",
   "id": "d90dcc10",
   "metadata": {},
   "source": [
    "$$gm = 5m - 5l $$\n",
    "\n",
    "donde $gm$ es lo ganado por marta. "
   ]
  },
  {
   "cell_type": "markdown",
   "id": "1c155927",
   "metadata": {},
   "source": [
    "Como $m+l = 18$, entonces $l = 18 - m$ y sustituyendo en la ecuación (1) obtenemos:\n",
    "\n",
    "$$ 40 = 5(m -l) = 5(m - 18 + m) $$\n"
   ]
  },
  {
   "cell_type": "markdown",
   "id": "f3703869",
   "metadata": {},
   "source": [
    "$$ 8 = 2m - 18 $$"
   ]
  },
  {
   "cell_type": "markdown",
   "id": "f3fe9a04",
   "metadata": {},
   "source": [
    "$$ 26 = 2m $$"
   ]
  },
  {
   "cell_type": "markdown",
   "id": "5c4592c6",
   "metadata": {},
   "source": [
    "$$ m = 13 $$\n",
    "\n",
    "de donde $l = 5 $"
   ]
  },
  {
   "cell_type": "markdown",
   "id": "ac66b6e8",
   "metadata": {},
   "source": [
    "## Referentes  "
   ]
  },
  {
   "cell_type": "code",
   "execution_count": null,
   "id": "71082e14",
   "metadata": {},
   "outputs": [],
   "source": []
  }
 ],
 "metadata": {
  "kernelspec": {
   "display_name": "Python 3",
   "language": "python",
   "name": "python3"
  },
  "language_info": {
   "codemirror_mode": {
    "name": "ipython",
    "version": 3
   },
   "file_extension": ".py",
   "mimetype": "text/x-python",
   "name": "python",
   "nbconvert_exporter": "python",
   "pygments_lexer": "ipython3",
   "version": "3.8.8"
  },
  "latex_envs": {
   "LaTeX_envs_menu_present": true,
   "autoclose": false,
   "autocomplete": false,
   "bibliofile": "biblio.bib",
   "cite_by": "apalike",
   "current_citInitial": 1,
   "eqLabelWithNumbers": true,
   "eqNumInitial": 1,
   "hotkeys": {
    "equation": "Ctrl-E",
    "itemize": "Ctrl-I"
   },
   "labels_anchors": false,
   "latex_user_defs": false,
   "report_style_numbering": false,
   "user_envs_cfg": false
  }
 },
 "nbformat": 4,
 "nbformat_minor": 5
}
