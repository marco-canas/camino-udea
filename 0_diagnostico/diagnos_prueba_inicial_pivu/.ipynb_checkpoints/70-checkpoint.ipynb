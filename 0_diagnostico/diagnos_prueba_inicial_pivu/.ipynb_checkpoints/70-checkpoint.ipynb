{
 "cells": [
  {
   "cell_type": "markdown",
   "id": "ff231a20",
   "metadata": {},
   "source": []
  },
  {
   "cell_type": "markdown",
   "id": "f1474c90",
   "metadata": {},
   "source": [
    "# Ejercicio 70 de la prueba diagnóstica del PIVU"
   ]
  },
  {
   "cell_type": "markdown",
   "id": "f4f7c701",
   "metadata": {},
   "source": [
    "## Enunciado"
   ]
  },
  {
   "cell_type": "markdown",
   "id": "13c2d68b",
   "metadata": {},
   "source": [
    "70.\tEl $\\Delta ABC$ es equilátero y su área es 4 $m^{2}$. Los triángulos interiores se forman uniendo los puntos medios de los lados. "
   ]
  },
  {
   "cell_type": "markdown",
   "id": "eb85e613",
   "metadata": {},
   "source": [
    "<img src = 'https://github.com/marco-canas/camino-udea/blob/main/0_diagnostico/diagnos_prueba_inicial_pivu/ejer_70.jpg?raw=true'> "
   ]
  },
  {
   "cell_type": "markdown",
   "id": "67368bd5",
   "metadata": {},
   "source": [
    "## Conceptos asociados  \n",
    "\n",
    "* Multiplicación de fracciones \n",
    "* División de fracciones \n",
    "* Triengulo equilátero\n",
    "* suma de fracciones "
   ]
  },
  {
   "cell_type": "code",
   "execution_count": null,
   "id": "b280ab08",
   "metadata": {},
   "outputs": [],
   "source": []
  },
  {
   "cell_type": "code",
   "execution_count": null,
   "id": "8e44e67a",
   "metadata": {},
   "outputs": [],
   "source": []
  },
  {
   "cell_type": "code",
   "execution_count": null,
   "id": "3391b18c",
   "metadata": {},
   "outputs": [],
   "source": []
  }
 ],
 "metadata": {
  "kernelspec": {
   "display_name": "Python 3 (ipykernel)",
   "language": "python",
   "name": "python3"
  },
  "language_info": {
   "codemirror_mode": {
    "name": "ipython",
    "version": 3
   },
   "file_extension": ".py",
   "mimetype": "text/x-python",
   "name": "python",
   "nbconvert_exporter": "python",
   "pygments_lexer": "ipython3",
   "version": "3.9.12"
  }
 },
 "nbformat": 4,
 "nbformat_minor": 5
}
