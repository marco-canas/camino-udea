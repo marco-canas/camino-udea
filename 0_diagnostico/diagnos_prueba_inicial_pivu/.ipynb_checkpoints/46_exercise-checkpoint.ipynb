{
 "cells": [
  {
   "cell_type": "markdown",
   "id": "693dec85",
   "metadata": {
    "slideshow": {
     "slide_type": "slide"
    }
   },
   "source": [
    "<table align=\"left\">\n",
    "  <td>\n",
    "    <a href=\"https://colab.research.google.com/github/marco-canas/camino-udea/blob/main/0_diagnostico/diagnos_prueba_inicial_pivu/51_exercise.ipynb\" target=\"_parent\"><img src=\"https://colab.research.google.com/assets/colab-badge.svg\" alt=\"Open In Colab\"/></a>\n",
    "  </td>\n",
    "</table>"
   ]
  },
  {
   "cell_type": "markdown",
   "id": "3c65bc58",
   "metadata": {
    "slideshow": {
     "slide_type": "slide"
    }
   },
   "source": [
    "# Ejercicio 46 de la prueba Inicial "
   ]
  },
  {
   "cell_type": "markdown",
   "id": "019f9b96",
   "metadata": {
    "slideshow": {
     "slide_type": "slide"
    }
   },
   "source": [
    "46.\tsobre una mesa de madera se forma un arreglo con cuatro dados normales como se muestra en la figura:"
   ]
  },
  {
   "cell_type": "markdown",
   "id": "2db7b815",
   "metadata": {
    "slideshow": {
     "slide_type": "slide"
    }
   },
   "source": [
    "<img src = 'https://github.com/marco-canas/camino-udea/blob/main/0_diagnostico/diagnos_prueba_inicial_pivu/ejer_46.png?raw=true'>"
   ]
  },
  {
   "cell_type": "markdown",
   "id": "33a956ea",
   "metadata": {
    "slideshow": {
     "slide_type": "slide"
    }
   },
   "source": [
    "Si la suma de los puntos de dos caras opuestas en un dado normal es 7 y además el arreglo puede observarse desde todas sus vistas alrededor de la mesa, entonces la suma de los puntos no visibles del arreglo es:  \n",
    "\n",
    "A. 21  \n",
    "B. 24  \n",
    "C. 25  \n",
    "D. 27  \n"
   ]
  },
  {
   "cell_type": "markdown",
   "id": "82e083a1",
   "metadata": {
    "slideshow": {
     "slide_type": "slide"
    }
   },
   "source": [
    "## [Video de apoyo para la identificación de estrategias](https://www.youtube.com/watch?v=p2y1qzTelkY&t=19s) "
   ]
  },
  {
   "cell_type": "markdown",
   "id": "ea96891b",
   "metadata": {
    "slideshow": {
     "slide_type": "slide"
    }
   },
   "source": [
    "## Solución: "
   ]
  },
  {
   "cell_type": "markdown",
   "id": "169821a0",
   "metadata": {
    "slideshow": {
     "slide_type": "slide"
    }
   },
   "source": [
    "Tenga en cuenta la hipótesis de que el arreglo puede observarse desde todas sus vistas alrededor de la mesa. "
   ]
  },
  {
   "cell_type": "markdown",
   "id": "85a31868",
   "metadata": {
    "slideshow": {
     "slide_type": "slide"
    }
   },
   "source": [
    "Lo que implica que se pregunta por la suma de los valores de las caras entre los dados y la cara inferior del dado que está en contacto con la mesa. "
   ]
  },
  {
   "cell_type": "markdown",
   "id": "f80c92f4",
   "metadata": {
    "slideshow": {
     "slide_type": "slide"
    }
   },
   "source": [
    "Valor de la cara oculta del **primer dado** (dado superior, numeramos de arriba hacia abajo) es: 3"
   ]
  },
  {
   "cell_type": "markdown",
   "id": "38c57106",
   "metadata": {
    "slideshow": {
     "slide_type": "slide"
    }
   },
   "source": [
    "La suma de los valores de las caras ocultas del **segundo dado** (dado superior, numeramos de arriba hacia abajo) es: 7"
   ]
  },
  {
   "cell_type": "markdown",
   "id": "ca24602d",
   "metadata": {
    "slideshow": {
     "slide_type": "slide"
    }
   },
   "source": [
    "La suma de los valores de las caras ocultas del **tercer dado** (dado superior, numeramos de arriba hacia abajo) es: 7"
   ]
  },
  {
   "cell_type": "markdown",
   "id": "109e6a33",
   "metadata": {
    "slideshow": {
     "slide_type": "slide"
    }
   },
   "source": [
    "La suma de los valores de las caras ocultas del **cuarto dado** (dado superior, numeramos de arriba hacia abajo) es: 7"
   ]
  },
  {
   "cell_type": "code",
   "execution_count": 1,
   "id": "a0f9adb5",
   "metadata": {
    "slideshow": {
     "slide_type": "slide"
    }
   },
   "outputs": [
    {
     "data": {
      "text/plain": [
       "24"
      ]
     },
     "execution_count": 1,
     "metadata": {},
     "output_type": "execute_result"
    }
   ],
   "source": [
    "3+3*7"
   ]
  },
  {
   "cell_type": "markdown",
   "id": "592db396",
   "metadata": {
    "slideshow": {
     "slide_type": "slide"
    }
   },
   "source": [
    "La opción correcta de solución es la B."
   ]
  },
  {
   "cell_type": "markdown",
   "id": "1748271f",
   "metadata": {
    "slideshow": {
     "slide_type": "slide"
    }
   },
   "source": [
    "## Llamada aleatoria para participar"
   ]
  },
  {
   "cell_type": "code",
   "execution_count": null,
   "id": "6c039a24",
   "metadata": {
    "slideshow": {
     "slide_type": "slide"
    }
   },
   "outputs": [],
   "source": [
    "import numpy as np \n",
    "import pandas as pd \n",
    "from random import choice\n",
    "pivu = pd.read_csv('pivu.csv')"
   ]
  },
  {
   "cell_type": "code",
   "execution_count": 3,
   "id": "aa4a15ce",
   "metadata": {
    "slideshow": {
     "slide_type": "slide"
    }
   },
   "outputs": [
    {
     "data": {
      "text/plain": [
       "Index(['email'], dtype='object')"
      ]
     },
     "execution_count": 3,
     "metadata": {},
     "output_type": "execute_result"
    }
   ],
   "source": [
    "pivu.keys() \n"
   ]
  },
  {
   "cell_type": "code",
   "execution_count": 4,
   "id": "396de04a",
   "metadata": {
    "slideshow": {
     "slide_type": "slide"
    }
   },
   "outputs": [],
   "source": [
    "lista_estudiantes = list(pivu.email.values)"
   ]
  },
  {
   "cell_type": "code",
   "execution_count": 7,
   "id": "81a5b2b5",
   "metadata": {
    "slideshow": {
     "slide_type": "slide"
    }
   },
   "outputs": [
    {
     "name": "stdout",
     "output_type": "stream",
     "text": [
      "azelnenedeoro@gmail.com\n"
     ]
    }
   ],
   "source": [
    "def estudiante_que_va_a_participar(grupo): # el grupo se introduce como una cadena de caracteres \n",
    "    import numpy as np \n",
    "    import pandas as pd \n",
    "    from random import choice\n",
    "    pivu = pd.read_csv(grupo + '.csv')\n",
    "    lista_estudiantes = list(pivu.email.values)\n",
    "    if lista_estudiantes != []:\n",
    "        estudiante = choice(lista_estudiantes)\n",
    "        lista_estudiantes.remove(estudiante)\n",
    "        return print(estudiante)\n",
    "    else:\n",
    "        print('Todos los estudiantes han participado.\\n Muchas gracias y Felicitaciones')\n",
    "\n",
    "estudiante_que_va_a_participar('pivu') "
   ]
  },
  {
   "cell_type": "code",
   "execution_count": null,
   "id": "39b33f2d",
   "metadata": {
    "slideshow": {
     "slide_type": "slide"
    }
   },
   "outputs": [],
   "source": []
  }
 ],
 "metadata": {
  "celltoolbar": "Slideshow",
  "kernelspec": {
   "display_name": "Python 3 (ipykernel)",
   "language": "python",
   "name": "python3"
  },
  "language_info": {
   "codemirror_mode": {
    "name": "ipython",
    "version": 3
   },
   "file_extension": ".py",
   "mimetype": "text/x-python",
   "name": "python",
   "nbconvert_exporter": "python",
   "pygments_lexer": "ipython3",
   "version": "3.9.12"
  },
  "rise": {
   "enable_chalkboard": true,
   "theme": "sky",
   "transition": "sky"
  }
 },
 "nbformat": 4,
 "nbformat_minor": 5
}
