{
 "cells": [
  {
   "cell_type": "markdown",
   "id": "6111acfc",
   "metadata": {
    "slideshow": {
     "slide_type": "slide"
    }
   },
   "source": [
    "<table align=\"left\">\n",
    "  <td>\n",
    "    <a href=\"https://colab.research.google.com/github/marco-canas/camino-udea/blob/main/0_diagnostico/diagnos_prueba_inicial_pivu/51_exercise.ipynb\" target=\"_parent\"><img src=\"https://colab.research.google.com/assets/colab-badge.svg\" alt=\"Open In Colab\"/></a>\n",
    "  </td>\n",
    "  <td>\n",
    "    <a target=\"_blank\" href=\"https://kaggle.com/kernels/welcome?src=https://github.com/marco-canas/camino-udea/blob/main/0_diagnostico/diagnos_prueba_inicial_pivu/51_exercise.ipynb\"><img src=\"https://kaggle.com/static/images/open-in-kaggle.svg\" /></a>\n",
    "  </td>\n",
    "</table>"
   ]
  },
  {
   "cell_type": "markdown",
   "id": "45a3c0b9",
   "metadata": {
    "slideshow": {
     "slide_type": "slide"
    }
   },
   "source": [
    "# Ejercicio 46 de la prueba Inicial "
   ]
  },
  {
   "cell_type": "markdown",
   "id": "aad4b3bc",
   "metadata": {
    "slideshow": {
     "slide_type": "slide"
    }
   },
   "source": [
    "46.\tsobre una mesa de madera se forma un arreglo con cuatro dados normales como se muestra en la figura:"
   ]
  },
  {
   "cell_type": "markdown",
   "id": "03123334",
   "metadata": {
    "slideshow": {
     "slide_type": "slide"
    }
   },
   "source": [
    "<img src = 'https://github.com/marco-canas/camino-udea/blob/main/0_diagnostico/diagnos_prueba_inicial_pivu/ejer_46.png?raw=true'>"
   ]
  },
  {
   "cell_type": "markdown",
   "id": "01808d5a",
   "metadata": {
    "slideshow": {
     "slide_type": "slide"
    }
   },
   "source": [
    "Si la suma de los puntos de dos caras opuestas en un dado normal es 7 y además el arreglo puede observarse desde todas sus vistas alrededor de la mesa, entonces la suma de los puntos no visibles del arreglo es:  \n",
    "\n",
    "A. 21  \n",
    "B. 24  \n",
    "C. 25  \n",
    "D. 27  \n"
   ]
  },
  {
   "cell_type": "markdown",
   "id": "a07521c2",
   "metadata": {
    "slideshow": {
     "slide_type": "slide"
    }
   },
   "source": [
    "## [Video de apoyo para la identificación de estrategias]() "
   ]
  },
  {
   "cell_type": "markdown",
   "id": "20166b87",
   "metadata": {
    "slideshow": {
     "slide_type": "slide"
    }
   },
   "source": [
    "## Solución: "
   ]
  },
  {
   "cell_type": "markdown",
   "id": "dee43fe4",
   "metadata": {
    "slideshow": {
     "slide_type": "slide"
    }
   },
   "source": [
    "Tenga en cuenta la hipótesis de que el arreglo puede observarse desde todas sus vistas alrededor de la mesa. "
   ]
  },
  {
   "cell_type": "markdown",
   "id": "0ab11286",
   "metadata": {
    "slideshow": {
     "slide_type": "slide"
    }
   },
   "source": [
    "Lo que implica que se pregunta por la suma de los valores de las caras entre los dados y la cara inferior del dado que está en contacto con la mesa. "
   ]
  },
  {
   "cell_type": "markdown",
   "id": "351bdcc7",
   "metadata": {
    "slideshow": {
     "slide_type": "slide"
    }
   },
   "source": [
    "Valor de la cara oculta del **primer dado** (dado superior, numeramos de arriba hacia abajo) es: 3"
   ]
  },
  {
   "cell_type": "markdown",
   "id": "0b930efe",
   "metadata": {
    "slideshow": {
     "slide_type": "slide"
    }
   },
   "source": [
    "La suma de los valores de las caras ocultas del **segundo dado** (dado superior, numeramos de arriba hacia abajo) es: 7"
   ]
  },
  {
   "cell_type": "markdown",
   "id": "60d8806f",
   "metadata": {},
   "source": [
    "La suma de los valores de las caras ocultas del **tercer dado** (dado superior, numeramos de arriba hacia abajo) es: 7"
   ]
  },
  {
   "cell_type": "code",
   "execution_count": null,
   "id": "7f4246a0",
   "metadata": {},
   "outputs": [],
   "source": [
    "La suma de los valores de las caras ocultas del **tercer dado** (dado superior, numeramos de arriba hacia abajo) es: 7"
   ]
  },
  {
   "cell_type": "code",
   "execution_count": 1,
   "id": "7da47ba3",
   "metadata": {},
   "outputs": [
    {
     "data": {
      "text/plain": [
       "24"
      ]
     },
     "execution_count": 1,
     "metadata": {},
     "output_type": "execute_result"
    }
   ],
   "source": [
    "3+3*7"
   ]
  },
  {
   "cell_type": "markdown",
   "id": "c585906a",
   "metadata": {},
   "source": [
    "La opción correcta de solución es la B."
   ]
  },
  {
   "cell_type": "code",
   "execution_count": null,
   "id": "3f5249e4",
   "metadata": {},
   "outputs": [],
   "source": []
  }
 ],
 "metadata": {
  "celltoolbar": "Slideshow",
  "kernelspec": {
   "display_name": "Python 3 (ipykernel)",
   "language": "python",
   "name": "python3"
  },
  "language_info": {
   "codemirror_mode": {
    "name": "ipython",
    "version": 3
   },
   "file_extension": ".py",
   "mimetype": "text/x-python",
   "name": "python",
   "nbconvert_exporter": "python",
   "pygments_lexer": "ipython3",
   "version": "3.9.7"
  }
 },
 "nbformat": 4,
 "nbformat_minor": 5
}
