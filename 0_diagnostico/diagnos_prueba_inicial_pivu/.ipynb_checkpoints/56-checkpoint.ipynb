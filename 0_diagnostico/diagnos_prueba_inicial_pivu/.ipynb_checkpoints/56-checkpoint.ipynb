{
 "cells": [
  {
   "cell_type": "markdown",
   "id": "efc05c69",
   "metadata": {
    "slideshow": {
     "slide_type": "slide"
    }
   },
   "source": [
    "<table align=\"left\">\n",
    "  <td>\n",
    "    <a href=\"https://colab.research.google.com/github/marco-canas/camino-udea/blob/main/0_diagnostico/diagnos_prueba_inicial_pivu/56.ipynb\" target=\"_parent\"><img src=\"https://colab.research.google.com/assets/colab-badge.svg\" alt=\"Open In Colab\"/></a>\n",
    "  </td>\n",
    "</table>"
   ]
  },
  {
   "cell_type": "markdown",
   "id": "1125812b",
   "metadata": {
    "slideshow": {
     "slide_type": "slide"
    }
   },
   "source": [
    "# Ejercicio 56 de la prueba diagnóstica del PIVU UdeA"
   ]
  },
  {
   "cell_type": "markdown",
   "id": "8d1ddb80",
   "metadata": {
    "slideshow": {
     "slide_type": "slide"
    }
   },
   "source": [
    "* Juan entrega a domicilio pizzas y gaseosas que transporta en su camioneta.   \n",
    "* A la camioneta de Juan le caben  exactamente 50 pizzas **ó** 300 gaseosas.   \n",
    "* Si a Juan le han encargado llevar a una fiesta 20 pizzas, entonces el número máximo de gaseosas que podrá llevar Juan en su camioneta a la fiesta es: "
   ]
  },
  {
   "cell_type": "markdown",
   "id": "75e6c583",
   "metadata": {
    "slideshow": {
     "slide_type": "slide"
    }
   },
   "source": [
    " \n",
    "\n",
    "A.\t60  \n",
    "**B.\t180**    \n",
    "C.\t150  \n",
    "D.\t200  "
   ]
  },
  {
   "cell_type": "markdown",
   "id": "52bcefff",
   "metadata": {
    "slideshow": {
     "slide_type": "slide"
    }
   },
   "source": [
    "## [Video de apoyo]()"
   ]
  },
  {
   "cell_type": "markdown",
   "id": "4ae8f971",
   "metadata": {
    "slideshow": {
     "slide_type": "slide"
    }
   },
   "source": [
    "## Gráfico animado asociado dibujado con Matplotlib "
   ]
  },
  {
   "cell_type": "code",
   "execution_count": 39,
   "id": "e5dcaf2d",
   "metadata": {
    "scrolled": true,
    "slideshow": {
     "slide_type": "slide"
    }
   },
   "outputs": [
    {
     "data": {
      "application/vnd.jupyter.widget-view+json": {
       "model_id": "1b7043a7093645a8bb4daeb5c150fc1d",
       "version_major": 2,
       "version_minor": 0
      },
      "text/plain": [
       "interactive(children=(IntSlider(value=0, description='p', max=50), Output()), _dom_classes=('widget-interact',…"
      ]
     },
     "metadata": {},
     "output_type": "display_data"
    }
   ],
   "source": [
    "import numpy as np \n",
    "import matplotlib.pyplot as plt \n",
    "\n",
    "from ipywidgets import interact \n",
    "\n",
    "\n",
    "def graficar(p = 0):\n",
    "    if p==0:\n",
    "        plt.hist(np.ones(300))\n",
    "        plt.grid()\n",
    "    else:\n",
    "        P = np.zeros(p)\n",
    "        G = np.ones(int((1 - p/50)*300))\n",
    "        y = np.hstack((P,G))\n",
    "        plt.hist(y)\n",
    "        plt.grid()\n",
    "    plt.axis([0,1.5,0,300])\n",
    "    \n",
    "interact(graficar, p = (0,50,5))\n",
    "\n",
    "plt.show() "
   ]
  },
  {
   "cell_type": "code",
   "execution_count": 36,
   "id": "ad0048c3",
   "metadata": {},
   "outputs": [
    {
     "data": {
      "text/plain": [
       "(array([  0.,   0.,   0.,   0.,   0., 300.,   0.,   0.,   0.,   0.]),\n",
       " array([0.5, 0.6, 0.7, 0.8, 0.9, 1. , 1.1, 1.2, 1.3, 1.4, 1.5]),\n",
       " <BarContainer object of 10 artists>)"
      ]
     },
     "execution_count": 36,
     "metadata": {},
     "output_type": "execute_result"
    },
    {
     "data": {
      "image/png": "[encoded data removed]",
      "text/plain": [
       "<Figure size 432x288 with 1 Axes>"
      ]
     },
     "metadata": {
      "needs_background": "light"
     },
     "output_type": "display_data"
    }
   ],
   "source": [
    "plt.hist(np.ones(300))"
   ]
  },
  {
   "cell_type": "markdown",
   "id": "6f1f7a55",
   "metadata": {
    "slideshow": {
     "slide_type": "slide"
    }
   },
   "source": [
    "## Conceptos asociados "
   ]
  },
  {
   "cell_type": "markdown",
   "id": "079c1369",
   "metadata": {
    "slideshow": {
     "slide_type": "slide"
    }
   },
   "source": [
    "* Determinación del pordentaje que de una cantidad dada $T$ es una cantidad es dada $p$:\n",
    "\n",
    "$$ \\frac{p}{T} = \\text{porcentaje de $p$ con respecto a $T$} $$\n",
    "\n",
    "es el porcentaje que $p$ és,en representación decimal, con respecto a la cantidad $T$.  \n"
   ]
  },
  {
   "cell_type": "markdown",
   "id": "f45b61be",
   "metadata": {
    "slideshow": {
     "slide_type": "slide"
    }
   },
   "source": [
    "## Estrategia de solución:\n",
    "\n",
    "* Proporcionalidad directa para determinar el porcentaje de espacio ocupado cuando cargas el carro con cierto número de pizzas o gaseosas. \n",
    "\n",
    "* para el cálculo de porciones y porcentajes puedes utilizar factores de conversión o el esquema de regla de tres directa. \n",
    "\n"
   ]
  },
  {
   "cell_type": "markdown",
   "id": "fc3335a1",
   "metadata": {
    "slideshow": {
     "slide_type": "slide"
    }
   },
   "source": [
    "## Solución "
   ]
  },
  {
   "cell_type": "markdown",
   "id": "948bdac0",
   "metadata": {
    "slideshow": {
     "slide_type": "slide"
    }
   },
   "source": [
    "Con 50 pizzas podemos ocupar el 100% del espacio de transporte de la camioneta de Juan. \n",
    "\n",
    "Luego, si juan le han encargado llevar 20 pizzas, entonces, el porcentaje de la camioneta que ocupó es el mismo porcentaje que 20 es de 50:  \n",
    "\n",
    "$$ \\text{porcentaje que ocupan 20 pizas} = \\frac{20}{50} = \\frac{2}{5} = 0.4 = 40\\%\\ \\text{ de la camioneta} $$\n"
   ]
  },
  {
   "cell_type": "markdown",
   "id": "50895733",
   "metadata": {
    "slideshow": {
     "slide_type": "slide"
    }
   },
   "source": [
    "Entonces, podemos destinar el 60% del espacio de la camioneta para llevar gaseosas. Como 300 gaseosas caben en el 100% de la camioneta, entonces, el número máximo de gaseosas que puedo meter en el 60% de la camioneta es:\n",
    "\n",
    "$$ 300 \\frac{60}{100} = 3(60) = 180\\ \\text{gaseosas} $$\n"
   ]
  },
  {
   "cell_type": "markdown",
   "id": "40740b8d",
   "metadata": {
    "slideshow": {
     "slide_type": "slide"
    }
   },
   "source": [
    "Por lo tanto, la opción correcta de respuesta es la B. "
   ]
  },
  {
   "cell_type": "markdown",
   "id": "7c027568",
   "metadata": {
    "slideshow": {
     "slide_type": "slide"
    }
   },
   "source": [
    "# Recomendaciones y advertencias para la solución de ejercicios similares a este"
   ]
  },
  {
   "cell_type": "markdown",
   "id": "2a6eb323",
   "metadata": {
    "slideshow": {
     "slide_type": "slide"
    }
   },
   "source": [
    "Notar que lo que le cabe de pizas y gaseosas a la camioneta de Juan es descrito a través de una disyunción, lo que implica que no "
   ]
  },
  {
   "cell_type": "markdown",
   "id": "5e78fb20",
   "metadata": {
    "slideshow": {
     "slide_type": "slide"
    }
   },
   "source": [
    "Trate de realizar el ejercicio pero cambiando la disyunción por un conjunción:\n",
    "\n",
    "Es decir, resuelva el siguiente ejercicio y resalte las diferencias de solución: \n",
    "\n",
    "* Juan entrega a domicilio pizzas y gaseosas que transporta en su camioneta.   \n",
    "* A la camioneta de Juan le caben  exactamente 50 pizzas **ý** 300 gaseosas.   \n",
    "* Si a Juan le han encargado llevar a una fiesta 20 pizzas, entonces el número máximo de gaseosas que podrá llevar Juan en su camioneta a la fiesta es:  \n",
    "\n"
   ]
  },
  {
   "cell_type": "code",
   "execution_count": null,
   "id": "74a74117",
   "metadata": {},
   "outputs": [],
   "source": []
  }
 ],
 "metadata": {
  "celltoolbar": "Slideshow",
  "kernelspec": {
   "display_name": "Python 3 (ipykernel)",
   "language": "python",
   "name": "python3"
  },
  "language_info": {
   "codemirror_mode": {
    "name": "ipython",
    "version": 3
   },
   "file_extension": ".py",
   "mimetype": "text/x-python",
   "name": "python",
   "nbconvert_exporter": "python",
   "pygments_lexer": "ipython3",
   "version": "3.9.12"
  },
  "rise": {
   "theme": "sky"
  }
 },
 "nbformat": 4,
 "nbformat_minor": 5
}
