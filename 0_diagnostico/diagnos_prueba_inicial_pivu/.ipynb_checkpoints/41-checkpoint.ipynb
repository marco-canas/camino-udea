{
 "cells": [
  {
   "cell_type": "markdown",
   "id": "937b25c1",
   "metadata": {
    "slideshow": {
     "slide_type": "slide"
    }
   },
   "source": [
    "<table align=\"left\">\n",
    "  <td>\n",
    "    <a href=\"https://colab.research.google.com/github/marco-canas/camino-udea/blob/main/0_diagnostico/diagnos_prueba_inicial_pivu/41.ipynb\" target=\"_parent\"><img src=\"https://colab.research.google.com/assets/colab-badge.svg\" alt=\"Open In Colab\"/></a>\n",
    "  </td>\n",
    "</table>"
   ]
  },
  {
   "cell_type": "markdown",
   "id": "4dbe5079",
   "metadata": {
    "slideshow": {
     "slide_type": "slide"
    }
   },
   "source": [
    "# Pregunta número 41 de la prueba diagnóstica del PIVU"
   ]
  },
  {
   "cell_type": "markdown",
   "id": "80445201",
   "metadata": {
    "slideshow": {
     "slide_type": "slide"
    }
   },
   "source": [
    "Anita recibe de su padre una bolsa con 5 bolitas de chicle de las cuales 3 son rojas y dos azules. "
   ]
  },
  {
   "cell_type": "markdown",
   "id": "993374f3",
   "metadata": {
    "slideshow": {
     "slide_type": "slide"
    }
   },
   "source": [
    "Si Anita saca de la bolsa 3 bolas de chicle y se las come, entonces **se puede afirmar con certeza que**: "
   ]
  },
  {
   "cell_type": "markdown",
   "id": "6a9d5232",
   "metadata": {
    "slideshow": {
     "slide_type": "slide"
    }
   },
   "source": [
    "A.  Anita se comió tres bolas de chicle del mismo color.     \n",
    "B.  Anita se comió dos bolas de chicle azul y una roja.   \n",
    "C. \tAnita se comió por lo menos una bola de chicle roja  \n",
    "D.  Anita se comió por lo menos una bola de chicle azul  "
   ]
  },
  {
   "cell_type": "markdown",
   "id": "c51dabac",
   "metadata": {
    "slideshow": {
     "slide_type": "slide"
    }
   },
   "source": [
    "## [Video de apoyo](https://www.youtube.com/watch?v=71MwLBkR5n4)"
   ]
  },
  {
   "cell_type": "markdown",
   "id": "a33ce880",
   "metadata": {
    "slideshow": {
     "slide_type": "slide"
    }
   },
   "source": [
    "## Conceptos asociados "
   ]
  },
  {
   "cell_type": "markdown",
   "id": "b9f6b317",
   "metadata": {
    "slideshow": {
     "slide_type": "slide"
    }
   },
   "source": [
    "* Probabilidad  \n",
    "* evento seguro: evento con probabilidad de ocurrencia del $100\\%$.\n",
    "* evento complementario.\n",
    "* experimento aleatoria"
   ]
  },
  {
   "cell_type": "markdown",
   "id": "64344927",
   "metadata": {
    "slideshow": {
     "slide_type": "slide"
    }
   },
   "source": [
    "## Estrategia de solución\n"
   ]
  },
  {
   "cell_type": "markdown",
   "id": "92f1eb00",
   "metadata": {
    "slideshow": {
     "slide_type": "slide"
    }
   },
   "source": [
    "En este tipo de pregunta debemos **razonar por descarte**, es decir, debemos revisar todas las opciones y revisar cuál es la satisfactoria. "
   ]
  },
  {
   "cell_type": "markdown",
   "id": "c3778c54",
   "metadata": {
    "slideshow": {
     "slide_type": "slide"
    }
   },
   "source": [
    "## Solución: "
   ]
  },
  {
   "cell_type": "markdown",
   "id": "4275c0a9",
   "metadata": {
    "slideshow": {
     "slide_type": "slide"
    }
   },
   "source": [
    "Veamos porqué no podemos estar seguros de la opción A, es decir, mostremos porqué no podemos afirmar con certeza que Anita se ha comido tres bolas de chiche del mismo color. \n",
    "De esta afirmación no podemos estar seguros pues al haber dos tipos de colores de bolitas de chicle, entonces al sacar tres podemos sacar\n",
    "* todas del mimo color rojo, \n",
    "* o dos rojas, y una azul\n",
    "* o una roja y dos azules\n",
    "por lo tanto, no podemos estar seguros de que al sacar tres bolitas, tres sean del mismo color. "
   ]
  },
  {
   "cell_type": "markdown",
   "id": "2745b590",
   "metadata": {
    "slideshow": {
     "slide_type": "slide"
    }
   },
   "source": [
    "Veamos porqué no podemos estar seguros de la opción B.  Es decir, veamos porqué no podemos estar seguros de que Anita se comió dos bolas de chicle azul y una roja. \n",
    "\n",
    "Porque también es posible que Anita se haya comido 3 bolitas de color rojo. \n",
    "\n"
   ]
  },
  {
   "cell_type": "markdown",
   "id": "e8d60576",
   "metadata": {
    "slideshow": {
     "slide_type": "slide"
    }
   },
   "source": [
    "### Veamos que la opción C es la correcta, \n",
    "\n",
    "es decir, veamos que podemos estar seguros de que Anita se comió por lo menos una bola de chicle roja.\n",
    "\n",
    "De esto podemos estar seguros ya que al no haber sino solo dos bolas azules y comerse tre de las 5, obligatoriamente al menos una de las bolas debe ser roja. "
   ]
  },
  {
   "cell_type": "markdown",
   "id": "df67a4b4",
   "metadata": {
    "slideshow": {
     "slide_type": "slide"
    }
   },
   "source": [
    "Utilizando la definición de probabilidad de un evento, veamos que el haberse comido por lo menos una bola de chicle roja es es evento de probabilidad del $100\\%$"
   ]
  },
  {
   "cell_type": "markdown",
   "id": "a326e6a8",
   "metadata": {
    "slideshow": {
     "slide_type": "slide"
    }
   },
   "source": [
    "Empecemos por determinar el espacio muestral $S$ de este experimento aleatorio."
   ]
  },
  {
   "cell_type": "code",
   "execution_count": 9,
   "id": "720a75d0",
   "metadata": {
    "slideshow": {
     "slide_type": "slide"
    }
   },
   "outputs": [
    {
     "name": "stdout",
     "output_type": "stream",
     "text": [
      "((a1, a2), r1)\n",
      "((a2, a2), r1)\n",
      "((a1, a2), r2)\n",
      "((a1, r1), r1)\n",
      "((a2, a2), r2)\n",
      "((a1, a2), r3)\n",
      "((r1, a2), r1)\n",
      "((a1, r1), r2)\n",
      "((a2, a2), r3)\n",
      "((a2, r1), r1)\n",
      "((r1, a2), r2)\n",
      "((a1, r1), r3)\n",
      "((a1, r2), r1)\n",
      "((a2, r1), r2)\n",
      "((r1, a2), r3)\n",
      "((r2, a2), r1)\n",
      "((a1, r2), r2)\n",
      "((a2, r1), r3)\n",
      "((r1, r1), r1)\n",
      "((r2, a2), r2)\n",
      "((a1, r2), r3)\n",
      "((a2, r2), r1)\n",
      "((r1, r1), r2)\n",
      "((r2, a2), r3)\n",
      "((a1, r3), r1)\n",
      "((a2, r2), r2)\n",
      "((r1, r1), r3)\n",
      "((r3, a2), r1)\n",
      "((a1, r3), r2)\n",
      "((a2, r2), r3)\n",
      "((r2, r1), r1)\n",
      "((r3, a2), r2)\n",
      "((a1, r3), r3)\n",
      "((r1, r2), r1)\n",
      "((r2, r1), r2)\n",
      "((r3, a2), r3)\n",
      "((a2, r3), r1)\n",
      "((r1, r2), r2)\n",
      "((r2, r1), r3)\n",
      "((r3, r1), r1)\n",
      "((a2, r3), r2)\n",
      "((r1, r2), r3)\n",
      "((r2, r2), r1)\n",
      "((r3, r1), r2)\n",
      "((a2, r3), r3)\n",
      "((r1, r3), r1)\n",
      "((r2, r2), r2)\n",
      "((r3, r1), r3)\n",
      "((r3, r2), r1)\n",
      "((r1, r3), r2)\n",
      "((r2, r2), r3)\n",
      "((r2, r3), r1)\n",
      "((r3, r2), r2)\n",
      "((r1, r3), r3)\n",
      "((r3, r3), r1)\n",
      "((r2, r3), r2)\n",
      "((r3, r2), r3)\n",
      "((r3, r3), r2)\n",
      "((r2, r3), r3)\n",
      "((r3, r3), r3)\n"
     ]
    }
   ],
   "source": [
    "from sympy import *\n",
    "r1,r2,r3,a1,a2 = symbols('r1,r2,r3,a1,a2')\n",
    "bolas = FiniteSet(r1,r2,r3,a1,a2)\n",
    "for i in range(3):\n",
    "    p = bolas*(bolas-FiniteSet(a1))*(bolas-FiniteSet(a1,a2))\n",
    "\n",
    "for elem in p:\n",
    "    print(elem)"
   ]
  },
  {
   "cell_type": "markdown",
   "id": "a5e58b63",
   "metadata": {
    "slideshow": {
     "slide_type": "slide"
    }
   },
   "source": [
    "## Referencias\n",
    "\n",
    "* Documentación sobre el tipo set de python: https://relopezbriega.github.io/blog/2015/10/11/conjuntos-con-python/"
   ]
  },
  {
   "cell_type": "code",
   "execution_count": null,
   "id": "9720798f",
   "metadata": {},
   "outputs": [],
   "source": []
  }
 ],
 "metadata": {
  "celltoolbar": "Slideshow",
  "kernelspec": {
   "display_name": "Python 3 (ipykernel)",
   "language": "python",
   "name": "python3"
  },
  "language_info": {
   "codemirror_mode": {
    "name": "ipython",
    "version": 3
   },
   "file_extension": ".py",
   "mimetype": "text/x-python",
   "name": "python",
   "nbconvert_exporter": "python",
   "pygments_lexer": "ipython3",
   "version": "3.9.12"
  }
 },
 "nbformat": 4,
 "nbformat_minor": 5
}
