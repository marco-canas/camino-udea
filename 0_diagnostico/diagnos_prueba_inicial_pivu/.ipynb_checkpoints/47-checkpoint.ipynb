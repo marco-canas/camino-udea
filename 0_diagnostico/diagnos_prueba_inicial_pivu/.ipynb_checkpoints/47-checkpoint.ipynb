{
 "cells": [
  {
   "cell_type": "markdown",
   "id": "977d4692",
   "metadata": {},
   "source": []
  },
  {
   "cell_type": "markdown",
   "id": "94bee974",
   "metadata": {},
   "source": [
    "# Pregunta 47 "
   ]
  },
  {
   "cell_type": "markdown",
   "id": "995f9dca",
   "metadata": {},
   "source": [
    "A cada uno de los círculos que conforman la figura \"triangular\", se le asigna un número del 1 al 15, de manera tal que dicho número sea igual a la diferencia de los números ubicados en los dos círculos consecutivos del nivel inferior que son tangentes a este. "
   ]
  },
  {
   "cell_type": "markdown",
   "id": "53663394",
   "metadata": {},
   "source": []
  },
  {
   "cell_type": "markdown",
   "id": "04193e71",
   "metadata": {},
   "source": [
    "<img src = ''>"
   ]
  },
  {
   "cell_type": "markdown",
   "id": "3913256d",
   "metadata": {},
   "source": [
    "## Conceptos asociados "
   ]
  },
  {
   "cell_type": "markdown",
   "id": "4ed42bdd",
   "metadata": {},
   "source": [
    "* Circulos tangentes\n",
    "\n",
    "<img src = 'https://matematicasies.com/local/cache-vignettes/L412xH214/maties_4386_b-cb68d.png?1578723601'> "
   ]
  },
  {
   "cell_type": "code",
   "execution_count": null,
   "id": "e14e4723",
   "metadata": {},
   "outputs": [],
   "source": []
  },
  {
   "cell_type": "code",
   "execution_count": null,
   "id": "1e6b0290",
   "metadata": {},
   "outputs": [],
   "source": []
  },
  {
   "cell_type": "code",
   "execution_count": null,
   "id": "15161ba0",
   "metadata": {},
   "outputs": [],
   "source": []
  }
 ],
 "metadata": {
  "kernelspec": {
   "display_name": "Python 3 (ipykernel)",
   "language": "python",
   "name": "python3"
  },
  "language_info": {
   "codemirror_mode": {
    "name": "ipython",
    "version": 3
   },
   "file_extension": ".py",
   "mimetype": "text/x-python",
   "name": "python",
   "nbconvert_exporter": "python",
   "pygments_lexer": "ipython3",
   "version": "3.9.12"
  }
 },
 "nbformat": 4,
 "nbformat_minor": 5
}
