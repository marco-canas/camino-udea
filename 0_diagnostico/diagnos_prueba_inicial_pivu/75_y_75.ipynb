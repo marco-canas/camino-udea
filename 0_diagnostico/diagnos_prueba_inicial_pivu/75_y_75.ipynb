{
 "cells": [
  {
   "cell_type": "markdown",
   "metadata": {},
   "source": []
  },
  {
   "cell_type": "markdown",
   "metadata": {},
   "source": []
  },
  {
   "cell_type": "markdown",
   "metadata": {},
   "source": [
    "# Ejercicios 75 y 76 de la prueba diagnóstica del PIVU"
   ]
  },
  {
   "cell_type": "markdown",
   "metadata": {},
   "source": [
    "<img src = 'https://github.com/marco-canas/camino-udea/blob/main/0_diagnostico/diagnos_prueba_inicial_pivu/figura_1_ejer_75_y_76.png?raw=true'>"
   ]
  },
  {
   "cell_type": "markdown",
   "metadata": {},
   "source": [
    "Se tiene un triángulo equilátero, con los vértices numerados del 1 al 3, como muestra la figura 1.\n",
    "A este triángulo se le pueden hacer dos movimientos llamados f y g. El movimiento f rota el triángulo 120° en sentido horario y el movimiento g rota el triángulo alrededor del eje correspondiente a la bisectriz del ángulo con vértice en 1, como se indica en la figura:\n",
    "\n",
    "<img src = 'https://github.com/marco-canas/camino-udea/blob/main/0_diagnostico/diagnos_prueba_inicial_pivu/figura_2_ejer_75_y_76.png?raw=true'>"
   ]
  },
  {
   "cell_type": "markdown",
   "metadata": {},
   "source": [
    "## Pregunta 75  \n",
    "\n",
    "75.\tSi tomamos el triángulo inicial (figura 1) y le aplicamos el movimiento f y a este triángulo, le aplicamos el movimiento g, entonces de las siguientes opciones, la que muestra la numeración correcta de los vértices es:\n",
    "\n",
    "<img src = 'https://github.com/marco-canas/camino-udea/blob/main/0_diagnostico/diagnos_prueba_inicial_pivu/figura_3_opciones_respuesta_ejer_75.png?raw=true'> "
   ]
  },
  {
   "cell_type": "code",
   "execution_count": null,
   "metadata": {},
   "outputs": [],
   "source": []
  },
  {
   "cell_type": "markdown",
   "metadata": {},
   "source": [
    "# Animación de una rotación entorno a un punto\n",
    "\n"
   ]
  },
  {
   "cell_type": "code",
   "execution_count": null,
   "metadata": {},
   "outputs": [],
   "source": [
    "import numpy as np "
   ]
  },
  {
   "cell_type": "code",
   "execution_count": null,
   "metadata": {},
   "outputs": [],
   "source": []
  }
 ],
 "metadata": {
  "kernelspec": {
   "display_name": "Python 3.10.7 64-bit",
   "language": "python",
   "name": "python3"
  },
  "language_info": {
   "name": "python",
   "version": "3.10.7"
  },
  "orig_nbformat": 4,
  "vscode": {
   "interpreter": {
    "hash": "af153e239d61b5c0d363f35fe8a0509d492506f382d017c98fa3fb49fce70a72"
   }
  }
 },
 "nbformat": 4,
 "nbformat_minor": 2
}
