{
 "cells": [
  {
   "cell_type": "markdown",
   "id": "dfa19337",
   "metadata": {
    "slideshow": {
     "slide_type": "slide"
    }
   },
   "source": [
    "<table align=\"left\">\n",
    "  <td>\n",
    "    <a href=\"https://colab.research.google.com/github/marco-canas/camino-udea/blob/main/0_diagnostico/diagnos_prueba_inicial_pivu/51_exercise.ipynb\" target=\"_parent\"><img src=\"https://colab.research.google.com/assets/colab-badge.svg\" alt=\"Open In Colab\"/></a>\n",
    "  </td>\n",
    "  <td>\n",
    "    <a target=\"_blank\" href=\"https://kaggle.com/kernels/welcome?src=https://github.com/marco-canas/camino-udea/blob/main/0_diagnostico/diagnos_prueba_inicial_pivu/51_exercise.ipynb\"><img src=\"https://kaggle.com/static/images/open-in-kaggle.svg\" /></a>\n",
    "  </td>\n",
    "</table>\n"
   ]
  },
  {
   "cell_type": "markdown",
   "id": "ff8b5e97",
   "metadata": {
    "slideshow": {
     "slide_type": "slide"
    }
   },
   "source": [
    "# Ejercicio 51 de la prueba diagnóstica del PIVU"
   ]
  },
  {
   "cell_type": "markdown",
   "id": "a8fb4675",
   "metadata": {
    "slideshow": {
     "slide_type": "slide"
    }
   },
   "source": [
    "Martha y Leonor juegan a las cartas y convienen que la que pierda una partida deberá pagar a su compañera 5 US.   \n",
    "\n",
    "Después de 18 partidas, Martha ganó 40 US.   \n",
    "\n",
    "El número de partidas que gano Leonor fue:  \n",
    "\n",
    "A. 2  \n",
    "B. 3  \n",
    "C. 5  \n",
    "D. 6  \n"
   ]
  },
  {
   "cell_type": "markdown",
   "id": "3fadb506",
   "metadata": {
    "slideshow": {
     "slide_type": "slide"
    }
   },
   "source": [
    "## [Video de apoyo a la solución de este problema]() "
   ]
  },
  {
   "cell_type": "markdown",
   "id": "7ed3011c",
   "metadata": {
    "slideshow": {
     "slide_type": "slide"
    }
   },
   "source": [
    "## Tipo de razonamiento al que pertenece la pregunta:\n",
    "\n",
    "* Esquemas de proporcionalidad  \n",
    "\n"
   ]
  },
  {
   "cell_type": "markdown",
   "id": "cf9f8712",
   "metadata": {
    "slideshow": {
     "slide_type": "slide"
    }
   },
   "source": [
    "## Conceptos asociados al problema "
   ]
  },
  {
   "cell_type": "markdown",
   "id": "b19b77e0",
   "metadata": {
    "slideshow": {
     "slide_type": "slide"
    }
   },
   "source": [
    "* "
   ]
  },
  {
   "cell_type": "markdown",
   "id": "6ee098d1",
   "metadata": {
    "slideshow": {
     "slide_type": "slide"
    }
   },
   "source": [
    "## Autoevaluación y coevaluación"
   ]
  },
  {
   "cell_type": "markdown",
   "id": "7059d4bd",
   "metadata": {
    "slideshow": {
     "slide_type": "slide"
    }
   },
   "source": []
  },
  {
   "cell_type": "markdown",
   "id": "b70487f1",
   "metadata": {
    "slideshow": {
     "slide_type": "slide"
    }
   },
   "source": [
    "## Solución: "
   ]
  },
  {
   "cell_type": "markdown",
   "id": "980c0d59",
   "metadata": {
    "slideshow": {
     "slide_type": "slide"
    }
   },
   "source": [
    "Sean $m$ y $l$ el número de partidas que ganó marta y leonor, respectivamente "
   ]
  },
  {
   "cell_type": "markdown",
   "id": "a51ff942",
   "metadata": {
    "slideshow": {
     "slide_type": "slide"
    }
   },
   "source": [
    "$$gm = 5m - 5l $$\n",
    "\n",
    "donde $gm$ es lo ganado por marta. "
   ]
  },
  {
   "cell_type": "markdown",
   "id": "0ebb4f12",
   "metadata": {
    "slideshow": {
     "slide_type": "slide"
    }
   },
   "source": [
    "Como $m+l = 18$, entonces $l = 18 - m$ y sustituyendo en la ecuación (1) obtenemos:\n",
    "\n",
    "$$ 40 = 5(m -l) = 5(m - 18 + m) $$\n"
   ]
  },
  {
   "cell_type": "markdown",
   "id": "48ba6f43",
   "metadata": {
    "slideshow": {
     "slide_type": "slide"
    }
   },
   "source": [
    "$$ 8 = 2m - 18 $$"
   ]
  },
  {
   "cell_type": "markdown",
   "id": "ff957a0f",
   "metadata": {
    "slideshow": {
     "slide_type": "slide"
    }
   },
   "source": [
    "$$ 26 = 2m $$"
   ]
  },
  {
   "cell_type": "markdown",
   "id": "78d75d86",
   "metadata": {
    "slideshow": {
     "slide_type": "slide"
    }
   },
   "source": [
    "$$ m = 13 $$\n",
    "\n",
    "de donde $l = 5 $"
   ]
  },
  {
   "cell_type": "markdown",
   "id": "75862f43",
   "metadata": {
    "slideshow": {
     "slide_type": "slide"
    }
   },
   "source": [
    "## Referentes  "
   ]
  },
  {
   "cell_type": "code",
   "execution_count": null,
   "id": "28f6b60a",
   "metadata": {},
   "outputs": [],
   "source": []
  }
 ],
 "metadata": {
  "celltoolbar": "Slideshow",
  "kernelspec": {
   "display_name": "Python 3 (ipykernel)",
   "language": "python",
   "name": "python3"
  },
  "language_info": {
   "codemirror_mode": {
    "name": "ipython",
    "version": 3
   },
   "file_extension": ".py",
   "mimetype": "text/x-python",
   "name": "python",
   "nbconvert_exporter": "python",
   "pygments_lexer": "ipython3",
   "version": "3.9.7"
  },
  "latex_envs": {
   "LaTeX_envs_menu_present": true,
   "autoclose": false,
   "autocomplete": false,
   "bibliofile": "biblio.bib",
   "cite_by": "apalike",
   "current_citInitial": 1,
   "eqLabelWithNumbers": true,
   "eqNumInitial": 1,
   "hotkeys": {
    "equation": "Ctrl-E",
    "itemize": "Ctrl-I"
   },
   "labels_anchors": false,
   "latex_user_defs": false,
   "report_style_numbering": false,
   "user_envs_cfg": false
  },
  "rise": {
   "enable_chalkboard": true,
   "theme": "sky",
   "transition": "sky"
  }
 },
 "nbformat": 4,
 "nbformat_minor": 5
}
