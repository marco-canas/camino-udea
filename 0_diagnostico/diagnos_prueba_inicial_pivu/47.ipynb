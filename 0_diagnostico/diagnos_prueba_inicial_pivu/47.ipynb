{
 "cells": [
  {
   "cell_type": "markdown",
   "id": "d4ab0c71",
   "metadata": {},
   "source": [
    "<table align=\"left\">\n",
    "  <td>\n",
    "    <a href=\"https://colab.research.google.com/github/marco-canas/camino-udea/blob/main/0_diagnostico/diagnos_prueba_inicial_pivu/51_exercise.ipynb\" target=\"_parent\"><img src=\"https://colab.research.google.com/assets/colab-badge.svg\" alt=\"Open In Colab\"/></a>\n",
    "  </td>\n",
    "  <td>\n",
    "    <a target=\"_blank\" href=\"https://kaggle.com/kernels/welcome?src=https://github.com/marco-canas/camino-udea/blob/main/0_diagnostico/diagnos_prueba_inicial_pivu/51_exercise.ipynb\"><img src=\"https://kaggle.com/static/images/open-in-kaggle.svg\" /></a>\n",
    "  </td>\n",
    "</table>"
   ]
  },
  {
   "cell_type": "markdown",
   "id": "53992a1d",
   "metadata": {},
   "source": [
    "# Pregunta 47 "
   ]
  },
  {
   "cell_type": "markdown",
   "id": "01bf7335",
   "metadata": {},
   "source": [
    "A cada uno de los círculos que conforman la figura \"triangular\", se le asigna un número del 1 al 15, de manera tal que dicho número sea igual a la diferencia de los números ubicados en los dos círculos consecutivos del nivel inferior que son tangentes a este. "
   ]
  },
  {
   "cell_type": "markdown",
   "id": "e2ac173b",
   "metadata": {},
   "source": []
  },
  {
   "cell_type": "markdown",
   "id": "a9d8716e",
   "metadata": {},
   "source": [
    "<img src = ''>"
   ]
  },
  {
   "cell_type": "markdown",
   "id": "0469eea4",
   "metadata": {},
   "source": [
    "## Conceptos asociados "
   ]
  },
  {
   "cell_type": "markdown",
   "id": "ca350e8c",
   "metadata": {},
   "source": [
    "* Circulos tangentes\n",
    "\n",
    "<img src = 'https://matematicasies.com/local/cache-vignettes/L412xH214/maties_4386_b-cb68d.png?1578723601'> "
   ]
  },
  {
   "cell_type": "markdown",
   "id": "813d06f7",
   "metadata": {},
   "source": [
    "## Estrategias sugeridas para la solución  \n",
    "\n",
    "* voy llenando todos los circulitos de arriba a abajo siguiendo la regla que le plantean. "
   ]
  },
  {
   "cell_type": "code",
   "execution_count": null,
   "id": "bdce9020",
   "metadata": {},
   "outputs": [],
   "source": []
  },
  {
   "cell_type": "code",
   "execution_count": null,
   "id": "9cda3e18",
   "metadata": {},
   "outputs": [],
   "source": []
  }
 ],
 "metadata": {
  "kernelspec": {
   "display_name": "Python 3 (ipykernel)",
   "language": "python",
   "name": "python3"
  },
  "language_info": {
   "codemirror_mode": {
    "name": "ipython",
    "version": 3
   },
   "file_extension": ".py",
   "mimetype": "text/x-python",
   "name": "python",
   "nbconvert_exporter": "python",
   "pygments_lexer": "ipython3",
   "version": "3.9.12"
  }
 },
 "nbformat": 4,
 "nbformat_minor": 5
}
