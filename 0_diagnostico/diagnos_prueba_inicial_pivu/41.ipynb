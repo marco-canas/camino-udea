{
 "cells": [
  {
   "cell_type": "markdown",
   "id": "937b25c1",
   "metadata": {
    "slideshow": {
     "slide_type": "slide"
    }
   },
   "source": [
    "<table align=\"left\">\n",
    "  <td>\n",
    "    <a href=\"https://colab.research.google.com/github/marco-canas/camino-udea/blob/main/0_diagnostico/diagnos_prueba_inicial_pivu/41.ipynb\" target=\"_parent\"><img src=\"https://colab.research.google.com/assets/colab-badge.svg\" alt=\"Open In Colab\"/></a>\n",
    "  </td>\n",
    "</table>"
   ]
  },
  {
   "cell_type": "markdown",
   "id": "4dbe5079",
   "metadata": {
    "slideshow": {
     "slide_type": "slide"
    }
   },
   "source": [
    "# Pregunta número 41 de la prueba diagn+ostica del PIVU"
   ]
  },
  {
   "cell_type": "markdown",
   "id": "80445201",
   "metadata": {
    "slideshow": {
     "slide_type": "slide"
    }
   },
   "source": [
    "Anita recibe de su padre una bolsa con 5 bolitas de chicle de las cuales 3 son rojas y dos azules. "
   ]
  },
  {
   "cell_type": "markdown",
   "id": "993374f3",
   "metadata": {
    "slideshow": {
     "slide_type": "slide"
    }
   },
   "source": [
    "Si Anita saca de la bolsa 3 bolas de chicle y se las come, entonces se puede afirmar con certeza que: "
   ]
  },
  {
   "cell_type": "markdown",
   "id": "6a9d5232",
   "metadata": {
    "slideshow": {
     "slide_type": "slide"
    }
   },
   "source": [
    "A.  Anita se comió tres bolas de chicle del mismo color.     \n",
    "B.  Anita se comió dos bolas de chicle azul y una roja.   \n",
    "C. \tAnita se comió por lo menos una bola de chicle roja  \n",
    "D.  Anita se comió por lo menos una bola de chicle azul  "
   ]
  },
  {
   "cell_type": "markdown",
   "id": "c51dabac",
   "metadata": {
    "slideshow": {
     "slide_type": "slide"
    }
   },
   "source": [
    "## [Video de apoyo]()"
   ]
  },
  {
   "cell_type": "markdown",
   "id": "a33ce880",
   "metadata": {
    "slideshow": {
     "slide_type": "slide"
    }
   },
   "source": [
    "## Conceptos asociados "
   ]
  },
  {
   "cell_type": "markdown",
   "id": "b9f6b317",
   "metadata": {
    "slideshow": {
     "slide_type": "slide"
    }
   },
   "source": [
    "* Probabilidad  "
   ]
  },
  {
   "cell_type": "markdown",
   "id": "64344927",
   "metadata": {
    "slideshow": {
     "slide_type": "slide"
    }
   },
   "source": [
    "## Estrategia de solución\n"
   ]
  },
  {
   "cell_type": "markdown",
   "id": "92f1eb00",
   "metadata": {
    "slideshow": {
     "slide_type": "slide"
    }
   },
   "source": [
    "En este tipo de pregunta debemos razonar por descarte, es decir, debemos revisar todas las opciones y revisar cuál es la satisfactoria. "
   ]
  },
  {
   "cell_type": "markdown",
   "id": "c3778c54",
   "metadata": {
    "slideshow": {
     "slide_type": "slide"
    }
   },
   "source": [
    "## Solución: "
   ]
  },
  {
   "cell_type": "markdown",
   "id": "4275c0a9",
   "metadata": {
    "slideshow": {
     "slide_type": "slide"
    }
   },
   "source": [
    "Veamos porqué no podemos estar seguros de la opción A, es decir, mostremos porqué no podemos afirmar con certeza que Anita se ha comido tres bolas de chiche del mismo color. \n",
    "De esta afirmación no podemos estar seguros pues al haber dos tipos de colores de bolitas de chicle, entonces al sacar tres podemos sacar\n",
    "* todas del mimo color rojo, \n",
    "* o dos rojas, y una azul\n",
    "* o una roja y dos azules\n",
    "por lo tanto, no podemos estar seguros de que al sacar tres bolitas, tres sean del mismo color. "
   ]
  },
  {
   "cell_type": "markdown",
   "id": "2745b590",
   "metadata": {
    "slideshow": {
     "slide_type": "slide"
    }
   },
   "source": [
    "Veamos porqué no podemos estar seguros de la opción B.  Es decir, veamos porqué no podemos estar seguros de que Anita se comió dos bolas de chicle azul y una roja. \n",
    "\n",
    "Porque también es posible que Anita se haya comido 3 bolitas de color rojo. \n",
    "\n"
   ]
  },
  {
   "cell_type": "markdown",
   "id": "e8d60576",
   "metadata": {
    "slideshow": {
     "slide_type": "slide"
    }
   },
   "source": [
    "Veamos que la opción C es la correcta, es decir, veamos que podemos estar seguros de que Anita se comió por lo menos una bola de chicle roja.\n",
    "\n",
    "De esto podemos estar seguros ya que al no haber sino solo dos bolas azules y comerse tre de las 5, obligatoriamente al menos una de las bolas debe ser roja. "
   ]
  },
  {
   "cell_type": "code",
   "execution_count": null,
   "id": "092848ae",
   "metadata": {},
   "outputs": [],
   "source": []
  }
 ],
 "metadata": {
  "celltoolbar": "Slideshow",
  "kernelspec": {
   "display_name": "Python 3 (ipykernel)",
   "language": "python",
   "name": "python3"
  },
  "language_info": {
   "codemirror_mode": {
    "name": "ipython",
    "version": 3
   },
   "file_extension": ".py",
   "mimetype": "text/x-python",
   "name": "python",
   "nbconvert_exporter": "python",
   "pygments_lexer": "ipython3",
   "version": "3.9.12"
  }
 },
 "nbformat": 4,
 "nbformat_minor": 5
}
