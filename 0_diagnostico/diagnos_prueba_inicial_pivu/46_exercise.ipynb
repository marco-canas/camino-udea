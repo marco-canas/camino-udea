{
 "cells": [
  {
   "cell_type": "markdown",
   "id": "6d6f9638",
   "metadata": {},
   "source": []
  },
  {
   "cell_type": "markdown",
   "id": "504d88a8",
   "metadata": {},
   "source": [
    "# Ejercicio 46 de la prueba Inicial "
   ]
  },
  {
   "cell_type": "markdown",
   "id": "231c78da",
   "metadata": {},
   "source": [
    "46.\tsobre una mesa de madera se forma un arreglo con cuatro dados normales como se muestra en la figura:"
   ]
  },
  {
   "cell_type": "markdown",
   "id": "ba972230",
   "metadata": {},
   "source": [
    "<img src = ''>"
   ]
  },
  {
   "cell_type": "markdown",
   "id": "d13aeae0",
   "metadata": {},
   "source": [
    "Si la suma de los puntos de dos caras opuestas en un dado normal es 7 y además el arreglo puede observarse desde todas sus vistas alrededor de la mesa, entonces la suma de los puntos no visibles del arreglo es:"
   ]
  },
  {
   "cell_type": "code",
   "execution_count": null,
   "id": "e502e6d3",
   "metadata": {},
   "outputs": [],
   "source": []
  },
  {
   "cell_type": "code",
   "execution_count": null,
   "id": "231c253e",
   "metadata": {},
   "outputs": [],
   "source": []
  },
  {
   "cell_type": "code",
   "execution_count": null,
   "id": "09db889c",
   "metadata": {},
   "outputs": [],
   "source": []
  },
  {
   "cell_type": "code",
   "execution_count": null,
   "id": "a5c8355d",
   "metadata": {},
   "outputs": [],
   "source": []
  },
  {
   "cell_type": "code",
   "execution_count": null,
   "id": "ec655846",
   "metadata": {},
   "outputs": [],
   "source": []
  }
 ],
 "metadata": {
  "kernelspec": {
   "display_name": "Python 3 (ipykernel)",
   "language": "python",
   "name": "python3"
  },
  "language_info": {
   "codemirror_mode": {
    "name": "ipython",
    "version": 3
   },
   "file_extension": ".py",
   "mimetype": "text/x-python",
   "name": "python",
   "nbconvert_exporter": "python",
   "pygments_lexer": "ipython3",
   "version": "3.9.7"
  }
 },
 "nbformat": 4,
 "nbformat_minor": 5
}
