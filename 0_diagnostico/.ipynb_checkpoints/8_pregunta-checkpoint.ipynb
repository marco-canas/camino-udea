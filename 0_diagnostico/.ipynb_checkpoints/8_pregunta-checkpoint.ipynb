{
 "cells": [
  {
   "cell_type": "markdown",
   "id": "ccc818d7",
   "metadata": {},
   "source": [
    "# Pregunta 8 de la prueba diagnóstica"
   ]
  },
  {
   "cell_type": "markdown",
   "id": "1990e418",
   "metadata": {},
   "source": [
    "poligono es figura en 2D  \n",
    "poliedro es figura en 3D   \n",
    "perímetro  \n",
    "perpendicularidad \n"
   ]
  },
  {
   "cell_type": "code",
   "execution_count": null,
   "id": "95440a24",
   "metadata": {},
   "outputs": [],
   "source": []
  },
  {
   "cell_type": "code",
   "execution_count": null,
   "id": "9134e03f",
   "metadata": {},
   "outputs": [],
   "source": []
  }
 ],
 "metadata": {
  "kernelspec": {
   "display_name": "Python 3",
   "language": "python",
   "name": "python3"
  },
  "language_info": {
   "codemirror_mode": {
    "name": "ipython",
    "version": 3
   },
   "file_extension": ".py",
   "mimetype": "text/x-python",
   "name": "python",
   "nbconvert_exporter": "python",
   "pygments_lexer": "ipython3",
   "version": "3.8.8"
  },
  "latex_envs": {
   "LaTeX_envs_menu_present": true,
   "autoclose": false,
   "autocomplete": false,
   "bibliofile": "biblio.bib",
   "cite_by": "apalike",
   "current_citInitial": 1,
   "eqLabelWithNumbers": true,
   "eqNumInitial": 1,
   "hotkeys": {
    "equation": "Ctrl-E",
    "itemize": "Ctrl-I"
   },
   "labels_anchors": false,
   "latex_user_defs": false,
   "report_style_numbering": false,
   "user_envs_cfg": false
  }
 },
 "nbformat": 4,
 "nbformat_minor": 5
}
