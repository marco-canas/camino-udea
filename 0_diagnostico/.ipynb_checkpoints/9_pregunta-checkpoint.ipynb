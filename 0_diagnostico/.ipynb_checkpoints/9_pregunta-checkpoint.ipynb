{
 "cells": [
  {
   "cell_type": "markdown",
   "id": "7e7ed7b6",
   "metadata": {},
   "source": [
    "# Pregunta 9 de la prueba diagnóstica"
   ]
  },
  {
   "cell_type": "markdown",
   "id": "aa258935",
   "metadata": {},
   "source": [
    "* ¿Qué es una función? \n",
    "* Representación gráfica de una función. \n",
    "* Criterio de la recta vertical para funciones \n"
   ]
  },
  {
   "cell_type": "code",
   "execution_count": null,
   "id": "f68d96dd",
   "metadata": {},
   "outputs": [],
   "source": []
  },
  {
   "cell_type": "code",
   "execution_count": null,
   "id": "f2ab392c",
   "metadata": {},
   "outputs": [],
   "source": []
  },
  {
   "cell_type": "markdown",
   "id": "16808730",
   "metadata": {},
   "source": [
    "## Referentes  \n",
    "\n",
    "* https://es.wikipedia.org/wiki/Funci%C3%B3n_(matem%C3%A1tica) "
   ]
  },
  {
   "cell_type": "code",
   "execution_count": null,
   "id": "8799da0d",
   "metadata": {},
   "outputs": [],
   "source": []
  }
 ],
 "metadata": {
  "kernelspec": {
   "display_name": "Python 3",
   "language": "python",
   "name": "python3"
  },
  "language_info": {
   "codemirror_mode": {
    "name": "ipython",
    "version": 3
   },
   "file_extension": ".py",
   "mimetype": "text/x-python",
   "name": "python",
   "nbconvert_exporter": "python",
   "pygments_lexer": "ipython3",
   "version": "3.8.8"
  },
  "latex_envs": {
   "LaTeX_envs_menu_present": true,
   "autoclose": false,
   "autocomplete": false,
   "bibliofile": "biblio.bib",
   "cite_by": "apalike",
   "current_citInitial": 1,
   "eqLabelWithNumbers": true,
   "eqNumInitial": 1,
   "hotkeys": {
    "equation": "Ctrl-E",
    "itemize": "Ctrl-I"
   },
   "labels_anchors": false,
   "latex_user_defs": false,
   "report_style_numbering": false,
   "user_envs_cfg": false
  }
 },
 "nbformat": 4,
 "nbformat_minor": 5
}
