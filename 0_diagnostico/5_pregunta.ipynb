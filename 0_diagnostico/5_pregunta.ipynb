{
 "cells": [
  {
   "cell_type": "markdown",
   "id": "4e915017",
   "metadata": {
    "slideshow": {
     "slide_type": "slide"
    }
   },
   "source": [
    "\n",
    "<table align=\"left\">\n",
    "  <td>\n",
    "    <a href=\"https://colab.research.google.com/github/marco-canas/taca/blob/main/ref/charu/7_ch/7_2_SVD_A_Linear_Algebra_Perspective.ipynb\" target=\"_parent\"><img src=\"https://colab.research.google.com/assets/colab-badge.svg\" alt=\"Open In Colab\"/></a>\n",
    "  </td>\n",
    "  <td>\n",
    "    <a target=\"_blank\" href=\"https://kaggle.com/kernels/welcome?src=https://github.com/marco-canas/taca/blob/main/ref/charu/7_ch/7_2_SVD_A_Linear_Algebra_Perspective.ipynb\"><img src=\"https://kaggle.com/static/images/open-in-kaggle.svg\" /></a>\n",
    "  </td>\n",
    "</table>\n"
   ]
  },
  {
   "cell_type": "markdown",
   "id": "6af0fba4",
   "metadata": {
    "slideshow": {
     "slide_type": "slide"
    }
   },
   "source": [
    "# Pregunta 5 de la prueba diagnóstica "
   ]
  },
  {
   "cell_type": "markdown",
   "id": "f70ec481",
   "metadata": {
    "slideshow": {
     "slide_type": "slide"
    }
   },
   "source": [
    "Si un triángulo rectángulo tiene un cateto de $3$ cm y su hipotenusa mide $\\sqrt{10}$ cm, entonces el cateto faltante mide:  \n",
    "(a) $1$ cm  \n",
    "(b) $2$ cm  \n",
    "(c) $3$ cm  \n",
    "(d) $4$ cm"
   ]
  },
  {
   "cell_type": "markdown",
   "id": "0c21f600",
   "metadata": {
    "slideshow": {
     "slide_type": "slide"
    }
   },
   "source": [
    "## [Video de apoyo a la lectura]()"
   ]
  },
  {
   "cell_type": "markdown",
   "id": "3f7f0a7e",
   "metadata": {
    "slideshow": {
     "slide_type": "slide"
    }
   },
   "source": [
    "## Conceptos asociados "
   ]
  },
  {
   "cell_type": "markdown",
   "id": "28956575",
   "metadata": {
    "slideshow": {
     "slide_type": "slide"
    }
   },
   "source": [
    "* Teorema de Pitágoras\n",
    "\n",
    "$$ a^{2} + b^{2} = c^{2} $$\n",
    "\n",
    "donde $a$ y $b$ son los catetos. Y $c$ es la medida de la hipotenusa. \n",
    "\n",
    "* Triángulos rectángulos \n",
    "\n",
    "* Despeje de variables \n",
    "\n",
    "$$ a^{2} = c^{2} - b^{2} $$\n",
    "\n",
    "* Precedencia de las operaciones en una expresión algebraica. \n",
    "\n"
   ]
  },
  {
   "cell_type": "markdown",
   "id": "96c69253",
   "metadata": {
    "slideshow": {
     "slide_type": "slide"
    }
   },
   "source": [
    "$$ a^{2} = 10 - 9 = 1 $$"
   ]
  },
  {
   "cell_type": "markdown",
   "id": "be7f9d89",
   "metadata": {
    "slideshow": {
     "slide_type": "slide"
    }
   },
   "source": [
    "$$ a = 1 $$"
   ]
  },
  {
   "cell_type": "markdown",
   "id": "8168a3a1",
   "metadata": {
    "slideshow": {
     "slide_type": "slide"
    }
   },
   "source": [
    "### Conclusión:\n",
    "\n",
    "El tercer cateto mide 1 centímetro y así la respuesta correcta es $(a)$.  \n"
   ]
  },
  {
   "cell_type": "markdown",
   "id": "46f2b927",
   "metadata": {},
   "source": [
    "## Referentes  \n",
    "\n",
    "* Razonamiento lógico: Cuaderno de trabajo. "
   ]
  },
  {
   "cell_type": "code",
   "execution_count": null,
   "id": "986e3b68",
   "metadata": {},
   "outputs": [],
   "source": []
  }
 ],
 "metadata": {
  "celltoolbar": "Slideshow",
  "kernelspec": {
   "display_name": "Python 3",
   "language": "python",
   "name": "python3"
  },
  "language_info": {
   "codemirror_mode": {
    "name": "ipython",
    "version": 3
   },
   "file_extension": ".py",
   "mimetype": "text/x-python",
   "name": "python",
   "nbconvert_exporter": "python",
   "pygments_lexer": "ipython3",
   "version": "3.8.8"
  },
  "latex_envs": {
   "LaTeX_envs_menu_present": true,
   "autoclose": false,
   "autocomplete": false,
   "bibliofile": "biblio.bib",
   "cite_by": "apalike",
   "current_citInitial": 1,
   "eqLabelWithNumbers": true,
   "eqNumInitial": 1,
   "hotkeys": {
    "equation": "Ctrl-E",
    "itemize": "Ctrl-I"
   },
   "labels_anchors": false,
   "latex_user_defs": false,
   "report_style_numbering": false,
   "user_envs_cfg": false
  },
  "rise": {
   "enable_chalkboard": true,
   "theme": "sky",
   "transition": "sky"
  }
 },
 "nbformat": 4,
 "nbformat_minor": 5
}
