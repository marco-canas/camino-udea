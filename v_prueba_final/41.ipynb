{
 "cells": [
  {
   "cell_type": "markdown",
   "id": "a846f53c",
   "metadata": {
    "slideshow": {
     "slide_type": "slide"
    }
   },
   "source": [
    "<table align=\"left\">\n",
    "  <td>\n",
    "    <a href=\"https://colab.research.google.com/github/marco-canas/camino-udea/blob/main/0_diagnostico/diagnos_prueba_inicial_pivu/41.ipynb\" target=\"_parent\"><img src=\"https://colab.research.google.com/assets/colab-badge.svg\" alt=\"Open In Colab\"/></a>\n",
    "  </td>\n",
    "</table>"
   ]
  },
  {
   "cell_type": "markdown",
   "id": "b87b3579",
   "metadata": {
    "slideshow": {
     "slide_type": "slide"
    }
   },
   "source": [
    "# Ejercicio 41 de la prueba final del PIVU"
   ]
  },
  {
   "cell_type": "markdown",
   "id": "bac889de",
   "metadata": {
    "slideshow": {
     "slide_type": "slide"
    }
   },
   "source": [
    "## Preguntas 41 y 42.\n",
    "\n",
    "$A$, $B$ y $C$ son candidatos a la presidencia de una cooperativa.   \n",
    "\n",
    "Una investigación mostró que, entre los socios entrevistados, 110 no van a votar.    \n",
    "\n",
    "Entre los entrevistados que sí pretenden participar, 20 van a votar por el candidato $A$, 50 por el candidato $B$, 35 por el candidato $C$, 110 definitivamente no van a votar por el candidato $A$, 70 no van a votar por $C$, y 10 aun no han decidido entre $A$ y $C$.   \n",
    "\n",
    "También, la investigación mostró que 15 de los entrevistados que pretenden votar, no tienen preferencia, y por tanto, pueden votar por cualquiera de los tres candidatos.   \n",
    "\n",
    "Con base en estos datos:"
   ]
  },
  {
   "cell_type": "markdown",
   "id": "289434a6",
   "metadata": {
    "slideshow": {
     "slide_type": "slide"
    }
   },
   "source": [
    "41.\tEl número de entrevistados que no ha decidido si votar por B o por C es:\n",
    "\n",
    "A.\t0  \n",
    "B.\t15  \n",
    "C.\t25  \n",
    "D.\t30  "
   ]
  },
  {
   "cell_type": "markdown",
   "id": "0f80aa01",
   "metadata": {
    "slideshow": {
     "slide_type": "slide"
    }
   },
   "source": [
    "## Solución"
   ]
  },
  {
   "cell_type": "markdown",
   "id": "26a90fb6",
   "metadata": {
    "slideshow": {
     "slide_type": "slide"
    }
   },
   "source": []
  },
  {
   "cell_type": "markdown",
   "id": "03a2f234",
   "metadata": {
    "slideshow": {
     "slide_type": "slide"
    }
   },
   "source": [
    "## Tipo de razonamiento al que este ejercicio pertenece"
   ]
  },
  {
   "cell_type": "code",
   "execution_count": null,
   "id": "ed52c717",
   "metadata": {
    "slideshow": {
     "slide_type": "slide"
    }
   },
   "outputs": [],
   "source": []
  }
 ],
 "metadata": {
  "celltoolbar": "Slideshow",
  "kernelspec": {
   "display_name": "Python 3 (ipykernel)",
   "language": "python",
   "name": "python3"
  },
  "language_info": {
   "codemirror_mode": {
    "name": "ipython",
    "version": 3
   },
   "file_extension": ".py",
   "mimetype": "text/x-python",
   "name": "python",
   "nbconvert_exporter": "python",
   "pygments_lexer": "ipython3",
   "version": "3.9.12"
  }
 },
 "nbformat": 4,
 "nbformat_minor": 5
}
