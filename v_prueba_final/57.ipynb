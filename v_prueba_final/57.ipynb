{
 "cells": [
  {
   "cell_type": "markdown",
   "id": "99450f44",
   "metadata": {},
   "source": []
  },
  {
   "cell_type": "markdown",
   "id": "1b7e0bef",
   "metadata": {},
   "source": [
    "# Ejercicio 57  de la prueba final del PIVU"
   ]
  },
  {
   "cell_type": "markdown",
   "id": "4c6ec563",
   "metadata": {},
   "source": [
    "57.\tP Q R S es un paralelogramo, T es el punto medio de SR. La parte del área del paralelogramo correspondiente al área del $\\Delta QST$ es:\n",
    "\n",
    "<img src = ''>\n",
    "\n",
    "A.\t3/8  \n",
    "B.\t1/3  \n",
    "C.\t1/4  \n",
    "D.\t2/5  \n"
   ]
  },
  {
   "cell_type": "markdown",
   "id": "305e184b",
   "metadata": {},
   "source": [
    "## Solución: "
   ]
  },
  {
   "cell_type": "markdown",
   "id": "4ab80db8",
   "metadata": {},
   "source": []
  },
  {
   "cell_type": "code",
   "execution_count": null,
   "id": "8260d7d8",
   "metadata": {},
   "outputs": [],
   "source": []
  },
  {
   "cell_type": "code",
   "execution_count": null,
   "id": "2b61c514",
   "metadata": {},
   "outputs": [],
   "source": []
  },
  {
   "cell_type": "code",
   "execution_count": null,
   "id": "069a9c42",
   "metadata": {},
   "outputs": [],
   "source": []
  },
  {
   "cell_type": "code",
   "execution_count": null,
   "id": "bee6024f",
   "metadata": {},
   "outputs": [],
   "source": []
  },
  {
   "cell_type": "code",
   "execution_count": null,
   "id": "b12bf098",
   "metadata": {},
   "outputs": [],
   "source": []
  },
  {
   "cell_type": "code",
   "execution_count": null,
   "id": "3ddb787c",
   "metadata": {},
   "outputs": [],
   "source": []
  },
  {
   "cell_type": "code",
   "execution_count": null,
   "id": "a75a5598",
   "metadata": {},
   "outputs": [],
   "source": []
  }
 ],
 "metadata": {
  "kernelspec": {
   "display_name": "Python 3 (ipykernel)",
   "language": "python",
   "name": "python3"
  },
  "language_info": {
   "codemirror_mode": {
    "name": "ipython",
    "version": 3
   },
   "file_extension": ".py",
   "mimetype": "text/x-python",
   "name": "python",
   "nbconvert_exporter": "python",
   "pygments_lexer": "ipython3",
   "version": "3.9.12"
  }
 },
 "nbformat": 4,
 "nbformat_minor": 5
}
