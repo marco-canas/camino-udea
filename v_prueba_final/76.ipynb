{
 "cells": [
  {
   "cell_type": "markdown",
   "id": "3bb356dd",
   "metadata": {},
   "source": []
  },
  {
   "cell_type": "markdown",
   "id": "df59b6b3",
   "metadata": {},
   "source": [
    "# Preguntas 76, 77 y 78 de la prueba final del PIVU"
   ]
  },
  {
   "cell_type": "markdown",
   "id": "d3f93a9e",
   "metadata": {},
   "source": [
    "## Preguntas  de la 76 a la  78.\n",
    "A continuación se describe un procedimiento para escribir y leer números en clave, y funciona así:\n",
    "\n",
    "a).\tSímbolos que representan dígitos en forma directa\n",
    "\t: representa el número cero.\n",
    "    :  representa el número 1.\n",
    "    :   representa el número 2.\n",
    "    :  representa el número 3.\n",
    "    \t    :   representa el número 4.\n"
   ]
  },
  {
   "cell_type": "code",
   "execution_count": null,
   "id": "85b062c8",
   "metadata": {},
   "outputs": [],
   "source": []
  },
  {
   "cell_type": "code",
   "execution_count": null,
   "id": "a17b6cac",
   "metadata": {},
   "outputs": [],
   "source": []
  },
  {
   "cell_type": "code",
   "execution_count": null,
   "id": "d0080ade",
   "metadata": {},
   "outputs": [],
   "source": []
  },
  {
   "cell_type": "code",
   "execution_count": null,
   "id": "ef23877c",
   "metadata": {},
   "outputs": [],
   "source": []
  },
  {
   "cell_type": "code",
   "execution_count": null,
   "id": "17d1d687",
   "metadata": {},
   "outputs": [],
   "source": []
  },
  {
   "cell_type": "code",
   "execution_count": null,
   "id": "48d4cafc",
   "metadata": {},
   "outputs": [],
   "source": []
  },
  {
   "cell_type": "code",
   "execution_count": null,
   "id": "7a1094db",
   "metadata": {},
   "outputs": [],
   "source": []
  },
  {
   "cell_type": "code",
   "execution_count": null,
   "id": "a0b6801e",
   "metadata": {},
   "outputs": [],
   "source": []
  },
  {
   "cell_type": "code",
   "execution_count": null,
   "id": "055df428",
   "metadata": {},
   "outputs": [],
   "source": []
  },
  {
   "cell_type": "code",
   "execution_count": null,
   "id": "356a3451",
   "metadata": {},
   "outputs": [],
   "source": []
  },
  {
   "cell_type": "code",
   "execution_count": null,
   "id": "bc5f926b",
   "metadata": {},
   "outputs": [],
   "source": []
  },
  {
   "cell_type": "code",
   "execution_count": null,
   "id": "fc7e12e0",
   "metadata": {},
   "outputs": [],
   "source": []
  },
  {
   "cell_type": "code",
   "execution_count": null,
   "id": "347e2b4f",
   "metadata": {},
   "outputs": [],
   "source": []
  }
 ],
 "metadata": {
  "kernelspec": {
   "display_name": "Python 3 (ipykernel)",
   "language": "python",
   "name": "python3"
  },
  "language_info": {
   "codemirror_mode": {
    "name": "ipython",
    "version": 3
   },
   "file_extension": ".py",
   "mimetype": "text/x-python",
   "name": "python",
   "nbconvert_exporter": "python",
   "pygments_lexer": "ipython3",
   "version": "3.9.12"
  }
 },
 "nbformat": 4,
 "nbformat_minor": 5
}
