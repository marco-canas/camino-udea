{
 "cells": [
  {
   "cell_type": "markdown",
   "id": "4eabb033",
   "metadata": {},
   "source": []
  },
  {
   "cell_type": "markdown",
   "id": "08577e5f",
   "metadata": {},
   "source": [
    "# Ejercicio 56 de la prueba final del PIVU"
   ]
  },
  {
   "cell_type": "markdown",
   "id": "ef6fae09",
   "metadata": {},
   "source": [
    "56.\tEl número 2002 es un palíndrome (un número que se lee igual de izquierda a derecha que de derecha a izquierda). El producto  de los dígitos del siguiente número palíndrome después del 2002 es:  \n",
    "\n",
    "A.\t0  \n",
    "B.\t4  \n",
    "C.\t9  \n",
    "D.\t16  \n"
   ]
  },
  {
   "cell_type": "markdown",
   "id": "c65fda64",
   "metadata": {},
   "source": [
    "## Solución"
   ]
  },
  {
   "cell_type": "markdown",
   "id": "d2ed33b2",
   "metadata": {},
   "source": []
  },
  {
   "cell_type": "markdown",
   "id": "e7c01e72",
   "metadata": {},
   "source": [
    "## Estrategia de solución"
   ]
  },
  {
   "cell_type": "code",
   "execution_count": null,
   "id": "29790d2f",
   "metadata": {},
   "outputs": [],
   "source": []
  },
  {
   "cell_type": "markdown",
   "id": "30176c5c",
   "metadata": {},
   "source": [
    "## Conceptos asociados"
   ]
  },
  {
   "cell_type": "code",
   "execution_count": null,
   "id": "4011ff85",
   "metadata": {},
   "outputs": [],
   "source": []
  },
  {
   "cell_type": "markdown",
   "id": "46e5442a",
   "metadata": {},
   "source": [
    "## Tipo de razonamiento al que pertenece"
   ]
  },
  {
   "cell_type": "markdown",
   "id": "8dc6597a",
   "metadata": {},
   "source": []
  },
  {
   "cell_type": "code",
   "execution_count": null,
   "id": "7ff72a23",
   "metadata": {},
   "outputs": [],
   "source": []
  },
  {
   "cell_type": "code",
   "execution_count": null,
   "id": "367839b7",
   "metadata": {},
   "outputs": [],
   "source": []
  },
  {
   "cell_type": "code",
   "execution_count": null,
   "id": "a3e016ec",
   "metadata": {},
   "outputs": [],
   "source": []
  },
  {
   "cell_type": "code",
   "execution_count": null,
   "id": "1c439d9d",
   "metadata": {},
   "outputs": [],
   "source": []
  },
  {
   "cell_type": "code",
   "execution_count": null,
   "id": "ee4b3e1b",
   "metadata": {},
   "outputs": [],
   "source": []
  },
  {
   "cell_type": "code",
   "execution_count": null,
   "id": "6c0421f1",
   "metadata": {},
   "outputs": [],
   "source": []
  },
  {
   "cell_type": "code",
   "execution_count": null,
   "id": "a1d68d75",
   "metadata": {},
   "outputs": [],
   "source": []
  }
 ],
 "metadata": {
  "kernelspec": {
   "display_name": "Python 3 (ipykernel)",
   "language": "python",
   "name": "python3"
  },
  "language_info": {
   "codemirror_mode": {
    "name": "ipython",
    "version": 3
   },
   "file_extension": ".py",
   "mimetype": "text/x-python",
   "name": "python",
   "nbconvert_exporter": "python",
   "pygments_lexer": "ipython3",
   "version": "3.9.12"
  }
 },
 "nbformat": 4,
 "nbformat_minor": 5
}
