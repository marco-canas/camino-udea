{
 "cells": [
  {
   "cell_type": "markdown",
   "id": "cdfccbab",
   "metadata": {
    "slideshow": {
     "slide_type": "slide"
    }
   },
   "source": [
    "<table align=\"left\">\n",
    "  <td>\n",
    "    <a href=\"https://colab.research.google.com/github/marco-canas/camino-udea/blob/main/0_diagnostico/diagnos_prueba_inicial_pivu/41.ipynb\" target=\"_parent\"><img src=\"https://colab.research.google.com/assets/colab-badge.svg\" alt=\"Open In Colab\"/></a>\n",
    "  </td>\n",
    "</table>"
   ]
  },
  {
   "cell_type": "markdown",
   "id": "3013256b",
   "metadata": {
    "slideshow": {
     "slide_type": "slide"
    }
   },
   "source": [
    "# Ejercicio 60 de la prueba final del PIVU"
   ]
  },
  {
   "cell_type": "markdown",
   "id": "fc00bb47",
   "metadata": {
    "slideshow": {
     "slide_type": "slide"
    }
   },
   "source": [
    "En la figura se muestra un sistema de 3 ruedas dentadas engranadas ubicadas entre 2 cremalleras que están en movimiento.  \n",
    "\n",
    "Si la rueda intermedia gira en el sentido de las manecillas del reloj, la dirección en la que se mueven las dos cremalleras es:\n"
   ]
  },
  {
   "cell_type": "markdown",
   "id": "99b4b585",
   "metadata": {
    "slideshow": {
     "slide_type": "slide"
    }
   },
   "source": [
    "<img src = 'https://github.com/marco-canas/camino-udea/blob/main/v_prueba_final/ejer_60.jpg?raw=true'>"
   ]
  },
  {
   "cell_type": "markdown",
   "id": "b3c724c3",
   "metadata": {
    "slideshow": {
     "slide_type": "slide"
    }
   },
   "source": [
    "A.\t1 y 3  \n",
    "B.\t2 y 4  \n",
    "C.\t1 y 4  \n",
    "D.\t2 y 3  \n"
   ]
  },
  {
   "cell_type": "markdown",
   "id": "92747d86",
   "metadata": {},
   "source": [
    "## Solución: "
   ]
  },
  {
   "cell_type": "markdown",
   "id": "e4f76427",
   "metadata": {
    "slideshow": {
     "slide_type": "slide"
    }
   },
   "source": []
  },
  {
   "cell_type": "code",
   "execution_count": null,
   "id": "a6fb3a97",
   "metadata": {
    "slideshow": {
     "slide_type": "slide"
    }
   },
   "outputs": [],
   "source": []
  },
  {
   "cell_type": "code",
   "execution_count": null,
   "id": "67e13eb6",
   "metadata": {},
   "outputs": [],
   "source": []
  },
  {
   "cell_type": "code",
   "execution_count": null,
   "id": "fa2f64fd",
   "metadata": {},
   "outputs": [],
   "source": []
  },
  {
   "cell_type": "code",
   "execution_count": null,
   "id": "4e596c4e",
   "metadata": {},
   "outputs": [],
   "source": []
  }
 ],
 "metadata": {
  "celltoolbar": "Slideshow",
  "kernelspec": {
   "display_name": "Python 3 (ipykernel)",
   "language": "python",
   "name": "python3"
  },
  "language_info": {
   "codemirror_mode": {
    "name": "ipython",
    "version": 3
   },
   "file_extension": ".py",
   "mimetype": "text/x-python",
   "name": "python",
   "nbconvert_exporter": "python",
   "pygments_lexer": "ipython3",
   "version": "3.9.12"
  }
 },
 "nbformat": 4,
 "nbformat_minor": 5
}
