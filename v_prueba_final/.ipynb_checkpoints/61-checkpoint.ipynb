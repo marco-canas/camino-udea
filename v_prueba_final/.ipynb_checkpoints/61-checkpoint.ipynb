{
 "cells": [
  {
   "cell_type": "markdown",
   "id": "82001363",
   "metadata": {
    "slideshow": {
     "slide_type": "slide"
    }
   },
   "source": [
    "<table align=\"left\">\n",
    "  <td>\n",
    "    <a href=\"https://colab.research.google.com/github/marco-canas/camino-udea/blob/main/0_diagnostico/diagnos_prueba_inicial_pivu/41.ipynb\" target=\"_parent\"><img src=\"https://colab.research.google.com/assets/colab-badge.svg\" alt=\"Open In Colab\"/></a>\n",
    "  </td>\n",
    "</table>"
   ]
  },
  {
   "cell_type": "markdown",
   "id": "bbbfbbca",
   "metadata": {
    "slideshow": {
     "slide_type": "slide"
    }
   },
   "source": [
    "# Ejercicio 61 de la prueba final del PIVU"
   ]
  },
  {
   "cell_type": "markdown",
   "id": "d7660067",
   "metadata": {
    "slideshow": {
     "slide_type": "slide"
    }
   },
   "source": [
    "<img src = 'https://github.com/marco-canas/camino-udea/blob/main/v_prueba_final/ejer_61.jpg?raw=true'>"
   ]
  },
  {
   "cell_type": "markdown",
   "id": "be7b2058",
   "metadata": {
    "slideshow": {
     "slide_type": "slide"
    }
   },
   "source": [
    "En los dibujos I y II se muestran dos bicicletas sin cadena transmisora, con llantas delanteras de igual diámetro, pero la llanta trasera en I tiene el diámetro menor que la de II.   \n",
    "\n",
    "Si ambos ciclistas pedalean con la misma rapidez, de las siguientes afirmaciones la única verdadera es:  "
   ]
  },
  {
   "cell_type": "markdown",
   "id": "43823d2a",
   "metadata": {
    "slideshow": {
     "slide_type": "slide"
    }
   },
   "source": [
    "A.\tAumentando el diámetro de la llanta delantera de II se consigue que los ciclistas recorran la misma distancia en el mismo tiempo  \n",
    "B.\tEn un mismo intervalo de tiempo, el ciclista en II recorre mayor distancia que el ciclista en  I  \n",
    "C.\tAmbos ciclistas recorren la misma distancia en un  mismo intervalo de tiempo  \n",
    "D.\tEl ciclista en I avanza más rápido que el ciclista en II  "
   ]
  },
  {
   "cell_type": "markdown",
   "id": "e2773aca",
   "metadata": {
    "slideshow": {
     "slide_type": "slide"
    }
   },
   "source": [
    "## Solución: "
   ]
  },
  {
   "cell_type": "code",
   "execution_count": null,
   "id": "8a26aa55",
   "metadata": {
    "slideshow": {
     "slide_type": "slide"
    }
   },
   "outputs": [],
   "source": []
  },
  {
   "cell_type": "markdown",
   "id": "24b13076",
   "metadata": {
    "slideshow": {
     "slide_type": "slide"
    }
   },
   "source": [
    "## Estrategia de solución"
   ]
  },
  {
   "cell_type": "code",
   "execution_count": null,
   "id": "dff3c21f",
   "metadata": {
    "slideshow": {
     "slide_type": "slide"
    }
   },
   "outputs": [],
   "source": []
  }
 ],
 "metadata": {
  "celltoolbar": "Slideshow",
  "kernelspec": {
   "display_name": "Python 3 (ipykernel)",
   "language": "python",
   "name": "python3"
  },
  "language_info": {
   "codemirror_mode": {
    "name": "ipython",
    "version": 3
   },
   "file_extension": ".py",
   "mimetype": "text/x-python",
   "name": "python",
   "nbconvert_exporter": "python",
   "pygments_lexer": "ipython3",
   "version": "3.9.12"
  }
 },
 "nbformat": 4,
 "nbformat_minor": 5
}
