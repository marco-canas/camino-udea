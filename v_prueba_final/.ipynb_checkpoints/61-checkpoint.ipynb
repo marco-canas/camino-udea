{
 "cells": [
  {
   "cell_type": "markdown",
   "id": "82001363",
   "metadata": {},
   "source": []
  },
  {
   "cell_type": "markdown",
   "id": "bbbfbbca",
   "metadata": {},
   "source": [
    "# Ejercicio 61 de la prueba final del PIVU"
   ]
  },
  {
   "cell_type": "markdown",
   "id": "d7660067",
   "metadata": {},
   "source": [
    "<img src = 'https://github.com/marco-canas/camino-udea/blob/main/v_prueba_final/ejer_61.jpg?raw=true'>"
   ]
  },
  {
   "cell_type": "code",
   "execution_count": null,
   "id": "8fde96f9",
   "metadata": {},
   "outputs": [],
   "source": []
  },
  {
   "cell_type": "code",
   "execution_count": null,
   "id": "f82f8552",
   "metadata": {},
   "outputs": [],
   "source": []
  },
  {
   "cell_type": "code",
   "execution_count": null,
   "id": "8a26aa55",
   "metadata": {},
   "outputs": [],
   "source": []
  },
  {
   "cell_type": "code",
   "execution_count": null,
   "id": "fee5d36c",
   "metadata": {},
   "outputs": [],
   "source": []
  }
 ],
 "metadata": {
  "kernelspec": {
   "display_name": "Python 3 (ipykernel)",
   "language": "python",
   "name": "python3"
  },
  "language_info": {
   "codemirror_mode": {
    "name": "ipython",
    "version": 3
   },
   "file_extension": ".py",
   "mimetype": "text/x-python",
   "name": "python",
   "nbconvert_exporter": "python",
   "pygments_lexer": "ipython3",
   "version": "3.9.12"
  }
 },
 "nbformat": 4,
 "nbformat_minor": 5
}
