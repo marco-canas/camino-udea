{
 "cells": [
  {
   "cell_type": "markdown",
   "id": "5ba75b35",
   "metadata": {},
   "source": []
  },
  {
   "cell_type": "markdown",
   "id": "bba28979",
   "metadata": {},
   "source": [
    "# Ejercicio 58 de la prueba final del PIVU"
   ]
  },
  {
   "cell_type": "markdown",
   "id": "747a9109",
   "metadata": {},
   "source": [
    "58.\tSe desea pintar completamente una pirámide de base cuadrada de lado un metro y los triángulos que cierran la pirámide son equiláteros, como lo muestra la figura. El área a pintar es:\n",
    "\n",
    "<img src = 'https://github.com/marco-canas/camino-udea/blob/main/v_prueba_final/ejer_58.jpg?raw=true'>  \n",
    "\n",
    "\n",
    "A.$\\sqrt{2}$  \n",
    "B. $\\sqrt{3}$  \n",
    "C. $\\sqrt{3} + 1$   \n",
    "D. 3\n",
    "\n",
    "\n"
   ]
  },
  {
   "cell_type": "code",
   "execution_count": null,
   "id": "adc96530",
   "metadata": {},
   "outputs": [],
   "source": []
  },
  {
   "cell_type": "code",
   "execution_count": null,
   "id": "caf2ca20",
   "metadata": {},
   "outputs": [],
   "source": []
  },
  {
   "cell_type": "code",
   "execution_count": null,
   "id": "a410149e",
   "metadata": {},
   "outputs": [],
   "source": []
  },
  {
   "cell_type": "code",
   "execution_count": null,
   "id": "c77ae1c0",
   "metadata": {},
   "outputs": [],
   "source": []
  }
 ],
 "metadata": {
  "kernelspec": {
   "display_name": "Python 3 (ipykernel)",
   "language": "python",
   "name": "python3"
  },
  "language_info": {
   "codemirror_mode": {
    "name": "ipython",
    "version": 3
   },
   "file_extension": ".py",
   "mimetype": "text/x-python",
   "name": "python",
   "nbconvert_exporter": "python",
   "pygments_lexer": "ipython3",
   "version": "3.9.12"
  }
 },
 "nbformat": 4,
 "nbformat_minor": 5
}
