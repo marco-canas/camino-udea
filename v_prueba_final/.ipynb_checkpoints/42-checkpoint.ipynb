{
 "cells": [
  {
   "cell_type": "markdown",
   "id": "a903cbd7",
   "metadata": {
    "slideshow": {
     "slide_type": "slide"
    }
   },
   "source": [
    "<table align=\"left\">\n",
    "  <td>\n",
    "    <a href=\"https://colab.research.google.com/github/marco-canas/camino-udea/blob/main/0_diagnostico/diagnos_prueba_inicial_pivu/41.ipynb\" target=\"_parent\"><img src=\"https://colab.research.google.com/assets/colab-badge.svg\" alt=\"Open In Colab\"/></a>\n",
    "  </td>\n",
    "</table>"
   ]
  },
  {
   "cell_type": "markdown",
   "id": "467dfe69",
   "metadata": {
    "slideshow": {
     "slide_type": "slide"
    }
   },
   "source": [
    "# Ejercicio 42 de la prueba final del PIVU"
   ]
  },
  {
   "cell_type": "markdown",
   "id": "4199dc1a",
   "metadata": {
    "slideshow": {
     "slide_type": "slide"
    }
   },
   "source": [
    "## Preguntas 41 y 42.\n",
    "\n",
    "$A$, $B$ y $C$ son candidatos a la presidencia de una cooperativa.  \n",
    "\n",
    "Una investigación mostró que, entre los socios entrevistados, 110 no van a votar.    \n",
    "\n",
    "Entre los entrevistados que sí pretenden participar, 20 van a votar por el candidato A, 50 por el candidato B, 35 por el candidato $C$, 110 definitivamente no van a votar por el candidato $A$, 70 no van a votar por $C$, y 10 aun no han decidido entre $A$ y $C$.   \n",
    "\n",
    "También, la investigación mostró que 15 de los entrevistados que pretenden votar, no tienen preferencia, y por tanto, pueden votar por cualquiera de los tres candidatos.   \n",
    "\n",
    "Con base en estos datos:"
   ]
  },
  {
   "cell_type": "markdown",
   "id": "db818d04",
   "metadata": {
    "slideshow": {
     "slide_type": "slide"
    }
   },
   "source": [
    "41.\tEl número de entrevistados que no ha decidido si votar por $B$ o por $C$ es:\n",
    "\n",
    "A.\t0  \n",
    "B.\t15  \n",
    "C.\t25  \n",
    "D.\t30  "
   ]
  },
  {
   "cell_type": "markdown",
   "id": "d9cc5dd8",
   "metadata": {
    "slideshow": {
     "slide_type": "slide"
    }
   },
   "source": [
    "42.\tEl número de socios que respondió la entrevista es:\n",
    "\n",
    "A.\t110  \n",
    "B.\t270  \n",
    "C.\t265  \n",
    "D.\t160  "
   ]
  },
  {
   "cell_type": "markdown",
   "id": "9db393c5",
   "metadata": {
    "slideshow": {
     "slide_type": "slide"
    }
   },
   "source": [
    "## Estrategia de solución\n",
    "\n",
    "Uso de diagramas de ven para razonar la situación a través de conjuntos. \n"
   ]
  },
  {
   "cell_type": "markdown",
   "id": "646194c5",
   "metadata": {
    "slideshow": {
     "slide_type": "slide"
    }
   },
   "source": [
    "## Solución: "
   ]
  },
  {
   "cell_type": "markdown",
   "id": "08e4945a",
   "metadata": {
    "slideshow": {
     "slide_type": "slide"
    }
   },
   "source": []
  },
  {
   "cell_type": "markdown",
   "id": "b4d50509",
   "metadata": {},
   "source": [
    "## Tipo de razonamiento al que pertenece este ejercicio "
   ]
  },
  {
   "cell_type": "code",
   "execution_count": null,
   "id": "54a9d80d",
   "metadata": {},
   "outputs": [],
   "source": []
  },
  {
   "cell_type": "code",
   "execution_count": null,
   "id": "ef623ede",
   "metadata": {},
   "outputs": [],
   "source": []
  },
  {
   "cell_type": "code",
   "execution_count": null,
   "id": "4fdd0f49",
   "metadata": {},
   "outputs": [],
   "source": []
  },
  {
   "cell_type": "code",
   "execution_count": null,
   "id": "4cb69b68",
   "metadata": {},
   "outputs": [],
   "source": []
  },
  {
   "cell_type": "code",
   "execution_count": null,
   "id": "caab0bcc",
   "metadata": {},
   "outputs": [],
   "source": []
  }
 ],
 "metadata": {
  "celltoolbar": "Slideshow",
  "kernelspec": {
   "display_name": "Python 3 (ipykernel)",
   "language": "python",
   "name": "python3"
  },
  "language_info": {
   "codemirror_mode": {
    "name": "ipython",
    "version": 3
   },
   "file_extension": ".py",
   "mimetype": "text/x-python",
   "name": "python",
   "nbconvert_exporter": "python",
   "pygments_lexer": "ipython3",
   "version": "3.9.12"
  }
 },
 "nbformat": 4,
 "nbformat_minor": 5
}
