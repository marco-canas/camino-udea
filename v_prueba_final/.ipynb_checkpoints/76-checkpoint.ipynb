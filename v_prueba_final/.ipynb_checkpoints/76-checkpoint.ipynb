{
 "cells": [
  {
   "cell_type": "markdown",
   "id": "f95f3a48",
   "metadata": {
    "slideshow": {
     "slide_type": "slide"
    }
   },
   "source": [
    "<table align=\"left\">\n",
    "  <td>\n",
    "    <a href=\"https://colab.research.google.com/github/marco-canas/camino-udea/blob/main/0_diagnostico/diagnos_prueba_inicial_pivu/41.ipynb\" target=\"_parent\"><img src=\"https://colab.research.google.com/assets/colab-badge.svg\" alt=\"Open In Colab\"/></a>\n",
    "  </td>\n",
    "</table>"
   ]
  },
  {
   "cell_type": "markdown",
   "id": "980f69f8",
   "metadata": {
    "slideshow": {
     "slide_type": "slide"
    }
   },
   "source": [
    "# Preguntas 76, 77 y 78 de la prueba final del PIVU"
   ]
  },
  {
   "cell_type": "markdown",
   "id": "8c90f947",
   "metadata": {
    "slideshow": {
     "slide_type": "slide"
    }
   },
   "source": [
    "## Preguntas  de la 76 a la  78.\n",
    "A continuación se describe un procedimiento para escribir y leer números en clave, y funciona así:\n",
    "\n",
    "a).\tSímbolos que representan dígitos en forma directa\n",
    "\t\n",
    "<img src = 'https://github.com/marco-canas/camino-udea/blob/main/v_prueba_final/ejer_76.jpg?raw=true'>    "
   ]
  },
  {
   "cell_type": "markdown",
   "id": "7f1b6e8a",
   "metadata": {
    "slideshow": {
     "slide_type": "slide"
    }
   },
   "source": [
    "b).\tSímbolos de operación \n",
    "\n",
    "$++$: \tIndica  que a su derecha se inicia la escritura de un número  o que  ha terminado de escribirse un número a su izquierda. Estos símbolos son imprescindibles siempre que se quiera escribir un número\n",
    "\n",
    "$\\uparrow$:\tIndica que debe duplicarse únicamente el dígito siguiente a él.  \n",
    "\n",
    "$-$: Indica que debe sumarse una unidad únicamente al dígito siguiente a él, o al dígito que resulta  de la operación de duplicación si entre él y el próximo símbolo que representa un dígito directo aparece el símbolo \n",
    "\n",
    "$\\bullet$:\tIndica un espacio en blanco.\n"
   ]
  },
  {
   "cell_type": "markdown",
   "id": "bfb4fe75",
   "metadata": {
    "slideshow": {
     "slide_type": "slide"
    }
   },
   "source": [
    "c).\tReglas de manejo de la información.  \n",
    "\n",
    "* El número o números que se escriben están representados por sus símbolos y operadores a través de arreglos cuadrados de 4 x 4; los cuales para su interpretación o escritura se leen de izquierda a derecha y en orden por filas, de arriba hacia abajo y en forma continua.  \n",
    "\n",
    "* Cada símbolo individual ocupa una posición en el arreglo.  \n",
    "\n",
    "* Algunos dígitos admiten más de una forma de representación, por medio de un solo símbolo o por combinación de un símbolo y uno o más símbolos de operación.  \n",
    "\n",
    "* Cualquier agregado de símbolos diferente a los establecidos no tiene significado y se utiliza como un distractor.\n",
    "\n",
    "Como ilustración, en el arreglo siguiente, se da una representación del número 396. \n",
    "\n",
    "<img src = 'https://github.com/marco-canas/camino-udea/blob/main/v_prueba_final/ejer_76_1.jpg?raw=true'>"
   ]
  },
  {
   "cell_type": "markdown",
   "id": "ddee21c4",
   "metadata": {
    "slideshow": {
     "slide_type": "slide"
    }
   },
   "source": [
    "76.\tEn el arreglo siguiente:  \n",
    "\n",
    "<img src = 'https://github.com/marco-canas/camino-udea/blob/main/v_prueba_final/ejer_76_2.jpg?raw=true'>\n",
    "\n",
    "El  número  representado  es:  "
   ]
  },
  {
   "cell_type": "markdown",
   "id": "8730d477",
   "metadata": {
    "slideshow": {
     "slide_type": "slide"
    }
   },
   "source": [
    "A.\t1444  \n",
    "B.\t1555  \n",
    "C.\t1888  \n",
    "D.\t1999  \n",
    "\n"
   ]
  },
  {
   "cell_type": "markdown",
   "id": "84521ddb",
   "metadata": {
    "slideshow": {
     "slide_type": "slide"
    }
   },
   "source": [
    "## Ejercicio 77 de la prueba final del PIVU"
   ]
  },
  {
   "cell_type": "markdown",
   "id": "c4cb7d4b",
   "metadata": {
    "slideshow": {
     "slide_type": "slide"
    }
   },
   "source": [
    "<img src = 'https://github.com/marco-canas/camino-udea/blob/main/v_prueba_final/ejer_77.jpg?raw=true'>\n",
    "\n",
    "De los arreglos anteriores el que representa el número 7509 es:  \n",
    "\n",
    "A.\ta  \n",
    "B.\tb  \n",
    "C.\tc  \n",
    "D.\td  \n",
    "\n"
   ]
  },
  {
   "cell_type": "markdown",
   "id": "da4e55af",
   "metadata": {
    "slideshow": {
     "slide_type": "slide"
    }
   },
   "source": [
    "<img src = 'https://github.com/marco-canas/camino-udea/blob/main/v_prueba_final/ejer_78.jpg?raw=true'>  "
   ]
  },
  {
   "cell_type": "markdown",
   "id": "38ab18ba",
   "metadata": {
    "slideshow": {
     "slide_type": "slide"
    }
   },
   "source": [
    "De los arreglos anteriores, los que representan el mismo número son:\n",
    "\n",
    "A.\ta  y  b  \n",
    "B.\ta  y  c  \n",
    "C.\tb  y  d  \n",
    "D.\tc  y  d  "
   ]
  },
  {
   "cell_type": "code",
   "execution_count": null,
   "id": "097cf6c7",
   "metadata": {
    "slideshow": {
     "slide_type": "slide"
    }
   },
   "outputs": [],
   "source": []
  },
  {
   "cell_type": "code",
   "execution_count": null,
   "id": "a8b0c6e4",
   "metadata": {
    "slideshow": {
     "slide_type": "slide"
    }
   },
   "outputs": [],
   "source": []
  },
  {
   "cell_type": "code",
   "execution_count": null,
   "id": "cb34c016",
   "metadata": {},
   "outputs": [],
   "source": []
  },
  {
   "cell_type": "code",
   "execution_count": null,
   "id": "55de494d",
   "metadata": {},
   "outputs": [],
   "source": []
  },
  {
   "cell_type": "code",
   "execution_count": null,
   "id": "288cb4d3",
   "metadata": {},
   "outputs": [],
   "source": []
  },
  {
   "cell_type": "code",
   "execution_count": null,
   "id": "7f8ecfcd",
   "metadata": {},
   "outputs": [],
   "source": []
  }
 ],
 "metadata": {
  "celltoolbar": "Slideshow",
  "kernelspec": {
   "display_name": "Python 3 (ipykernel)",
   "language": "python",
   "name": "python3"
  },
  "language_info": {
   "codemirror_mode": {
    "name": "ipython",
    "version": 3
   },
   "file_extension": ".py",
   "mimetype": "text/x-python",
   "name": "python",
   "nbconvert_exporter": "python",
   "pygments_lexer": "ipython3",
   "version": "3.9.12"
  }
 },
 "nbformat": 4,
 "nbformat_minor": 5
}
