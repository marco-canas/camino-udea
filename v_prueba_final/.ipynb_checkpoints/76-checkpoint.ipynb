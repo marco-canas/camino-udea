{
 "cells": [
  {
   "cell_type": "markdown",
   "id": "a0fd3d68",
   "metadata": {},
   "source": [
    "<table align=\"left\">\n",
    "  <td>\n",
    "    <a href=\"https://colab.research.google.com/github/marco-canas/camino-udea/blob/main/0_diagnostico/diagnos_prueba_inicial_pivu/41.ipynb\" target=\"_parent\"><img src=\"https://colab.research.google.com/assets/colab-badge.svg\" alt=\"Open In Colab\"/></a>\n",
    "  </td>\n",
    "</table>"
   ]
  },
  {
   "cell_type": "markdown",
   "id": "7bdd40c8",
   "metadata": {},
   "source": [
    "# Preguntas 76, 77 y 78 de la prueba final del PIVU"
   ]
  },
  {
   "cell_type": "markdown",
   "id": "30a7f68c",
   "metadata": {},
   "source": [
    "## Preguntas  de la 76 a la  78.\n",
    "A continuación se describe un procedimiento para escribir y leer números en clave, y funciona así:\n",
    "\n",
    "a).\tSímbolos que representan dígitos en forma directa\n",
    "\t\n",
    "<img src = 'https://github.com/marco-canas/camino-udea/blob/main/v_prueba_final/ejer_76.jpg?raw=true'>    "
   ]
  },
  {
   "cell_type": "markdown",
   "id": "7af73c09",
   "metadata": {},
   "source": [
    "b).\tSímbolos de operación \n",
    "\n",
    "$++$: \tIndica  que a su derecha se inicia la escritura de un número  o que  ha terminado de escribirse un número a su izquierda. Estos símbolos son imprescindibles siempre que se quiera escribir un número\n",
    "\n",
    "$\\uparrow$:\tIndica que debe duplicarse únicamente el dígito siguiente a él.  \n",
    "\n",
    "$-$: Indica que debe sumarse una unidad únicamente al dígito siguiente a él, o al dígito que resulta  de la operación de duplicación si entre él y el próximo símbolo que representa un dígito directo aparece el símbolo \n",
    "\n",
    "$\\bullet$:\tIndica un espacio en blanco.\n"
   ]
  },
  {
   "cell_type": "markdown",
   "id": "56cb4cbf",
   "metadata": {},
   "source": [
    "c).\tReglas de manejo de la información.\n",
    "–El número o números que se escriben están representados por sus símbolos y operadores a través de arreglos cuadrados de 4 x 4; los cuales para su interpretación o escritura se leen de izquierda a derecha y en orden por filas, de arriba hacia abajo y en forma continua.\n",
    "–Cada símbolo individual ocupa una posición en el arreglo.\n",
    "–Algunos dígitos admiten más de una forma de representación, por medio de un solo símbolo o por combinación de un símbolo y uno o más símbolos de operación.\n",
    "–Cualquier agregado de símbolos diferente a los establecidos no tiene significado y se utiliza como un distractor.\n",
    "\n",
    "Como ilustración, en el arreglo siguiente, se da una representación del número 396. \n",
    "\n",
    "<img src = ''>"
   ]
  },
  {
   "cell_type": "code",
   "execution_count": null,
   "id": "d47e4798",
   "metadata": {},
   "outputs": [],
   "source": []
  },
  {
   "cell_type": "code",
   "execution_count": null,
   "id": "85921e52",
   "metadata": {},
   "outputs": [],
   "source": []
  },
  {
   "cell_type": "code",
   "execution_count": null,
   "id": "7384530f",
   "metadata": {},
   "outputs": [],
   "source": []
  },
  {
   "cell_type": "code",
   "execution_count": null,
   "id": "67270f25",
   "metadata": {},
   "outputs": [],
   "source": []
  },
  {
   "cell_type": "code",
   "execution_count": null,
   "id": "792a3b41",
   "metadata": {},
   "outputs": [],
   "source": []
  },
  {
   "cell_type": "code",
   "execution_count": null,
   "id": "ab34d501",
   "metadata": {},
   "outputs": [],
   "source": []
  },
  {
   "cell_type": "code",
   "execution_count": null,
   "id": "76b37d15",
   "metadata": {},
   "outputs": [],
   "source": []
  },
  {
   "cell_type": "code",
   "execution_count": null,
   "id": "5c9703c7",
   "metadata": {},
   "outputs": [],
   "source": []
  },
  {
   "cell_type": "code",
   "execution_count": null,
   "id": "58a848e0",
   "metadata": {},
   "outputs": [],
   "source": []
  },
  {
   "cell_type": "code",
   "execution_count": null,
   "id": "794acf80",
   "metadata": {},
   "outputs": [],
   "source": []
  },
  {
   "cell_type": "code",
   "execution_count": null,
   "id": "2448f445",
   "metadata": {},
   "outputs": [],
   "source": []
  }
 ],
 "metadata": {
  "kernelspec": {
   "display_name": "Python 3 (ipykernel)",
   "language": "python",
   "name": "python3"
  },
  "language_info": {
   "codemirror_mode": {
    "name": "ipython",
    "version": 3
   },
   "file_extension": ".py",
   "mimetype": "text/x-python",
   "name": "python",
   "nbconvert_exporter": "python",
   "pygments_lexer": "ipython3",
   "version": "3.9.12"
  }
 },
 "nbformat": 4,
 "nbformat_minor": 5
}
