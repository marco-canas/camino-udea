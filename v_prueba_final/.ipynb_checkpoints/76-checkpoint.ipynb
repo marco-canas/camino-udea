{
 "cells": [
  {
   "cell_type": "markdown",
   "id": "91ad771b",
   "metadata": {},
   "source": [
    "<table align=\"left\">\n",
    "  <td>\n",
    "    <a href=\"https://colab.research.google.com/github/marco-canas/camino-udea/blob/main/0_diagnostico/diagnos_prueba_inicial_pivu/41.ipynb\" target=\"_parent\"><img src=\"https://colab.research.google.com/assets/colab-badge.svg\" alt=\"Open In Colab\"/></a>\n",
    "  </td>\n",
    "</table>"
   ]
  },
  {
   "cell_type": "markdown",
   "id": "6c85c48a",
   "metadata": {},
   "source": [
    "# Preguntas 76, 77 y 78 de la prueba final del PIVU"
   ]
  },
  {
   "cell_type": "markdown",
   "id": "84a396fd",
   "metadata": {},
   "source": [
    "## Preguntas  de la 76 a la  78.\n",
    "A continuación se describe un procedimiento para escribir y leer números en clave, y funciona así:\n",
    "\n",
    "a).\tSímbolos que representan dígitos en forma directa\n",
    "\t\n",
    "<img src = 'https://github.com/marco-canas/camino-udea/blob/main/v_prueba_final/ejer_76.jpg?raw=true'>    "
   ]
  },
  {
   "cell_type": "markdown",
   "id": "d211927c",
   "metadata": {},
   "source": [
    "b).\tSímbolos de operación \n",
    "\n",
    "$++$: \tIndica  que a su derecha se inicia la escritura de un número  o que  ha terminado de escribirse un número a su izquierda. Estos símbolos son imprescindibles siempre que se quiera escribir un número\n",
    "\n",
    "$\\uparrow$:\tIndica que debe duplicarse únicamente el dígito siguiente a él.  \n",
    "\n",
    "$-$: Indica que debe sumarse una unidad únicamente al dígito siguiente a él, o al dígito que resulta  de la operación de duplicación si entre él y el próximo símbolo que representa un dígito directo aparece el símbolo \n",
    "\n",
    "$\\bullet$:\tIndica un espacio en blanco.\n"
   ]
  },
  {
   "cell_type": "markdown",
   "id": "bdf784fd",
   "metadata": {},
   "source": [
    "c).\tReglas de manejo de la información.  \n",
    "\n",
    "* El número o números que se escriben están representados por sus símbolos y operadores a través de arreglos cuadrados de 4 x 4; los cuales para su interpretación o escritura se leen de izquierda a derecha y en orden por filas, de arriba hacia abajo y en forma continua.  \n",
    "\n",
    "* Cada símbolo individual ocupa una posición en el arreglo.  \n",
    "\n",
    "* Algunos dígitos admiten más de una forma de representación, por medio de un solo símbolo o por combinación de un símbolo y uno o más símbolos de operación.  \n",
    "\n",
    "* Cualquier agregado de símbolos diferente a los establecidos no tiene significado y se utiliza como un distractor.\n",
    "\n",
    "Como ilustración, en el arreglo siguiente, se da una representación del número 396. \n",
    "\n",
    "<img src = 'https://github.com/marco-canas/camino-udea/blob/main/v_prueba_final/ejer_76_1.jpg?raw=true'>"
   ]
  },
  {
   "cell_type": "markdown",
   "id": "8d058126",
   "metadata": {},
   "source": [
    "76.\tEn el arreglo siguiente:  \n",
    "\n",
    "<img src = 'https://github.com/marco-canas/camino-udea/blob/main/v_prueba_final/ejer_76_2.jpg?raw=true'>\n"
   ]
  },
  {
   "cell_type": "markdown",
   "id": "415c2ea8",
   "metadata": {},
   "source": []
  },
  {
   "cell_type": "code",
   "execution_count": null,
   "id": "399a2740",
   "metadata": {},
   "outputs": [],
   "source": []
  },
  {
   "cell_type": "code",
   "execution_count": null,
   "id": "c50b3da8",
   "metadata": {},
   "outputs": [],
   "source": []
  },
  {
   "cell_type": "code",
   "execution_count": null,
   "id": "1b82a26d",
   "metadata": {},
   "outputs": [],
   "source": []
  },
  {
   "cell_type": "code",
   "execution_count": null,
   "id": "79d6055a",
   "metadata": {},
   "outputs": [],
   "source": []
  },
  {
   "cell_type": "code",
   "execution_count": null,
   "id": "51cc494a",
   "metadata": {},
   "outputs": [],
   "source": []
  },
  {
   "cell_type": "code",
   "execution_count": null,
   "id": "ace09e2e",
   "metadata": {},
   "outputs": [],
   "source": []
  },
  {
   "cell_type": "code",
   "execution_count": null,
   "id": "17e41261",
   "metadata": {},
   "outputs": [],
   "source": []
  },
  {
   "cell_type": "code",
   "execution_count": null,
   "id": "4192f710",
   "metadata": {},
   "outputs": [],
   "source": []
  },
  {
   "cell_type": "code",
   "execution_count": null,
   "id": "c5ca5a0c",
   "metadata": {},
   "outputs": [],
   "source": []
  }
 ],
 "metadata": {
  "kernelspec": {
   "display_name": "Python 3 (ipykernel)",
   "language": "python",
   "name": "python3"
  },
  "language_info": {
   "codemirror_mode": {
    "name": "ipython",
    "version": 3
   },
   "file_extension": ".py",
   "mimetype": "text/x-python",
   "name": "python",
   "nbconvert_exporter": "python",
   "pygments_lexer": "ipython3",
   "version": "3.9.12"
  }
 },
 "nbformat": 4,
 "nbformat_minor": 5
}
