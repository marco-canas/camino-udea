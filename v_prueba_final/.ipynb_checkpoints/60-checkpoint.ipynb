{
 "cells": [
  {
   "cell_type": "markdown",
   "id": "b3e25d98",
   "metadata": {},
   "source": []
  },
  {
   "cell_type": "markdown",
   "id": "3013256b",
   "metadata": {},
   "source": [
    "# Ejercicio 60 de la prueba final del PIVU"
   ]
  },
  {
   "cell_type": "markdown",
   "id": "0523de48",
   "metadata": {},
   "source": [
    "60.\tEn la figura se muestra un sistema de 3 ruedas dentadas engranadas ubicadas entre 2 cremalleras que están en movimiento.\n",
    "Si la rueda intermedia gira en el sentido de las manecillas del reloj, la dirección en la que se mueven las dos cremalleras es:\n"
   ]
  },
  {
   "cell_type": "markdown",
   "id": "453ad198",
   "metadata": {},
   "source": [
    "<img src = ''>"
   ]
  },
  {
   "cell_type": "code",
   "execution_count": null,
   "id": "cb53c2e3",
   "metadata": {},
   "outputs": [],
   "source": []
  },
  {
   "cell_type": "code",
   "execution_count": null,
   "id": "a8231dd4",
   "metadata": {},
   "outputs": [],
   "source": []
  },
  {
   "cell_type": "code",
   "execution_count": null,
   "id": "15dacb33",
   "metadata": {},
   "outputs": [],
   "source": []
  },
  {
   "cell_type": "code",
   "execution_count": null,
   "id": "a3b0c886",
   "metadata": {},
   "outputs": [],
   "source": []
  },
  {
   "cell_type": "code",
   "execution_count": null,
   "id": "e7cbc622",
   "metadata": {},
   "outputs": [],
   "source": []
  },
  {
   "cell_type": "code",
   "execution_count": null,
   "id": "fa2f64fd",
   "metadata": {},
   "outputs": [],
   "source": []
  },
  {
   "cell_type": "code",
   "execution_count": null,
   "id": "4e596c4e",
   "metadata": {},
   "outputs": [],
   "source": []
  }
 ],
 "metadata": {
  "kernelspec": {
   "display_name": "Python 3 (ipykernel)",
   "language": "python",
   "name": "python3"
  },
  "language_info": {
   "codemirror_mode": {
    "name": "ipython",
    "version": 3
   },
   "file_extension": ".py",
   "mimetype": "text/x-python",
   "name": "python",
   "nbconvert_exporter": "python",
   "pygments_lexer": "ipython3",
   "version": "3.9.12"
  }
 },
 "nbformat": 4,
 "nbformat_minor": 5
}
