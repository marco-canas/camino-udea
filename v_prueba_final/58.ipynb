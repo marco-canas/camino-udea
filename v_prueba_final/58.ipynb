{
 "cells": [
  {
   "cell_type": "markdown",
   "id": "783679a1",
   "metadata": {},
   "source": []
  },
  {
   "cell_type": "markdown",
   "id": "d00d1758",
   "metadata": {},
   "source": [
    "# Ejercicio 58 de la prueba final del PIVU"
   ]
  },
  {
   "cell_type": "markdown",
   "id": "ba359f19",
   "metadata": {},
   "source": [
    "58.\tSe desea pintar completamente una pirámide de base cuadrada de lado un metro y los triángulos que cierran la pirámide son equiláteros, como lo muestra la figura. El área a pintar es:\n",
    "\n",
    "<img src = ''>  \n",
    "\n",
    "\n",
    "A.$\\sqrt{2}$  \n",
    "\t√3\n",
    "\t√3+1\n",
    "\t3\n",
    "\n",
    "\n"
   ]
  },
  {
   "cell_type": "code",
   "execution_count": null,
   "id": "bdb1003b",
   "metadata": {},
   "outputs": [],
   "source": []
  },
  {
   "cell_type": "code",
   "execution_count": null,
   "id": "a49ef9be",
   "metadata": {},
   "outputs": [],
   "source": []
  },
  {
   "cell_type": "code",
   "execution_count": null,
   "id": "37e6d4c7",
   "metadata": {},
   "outputs": [],
   "source": []
  },
  {
   "cell_type": "code",
   "execution_count": null,
   "id": "048c5165",
   "metadata": {},
   "outputs": [],
   "source": []
  }
 ],
 "metadata": {
  "kernelspec": {
   "display_name": "Python 3 (ipykernel)",
   "language": "python",
   "name": "python3"
  },
  "language_info": {
   "codemirror_mode": {
    "name": "ipython",
    "version": 3
   },
   "file_extension": ".py",
   "mimetype": "text/x-python",
   "name": "python",
   "nbconvert_exporter": "python",
   "pygments_lexer": "ipython3",
   "version": "3.9.12"
  }
 },
 "nbformat": 4,
 "nbformat_minor": 5
}
