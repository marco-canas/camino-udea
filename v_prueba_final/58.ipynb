{
 "cells": [
  {
   "cell_type": "markdown",
   "id": "5ba75b35",
   "metadata": {
    "slideshow": {
     "slide_type": "slide"
    }
   },
   "source": [
    "<table align=\"left\">\n",
    "  <td>\n",
    "    <a href=\"https://colab.research.google.com/github/marco-canas/camino-udea/blob/main/0_diagnostico/diagnos_prueba_inicial_pivu/41.ipynb\" target=\"_parent\"><img src=\"https://colab.research.google.com/assets/colab-badge.svg\" alt=\"Open In Colab\"/></a>\n",
    "  </td>\n",
    "</table>"
   ]
  },
  {
   "cell_type": "markdown",
   "id": "bba28979",
   "metadata": {
    "slideshow": {
     "slide_type": "slide"
    }
   },
   "source": [
    "# Ejercicio 58 de la prueba final del PIVU"
   ]
  },
  {
   "cell_type": "markdown",
   "id": "747a9109",
   "metadata": {
    "slideshow": {
     "slide_type": "slide"
    }
   },
   "source": [
    "58.\tSe desea pintar completamente una pirámide de base cuadrada de lado un metro y los triángulos que cierran la pirámide son equiláteros, como lo muestra la figura. El área a pintar es:\n",
    "\n",
    "<img src = 'https://github.com/marco-canas/camino-udea/blob/main/v_prueba_final/ejer_58.jpg?raw=true'>  \n",
    "\n",
    "\n",
    "A.$\\sqrt{2}$  \n",
    "B. $\\sqrt{3}$  \n",
    "C. $\\sqrt{3} + 1$   \n",
    "D. 3\n",
    "\n",
    "\n"
   ]
  },
  {
   "cell_type": "markdown",
   "id": "97ece625",
   "metadata": {
    "slideshow": {
     "slide_type": "slide"
    }
   },
   "source": [
    "## Conceptos asociados a este problema\n",
    "\n",
    "* Volumen de una pirámide de base cuadrada\n",
    "\n",
    "$$ v = \\frac{1}{3}l^{2}h $$\n",
    "\n",
    "donde $l$ es la medida de uno de los lados de la base cuadrada y $h$ es la altura de la pirámide. "
   ]
  },
  {
   "cell_type": "markdown",
   "id": "2985ae72",
   "metadata": {
    "slideshow": {
     "slide_type": "slide"
    }
   },
   "source": [
    "## Solución: "
   ]
  },
  {
   "cell_type": "markdown",
   "id": "1b86c0f1",
   "metadata": {
    "slideshow": {
     "slide_type": "slide"
    }
   },
   "source": [
    "Empecemos deduciendo la altura de la pirámide. \n",
    "\n",
    "La altura de la pirámide es la medida de un segmento que une el vertice de la pirámide con el punto medio del cuadrado de su base. "
   ]
  },
  {
   "cell_type": "markdown",
   "id": "64d32d96",
   "metadata": {
    "slideshow": {
     "slide_type": "slide"
    }
   },
   "source": [
    "Tracemos "
   ]
  },
  {
   "cell_type": "code",
   "execution_count": 1,
   "id": "44da6038",
   "metadata": {
    "slideshow": {
     "slide_type": "slide"
    }
   },
   "outputs": [
    {
     "data": {
      "text/plain": [
       "[<matplotlib.lines.Line2D at 0x21a17d3b730>]"
      ]
     },
     "execution_count": 1,
     "metadata": {},
     "output_type": "execute_result"
    },
    {
     "data": {
      "image/png": "[encoded data removed]",
      "text/plain": [
       "<Figure size 432x288 with 1 Axes>"
      ]
     },
     "metadata": {
      "needs_background": "light"
     },
     "output_type": "display_data"
    }
   ],
   "source": [
    "import numpy as np \n",
    "import matplotlib.pyplot as plt \n",
    "\n",
    "#(0,0), (sqrt(2)/2, 0), (0, sqrt(2)/2), (0,0) \n",
    "\n",
    "plt.plot([0, 1/np.sqrt(2), 0, 0], [0, 0, 1/np.sqrt(2), 0], 'b-')\n",
    "\n"
   ]
  },
  {
   "cell_type": "markdown",
   "id": "a50a45ae",
   "metadata": {
    "slideshow": {
     "slide_type": "slide"
    }
   },
   "source": [
    "$$ \\text{altura de la pirámide} = \\sqrt{1 - \\left(\\frac{\\sqrt{2}}{2}\\right)^{2} } $$"
   ]
  },
  {
   "cell_type": "markdown",
   "id": "32e9e137",
   "metadata": {
    "slideshow": {
     "slide_type": "slide"
    }
   },
   "source": [
    "$$ h = \\sqrt{1 - \\frac{2}{4}} $$"
   ]
  },
  {
   "cell_type": "markdown",
   "id": "43a874c9",
   "metadata": {
    "slideshow": {
     "slide_type": "slide"
    }
   },
   "source": [
    "$$ h = \\sqrt{1 - \\frac{1}{2}} $$"
   ]
  },
  {
   "cell_type": "markdown",
   "id": "20e72449",
   "metadata": {
    "slideshow": {
     "slide_type": "slide"
    }
   },
   "source": [
    "$$ h = \\sqrt{ \\frac{1}{2} } = \\frac{1}{\\sqrt{2}}  $$"
   ]
  },
  {
   "cell_type": "markdown",
   "id": "04a94c92",
   "metadata": {
    "slideshow": {
     "slide_type": "slide"
    }
   },
   "source": [
    "$$ v = \\frac{1}{3} \\cdot \\frac{1}{\\sqrt{2}} = \\frac{\\sqrt{2}}{6}$$"
   ]
  },
  {
   "cell_type": "markdown",
   "id": "e3e8509a",
   "metadata": {
    "slideshow": {
     "slide_type": "slide"
    }
   },
   "source": [
    "## Tipo de razonamiento al que pertenece este ejercicio"
   ]
  },
  {
   "cell_type": "markdown",
   "id": "415dbb68",
   "metadata": {
    "slideshow": {
     "slide_type": "slide"
    }
   },
   "source": []
  },
  {
   "cell_type": "markdown",
   "id": "31375d7e",
   "metadata": {
    "slideshow": {
     "slide_type": "slide"
    }
   },
   "source": []
  },
  {
   "cell_type": "code",
   "execution_count": null,
   "id": "010d8a75",
   "metadata": {},
   "outputs": [],
   "source": []
  },
  {
   "cell_type": "code",
   "execution_count": null,
   "id": "3804001b",
   "metadata": {},
   "outputs": [],
   "source": []
  },
  {
   "cell_type": "code",
   "execution_count": null,
   "id": "f7dd7d11",
   "metadata": {},
   "outputs": [],
   "source": []
  }
 ],
 "metadata": {
  "celltoolbar": "Slideshow",
  "kernelspec": {
   "display_name": "Python 3 (ipykernel)",
   "language": "python",
   "name": "python3"
  },
  "language_info": {
   "codemirror_mode": {
    "name": "ipython",
    "version": 3
   },
   "file_extension": ".py",
   "mimetype": "text/x-python",
   "name": "python",
   "nbconvert_exporter": "python",
   "pygments_lexer": "ipython3",
   "version": "3.9.12"
  }
 },
 "nbformat": 4,
 "nbformat_minor": 5
}
