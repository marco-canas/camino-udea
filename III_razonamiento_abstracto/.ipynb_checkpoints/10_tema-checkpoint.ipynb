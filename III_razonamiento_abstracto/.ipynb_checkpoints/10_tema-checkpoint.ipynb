{
 "cells": [
  {
   "cell_type": "markdown",
   "id": "822371c2",
   "metadata": {},
   "source": [
    "# Parte III Razonamiento abstracto"
   ]
  },
  {
   "cell_type": "markdown",
   "id": "771dfef2",
   "metadata": {},
   "source": [
    "# 10 Tema"
   ]
  },
  {
   "cell_type": "markdown",
   "id": "0c5bb123",
   "metadata": {},
   "source": [
    "## Razonamiento aritmético"
   ]
  },
  {
   "cell_type": "markdown",
   "id": "ddd1c19b",
   "metadata": {},
   "source": [
    "## Preconceptos.\n",
    "\n",
    "* Las definiciones de cuadrado, rombo y la diferencia entre estos dos. \n",
    "* Valor absoluto de un número real $|x|$. "
   ]
  },
  {
   "cell_type": "markdown",
   "id": "2d47a250",
   "metadata": {},
   "source": [
    "## Pregunta 10.1  \n"
   ]
  },
  {
   "cell_type": "markdown",
   "id": "549b76bf",
   "metadata": {},
   "source": [
    "Sobre una balanza de brazos iguales se colocan objetos de diversas formas como lo indican las figuras (los objetos de la misma forma tienen la misma masa). "
   ]
  },
  {
   "cell_type": "markdown",
   "id": "e05d4f45",
   "metadata": {},
   "source": [
    "<img src = 'https://github.com/marco-canas/camino-udea/blob/main/III_razonamiento_abstracto/tres_balanzas.png?raw=true'>"
   ]
  },
  {
   "cell_type": "markdown",
   "id": "8c4e2861",
   "metadata": {},
   "source": [
    "En las figuras I y II la balanza está en equilibrio. "
   ]
  },
  {
   "cell_type": "markdown",
   "id": "e2490a6e",
   "metadata": {},
   "source": [
    "Para equilibrar la balanza en la figura III, los objetos que es necesario agregar al plato vacío, marcado con (?), son:\n",
    "\n",
    "(a) 1 círculo y 2 rombos.  \n",
    "(b) 2 cuadrados y 1 círculo  \n",
    "**(c) 1 romo y 3 cuadrados**   \n",
    "(d) 1 hexágono, 2 triángulos y 1 cuadrado. \n"
   ]
  },
  {
   "cell_type": "markdown",
   "id": "fd3c6181",
   "metadata": {},
   "source": [
    "Solución: "
   ]
  },
  {
   "cell_type": "markdown",
   "id": "0432ecb5",
   "metadata": {},
   "source": [
    "Definamos las variables que representen las figuras, para así plantear ecuaciones que nos permitan resolver el problema: \n",
    "\n",
    "c: circulo,  \n",
    "s: cuadrado,  \n",
    "t: triángulo,\n",
    "r: rombo.\n",
    "\n",
    "Ecuación I correspondiente a la primera balanza:\n",
    "\n",
    "$$ c+r+t = 5s \\nonumber $$\n",
    "\n",
    "Ecuación II correspondiente a la segunda balanza:  \n",
    "\n",
    "$$ 2s + c = 2r + t \\nonumber $$"
   ]
  },
  {
   "cell_type": "markdown",
   "id": "b732b007",
   "metadata": {},
   "source": [
    "Despejar $c$ de cada una de las dos ecuaciones: \n",
    "\n",
    "\\begin{align*}\n",
    "c = 5s - r - t \\\\\n",
    "c = 2r + t - 2s\n",
    "\\end{align*}\n",
    "\n",
    "sumamos lados alado:\n",
    "\n",
    "$$ 2c = 3s + r $$\n"
   ]
  },
  {
   "cell_type": "markdown",
   "id": "2dc60c06",
   "metadata": {},
   "source": [
    "**Conclusión:**\n",
    "La opción correcta es la $(c)$, es decir para equilibrar la tercera banlanza se debe colocar en el brazo derecho 3 cuadrados y un rombo. \n"
   ]
  },
  {
   "cell_type": "code",
   "execution_count": null,
   "id": "0d1a4ffd",
   "metadata": {},
   "outputs": [],
   "source": []
  },
  {
   "cell_type": "code",
   "execution_count": null,
   "id": "40585645",
   "metadata": {},
   "outputs": [],
   "source": []
  },
  {
   "cell_type": "code",
   "execution_count": null,
   "id": "599d20a0",
   "metadata": {},
   "outputs": [],
   "source": []
  },
  {
   "cell_type": "markdown",
   "id": "ef897004",
   "metadata": {},
   "source": [
    "## 10.2  \n",
    "\n",
    "COnsidera las posiciones de los números en la recta numérica. "
   ]
  },
  {
   "cell_type": "code",
   "execution_count": 34,
   "id": "c950231f",
   "metadata": {},
   "outputs": [
    {
     "data": {
      "text/plain": [
       "(-1.0, 2.0, -1.0, 1.0)"
      ]
     },
     "execution_count": 34,
     "metadata": {},
     "output_type": "execute_result"
    },
    {
     "data": {
      "image/png": "[encoded data removed]",
      "text/plain": [
       "<Figure size 432x288 with 1 Axes>"
      ]
     },
     "metadata": {
      "needs_background": "light"
     },
     "output_type": "display_data"
    }
   ],
   "source": [
    "import numpy as np \n",
    "import matplotlib.pyplot as plt \n",
    "\n",
    "plt.plot([-1,2],[0,0]) \n",
    "x = -2/5\n",
    "plt.scatter([x,x**2,x**3],[0,0,0], color = 'red') \n",
    "plt.text(x,-0.1,'x')\n",
    "plt.text(x**2,-0.1,r'$x^{2}$')\n",
    "plt.text(x**3,-0.1,r'$x^{3}$')\n",
    "plt.axis([-1,2,-1,1])"
   ]
  },
  {
   "cell_type": "markdown",
   "id": "c61f1ac5",
   "metadata": {},
   "source": [
    "Un posible valor para $x$ es: \n",
    "\n",
    "(a) $5/3$  \n",
    "(b) $3/5$  \n",
    "**(c) $-2/5$**  \n",
    "(d) $-5/2$\n"
   ]
  },
  {
   "cell_type": "code",
   "execution_count": 14,
   "id": "27f08150",
   "metadata": {},
   "outputs": [
    {
     "data": {
      "text/plain": [
       "1.6666666666666667"
      ]
     },
     "execution_count": 14,
     "metadata": {},
     "output_type": "execute_result"
    }
   ],
   "source": [
    "5/3"
   ]
  },
  {
   "cell_type": "markdown",
   "id": "f038ff72",
   "metadata": {},
   "source": [
    "## Solución: "
   ]
  },
  {
   "cell_type": "markdown",
   "id": "cd7f0241",
   "metadata": {},
   "source": [
    "Mostremos que $(a)$ es una opción incorrecta:  \n",
    "como $5/3$ es positivo mayor que 1, entonces \n",
    "\n",
    "$$ x < x^{2} < x^{3} $$\n",
    "\n",
    "es decir, mayor exponente mayor número. \n",
    "\n",
    "lo que explica que esta no es la opción correcta que buscamos. \n"
   ]
  },
  {
   "cell_type": "markdown",
   "id": "dee0fac4",
   "metadata": {},
   "source": [
    "Mostremos que la opción $(b)$ también es incorrecta:\n",
    "\n",
    "Como $3/5$ positivo menor que 1, entonces \n",
    "\n",
    "$$x^{3} < x^{2} < x$$\n",
    "\n",
    "a mayor exponente menor número. \n"
   ]
  },
  {
   "cell_type": "code",
   "execution_count": 23,
   "id": "d761a601",
   "metadata": {},
   "outputs": [
    {
     "data": {
      "text/plain": [
       "True"
      ]
     },
     "execution_count": 23,
     "metadata": {},
     "output_type": "execute_result"
    }
   ],
   "source": [
    "27/125 < 9/25 < 3/5"
   ]
  },
  {
   "cell_type": "code",
   "execution_count": 21,
   "id": "0f4dd919",
   "metadata": {},
   "outputs": [
    {
     "data": {
      "text/plain": [
       "0.5"
      ]
     },
     "execution_count": 21,
     "metadata": {},
     "output_type": "execute_result"
    }
   ],
   "source": [
    "3/6"
   ]
  },
  {
   "cell_type": "code",
   "execution_count": 22,
   "id": "50d263c3",
   "metadata": {},
   "outputs": [
    {
     "data": {
      "text/plain": [
       "0.36"
      ]
     },
     "execution_count": 22,
     "metadata": {},
     "output_type": "execute_result"
    }
   ],
   "source": [
    "9/25"
   ]
  },
  {
   "cell_type": "markdown",
   "id": "c628d8db",
   "metadata": {},
   "source": [
    "Mostremos porque la opción $(c)$ es la correcta:\n",
    "\n",
    "Como $x = -2/5$ es negativo, entonces\n",
    "\n",
    "\n",
    "\n",
    "$$ x < x^{2} $$\n",
    "\n",
    "Ahora, determinemos la posición de $x^{3}$. \n",
    "\n",
    "Como $|x| < 1$, entonces $|x|^{3} < |x|$. Luego reflejando con respecto al cero, en la recta real, obtenemos que \n",
    "\n",
    "\n",
    "$$ x < x^{3} < x^{2} $$\n",
    "\n"
   ]
  },
  {
   "cell_type": "code",
   "execution_count": 27,
   "id": "8d0d3793",
   "metadata": {},
   "outputs": [],
   "source": [
    "import numpy as np \n",
    "def valor_absoluto(x):\n",
    "    return np.abs(x) "
   ]
  },
  {
   "cell_type": "code",
   "execution_count": null,
   "id": "27bd4155",
   "metadata": {},
   "outputs": [],
   "source": [
    "valor_absoluto(-2/5)   "
   ]
  },
  {
   "cell_type": "markdown",
   "id": "74945cbd",
   "metadata": {},
   "source": [
    "$$|x| $$\n",
    "\n",
    "$$ s^{2} = \\frac{1}{n} \\sum_{i = 1}^{n} |x_{i} - \\overline{x}|^{2}  $$\n"
   ]
  },
  {
   "cell_type": "markdown",
   "id": "4f3cd522",
   "metadata": {},
   "source": [
    "## 10.3  \n",
    "Si divido un rollo de cuerda en pedazos de 2 metros me sobra 1 metro,  \n",
    "si lo divido en pedazos de tres metros me sobran dos metros,  \n",
    "y si lo divido en pedazos de 4 metros me sobran tres metros.  \n",
    "Si se sabe que la longitud total de la cuerda es de menos de 22 metros, entonces la longitud total de la cuerda, en metros es:\n",
    "\n",
    "(a) 19  \n",
    "(b) 17  \n",
    "(c) 13  \n",
    "(d) 11  \n"
   ]
  },
  {
   "cell_type": "markdown",
   "id": "d9e8417a",
   "metadata": {},
   "source": [
    "### Solución: "
   ]
  },
  {
   "cell_type": "code",
   "execution_count": null,
   "id": "0e676ed1",
   "metadata": {},
   "outputs": [],
   "source": []
  },
  {
   "cell_type": "markdown",
   "id": "5ffa99cc",
   "metadata": {},
   "source": [
    "## 10.4  \n",
    "Suponga que $a,b$ y $c$ son enteros consecutivos y que $a < b < c$.  \n",
    "\n",
    "Dados los enunciados:  \n",
    "\n",
    "I. $abc$ es par.  \n",
    "II. $a+b+c$ es par.  \n",
    "III. (a+b)(b+c) es impar. \n",
    "\n",
    "Se puede afirmar con certeza que:    \n",
    "\n",
    "(a) Sólo I es verdadero.  \n",
    "(b) Sólo II es verdadero.   \n",
    "(c) Sólo III es verdadero.  \n",
    "(d) Sólo I y III son verdaderos. \n"
   ]
  },
  {
   "cell_type": "markdown",
   "id": "696634b1",
   "metadata": {},
   "source": [
    "### Solución: "
   ]
  },
  {
   "cell_type": "code",
   "execution_count": null,
   "id": "6e724e11",
   "metadata": {},
   "outputs": [],
   "source": []
  },
  {
   "cell_type": "code",
   "execution_count": null,
   "id": "6e4b46fa",
   "metadata": {},
   "outputs": [],
   "source": []
  },
  {
   "cell_type": "code",
   "execution_count": null,
   "id": "c9974250",
   "metadata": {},
   "outputs": [],
   "source": []
  },
  {
   "cell_type": "code",
   "execution_count": null,
   "id": "ee3afee2",
   "metadata": {},
   "outputs": [],
   "source": []
  },
  {
   "cell_type": "code",
   "execution_count": null,
   "id": "cd75571c",
   "metadata": {},
   "outputs": [],
   "source": []
  },
  {
   "cell_type": "markdown",
   "id": "33cf6c5d",
   "metadata": {},
   "source": [
    "## Referentes "
   ]
  },
  {
   "cell_type": "markdown",
   "id": "98d54c32",
   "metadata": {},
   "source": [
    "* Razonamiento lógico: Cuaderno de trabajo. Universidad de Antioquia. Facultad de Ciencias \n",
    "  Exactas y Naturales. Instituto de Matemáticas. "
   ]
  },
  {
   "cell_type": "code",
   "execution_count": null,
   "id": "66e11215",
   "metadata": {},
   "outputs": [],
   "source": []
  }
 ],
 "metadata": {
  "kernelspec": {
   "display_name": "Python 3",
   "language": "python",
   "name": "python3"
  },
  "language_info": {
   "codemirror_mode": {
    "name": "ipython",
    "version": 3
   },
   "file_extension": ".py",
   "mimetype": "text/x-python",
   "name": "python",
   "nbconvert_exporter": "python",
   "pygments_lexer": "ipython3",
   "version": "3.8.8"
  },
  "latex_envs": {
   "LaTeX_envs_menu_present": true,
   "autoclose": false,
   "autocomplete": false,
   "bibliofile": "biblio.bib",
   "cite_by": "apalike",
   "current_citInitial": 1,
   "eqLabelWithNumbers": true,
   "eqNumInitial": 1,
   "hotkeys": {
    "equation": "Ctrl-E",
    "itemize": "Ctrl-I"
   },
   "labels_anchors": false,
   "latex_user_defs": false,
   "report_style_numbering": false,
   "user_envs_cfg": false
  }
 },
 "nbformat": 4,
 "nbformat_minor": 5
}
