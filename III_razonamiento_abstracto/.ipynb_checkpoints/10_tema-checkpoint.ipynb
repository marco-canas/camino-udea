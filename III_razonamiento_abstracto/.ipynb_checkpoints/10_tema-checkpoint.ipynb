{
 "cells": [
  {
   "cell_type": "markdown",
   "id": "16040827",
   "metadata": {},
   "source": [
    "# Parte III Razonamiento abstracto"
   ]
  },
  {
   "cell_type": "markdown",
   "id": "d570a71a",
   "metadata": {},
   "source": [
    "# 10 Tema"
   ]
  },
  {
   "cell_type": "markdown",
   "id": "3919895c",
   "metadata": {},
   "source": [
    "## Razonamiento aritmético"
   ]
  },
  {
   "cell_type": "markdown",
   "id": "fb4df5c6",
   "metadata": {},
   "source": [
    "## Pregunta 10.1  \n"
   ]
  },
  {
   "cell_type": "markdown",
   "id": "fc29e1d5",
   "metadata": {},
   "source": [
    "Sobre una balanza de brazos iguales se colocan objetos de diversas formas como lo indican las figuras (los objetos de la misma forma tienen la misma masa). "
   ]
  },
  {
   "cell_type": "markdown",
   "id": "970657dc",
   "metadata": {},
   "source": [
    "<img src = ''>"
   ]
  },
  {
   "cell_type": "markdown",
   "id": "74d8cc7a",
   "metadata": {},
   "source": [
    "En las figuras I y II la balanza está en equilibrio. "
   ]
  },
  {
   "cell_type": "markdown",
   "id": "ca678839",
   "metadata": {},
   "source": [
    "Para equilibrar la balanza en la figura III, los objetos que es necesario agregar al plato vacío, marcado con (?), son:\n",
    "\n",
    "(a) 1 círculo y 2 rombos.  \n",
    "(b) 2 cuadrados y 1 círculo  \n",
    "(c) 1 romo y 3 cuadrados  \n",
    "(d) 1 hexágono, 2 triángulos y 1 cuadrado. \n"
   ]
  },
  {
   "cell_type": "markdown",
   "id": "e2ce0d60",
   "metadata": {},
   "source": [
    "Solución: "
   ]
  },
  {
   "cell_type": "markdown",
   "id": "7d9e64fc",
   "metadata": {},
   "source": [
    "Definamos las variables que representen las figuras, para así plantear ecuaciones que nos permitan resolver el problema: "
   ]
  },
  {
   "cell_type": "code",
   "execution_count": null,
   "id": "bd1ee01e",
   "metadata": {},
   "outputs": [],
   "source": []
  },
  {
   "cell_type": "markdown",
   "id": "04db3db9",
   "metadata": {},
   "source": [
    "## 10.2  \n",
    "\n",
    "COnsidera las posiciones de los números en la recta numérica. "
   ]
  },
  {
   "cell_type": "code",
   "execution_count": 13,
   "id": "3d7fe82a",
   "metadata": {},
   "outputs": [
    {
     "data": {
      "text/plain": [
       "(-1.0, 2.0, -1.0, 1.0)"
      ]
     },
     "execution_count": 13,
     "metadata": {},
     "output_type": "execute_result"
    },
    {
     "data": {
      "image/png": "[encoded data removed]",
      "text/plain": [
       "<Figure size 432x288 with 1 Axes>"
      ]
     },
     "metadata": {
      "needs_background": "light"
     },
     "output_type": "display_data"
    }
   ],
   "source": [
    "import numpy as np \n",
    "import matplotlib.pyplot as plt \n",
    "\n",
    "plt.plot([-1,2],[0,0]) \n",
    "x = -2/5\n",
    "plt.scatter([x,x**2,x**3],[0,0,0], color = 'red') \n",
    "plt.text(x,-0.1,'x')\n",
    "plt.text(x**2,-0.1,r'$x^{2}$')\n",
    "plt.text(x**3,-0.1,r'$x^{3}$')\n",
    "plt.axis([-1,2,-1,1])"
   ]
  },
  {
   "cell_type": "markdown",
   "id": "def5c211",
   "metadata": {},
   "source": [
    "Un posible valor para $x$ es: \n",
    "\n",
    "(a) $5/3$  \n",
    "(b) $3/5$  \n",
    "(c) $-2/5$  \n",
    "(d) $-5/2$\n"
   ]
  },
  {
   "cell_type": "code",
   "execution_count": null,
   "id": "0418237b",
   "metadata": {},
   "outputs": [],
   "source": []
  },
  {
   "cell_type": "markdown",
   "id": "91c4ee3c",
   "metadata": {},
   "source": [
    "## 10.3  \n",
    "Si divido un rollo de cuerda en pedazos de 2 metros me sobra 1 metro,  \n"
   ]
  },
  {
   "cell_type": "code",
   "execution_count": null,
   "id": "0f82c051",
   "metadata": {},
   "outputs": [],
   "source": []
  },
  {
   "cell_type": "code",
   "execution_count": null,
   "id": "4f77263d",
   "metadata": {},
   "outputs": [],
   "source": []
  },
  {
   "cell_type": "code",
   "execution_count": null,
   "id": "c173ab0c",
   "metadata": {},
   "outputs": [],
   "source": []
  },
  {
   "cell_type": "code",
   "execution_count": null,
   "id": "893a9828",
   "metadata": {},
   "outputs": [],
   "source": []
  },
  {
   "cell_type": "markdown",
   "id": "dea10631",
   "metadata": {},
   "source": [
    "## Referentes "
   ]
  },
  {
   "cell_type": "markdown",
   "id": "30e3cabb",
   "metadata": {},
   "source": [
    "* Razonamiento lógico: Cuaderno de trabajo. Universidad de Antioquia. Facultad de Ciencias \n",
    "  Exactas y Naturales. Instituto de Matemáticas. "
   ]
  },
  {
   "cell_type": "code",
   "execution_count": null,
   "id": "e04bf1c8",
   "metadata": {},
   "outputs": [],
   "source": []
  }
 ],
 "metadata": {
  "kernelspec": {
   "display_name": "Python 3",
   "language": "python",
   "name": "python3"
  },
  "language_info": {
   "codemirror_mode": {
    "name": "ipython",
    "version": 3
   },
   "file_extension": ".py",
   "mimetype": "text/x-python",
   "name": "python",
   "nbconvert_exporter": "python",
   "pygments_lexer": "ipython3",
   "version": "3.8.8"
  },
  "latex_envs": {
   "LaTeX_envs_menu_present": true,
   "autoclose": false,
   "autocomplete": false,
   "bibliofile": "biblio.bib",
   "cite_by": "apalike",
   "current_citInitial": 1,
   "eqLabelWithNumbers": true,
   "eqNumInitial": 1,
   "hotkeys": {
    "equation": "Ctrl-E",
    "itemize": "Ctrl-I"
   },
   "labels_anchors": false,
   "latex_user_defs": false,
   "report_style_numbering": false,
   "user_envs_cfg": false
  }
 },
 "nbformat": 4,
 "nbformat_minor": 5
}
