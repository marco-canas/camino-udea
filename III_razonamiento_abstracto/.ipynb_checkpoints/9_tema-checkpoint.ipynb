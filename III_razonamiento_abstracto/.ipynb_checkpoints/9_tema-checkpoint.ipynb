{
 "cells": [
  {
   "cell_type": "markdown",
   "id": "809c69e1",
   "metadata": {
    "slideshow": {
     "slide_type": "slide"
    }
   },
   "source": [
    "<table align=\"left\">\n",
    "  <td>\n",
    "    <a href=\"https://colab.research.google.com/github/marco-canas/camino-udea/blob/main/III_razonamiento_abstracto/9_tema.ipynb\" target=\"_parent\"><img src=\"https://colab.research.google.com/assets/colab-badge.svg\" alt=\"Open In Colab\"/></a>\n",
    "  </td>\n",
    "  <td>\n",
    "    <a target=\"_blank\" href=\"https://kaggle.com/kernels/welcome?src=https://github.com/marco-canas/camino-udea/blob/main/III_razonamiento_abstracto/9_tema.ipynb\"><img src=\"https://kaggle.com/static/images/open-in-kaggle.svg\" /></a>\n",
    "  </td>\n",
    "</table>"
   ]
  },
  {
   "cell_type": "markdown",
   "id": "20444dac",
   "metadata": {
    "slideshow": {
     "slide_type": "slide"
    }
   },
   "source": [
    "# Parte III  \n",
    "## Razonamiento abstracto"
   ]
  },
  {
   "cell_type": "markdown",
   "id": "6e22b1cd",
   "metadata": {
    "slideshow": {
     "slide_type": "slide"
    }
   },
   "source": [
    "# Tema 9 "
   ]
  },
  {
   "cell_type": "markdown",
   "id": "f82eedc9",
   "metadata": {
    "slideshow": {
     "slide_type": "slide"
    }
   },
   "source": [
    "## Operaciones y lenguajes no convencionales"
   ]
  },
  {
   "cell_type": "markdown",
   "id": "ef3f138b",
   "metadata": {
    "slideshow": {
     "slide_type": "slide"
    }
   },
   "source": [
    "* Enseñar a resolver problemas resaltando el modelo o método de razonamiento utilizado"
   ]
  },
  {
   "cell_type": "markdown",
   "id": "3c7b3ea8",
   "metadata": {
    "slideshow": {
     "slide_type": "slide"
    }
   },
   "source": [
    "### [Primer video de apoyo](https://www.youtube.com/watch?v=PHozT4iMqsU) "
   ]
  },
  {
   "cell_type": "markdown",
   "id": "e95e0c6d",
   "metadata": {
    "slideshow": {
     "slide_type": "slide"
    }
   },
   "source": [
    "## [Temporizador para la clase](https://www.temporizadoronline.com/)"
   ]
  },
  {
   "cell_type": "markdown",
   "id": "4c53ae58",
   "metadata": {
    "slideshow": {
     "slide_type": "slide"
    }
   },
   "source": [
    "## Participación aleatoria de los estudiantes"
   ]
  },
  {
   "cell_type": "code",
   "execution_count": 37,
   "id": "15bcce61",
   "metadata": {
    "slideshow": {
     "slide_type": "slide"
    }
   },
   "outputs": [],
   "source": [
    "import numpy as np \n",
    "import pandas as pd \n",
    "from random import choice\n",
    "pivu = pd.read_csv('pivu_nombres.csv')\n",
    "lista_estudiantes = list(pivu.nombre.values)"
   ]
  },
  {
   "cell_type": "code",
   "execution_count": 71,
   "id": "688b831d",
   "metadata": {
    "slideshow": {
     "slide_type": "slide"
    }
   },
   "outputs": [
    {
     "name": "stdout",
     "output_type": "stream",
     "text": [
      "Todos los estudiantes han participado.\n",
      " Muchas gracias y Felicitaciones\n"
     ]
    }
   ],
   "source": [
    "def estudiante_que_va_a_participar():\n",
    "    if lista_estudiantes != []:\n",
    "        estudiante = choice(lista_estudiantes)\n",
    "        lista_estudiantes.remove(estudiante)\n",
    "        return print(estudiante)\n",
    "    else:\n",
    "        print('Todos los estudiantes han participado.\\n Muchas gracias y Felicitaciones')\n",
    "\n",
    "estudiante_que_va_a_participar() "
   ]
  },
  {
   "cell_type": "markdown",
   "id": "619cbffe",
   "metadata": {
    "slideshow": {
     "slide_type": "slide"
    }
   },
   "source": [
    "## Preconceptos "
   ]
  },
  {
   "cell_type": "markdown",
   "id": "43c0f378",
   "metadata": {
    "slideshow": {
     "slide_type": "slide"
    }
   },
   "source": [
    "* Potenciación de exponente fraccionario: \n",
    "* $3^{1/2} = \\sqrt{3}$ \n",
    "* $3^{1/3} = \\sqrt[3]{3}$\n",
    "* $\\sqrt{2} \\approx 1.41$\n",
    "* $\\sqrt{3} \\approx 1.73$\n",
    "* $\\pi \\approx 3.14$\n",
    "* $a^{-1} = \\frac{1}{a}$\n",
    "\n",
    "es decir, $a^{1}$ es una represntación del recíproco o inverso multiplicativo de el número real $a$. \n"
   ]
  },
  {
   "cell_type": "code",
   "execution_count": 1,
   "id": "118ce991",
   "metadata": {
    "slideshow": {
     "slide_type": "slide"
    }
   },
   "outputs": [
    {
     "data": {
      "text/plain": [
       "1.7320508075688772"
      ]
     },
     "execution_count": 1,
     "metadata": {},
     "output_type": "execute_result"
    }
   ],
   "source": [
    "3**(1/2)"
   ]
  },
  {
   "cell_type": "code",
   "execution_count": 21,
   "id": "db2ec366",
   "metadata": {
    "slideshow": {
     "slide_type": "slide"
    }
   },
   "outputs": [],
   "source": [
    "import math as m \n",
    "from sympy import * "
   ]
  },
  {
   "cell_type": "code",
   "execution_count": 3,
   "id": "5c0a8f4f",
   "metadata": {
    "slideshow": {
     "slide_type": "slide"
    }
   },
   "outputs": [
    {
     "data": {
      "text/plain": [
       "0.25"
      ]
     },
     "execution_count": 3,
     "metadata": {},
     "output_type": "execute_result"
    }
   ],
   "source": [
    "4**-1"
   ]
  },
  {
   "cell_type": "code",
   "execution_count": 23,
   "id": "f6db437a",
   "metadata": {
    "slideshow": {
     "slide_type": "slide"
    }
   },
   "outputs": [
    {
     "data": {
      "text/latex": [
       "$\\displaystyle 3.14159265358979$"
      ],
      "text/plain": [
       "3.14159265358979"
      ]
     },
     "execution_count": 23,
     "metadata": {},
     "output_type": "execute_result"
    }
   ],
   "source": [
    "pi.evalf()  "
   ]
  },
  {
   "cell_type": "code",
   "execution_count": 11,
   "id": "92ff23b6",
   "metadata": {
    "slideshow": {
     "slide_type": "slide"
    }
   },
   "outputs": [
    {
     "data": {
      "text/plain": [
       "1.7320508075688772"
      ]
     },
     "execution_count": 11,
     "metadata": {},
     "output_type": "execute_result"
    }
   ],
   "source": [
    "3**(1/2)"
   ]
  },
  {
   "cell_type": "code",
   "execution_count": 14,
   "id": "3bc75c2d",
   "metadata": {
    "slideshow": {
     "slide_type": "slide"
    }
   },
   "outputs": [
    {
     "data": {
      "text/latex": [
       "$\\displaystyle 1.73205080756888$"
      ],
      "text/plain": [
       "1.73205080756888"
      ]
     },
     "execution_count": 14,
     "metadata": {},
     "output_type": "execute_result"
    }
   ],
   "source": [
    "sqrt(3).evalf()  "
   ]
  },
  {
   "cell_type": "markdown",
   "id": "331b28ef",
   "metadata": {
    "slideshow": {
     "slide_type": "slide"
    }
   },
   "source": [
    "### Preguntas 9.1 - 9.2 "
   ]
  },
  {
   "cell_type": "markdown",
   "id": "c2bef6bd",
   "metadata": {
    "slideshow": {
     "slide_type": "slide"
    }
   },
   "source": [
    "Se define la operación $\\Delta$ así: \n",
    "\n",
    "$$ a\\ \\Delta \\ b = \\frac{a^{b}}{b^{a}} \\ \\ \\ \\text{con} \\ \\ b \\neq 0 $$\n"
   ]
  },
  {
   "cell_type": "markdown",
   "id": "cdd330a7",
   "metadata": {
    "slideshow": {
     "slide_type": "slide"
    }
   },
   "source": [
    "## Interpretación verbal de la operación $\\Delta$.  \n",
    "\n"
   ]
  },
  {
   "cell_type": "markdown",
   "id": "48fcfa13",
   "metadata": {
    "slideshow": {
     "slide_type": "slide"
    }
   },
   "source": [
    "$\\Delta$ toma dos números reales $a$ y $b$ y realiza el cociente de $a$ a la $b$ y $b$ a la $a$. "
   ]
  },
  {
   "cell_type": "markdown",
   "id": "1c99ac63",
   "metadata": {
    "slideshow": {
     "slide_type": "slide"
    }
   },
   "source": [
    "## 9.1  \n",
    "\n",
    "El valor de $(2 \\Delta 3) \\Delta 1$ es:   \n",
    "(a) 8/9   \n",
    "(b) 6/7   \n",
    "(c) 1   \n",
    "(d) 9/8"
   ]
  },
  {
   "cell_type": "code",
   "execution_count": null,
   "id": "8df9e077",
   "metadata": {
    "slideshow": {
     "slide_type": "slide"
    }
   },
   "outputs": [],
   "source": [
    "from sympy import *\n",
    "from fractions import Fraction\n",
    "init_printing\n",
    "a,b = symbols('a,b', real = True)\n",
    "def triangulo(a,b):\n",
    "    return (a**b)/(b**a) "
   ]
  },
  {
   "cell_type": "code",
   "execution_count": null,
   "id": "f99cf2d9",
   "metadata": {
    "slideshow": {
     "slide_type": "slide"
    }
   },
   "outputs": [],
   "source": [
    "triangulo(2,3) == 2**3/3**2"
   ]
  },
  {
   "cell_type": "markdown",
   "id": "7b8364cd",
   "metadata": {
    "slideshow": {
     "slide_type": "slide"
    }
   },
   "source": [
    "**Conclusión:**  \n",
    "Por lo tanto, la opción (a) es la correcta pues \n",
    "\n",
    "$$ (2 \\Delta 3)\\Delta 1 = (2 \\Delta 3) = \\frac{2^{3}}{3^{2}} = \\frac{8}{9}  $$\n"
   ]
  },
  {
   "cell_type": "code",
   "execution_count": null,
   "id": "24fb0c6e",
   "metadata": {
    "slideshow": {
     "slide_type": "slide"
    }
   },
   "outputs": [],
   "source": [
    "8/9"
   ]
  },
  {
   "cell_type": "code",
   "execution_count": null,
   "id": "a044ad3c",
   "metadata": {
    "slideshow": {
     "slide_type": "slide"
    }
   },
   "outputs": [],
   "source": [
    "6/7"
   ]
  },
  {
   "cell_type": "markdown",
   "id": "888fab65",
   "metadata": {
    "slideshow": {
     "slide_type": "slide"
    }
   },
   "source": [
    "**Observación:**  1 es el módulo a derecha de la operación $\\Delta$. "
   ]
  },
  {
   "cell_type": "markdown",
   "id": "51d31e87",
   "metadata": {
    "slideshow": {
     "slide_type": "slide"
    }
   },
   "source": [
    "$$a \\Delta 1 = \\frac{a^{1}}{1^{a}}  = a $$\n",
    "\n",
    "$$ 1 \\Delta a = \\frac{1^{a}}{a^{1}} = \\frac{1}{a} $$\n",
    "\n",
    "de estas dos ecuaciones se infiere que $\\Delta$ es una operación no conmutativa. "
   ]
  },
  {
   "cell_type": "markdown",
   "id": "4f367fe8",
   "metadata": {
    "slideshow": {
     "slide_type": "slide"
    }
   },
   "source": [
    "## 9.2  \n",
    "\n",
    "De las afirmaciones siguientes, la única verdadera es: \n",
    "\n",
    "(a)  $$ a \\ \\Delta \\ (b + c) = (a \\ \\Delta \\ b) + (a \\ \\Delta \\ c), $$\n",
    "\n",
    "para $a + b \\neq 0, b \\neq 0$ y $c \\neq 0$.   \n",
    "\n",
    "es decir, ¿será que la operación $\\Delta$ distribuye para sumas.  "
   ]
  },
  {
   "cell_type": "markdown",
   "id": "3c184493",
   "metadata": {
    "slideshow": {
     "slide_type": "slide"
    }
   },
   "source": [
    "(b)  $$ \\frac{1}{a} \\ \\Delta \\ b = \\frac{1}{b} \\ \\Delta \\ a$$\n",
    "\n",
    "para $a,b \\neq 0$.  "
   ]
  },
  {
   "cell_type": "markdown",
   "id": "5789f4a4",
   "metadata": {
    "slideshow": {
     "slide_type": "slide"
    }
   },
   "source": [
    "Es decir, será que al elevar a la -1, este exponente distribuye camviando el orden de los argumentos. "
   ]
  },
  {
   "cell_type": "markdown",
   "id": "0c9b38dd",
   "metadata": {
    "slideshow": {
     "slide_type": "slide"
    }
   },
   "source": []
  },
  {
   "cell_type": "markdown",
   "id": "a66900d0",
   "metadata": {
    "slideshow": {
     "slide_type": "slide"
    }
   },
   "source": [
    "**(c)**  $$ a \\ \\Delta \\ \\frac{1}{a} = \\frac{1}{\\frac{1}{a} \\ \\Delta \\ a} $$\n",
    "\n",
    "para $a \\neq 0$.   \n",
    "\n",
    "(d)  $$ a \\ \\Delta \\ b = b \\ \\Delta \\ a \\nonumber $$\n",
    "\n",
    "para $a,b \\neq 0$. \n",
    "\n",
    "Es decir, están preguntando que si $\\Delta$ es una operación conmutativa o que si importa el orden al operar. "
   ]
  },
  {
   "cell_type": "code",
   "execution_count": 3,
   "id": "b345b5a6",
   "metadata": {
    "slideshow": {
     "slide_type": "skip"
    }
   },
   "outputs": [
    {
     "data": {
      "text/plain": [
       "0.07216878364870323"
      ]
     },
     "execution_count": 3,
     "metadata": {},
     "output_type": "execute_result"
    }
   ],
   "source": [
    "1/(8*3**(1/2))"
   ]
  },
  {
   "cell_type": "code",
   "execution_count": 4,
   "id": "bb5be20b",
   "metadata": {
    "slideshow": {
     "slide_type": "slide"
    }
   },
   "outputs": [
    {
     "data": {
      "text/plain": [
       "0.08818894733156664"
      ]
     },
     "execution_count": 4,
     "metadata": {},
     "output_type": "execute_result"
    }
   ],
   "source": [
    "1/(9*2**(1/3))"
   ]
  },
  {
   "cell_type": "markdown",
   "id": "40a7bf83",
   "metadata": {
    "slideshow": {
     "slide_type": "slide"
    }
   },
   "source": [
    "## Solución:"
   ]
  },
  {
   "cell_type": "markdown",
   "id": "bb9ffa7b",
   "metadata": {
    "slideshow": {
     "slide_type": "slide"
    }
   },
   "source": [
    "Razonemos primeros de manera general: "
   ]
  },
  {
   "cell_type": "markdown",
   "id": "506d6120",
   "metadata": {
    "slideshow": {
     "slide_type": "slide"
    }
   },
   "source": [
    "\\begin{align*}\n",
    "a \\ \\Delta \\ (b+c) & = \\frac{a^{b+c}}{(b+c)^{a}} \\\\\n",
    "                   & = \\frac{a^{b}a^{c}}{(b+c)^{a}} \\\\\n",
    "                   & \\neq \\frac{a^{b}a^{c}}{b^{a} + c^{a}} \\\\\n",
    "                   & \\neq \\frac{a^{b}}{b^{a}} \\frac{a^{c}}{c^{a}} = a\\Delta b + a \\Delta c.\n",
    "\\end{align*}"
   ]
  },
  {
   "cell_type": "markdown",
   "id": "5fe4cc6f",
   "metadata": {
    "slideshow": {
     "slide_type": "slide"
    }
   },
   "source": [
    "Razonemos ahora de manera particular. Ensayemos las cuatro afirmaciones con $a = 1$, $b = 2$ y $c = 3$. \n",
    "\n",
    "$$1 \\Delta (2+3) = \\frac{1^{5}}{5^{1}} \\ \\ \\neq  \\frac{1^{2}}{2^{1}} + \\frac{1^{3}}{3^{1}} = 1\\Delta 2 + 1 \\Delta 3 $$\n"
   ]
  },
  {
   "cell_type": "markdown",
   "id": "a7734b7d",
   "metadata": {
    "slideshow": {
     "slide_type": "slide"
    }
   },
   "source": [
    "**Conclusión**: La opción (a) es incorrecta, es decir, $\\Delta$ es una operación **no** distributiva. "
   ]
  },
  {
   "cell_type": "markdown",
   "id": "1893a5e5",
   "metadata": {
    "slideshow": {
     "slide_type": "slide"
    }
   },
   "source": [
    "Recuerde que la operación de multiplicación en los los números reales si distribuye con respecto a la suma. \n",
    "\n",
    "$$ a(b+c) = ab + ac  $$\n",
    "$$ 2(3+4) = 2(3) + 2(4)  $$"
   ]
  },
  {
   "cell_type": "markdown",
   "id": "ad3de788",
   "metadata": {
    "slideshow": {
     "slide_type": "slide"
    }
   },
   "source": [
    "### Verificación de la primera opción con Python  \n",
    "Empecemos definicido la función Triángulo "
   ]
  },
  {
   "cell_type": "code",
   "execution_count": 10,
   "id": "2ce75d91",
   "metadata": {
    "slideshow": {
     "slide_type": "slide"
    }
   },
   "outputs": [
    {
     "data": {
      "text/plain": [
       "False"
      ]
     },
     "execution_count": 10,
     "metadata": {},
     "output_type": "execute_result"
    }
   ],
   "source": [
    "from sympy import *\n",
    "from fractions import Fraction\n",
    "init_printing\n",
    "a,b,c = symbols('a,b,c', real = True)\n",
    "def triangulo(a,b):\n",
    "    return (a**b)/(b**a) \n",
    "\n",
    "triangulo(a,b+c) == triangulo(a,b) + triangulo(a,c) "
   ]
  },
  {
   "cell_type": "markdown",
   "id": "74d5759f",
   "metadata": {
    "slideshow": {
     "slide_type": "slide"
    }
   },
   "source": [
    "**Conclusión:** Sympy nos confirma que la afirmación $(a)$ es en general falsa. "
   ]
  },
  {
   "cell_type": "markdown",
   "id": "d8b6f717",
   "metadata": {
    "slideshow": {
     "slide_type": "slide"
    }
   },
   "source": [
    "## Analicemos ahora la segunda opción"
   ]
  },
  {
   "cell_type": "markdown",
   "id": "6107a4c5",
   "metadata": {
    "slideshow": {
     "slide_type": "slide"
    }
   },
   "source": [
    "Empecemos a evaluar veracidad con valores particulares:\n",
    "\n",
    "a = 2, b = 3 \n",
    "\n",
    "$$\\frac{1}{a} \\ \\Delta \\ b = \\frac{1}{2} \\ \\Delta \\ 3 = \\frac{(1/2)^{3}}{3^{1/2}} = \\frac{1/8}{\\sqrt{3}} = \\frac{1}{8\\sqrt{3}} > \\frac{1}{8(2)} = \\frac{1}{16} \\approx 0.06 $$\n"
   ]
  },
  {
   "cell_type": "code",
   "execution_count": 15,
   "id": "abecaa37",
   "metadata": {
    "slideshow": {
     "slide_type": "slide"
    }
   },
   "outputs": [
    {
     "data": {
      "text/plain": [
       "0.0625"
      ]
     },
     "execution_count": 15,
     "metadata": {},
     "output_type": "execute_result"
    }
   ],
   "source": [
    "1/16 "
   ]
  },
  {
   "cell_type": "markdown",
   "id": "2535df08",
   "metadata": {
    "slideshow": {
     "slide_type": "slide"
    }
   },
   "source": [
    "a = 2, b = 3 \n",
    "\n",
    "$$\\frac{1}{b} \\ \\Delta \\ a = \\frac{1}{3} \\ \\Delta \\ 2 = \\frac{(1/3)^{2}}{2^{1/3}} = \\frac{1/9}{\\sqrt[3]{2}} = \\frac{1}{9\\sqrt[3]{2}} < \\frac{1}{9(1)} \\approx 0.1 $$\n"
   ]
  },
  {
   "cell_type": "code",
   "execution_count": 16,
   "id": "417b4556",
   "metadata": {
    "slideshow": {
     "slide_type": "slide"
    }
   },
   "outputs": [
    {
     "data": {
      "text/plain": [
       "1.2599210498948732"
      ]
     },
     "execution_count": 16,
     "metadata": {},
     "output_type": "execute_result"
    }
   ],
   "source": [
    "2**(1/3) "
   ]
  },
  {
   "cell_type": "code",
   "execution_count": 20,
   "id": "4a4c571e",
   "metadata": {
    "slideshow": {
     "slide_type": "slide"
    }
   },
   "outputs": [
    {
     "data": {
      "text/plain": [
       "0.01"
      ]
     },
     "execution_count": 20,
     "metadata": {},
     "output_type": "execute_result"
    }
   ],
   "source": [
    "1/100"
   ]
  },
  {
   "cell_type": "markdown",
   "id": "bf93cfea",
   "metadata": {
    "slideshow": {
     "slide_type": "slide"
    }
   },
   "source": [
    "###  Ensayemos la opción $(b)$ con Sympy: "
   ]
  },
  {
   "cell_type": "code",
   "execution_count": 11,
   "id": "8f4d8315",
   "metadata": {
    "slideshow": {
     "slide_type": "slide"
    }
   },
   "outputs": [
    {
     "data": {
      "text/latex": [
       "$\\displaystyle b^{- \\frac{1}{a}} \\left(\\frac{1}{a}\\right)^{b}$"
      ],
      "text/plain": [
       "b**(-1/a)*(1/a)**b"
      ]
     },
     "metadata": {},
     "output_type": "display_data"
    },
    {
     "data": {
      "text/latex": [
       "$\\displaystyle a^{- \\frac{1}{b}} \\left(\\frac{1}{b}\\right)^{a}$"
      ],
      "text/plain": [
       "a**(-1/b)*(1/b)**a"
      ]
     },
     "metadata": {},
     "output_type": "display_data"
    },
    {
     "data": {
      "text/plain": [
       "False"
      ]
     },
     "metadata": {},
     "output_type": "display_data"
    }
   ],
   "source": [
    "from sympy import *\n",
    "from fractions import Fraction\n",
    "init_printing\n",
    "a,b = symbols('a,b', real = True)\n",
    "def triangulo(a,b):\n",
    "    return (a**b)/(b**a) \n",
    "#a = 2\n",
    "#b = 3\n",
    "c = triangulo(1/a,b) \n",
    "d = triangulo(1/b, a) \n",
    "e = triangulo(1/a,b) == triangulo(b**(-1), a) \n",
    "display(c,d,e)"
   ]
  },
  {
   "cell_type": "markdown",
   "id": "d2eb0b07",
   "metadata": {
    "slideshow": {
     "slide_type": "slide"
    }
   },
   "source": [
    "**Conclusión:** La obción $(b)$ es en general falsa "
   ]
  },
  {
   "cell_type": "markdown",
   "id": "53f43f84",
   "metadata": {
    "slideshow": {
     "slide_type": "slide"
    }
   },
   "source": [
    "# Mostremos los riesgos de razonar y generalizar desde verificaciones particulares"
   ]
  },
  {
   "cell_type": "code",
   "execution_count": 12,
   "id": "192aa052",
   "metadata": {
    "slideshow": {
     "slide_type": "slide"
    }
   },
   "outputs": [
    {
     "data": {
      "text/plain": [
       "0.5"
      ]
     },
     "metadata": {},
     "output_type": "display_data"
    },
    {
     "data": {
      "text/plain": [
       "0.5"
      ]
     },
     "metadata": {},
     "output_type": "display_data"
    },
    {
     "data": {
      "text/plain": [
       "True"
      ]
     },
     "metadata": {},
     "output_type": "display_data"
    }
   ],
   "source": [
    "a = 1\n",
    "b = 2\n",
    "c = triangulo(1/a,b) \n",
    "d = triangulo(1/b, a) \n",
    "e = triangulo(1/a,b) == triangulo(b**(-1), a) \n",
    "display(c,d,e)"
   ]
  },
  {
   "cell_type": "markdown",
   "id": "b8eff6b7",
   "metadata": {
    "slideshow": {
     "slide_type": "slide"
    }
   },
   "source": [
    "**Conclusión:** Note que si $a = 1$ y $b = 2$, entonces la afirmación $(b)$ se verifica, es decir:\n",
    "\n",
    "$$ \\text{Si}\\ a = 1 \\text{y} \\ b = 2, \\ \\text{entonces}\\ \\  \\frac{1}{a} \\ \\Delta \\  b = \\frac{1}{b} \\ \\Delta \\ a $$\n",
    "\n",
    "Pero no por ello podemos generalizar y decir que $(b)$ es una afirmación verdadera. "
   ]
  },
  {
   "cell_type": "markdown",
   "id": "b9013a18",
   "metadata": {
    "slideshow": {
     "slide_type": "slide"
    }
   },
   "source": [
    "Pero si toma a $a = 2$ y $b = 4 = 2^{2}$, entonces podrás mostrar, sin utilizar calculadora, que esta afirmación es falsa."
   ]
  },
  {
   "cell_type": "markdown",
   "id": "493e7042",
   "metadata": {
    "slideshow": {
     "slide_type": "slide"
    }
   },
   "source": [
    "$$ \\text{Si}\\ a = 2 \\text{y} \\ b = 4, \\ \\text{entonces}\\ \\  \\frac{1}{a} \\ \\Delta \\  b \\neq \\frac{1}{b} \\ \\Delta \\ a $$\n"
   ]
  },
  {
   "cell_type": "markdown",
   "id": "4626e019",
   "metadata": {
    "slideshow": {
     "slide_type": "slide"
    }
   },
   "source": [
    "En efecto, \n",
    "\n",
    "\n"
   ]
  },
  {
   "cell_type": "code",
   "execution_count": null,
   "id": "76fdc020",
   "metadata": {
    "slideshow": {
     "slide_type": "slide"
    }
   },
   "outputs": [],
   "source": []
  },
  {
   "cell_type": "markdown",
   "id": "81f5ea1b",
   "metadata": {
    "slideshow": {
     "slide_type": "slide"
    }
   },
   "source": [
    "## Verifiquemos que la opción (c) es la correcta"
   ]
  },
  {
   "cell_type": "markdown",
   "id": "f2a6fd7a",
   "metadata": {
    "slideshow": {
     "slide_type": "slide"
    }
   },
   "source": [
    "Tomemos $a = 2$.\n",
    "\n",
    "$$ a \\Delta \\frac{1}{a} = 2 \\Delta \\frac{1}{2} = \\frac{(2)^{1/2}}{(1/2)^{2}} = \\frac{\\sqrt{2}}{1/4} =4\\sqrt{2}$$\n",
    "\n",
    "$$ \\frac{1}{\\frac{1}{a} \\Delta a} =  \\frac{1}{\\frac{1}{2} \\Delta 2} = \\frac{1}{\\frac{(1/2)^{2}}{2^{1/2}}} = \\frac{\\frac{1}{1}}{\\frac{(1/2)^{2}}{2^{1/2}}} = \\frac{\\sqrt{2}}{1/4} = \\frac{\\frac{\\sqrt{2}}{1}}{\\frac{1}{4}}  = 4\\sqrt{2} $$\n"
   ]
  },
  {
   "cell_type": "markdown",
   "id": "549e256d",
   "metadata": {
    "slideshow": {
     "slide_type": "slide"
    }
   },
   "source": [
    "**Conclusión:** La opción (c) es la correcta. "
   ]
  },
  {
   "cell_type": "markdown",
   "id": "9e7633ad",
   "metadata": {
    "slideshow": {
     "slide_type": "slide"
    }
   },
   "source": [
    "## Verificación de la opción (c) con sympy"
   ]
  },
  {
   "cell_type": "code",
   "execution_count": 9,
   "id": "5ddb855e",
   "metadata": {
    "slideshow": {
     "slide_type": "slide"
    }
   },
   "outputs": [
    {
     "data": {
      "text/latex": [
       "$\\displaystyle a^{\\frac{1}{a}} \\left(\\frac{1}{a}\\right)^{- a}$"
      ],
      "text/plain": [
       "a**(1/a)*(1/a)**(-a)"
      ]
     },
     "metadata": {},
     "output_type": "display_data"
    },
    {
     "data": {
      "text/latex": [
       "$\\displaystyle a^{\\frac{1}{a}} \\left(\\frac{1}{a}\\right)^{- a}$"
      ],
      "text/plain": [
       "a**(1/a)*(1/a)**(-a)"
      ]
     },
     "metadata": {},
     "output_type": "display_data"
    },
    {
     "data": {
      "text/plain": [
       "True"
      ]
     },
     "metadata": {},
     "output_type": "display_data"
    }
   ],
   "source": [
    "from sympy import *\n",
    "from fractions import Fraction\n",
    "init_printing\n",
    "a,b,c = symbols('a,b,c', real = True)\n",
    "def triangulo(a,b):\n",
    "    return (a**b)/(b**a) \n",
    "\n",
    "d = triangulo(a,1/a)\n",
    "e = 1/triangulo(1/a,a) \n",
    "\n",
    "display(d,e,triangulo(a,1/a) == 1/triangulo(1/a,a))   "
   ]
  },
  {
   "cell_type": "markdown",
   "id": "130240c4",
   "metadata": {
    "slideshow": {
     "slide_type": "slide"
    }
   },
   "source": [
    "### Realicemos la prueba general de la afirmación c. "
   ]
  },
  {
   "cell_type": "markdown",
   "id": "77041043",
   "metadata": {
    "slideshow": {
     "slide_type": "slide"
    }
   },
   "source": [
    "\\begin{align*}\n",
    "a \\Delta \\frac{1}{a} & = \\frac{a^{1/a}}{(1/a)^{a}} \\\\\n",
    "                     & = \\frac{1}{\\frac{1}{a^{1/a}} \\cdot (1/a)^{a}} \\\\\n",
    "                     & = \\frac{1}{\\frac{(1/a)^{a}}{a^{1/a}}} \\\\\n",
    "                     & = \\frac{1}{\\frac{1}{a} \\Delta a}\n",
    "\\end{align*}\n",
    "\n",
    "Por lo tanto, la afirmación $(c)$ es verdadera para cualquier número real no nulo. "
   ]
  },
  {
   "cell_type": "markdown",
   "id": "f9f65e2d",
   "metadata": {
    "slideshow": {
     "slide_type": "slide"
    }
   },
   "source": [
    "## Veamos que la última opción tampoco es verdadera: \n",
    "\n",
    "Veamos pues que $\\Delta$ no es conmutativa.\n",
    "\n",
    "a = 1 y $b = 2$\n",
    "\n",
    "$$a \\Delta b = 1 \\Delta 2 = \\frac{1^{2}}{2^{1}}  = \\frac{1}{2}  $$\n",
    "\n",
    "\n",
    "pero \n",
    "\n",
    "$$ b \\Delta a = 2 \\Delta 1 = \\frac{2^{1}}{1^{2}} = 2 $$\n",
    "\n",
    "Entonces, el orden con el que se opera con $\\Delta$ si altera el resultado. \n"
   ]
  },
  {
   "cell_type": "markdown",
   "id": "95b6099f",
   "metadata": {
    "slideshow": {
     "slide_type": "slide"
    }
   },
   "source": [
    "## 9.3  \n",
    "\n",
    "En el conjunto de los **números reales** se define una operación arbitraria, denotada por $\\Diamond$ así:\n",
    "\n",
    "$$ a \\ \\Diamond \\ b = a - 2b. $$\n",
    "\n",
    "De las siguientes igualdades la única verdadera es:  \n",
    "  \n",
    "(a) $$ a \\ \\Diamond  \\ b = b \\  \\Diamond \\ a $$\n",
    "\n",
    "Es decir, será que la operación diamante es conmutativa (el resultado es independiente del orden de los argumentos). \n",
    "\n",
    "(b) $$ a \\  \\Diamond \\ (b + c) = (a \\ \\Diamond \\ b) \\ \\Diamond \\ c  $$\n",
    "\n",
    "\n",
    "(c)  $$ a \\ \\Diamond \\ (b + c) = (a \\ \\Diamond \\ b) + (a \\ \\Diamond \\  c) $$\n",
    "\n",
    "Es decir, será que la operación diamante distribuye para sumas. \n",
    "\n",
    "(d) $$ a \\ \\Diamond \\  (b \\ \\Diamond \\ c) = (a \\ \\Diamond \\ b) \\ \\Diamond \\  c $$\n",
    "\n",
    "Es decir, será que la operación rombo $\\Diamond$ es asociativa, (no importa los que asocie, el resultado es el mismo)\n"
   ]
  },
  {
   "cell_type": "markdown",
   "id": "8033948e",
   "metadata": {
    "slideshow": {
     "slide_type": "slide"
    }
   },
   "source": [
    "### Solución: "
   ]
  },
  {
   "cell_type": "markdown",
   "id": "651e9670",
   "metadata": {
    "slideshow": {
     "slide_type": "slide"
    }
   },
   "source": [
    "Razonemos por ensayo error o disyunción de casos:\n",
    "\n",
    "Empecemos con $(a)$: "
   ]
  },
  {
   "cell_type": "code",
   "execution_count": 7,
   "id": "ada41bcb",
   "metadata": {
    "slideshow": {
     "slide_type": "slide"
    }
   },
   "outputs": [],
   "source": [
    "from sympy import *\n",
    "a,b = symbols('a,b', real = True)\n",
    "def diamond(a,b):\n",
    "    return a - 2*b"
   ]
  },
  {
   "cell_type": "code",
   "execution_count": 8,
   "id": "09b05541",
   "metadata": {
    "slideshow": {
     "slide_type": "slide"
    }
   },
   "outputs": [
    {
     "data": {
      "text/latex": [
       "$\\displaystyle a - 2 b$"
      ],
      "text/plain": [
       "a - 2*b"
      ]
     },
     "execution_count": 8,
     "metadata": {},
     "output_type": "execute_result"
    }
   ],
   "source": [
    "diamond(a,b)"
   ]
  },
  {
   "cell_type": "code",
   "execution_count": 9,
   "id": "e89ea073",
   "metadata": {
    "slideshow": {
     "slide_type": "slide"
    }
   },
   "outputs": [
    {
     "data": {
      "text/latex": [
       "$\\displaystyle - 2 a + b$"
      ],
      "text/plain": [
       "-2*a + b"
      ]
     },
     "execution_count": 9,
     "metadata": {},
     "output_type": "execute_result"
    }
   ],
   "source": [
    "diamond(b,a)"
   ]
  },
  {
   "cell_type": "markdown",
   "id": "872f9bf5",
   "metadata": {
    "slideshow": {
     "slide_type": "slide"
    }
   },
   "source": [
    "En particular, si $a = 1$ y $b = 2$, entonces"
   ]
  },
  {
   "cell_type": "code",
   "execution_count": null,
   "id": "93519b40",
   "metadata": {
    "slideshow": {
     "slide_type": "slide"
    }
   },
   "outputs": [],
   "source": [
    "diamond(a = 1,b = 2)"
   ]
  },
  {
   "cell_type": "code",
   "execution_count": null,
   "id": "1fead637",
   "metadata": {
    "slideshow": {
     "slide_type": "slide"
    }
   },
   "outputs": [],
   "source": [
    "diamond(a = 2,b = 1)"
   ]
  },
  {
   "cell_type": "code",
   "execution_count": null,
   "id": "e20518e6",
   "metadata": {
    "slideshow": {
     "slide_type": "slide"
    }
   },
   "outputs": [],
   "source": [
    "diamond(a,b)==diamond(b,a) "
   ]
  },
  {
   "cell_type": "markdown",
   "id": "ce2893bd",
   "metadata": {
    "slideshow": {
     "slide_type": "slide"
    }
   },
   "source": [
    "### Concisión de la revisión de $(a)$: \n",
    "La operación $\\Diamond$ no es conmutativa. "
   ]
  },
  {
   "cell_type": "markdown",
   "id": "143c3231",
   "metadata": {
    "slideshow": {
     "slide_type": "slide"
    }
   },
   "source": [
    "## Mostremos que la opción $(b)$ es verdadera:\n",
    "\n",
    "(b) $$ a \\  \\Diamond \\ (b + c) = (a \\ \\Diamond \\ b) \\ \\Diamond \\ c  \\nonumber $$\n"
   ]
  },
  {
   "cell_type": "markdown",
   "id": "fa4f1647",
   "metadata": {
    "slideshow": {
     "slide_type": "slide"
    }
   },
   "source": [
    "\\begin{align*}\n",
    "a \\Diamond (b+c) & = a - 2(b+c) \\\\\n",
    "                 & = a - 2b - 2c \\\\\n",
    "                 & = (a-2b) - 2c \\\\\n",
    "                 & = (a \\Diamond b) - 2c \\\\\n",
    "                 & = (a \\Diamond b) \\Diamond c\n",
    "\\end{align*}\n",
    "\n",
    "Por lo tanto, $a \\Diamond (b+c) = (a \\Diamond b) \\Diamond c$ para cualquier elección particular de $a, b$ y $c$; y así, la opción correcta de respuesta es efectivamente la $(b)$. "
   ]
  },
  {
   "cell_type": "markdown",
   "id": "2ce37574",
   "metadata": {
    "slideshow": {
     "slide_type": "slide"
    }
   },
   "source": [
    "## 9.4   \n",
    "\n",
    "Considere la siguiente operación entre números positivos $x$ y $y$: $x \\ast y = x^{2y}$. Así, el valor de $(3 \\ast 4) \\ast 2$ es: \n",
    "\n",
    "(a) $3^{8}$  \n",
    "(b) $3^{12}$   \n",
    "(c) $3^{24}$   \n",
    "(d) $3^{32}$   "
   ]
  },
  {
   "cell_type": "markdown",
   "id": "b8d54b4f",
   "metadata": {
    "slideshow": {
     "slide_type": "slide"
    }
   },
   "source": [
    "## Solución: "
   ]
  },
  {
   "cell_type": "code",
   "execution_count": 10,
   "id": "21ad12b8",
   "metadata": {
    "slideshow": {
     "slide_type": "slide"
    }
   },
   "outputs": [],
   "source": [
    "from sympy import *\n",
    "x,y = symbols('x,y') \n",
    "def asterisco(x,y):\n",
    "    return y**(2*x)"
   ]
  },
  {
   "cell_type": "markdown",
   "id": "7f03fb77",
   "metadata": {
    "slideshow": {
     "slide_type": "slide"
    }
   },
   "source": [
    "### Solución:\n",
    "\n",
    "\\begin{align*}\n",
    "(3\\ast 2)\\ast 2\n",
    "\\end{align*}\n"
   ]
  },
  {
   "cell_type": "markdown",
   "id": "bbc88cd6",
   "metadata": {
    "slideshow": {
     "slide_type": "slide"
    }
   },
   "source": [
    "# Preguntas 9.5 - 9.6.   \n",
    "\n",
    "El cuadro muestra los resultados en una calculadora, cuando a los números indicados se les aplica en secuencia los operadores anotados. Las operaciones ejecutadas en $\\ast$ y $\\Delta$ son fijas. "
   ]
  },
  {
   "cell_type": "markdown",
   "id": "7ac17021",
   "metadata": {
    "slideshow": {
     "slide_type": "slide"
    }
   },
   "source": [
    "|Números|Operadores|Resultados|  \n",
    "|- |--|--|  \n",
    "|0|$\\ast\\ $ $\\ \\Delta$|0|  \n",
    "|1|$\\ast\\  $ $\\ \\Delta$ |$1/2$|  \n",
    "|2|$\\ast\\  $ $\\ \\Delta$|2|\n",
    "|2|$\\Delta\\ $ $\\ \\ast$|1|  \n",
    "|1|$\\Delta\\ $ $\\ \\ast$|$1/4$|  "
   ]
  },
  {
   "cell_type": "markdown",
   "id": "0248f35d",
   "metadata": {
    "slideshow": {
     "slide_type": "slide"
    }
   },
   "source": [
    "## 9.5  \n",
    "Las operaciones definidas por $\\ast$ y $\\Delta$ son respectivemente:\n",
    "\n",
    "(a) Duplicar y dividir por 2.  \n",
    "(b)  Elevar al cuadrado y dividir por 2.  \n",
    "(c) Duplicar y dividir por cuatro.  \n",
    "(d)  Extraer raíz cuadrada y dividir por dos. \n"
   ]
  },
  {
   "cell_type": "markdown",
   "id": "1b2b9572",
   "metadata": {
    "slideshow": {
     "slide_type": "slide"
    }
   },
   "source": [
    "## Solución: "
   ]
  },
  {
   "cell_type": "markdown",
   "id": "99abc383",
   "metadata": {
    "slideshow": {
     "slide_type": "slide"
    }
   },
   "source": [
    "Empecemos verificando si la opción $(a)$ es la correcta"
   ]
  },
  {
   "cell_type": "code",
   "execution_count": null,
   "id": "fbc4c28d",
   "metadata": {
    "scrolled": true,
    "slideshow": {
     "slide_type": "slide"
    }
   },
   "outputs": [],
   "source": [
    "# Prueba de opción (a) \n",
    "\n",
    "import numpy as np \n",
    "import pandas as pd \n",
    "\n",
    "x = np.array([0,1,2])\n",
    "y = np.array([2,1])\n",
    "z = np.concatenate((x,y), axis = 0)\n",
    "\n",
    "def asterisco(x):\n",
    "    return 2*x\n",
    "\n",
    "def Delta(x):\n",
    "    return x/2\n",
    "\n",
    "x_result= Delta(asterisco(x))\n",
    "y_result = asterisco(Delta(y)) \n",
    "z_result = np.concatenate((x_result,y_result), axis = 0)\n",
    "\n",
    "df = pd.DataFrame({'Numeros':z, 'Resultados':z_result}) \n",
    "\n",
    "df "
   ]
  },
  {
   "cell_type": "markdown",
   "id": "ab8b649b",
   "metadata": {
    "slideshow": {
     "slide_type": "slide"
    }
   },
   "source": [
    "**Observación sobre Pandas**  \n",
    "* cuando creas un DataFrame a partir de un duccionario, los valores no pueden ser arreglos dos dimensionales de numpy "
   ]
  },
  {
   "cell_type": "code",
   "execution_count": null,
   "id": "a58b6376",
   "metadata": {
    "slideshow": {
     "slide_type": "slide"
    }
   },
   "outputs": [],
   "source": [
    "# Prueba de opción (b) \n",
    "\n",
    "import numpy as np \n",
    "import pandas as pd \n",
    "\n",
    "x = np.array([0,1,2])\n",
    "y = np.array([2,1])\n",
    "z = np.concatenate((x,y), axis = 0)\n",
    "\n",
    "def asterisco(x):\n",
    "    return x**2\n",
    "\n",
    "def Delta(x):\n",
    "    return x/2\n",
    "\n",
    "x_result= Delta(asterisco(x))\n",
    "y_result = asterisco(Delta(y)) \n",
    "z_result = np.concatenate((x_result,y_result), axis = 0)\n",
    "\n",
    "df = pd.DataFrame({'Numeros':z, 'Resultados':z_result}) \n",
    "\n",
    "df "
   ]
  },
  {
   "cell_type": "markdown",
   "id": "450ce295",
   "metadata": {
    "slideshow": {
     "slide_type": "slide"
    }
   },
   "source": [
    "Eureka: La opción $(b)$ es la correcta."
   ]
  },
  {
   "cell_type": "code",
   "execution_count": null,
   "id": "ec92b7b2",
   "metadata": {
    "slideshow": {
     "slide_type": "skip"
    }
   },
   "outputs": [],
   "source": []
  },
  {
   "cell_type": "markdown",
   "id": "0d1149d1",
   "metadata": {
    "slideshow": {
     "slide_type": "slide"
    }
   },
   "source": [
    "## 9.6  \n",
    "La unica expresión en la cual se cumple la igualdad es:\n",
    "\n",
    "(a) $1\\ast \\ast \\Delta \\ast = 1 \\ast \\ast \\ast \\Delta $  \n",
    "(b) $0 \\ast \\Delta \\Delta \\ast = 1\\ast \\ast \\ast \\ast$  \n",
    "(c) $2 \\ast \\Delta \\ast \\Delta = 2\\ast \\Delta \\Delta \\Delta$  \n",
    "(d) $1\\ast \\ast \\ast \\Delta = 2 \\ast \\Delta \\Delta \\Delta$  \n"
   ]
  },
  {
   "cell_type": "markdown",
   "id": "cb45fea8",
   "metadata": {
    "slideshow": {
     "slide_type": "slide"
    }
   },
   "source": [
    "**Observaciones**\n",
    "\n",
    "* Note que $\\ast$ y $\\Delta$ son operaciones unarias. \n"
   ]
  },
  {
   "cell_type": "code",
   "execution_count": null,
   "id": "2f804a36",
   "metadata": {
    "slideshow": {
     "slide_type": "slide"
    }
   },
   "outputs": [],
   "source": []
  },
  {
   "cell_type": "markdown",
   "id": "fbdb86dc",
   "metadata": {
    "slideshow": {
     "slide_type": "slide"
    }
   },
   "source": [
    "# Preguntas 9.7 - 9.9  \n",
    "\n",
    "Un mecanismo de una caja de seguridad está compuesto por tres discos: \n",
    "\n",
    "* interior, \n",
    "* medio y\n",
    "* exterior\n",
    "\n",
    "\n"
   ]
  },
  {
   "cell_type": "code",
   "execution_count": null,
   "id": "f3df0a4d",
   "metadata": {
    "slideshow": {
     "slide_type": "slide"
    }
   },
   "outputs": [],
   "source": []
  },
  {
   "cell_type": "markdown",
   "id": "8c61dbe8",
   "metadata": {
    "slideshow": {
     "slide_type": "slide"
    }
   },
   "source": [
    "# Pregunta 9.10 \n",
    "\n",
    "* Si $x\\ \\uparrow \\ y$ significa que $x$ es el doble de $y$, y \n",
    "* $x \\downarrow y$ significa que $x$ es la mitad de $y$,  \n",
    "\n",
    "entonces, entre las siguientes expresiones, en la que se cumple $A = 10$ y $D = 20$ simultáneamente, es:\n",
    "\n",
    "(a) $C \\uparrow D \\uparrow B \\uparrow A$   \n",
    "(b) $C \\uparrow D \\downarrow B \\uparrow A$  \n",
    "(c) $A \\downarrow B \\uparrow C \\downarrow D$    \n",
    "(d) $B \\downarrow D \\uparrow C \\uparrow A$\n"
   ]
  },
  {
   "cell_type": "markdown",
   "id": "3e938f35",
   "metadata": {
    "slideshow": {
     "slide_type": "slide"
    }
   },
   "source": [
    "## Solución:"
   ]
  },
  {
   "cell_type": "markdown",
   "id": "e97c6afd",
   "metadata": {
    "slideshow": {
     "slide_type": "slide"
    }
   },
   "source": [
    "Razonemos revisando cada una de las opciones. Empecemos con la $(a)$:  \n",
    "\n",
    "$$ C \\uparrow D \\uparrow B \\uparrow A = C \\uparrow 20 \\uparrow B \\uparrow 10  $$\n"
   ]
  },
  {
   "cell_type": "markdown",
   "id": "9531d3e1",
   "metadata": {
    "slideshow": {
     "slide_type": "slide"
    }
   },
   "source": [
    "Se infiere primero que $C = 40$ y que $B = 10$ y se llega a la contradicción de que $10$ es el doble de si mismo. "
   ]
  },
  {
   "cell_type": "code",
   "execution_count": null,
   "id": "a0f05a81",
   "metadata": {},
   "outputs": [],
   "source": []
  },
  {
   "cell_type": "markdown",
   "id": "4619a8f9",
   "metadata": {
    "slideshow": {
     "slide_type": "slide"
    }
   },
   "source": [
    "# Coevaluación "
   ]
  },
  {
   "cell_type": "markdown",
   "id": "3566407a",
   "metadata": {
    "slideshow": {
     "slide_type": "slide"
    }
   },
   "source": [
    "* Dificultades en la interpretación de las preguntas, debido a que son enunciados en lenguaje algebraico.  \n",
    "* Entrenar en potenciación\n",
    "* Suma de enteros \n",
    "* Suma de fracciones.\n",
    "* Excelente participación en clase. \n",
    "* Aprendimos a establecer la falsedad de una afirmación buscando un contraejemplo.\n",
    "* Aprendimos a establecer la veracidad de una afirmación general demostrando la afirmación ulilizando las definiciones y propiedades algebraicas de los números reales. "
   ]
  },
  {
   "cell_type": "markdown",
   "id": "6135fb8d",
   "metadata": {
    "slideshow": {
     "slide_type": "slide"
    }
   },
   "source": [
    "## Referentes  \n",
    "\n",
    "* Stewart\n"
   ]
  }
 ],
 "metadata": {
  "celltoolbar": "Slideshow",
  "kernelspec": {
   "display_name": "Python 3 (ipykernel)",
   "language": "python",
   "name": "python3"
  },
  "language_info": {
   "codemirror_mode": {
    "name": "ipython",
    "version": 3
   },
   "file_extension": ".py",
   "mimetype": "text/x-python",
   "name": "python",
   "nbconvert_exporter": "python",
   "pygments_lexer": "ipython3",
   "version": "3.9.7"
  },
  "latex_envs": {
   "LaTeX_envs_menu_present": true,
   "autoclose": false,
   "autocomplete": false,
   "bibliofile": "biblio.bib",
   "cite_by": "apalike",
   "current_citInitial": 1,
   "eqLabelWithNumbers": true,
   "eqNumInitial": 1,
   "hotkeys": {
    "equation": "Ctrl-E",
    "itemize": "Ctrl-I"
   },
   "labels_anchors": false,
   "latex_user_defs": false,
   "report_style_numbering": false,
   "user_envs_cfg": false
  },
  "rise": {
   "enable_chalkboard": true,
   "theme": "sky",
   "transition": "zomm"
  }
 },
 "nbformat": 4,
 "nbformat_minor": 5
}
