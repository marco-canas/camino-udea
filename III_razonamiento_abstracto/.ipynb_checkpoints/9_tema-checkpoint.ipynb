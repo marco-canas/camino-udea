{
 "cells": [
  {
   "cell_type": "markdown",
   "id": "809c69e1",
   "metadata": {
    "slideshow": {
     "slide_type": "slide"
    }
   },
   "source": [
    "<table align=\"left\">\n",
    "  <td>\n",
    "    <a href=\"https://colab.research.google.com/github/marco-canas/camino-udea/blob/main/III_razonamiento_abstracto/9_tema.ipynb\" target=\"_parent\"><img src=\"https://colab.research.google.com/assets/colab-badge.svg\" alt=\"Open In Colab\"/></a>\n",
    "  </td>\n",
    "  <td>\n",
    "    <a target=\"_blank\" href=\"https://kaggle.com/kernels/welcome?src=https://github.com/marco-canas/camino-udea/blob/main/III_razonamiento_abstracto/9_tema.ipynb\"><img src=\"https://kaggle.com/static/images/open-in-kaggle.svg\" /></a>\n",
    "  </td>\n",
    "</table>"
   ]
  },
  {
   "cell_type": "markdown",
   "id": "6e22b1cd",
   "metadata": {
    "slideshow": {
     "slide_type": "slide"
    }
   },
   "source": [
    "# Tema 9 "
   ]
  },
  {
   "cell_type": "markdown",
   "id": "f82eedc9",
   "metadata": {
    "slideshow": {
     "slide_type": "slide"
    }
   },
   "source": [
    "## Operaciones y lenguajes no convencionales"
   ]
  },
  {
   "cell_type": "markdown",
   "id": "ef3f138b",
   "metadata": {
    "slideshow": {
     "slide_type": "slide"
    }
   },
   "source": [
    "* Enseñar a resolver problemas resaltando el modelo o método de razonamiento utilizado"
   ]
  },
  {
   "cell_type": "markdown",
   "id": "7292f305",
   "metadata": {
    "slideshow": {
     "slide_type": "slide"
    }
   },
   "source": [
    "### [Primer video de apoyo](https://www.youtube.com/watch?v=PHozT4iMqsU) "
   ]
  },
  {
   "cell_type": "markdown",
   "id": "331b28ef",
   "metadata": {
    "slideshow": {
     "slide_type": "slide"
    }
   },
   "source": [
    "### Preguntas 9.1 - 9.2 "
   ]
  },
  {
   "cell_type": "markdown",
   "id": "c2bef6bd",
   "metadata": {
    "slideshow": {
     "slide_type": "slide"
    }
   },
   "source": [
    "Se define la operación $\\Delta$ así: \n",
    "\n",
    "$$ a \\Delta b = \\frac{a^{b}}{b^{a}} \\ \\ \\ \\text{con} \\ \\ b \\neq 0 $$\n"
   ]
  },
  {
   "cell_type": "markdown",
   "id": "1c99ac63",
   "metadata": {
    "slideshow": {
     "slide_type": "slide"
    }
   },
   "source": [
    "## 9.1  \n",
    "\n",
    "El valor de $(2 \\Delta 3) \\Delta 1$ es:   \n",
    "(a) 8/9   \n",
    "(b) 6/7   \n",
    "(c) 1   \n",
    "(d) 9/8"
   ]
  },
  {
   "cell_type": "code",
   "execution_count": null,
   "id": "8df9e077",
   "metadata": {
    "slideshow": {
     "slide_type": "slide"
    }
   },
   "outputs": [],
   "source": [
    "from sympy import *\n",
    "from fractions import Fraction\n",
    "init_printing\n",
    "a,b = symbols('a,b', real = True)\n",
    "def triangulo(a,b):\n",
    "    return (a**b)/(b**a) "
   ]
  },
  {
   "cell_type": "code",
   "execution_count": null,
   "id": "be9718e7",
   "metadata": {
    "slideshow": {
     "slide_type": "slide"
    }
   },
   "outputs": [],
   "source": [
    "triangulo(2,3) == 2**3/3**2"
   ]
  },
  {
   "cell_type": "markdown",
   "id": "9050a2ca",
   "metadata": {
    "slideshow": {
     "slide_type": "slide"
    }
   },
   "source": [
    "**Conclusión:**  \n",
    "Por lo tanto, la opción (a) es la correcta pues \n",
    "\n",
    "$$ (2 \\Delta 3)\\Delta 1 = (2 \\Delta 3) = \\frac{2^{3}}{3^{2}} = \\frac{8}{9}  $$\n"
   ]
  },
  {
   "cell_type": "code",
   "execution_count": null,
   "id": "24fb0c6e",
   "metadata": {
    "slideshow": {
     "slide_type": "slide"
    }
   },
   "outputs": [],
   "source": [
    "8/9"
   ]
  },
  {
   "cell_type": "code",
   "execution_count": null,
   "id": "791016f9",
   "metadata": {
    "slideshow": {
     "slide_type": "slide"
    }
   },
   "outputs": [],
   "source": [
    "6/7"
   ]
  },
  {
   "cell_type": "markdown",
   "id": "888fab65",
   "metadata": {
    "slideshow": {
     "slide_type": "slide"
    }
   },
   "source": [
    "**Observación:**  1 es el módulo a derecha de la operación $\\Delta$. "
   ]
  },
  {
   "cell_type": "markdown",
   "id": "3d592e44",
   "metadata": {},
   "source": [
    "$$a \\Delta 1 = \\frac{a^{1}}{1^{a}}  = a $$\n",
    "\n",
    "$$ 1 \\Delta a = \\frac{1^{a}}{a^{1}} = \\frac{1}{a} $$\n",
    "\n",
    "de estas dos ecuaciones se infiere que $\\Delta$ es una operación no conmutativa. "
   ]
  },
  {
   "cell_type": "markdown",
   "id": "a66900d0",
   "metadata": {
    "slideshow": {
     "slide_type": "slide"
    }
   },
   "source": [
    "## 9.2  \n",
    "\n",
    "De las afirmaciones siguientes, la única verdadera es: \n",
    "\n",
    "(a)  $$ a \\ \\Delta \\ (b + c) = (a \\ \\Delta \\ b) + (a \\ \\Delta \\ c), $$\n",
    "\n",
    "para $a + b \\neq 0, b \\neq 0$ y $c \\neq 0$.   \n",
    "\n",
    "(b)  $$ \\frac{1}{a} \\ \\Delta \\ b = \\frac{1}{b} \\ \\Delta \\ a$$\n",
    "\n",
    "para $a,b \\neq 0$.  \n",
    "\n",
    "Es decir, será que al elevar a la -1 se distribuye cambiando el orden. \n",
    "\n",
    "(c)  $$ a \\ \\Delta \\ \\frac{1}{a} = \\frac{1}{\\frac{1}{a} \\ \\Delta \\ a} $$\n",
    "\n",
    "para $a \\neq 0$.   \n",
    "\n",
    "(d)  $$ a \\ \\Delta \\ b = b \\ \\Delta \\ a \\nonumber $$\n",
    "\n",
    "para $a,b \\neq 0$. "
   ]
  },
  {
   "cell_type": "markdown",
   "id": "40a7bf83",
   "metadata": {
    "slideshow": {
     "slide_type": "slide"
    }
   },
   "source": [
    "## Solución:"
   ]
  },
  {
   "cell_type": "markdown",
   "id": "bb9ffa7b",
   "metadata": {
    "slideshow": {
     "slide_type": "slide"
    }
   },
   "source": [
    "Razonemos primeros de manera general: "
   ]
  },
  {
   "cell_type": "markdown",
   "id": "506d6120",
   "metadata": {
    "slideshow": {
     "slide_type": "slide"
    }
   },
   "source": [
    "\\begin{align*}\n",
    "a \\ \\Delta \\ (b+c) & = \\frac{a^{b+c}}{(b+c)^{a}} \\\\\n",
    "                   & = \\frac{a^{b}a^{c}}{(b+c)^{a}} \\\\\n",
    "                   & \\neq \\frac{a^{b}a^{c}}{b^{a} + c^{a}} \\\\\n",
    "                   & \\neq \\frac{a^{b}}{b^{a}} \\frac{a^{c}}{c^{a}} = a\\Delta b + a \\Delta c.\n",
    "\\end{align*}"
   ]
  },
  {
   "cell_type": "markdown",
   "id": "5fe4cc6f",
   "metadata": {
    "slideshow": {
     "slide_type": "slide"
    }
   },
   "source": [
    "Razonemos ahora de manera particular. Ensayemos las cuatro afirmaciones con $a = 1$, $b = 2$ y $c = 3$. \n",
    "\n",
    "$$ \\frac{1^{5}}{5^{1}} \\ \\ \\neq  \\frac{1^{2}}{2^{1}} + \\frac{1^{3}}{3^{1}} $$\n"
   ]
  },
  {
   "cell_type": "code",
   "execution_count": null,
   "id": "30057dd8",
   "metadata": {
    "slideshow": {
     "slide_type": "slide"
    }
   },
   "outputs": [],
   "source": [
    "1**5/5**1 "
   ]
  },
  {
   "cell_type": "code",
   "execution_count": null,
   "id": "11e5946b",
   "metadata": {
    "slideshow": {
     "slide_type": "slide"
    }
   },
   "outputs": [],
   "source": [
    "(1**2/2**1)"
   ]
  },
  {
   "cell_type": "code",
   "execution_count": null,
   "id": "7fbfc474",
   "metadata": {},
   "outputs": [],
   "source": [
    "(1**3/3**1) "
   ]
  },
  {
   "cell_type": "markdown",
   "id": "7e2e206d",
   "metadata": {},
   "source": [
    "###  Ensallemos la opción $(b)$: "
   ]
  },
  {
   "cell_type": "code",
   "execution_count": 3,
   "id": "af4f4eb8",
   "metadata": {
    "slideshow": {
     "slide_type": "slide"
    }
   },
   "outputs": [],
   "source": [
    "from sympy import *\n",
    "from fractions import Fraction\n",
    "init_printing\n",
    "a,b = symbols('a,b', real = True)\n",
    "def triangulo(a,b):\n",
    "    return (a**b)/(b**a) \n",
    "#a = 2\n",
    "#b = 3\n",
    "c = triangulo(1/a,b) \n",
    "d = triangulo(1/b, a) \n",
    "# triangulo(1/a,b) == triangulo(b**(-1), a) \n"
   ]
  },
  {
   "cell_type": "code",
   "execution_count": 6,
   "id": "0d20c003",
   "metadata": {
    "slideshow": {
     "slide_type": "slide"
    }
   },
   "outputs": [
    {
     "data": {
      "text/latex": [
       "$\\displaystyle b^{- \\frac{1}{a}} \\left(\\frac{1}{a}\\right)^{b}$"
      ],
      "text/plain": [
       "b**(-1/a)*(1/a)**b"
      ]
     },
     "metadata": {},
     "output_type": "display_data"
    },
    {
     "data": {
      "text/latex": [
       "$\\displaystyle a^{- \\frac{1}{b}} \\left(\\frac{1}{b}\\right)^{a}$"
      ],
      "text/plain": [
       "a**(-1/b)*(1/b)**a"
      ]
     },
     "metadata": {},
     "output_type": "display_data"
    }
   ],
   "source": [
    "display(c,d) "
   ]
  },
  {
   "cell_type": "code",
   "execution_count": null,
   "id": "48fe9e25",
   "metadata": {
    "slideshow": {
     "slide_type": "slide"
    }
   },
   "outputs": [],
   "source": [
    "triangulo(b**(-1), a) "
   ]
  },
  {
   "cell_type": "markdown",
   "id": "95b6099f",
   "metadata": {
    "slideshow": {
     "slide_type": "slide"
    }
   },
   "source": [
    "## 9.3  \n",
    "\n",
    "En el conjunto de los **números reales** se define una operación arbitraria, denotada por $\\Diamond$ así:\n",
    "\n",
    "$$ a \\ \\Diamond \\ b = a - 2b. $$\n",
    "\n",
    "De las siguientes igualdades la única verdadera es:  \n",
    "  \n",
    "(a) $$ a \\ \\Diamond  \\ b = b \\  \\Diamond \\ a $$\n",
    "\n",
    "(b) $$ a \\  \\Diamond \\ (b + c) = (a \\ \\Diamond \\ b) \\ \\Diamond \\ c  $$\n",
    "\n",
    "(c)  $$ a \\ \\Diamond \\ (b + c) = (a \\ \\Diamond \\ b) + (a \\ \\Diamond \\  c) $$\n",
    "\n",
    "(d) $$ a \\ \\Diamond \\  (b \\ \\Diamond \\ c) = (a \\ \\Diamond \\ b) \\ \\Diamond \\  c $$\n"
   ]
  },
  {
   "cell_type": "markdown",
   "id": "8033948e",
   "metadata": {
    "slideshow": {
     "slide_type": "slide"
    }
   },
   "source": [
    "### Solución: "
   ]
  },
  {
   "cell_type": "markdown",
   "id": "651e9670",
   "metadata": {
    "slideshow": {
     "slide_type": "slide"
    }
   },
   "source": [
    "Razonemos por ensayo error o disyunción de casos:\n",
    "\n",
    "Empecemos con $(a)$: "
   ]
  },
  {
   "cell_type": "code",
   "execution_count": 7,
   "id": "ada41bcb",
   "metadata": {
    "slideshow": {
     "slide_type": "slide"
    }
   },
   "outputs": [],
   "source": [
    "from sympy import *\n",
    "a,b = symbols('a,b', real = True)\n",
    "def diamond(a,b):\n",
    "    return a - 2*b"
   ]
  },
  {
   "cell_type": "code",
   "execution_count": 8,
   "id": "09b05541",
   "metadata": {
    "slideshow": {
     "slide_type": "slide"
    }
   },
   "outputs": [
    {
     "data": {
      "text/latex": [
       "$\\displaystyle a - 2 b$"
      ],
      "text/plain": [
       "a - 2*b"
      ]
     },
     "execution_count": 8,
     "metadata": {},
     "output_type": "execute_result"
    }
   ],
   "source": [
    "diamond(a,b)"
   ]
  },
  {
   "cell_type": "code",
   "execution_count": 9,
   "id": "e89ea073",
   "metadata": {
    "slideshow": {
     "slide_type": "slide"
    }
   },
   "outputs": [
    {
     "data": {
      "text/latex": [
       "$\\displaystyle - 2 a + b$"
      ],
      "text/plain": [
       "-2*a + b"
      ]
     },
     "execution_count": 9,
     "metadata": {},
     "output_type": "execute_result"
    }
   ],
   "source": [
    "diamond(b,a)"
   ]
  },
  {
   "cell_type": "markdown",
   "id": "872f9bf5",
   "metadata": {},
   "source": [
    "En particular, si $a = 1$ y $b = 2$, entonces"
   ]
  },
  {
   "cell_type": "code",
   "execution_count": null,
   "id": "93519b40",
   "metadata": {},
   "outputs": [],
   "source": [
    "diamond(a = 1,b = 2)"
   ]
  },
  {
   "cell_type": "code",
   "execution_count": null,
   "id": "1fead637",
   "metadata": {},
   "outputs": [],
   "source": [
    "diamond(a = 2,b = 1)"
   ]
  },
  {
   "cell_type": "code",
   "execution_count": null,
   "id": "e20518e6",
   "metadata": {},
   "outputs": [],
   "source": [
    "diamond(a,b)==diamond(b,a) "
   ]
  },
  {
   "cell_type": "markdown",
   "id": "ce2893bd",
   "metadata": {},
   "source": [
    "### Concisión de la revisión de $(a)$: \n",
    "La operación $\\Diamond$ no es conmutativa. "
   ]
  },
  {
   "cell_type": "code",
   "execution_count": null,
   "id": "fbe32742",
   "metadata": {
    "slideshow": {
     "slide_type": "slide"
    }
   },
   "outputs": [],
   "source": []
  },
  {
   "cell_type": "markdown",
   "id": "2ce37574",
   "metadata": {
    "slideshow": {
     "slide_type": "slide"
    }
   },
   "source": [
    "## 9.4   \n",
    "\n",
    "Considere la siguiente operación entre números positivos $x$ y $y$: $x \\ast y = y^{2x}$. Así, el valor de $(3 \\ast 4) \\ast 2$ es: \n",
    "\n",
    "(a)  $3^{8}$  \n",
    "(b) $3^{12}$   \n",
    "(c) $3^{24}$   \n",
    "(d) $3^{32}$   "
   ]
  },
  {
   "cell_type": "markdown",
   "id": "371d2e55",
   "metadata": {
    "slideshow": {
     "slide_type": "slide"
    }
   },
   "source": [
    "## Solución: "
   ]
  },
  {
   "cell_type": "code",
   "execution_count": 10,
   "id": "21ad12b8",
   "metadata": {
    "slideshow": {
     "slide_type": "slide"
    }
   },
   "outputs": [],
   "source": [
    "from sympy import *\n",
    "x,y = symbols('x,y') \n",
    "def asterisco(x,y):\n",
    "    return y**(2*x)"
   ]
  },
  {
   "cell_type": "markdown",
   "id": "8a7bd0e9",
   "metadata": {
    "slideshow": {
     "slide_type": "slide"
    }
   },
   "source": [
    "# Preguntas 9.5 - 9.6.   \n",
    "\n",
    "El cuadro muestra los resultados en una calculadora, cuando a los números indicados se les aplica en secuencia los operadores anotados. Las operaciones ejecutadas en $\\ast$ y $\\Delta$ son fijas. "
   ]
  },
  {
   "cell_type": "markdown",
   "id": "23f31c43",
   "metadata": {
    "slideshow": {
     "slide_type": "slide"
    }
   },
   "source": [
    "|Números|Operadores|Resultados|  \n",
    "|- |--|--|  \n",
    "|0|$\\ast\\ $ $\\ \\Delta$|0|  \n",
    "|1|$\\ast\\  $ $\\ \\Delta$ |$1/2$|  \n",
    "|2|$\\ast\\  $ $\\ \\Delta$|2|\n",
    "|2|$\\Delta\\ $ $\\ \\ast$|1|  \n",
    "|1|$\\Delta\\ $ $\\ \\ast$|$1/4$|  "
   ]
  },
  {
   "cell_type": "markdown",
   "id": "3553acc0",
   "metadata": {
    "slideshow": {
     "slide_type": "slide"
    }
   },
   "source": [
    "## 9.5  \n",
    "Las operaciones definidas por $\\ast$ y $\\Delta$ son respectivemente:\n",
    "\n",
    "(a) Duplicar y dividir por 2.  \n",
    "(b)  Elevar al cuadrado y dividir por 2.  \n",
    "(c) Duplicar y dividir por cuatro.  \n",
    "(d)  Extraer raíz cuadrada y dividir por dos. \n"
   ]
  },
  {
   "cell_type": "markdown",
   "id": "ec9eec05",
   "metadata": {
    "slideshow": {
     "slide_type": "slide"
    }
   },
   "source": [
    "## Solución: "
   ]
  },
  {
   "cell_type": "markdown",
   "id": "9eeb80c2",
   "metadata": {
    "slideshow": {
     "slide_type": "slide"
    }
   },
   "source": [
    "Empecemos verificando si la opción $(a)$ es la correcta"
   ]
  },
  {
   "cell_type": "code",
   "execution_count": null,
   "id": "5a39546b",
   "metadata": {
    "scrolled": true,
    "slideshow": {
     "slide_type": "slide"
    }
   },
   "outputs": [],
   "source": [
    "# Prueba de opción (a) \n",
    "\n",
    "import numpy as np \n",
    "import pandas as pd \n",
    "\n",
    "x = np.array([0,1,2])\n",
    "y = np.array([2,1])\n",
    "z = np.concatenate((x,y), axis = 0)\n",
    "\n",
    "def asterisco(x):\n",
    "    return 2*x\n",
    "\n",
    "def Delta(x):\n",
    "    return x/2\n",
    "\n",
    "x_result= Delta(asterisco(x))\n",
    "y_result = asterisco(Delta(y)) \n",
    "z_result = np.concatenate((x_result,y_result), axis = 0)\n",
    "\n",
    "df = pd.DataFrame({'Numeros':z, 'Resultados':z_result}) \n",
    "\n",
    "df "
   ]
  },
  {
   "cell_type": "markdown",
   "id": "58bac6f9",
   "metadata": {
    "slideshow": {
     "slide_type": "slide"
    }
   },
   "source": [
    "**Observación sobre Pandas**  \n",
    "* cuando creas un DataFrame a partir de un duccionario, los valores no pueden ser arreglos dos dimensionales de numpy "
   ]
  },
  {
   "cell_type": "code",
   "execution_count": null,
   "id": "e2eae320",
   "metadata": {
    "slideshow": {
     "slide_type": "slide"
    }
   },
   "outputs": [],
   "source": [
    "# Prueba de opción (b) \n",
    "\n",
    "import numpy as np \n",
    "import pandas as pd \n",
    "\n",
    "x = np.array([0,1,2])\n",
    "y = np.array([2,1])\n",
    "z = np.concatenate((x,y), axis = 0)\n",
    "\n",
    "def asterisco(x):\n",
    "    return x**2\n",
    "\n",
    "def Delta(x):\n",
    "    return x/2\n",
    "\n",
    "x_result= Delta(asterisco(x))\n",
    "y_result = asterisco(Delta(y)) \n",
    "z_result = np.concatenate((x_result,y_result), axis = 0)\n",
    "\n",
    "df = pd.DataFrame({'Numeros':z, 'Resultados':z_result}) \n",
    "\n",
    "df "
   ]
  },
  {
   "cell_type": "markdown",
   "id": "756e05dc",
   "metadata": {
    "slideshow": {
     "slide_type": "slide"
    }
   },
   "source": [
    "Eureka: La opción $(b)$ es la correcta."
   ]
  },
  {
   "cell_type": "code",
   "execution_count": null,
   "id": "d568449d",
   "metadata": {},
   "outputs": [],
   "source": []
  },
  {
   "cell_type": "markdown",
   "id": "d3a5c2f5",
   "metadata": {
    "slideshow": {
     "slide_type": "slide"
    }
   },
   "source": [
    "## 9.6  \n",
    "La unica expresión en la cual se cumple la igualdad es:\n",
    "\n",
    "(a) $1\\ast \\ast \\Delta \\ast = 1 \\ast \\ast \\ast \\Delta $  \n",
    "(b) $0 \\ast \\Delta \\Delta \\ast = 1\\ast \\ast \\ast \\ast$  \n",
    "(c) $2 \\ast \\Delta \\ast \\Delta = 2\\ast \\Delta \\Delta \\Delta$  \n",
    "(d) $1\\ast \\ast \\ast \\Delta = 2 \\ast \\Delta \\Delta \\Delta$  \n"
   ]
  },
  {
   "cell_type": "markdown",
   "id": "b44d8394",
   "metadata": {
    "slideshow": {
     "slide_type": "slide"
    }
   },
   "source": [
    "**Observaciones**\n",
    "\n",
    "* Note que $\\ast$ y $\\Delta$ son operaciones unarias. \n"
   ]
  },
  {
   "cell_type": "code",
   "execution_count": null,
   "id": "e50d13bf",
   "metadata": {
    "slideshow": {
     "slide_type": "slide"
    }
   },
   "outputs": [],
   "source": []
  },
  {
   "cell_type": "markdown",
   "id": "3de32199",
   "metadata": {
    "slideshow": {
     "slide_type": "slide"
    }
   },
   "source": [
    "# Preguntas 9.7 - 9.9  \n",
    "\n",
    "Un mecanismo de una caja de seguridad está compuesto por tres discos: \n",
    "\n",
    "* interior, \n",
    "* medio y\n",
    "* exterior\n",
    "\n",
    "\n"
   ]
  },
  {
   "cell_type": "code",
   "execution_count": null,
   "id": "8c554376",
   "metadata": {
    "slideshow": {
     "slide_type": "slide"
    }
   },
   "outputs": [],
   "source": []
  },
  {
   "cell_type": "markdown",
   "id": "585d3ac5",
   "metadata": {},
   "source": [
    "# Pregunta 9.10  \n",
    "Si $x\\ \\uparrow \\ y$ significa que $x$ es el doble de $y$, y "
   ]
  },
  {
   "cell_type": "code",
   "execution_count": null,
   "id": "6f0b7733",
   "metadata": {},
   "outputs": [],
   "source": []
  },
  {
   "cell_type": "code",
   "execution_count": null,
   "id": "a9a292eb",
   "metadata": {},
   "outputs": [],
   "source": []
  },
  {
   "cell_type": "code",
   "execution_count": null,
   "id": "07b5c2d6",
   "metadata": {},
   "outputs": [],
   "source": []
  },
  {
   "cell_type": "code",
   "execution_count": null,
   "id": "0efc1bd4",
   "metadata": {},
   "outputs": [],
   "source": []
  }
 ],
 "metadata": {
  "celltoolbar": "Slideshow",
  "kernelspec": {
   "display_name": "Python 3",
   "language": "python",
   "name": "python3"
  },
  "language_info": {
   "codemirror_mode": {
    "name": "ipython",
    "version": 3
   },
   "file_extension": ".py",
   "mimetype": "text/x-python",
   "name": "python",
   "nbconvert_exporter": "python",
   "pygments_lexer": "ipython3",
   "version": "3.8.8"
  },
  "latex_envs": {
   "LaTeX_envs_menu_present": true,
   "autoclose": false,
   "autocomplete": false,
   "bibliofile": "biblio.bib",
   "cite_by": "apalike",
   "current_citInitial": 1,
   "eqLabelWithNumbers": true,
   "eqNumInitial": 1,
   "hotkeys": {
    "equation": "Ctrl-E",
    "itemize": "Ctrl-I"
   },
   "labels_anchors": false,
   "latex_user_defs": false,
   "report_style_numbering": false,
   "user_envs_cfg": false
  },
  "rise": {
   "enable_chalkboard": true,
   "theme": "sky",
   "transition": "zomm"
  }
 },
 "nbformat": 4,
 "nbformat_minor": 5
}
