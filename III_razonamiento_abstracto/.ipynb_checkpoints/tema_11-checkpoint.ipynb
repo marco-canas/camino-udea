{
 "cells": [
  {
   "cell_type": "markdown",
   "id": "2f123883",
   "metadata": {
    "slideshow": {
     "slide_type": "slide"
    }
   },
   "source": [
    "<table align=\"left\">\n",
    "  <td>\n",
    "    <a href=\"https://colab.research.google.com/github/marco-canas/camino-udea/blob/main/III_razonamiento_abstracto/tema_11_series_numericas.ipynb\" target=\"_parent\"><img src=\"https://colab.research.google.com/assets/colab-badge.svg\" alt=\"Open In Colab\"/></a>\n",
    "  </td>\n",
    "</table>\n"
   ]
  },
  {
   "cell_type": "markdown",
   "id": "cfc5b7df",
   "metadata": {
    "slideshow": {
     "slide_type": "slide"
    }
   },
   "source": [
    "# Tema 11 Series numéricas y alfa - numéricas "
   ]
  },
  {
   "cell_type": "code",
   "execution_count": 6,
   "id": "6a89cee1",
   "metadata": {
    "slideshow": {
     "slide_type": "slide"
    }
   },
   "outputs": [
    {
     "name": "stdout",
     "output_type": "stream",
     "text": [
      "STAYNER PADILLA NAVARRO\n"
     ]
    }
   ],
   "source": [
    "def estudiante_que_va_a_participar():\n",
    "    import numpy as np \n",
    "    import pandas as pd \n",
    "    from random import choice\n",
    "    cero = pd.read_csv( 'cero.csv')\n",
    "    lista_estudiantes = list(cero.nombre.values)\n",
    "    if lista_estudiantes != []:\n",
    "        estudiante = choice(lista_estudiantes)\n",
    "        lista_estudiantes.remove(estudiante)\n",
    "        return print(estudiante)\n",
    "    else:\n",
    "        print('Todos los estudiantes han participado.\\n Muchas gracias y Felicitaciones')\n",
    "\n",
    "estudiante_que_va_a_participar() "
   ]
  },
  {
   "cell_type": "markdown",
   "id": "344abd2d",
   "metadata": {
    "slideshow": {
     "slide_type": "slide"
    }
   },
   "source": [
    "# 11_1  "
   ]
  },
  {
   "cell_type": "markdown",
   "id": "0720e61b",
   "metadata": {
    "slideshow": {
     "slide_type": "slide"
    }
   },
   "source": [
    "En la sucesión $4,9,14, 19, 24, \\ldots$, el elemento en la posición 47 es:\n",
    "\n",
    "**(a) 234**   \n",
    "(b) 189   \n",
    "(c) 201   \n",
    "(d) 249   \n",
    "\n"
   ]
  },
  {
   "cell_type": "markdown",
   "id": "e3631919",
   "metadata": {
    "slideshow": {
     "slide_type": "slide"
    }
   },
   "source": [
    "## Solución:"
   ]
  },
  {
   "cell_type": "markdown",
   "id": "22a908f8",
   "metadata": {
    "slideshow": {
     "slide_type": "slide"
    }
   },
   "source": [
    "Utilice el concepto de progresión aritmética:\n",
    "\n",
    "$$ a_{1}, a_{2}, a_{3}, a_{4}, \\ldots, a_{n-1}, a_{n} $$\n"
   ]
  },
  {
   "cell_type": "markdown",
   "id": "cc65e841",
   "metadata": {
    "slideshow": {
     "slide_type": "slide"
    }
   },
   "source": [
    "deonde $a_{1}$ es el primer término de la progresión. "
   ]
  },
  {
   "cell_type": "markdown",
   "id": "451f8014",
   "metadata": {
    "slideshow": {
     "slide_type": "slide"
    }
   },
   "source": [
    "## Estrategia buenísima "
   ]
  },
  {
   "cell_type": "markdown",
   "id": "30f5c501",
   "metadata": {
    "slideshow": {
     "slide_type": "slide"
    }
   },
   "source": [
    "Note que todos los términos de la sucesión son los múltiplos de 5 disminuidos en 1. \n",
    "\n",
    "\n",
    "Por lo tanto, el elemento de la posición 47 es 234 y así la opción correcta es la A. \n",
    "\n",
    "\n"
   ]
  },
  {
   "cell_type": "code",
   "execution_count": null,
   "id": "dc92b147",
   "metadata": {
    "slideshow": {
     "slide_type": "slide"
    }
   },
   "outputs": [],
   "source": []
  },
  {
   "cell_type": "markdown",
   "id": "ecc0f230",
   "metadata": {
    "slideshow": {
     "slide_type": "slide"
    }
   },
   "source": [
    "## 11.4  \n",
    "Un escultor desea cortar 10 trozos de una barra de metal para ubicarlos verticalmente uno tras otro de tal manera que cada trozo después del primero mida 2 metros más que el anterior. "
   ]
  },
  {
   "cell_type": "markdown",
   "id": "5396acbd",
   "metadata": {
    "slideshow": {
     "slide_type": "slide"
    }
   },
   "source": [
    "Si la longitud de la barra a cortar es de 100 metros y se usa toda la barra, entonces la longitud del octavo trozo, en metros es:"
   ]
  },
  {
   "cell_type": "code",
   "execution_count": null,
   "id": "1e5aaaa2",
   "metadata": {
    "slideshow": {
     "slide_type": "slide"
    }
   },
   "outputs": [],
   "source": []
  },
  {
   "cell_type": "code",
   "execution_count": null,
   "id": "35811ee8",
   "metadata": {},
   "outputs": [],
   "source": []
  },
  {
   "cell_type": "markdown",
   "id": "372e60be",
   "metadata": {},
   "source": [
    "## Referentes  \n",
    "\n",
    "* "
   ]
  }
 ],
 "metadata": {
  "celltoolbar": "Slideshow",
  "kernelspec": {
   "display_name": "Python 3 (ipykernel)",
   "language": "python",
   "name": "python3"
  },
  "language_info": {
   "codemirror_mode": {
    "name": "ipython",
    "version": 3
   },
   "file_extension": ".py",
   "mimetype": "text/x-python",
   "name": "python",
   "nbconvert_exporter": "python",
   "pygments_lexer": "ipython3",
   "version": "3.9.12"
  }
 },
 "nbformat": 4,
 "nbformat_minor": 5
}
