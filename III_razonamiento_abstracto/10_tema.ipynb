{
 "cells": [
  {
   "cell_type": "markdown",
   "id": "f0fe24c4",
   "metadata": {},
   "source": [
    "# Parte III Razonamiento abstracto"
   ]
  },
  {
   "cell_type": "markdown",
   "id": "058be538",
   "metadata": {},
   "source": [
    "# 10 Tema"
   ]
  },
  {
   "cell_type": "markdown",
   "id": "8c94734a",
   "metadata": {},
   "source": [
    "## Razonamiento aritmético"
   ]
  },
  {
   "cell_type": "markdown",
   "id": "b57ee3a6",
   "metadata": {},
   "source": [
    "## Pregunta 10.1  \n"
   ]
  },
  {
   "cell_type": "code",
   "execution_count": null,
   "id": "ba8fff26",
   "metadata": {},
   "outputs": [],
   "source": []
  },
  {
   "cell_type": "code",
   "execution_count": null,
   "id": "198140b0",
   "metadata": {},
   "outputs": [],
   "source": []
  },
  {
   "cell_type": "markdown",
   "id": "273fe14a",
   "metadata": {},
   "source": [
    "## Referentes "
   ]
  },
  {
   "cell_type": "markdown",
   "id": "01394531",
   "metadata": {},
   "source": [
    "* Razonamiento lógico: Cuaderno de trabajo. Universidad de Antioquia. Facultad de Ciencias \n",
    "  Exactas y Naturales. Instituto de Matemáticas. "
   ]
  },
  {
   "cell_type": "code",
   "execution_count": null,
   "id": "9f2d6d55",
   "metadata": {},
   "outputs": [],
   "source": []
  }
 ],
 "metadata": {
  "kernelspec": {
   "display_name": "Python 3",
   "language": "python",
   "name": "python3"
  },
  "language_info": {
   "codemirror_mode": {
    "name": "ipython",
    "version": 3
   },
   "file_extension": ".py",
   "mimetype": "text/x-python",
   "name": "python",
   "nbconvert_exporter": "python",
   "pygments_lexer": "ipython3",
   "version": "3.8.8"
  },
  "latex_envs": {
   "LaTeX_envs_menu_present": true,
   "autoclose": false,
   "autocomplete": false,
   "bibliofile": "biblio.bib",
   "cite_by": "apalike",
   "current_citInitial": 1,
   "eqLabelWithNumbers": true,
   "eqNumInitial": 1,
   "hotkeys": {
    "equation": "Ctrl-E",
    "itemize": "Ctrl-I"
   },
   "labels_anchors": false,
   "latex_user_defs": false,
   "report_style_numbering": false,
   "user_envs_cfg": false
  }
 },
 "nbformat": 4,
 "nbformat_minor": 5
}
