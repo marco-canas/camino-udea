{
 "cells": [
  {
   "cell_type": "markdown",
   "id": "0ad959b1",
   "metadata": {},
   "source": [
    "# Tema 4 Información fundamentada en procesos"
   ]
  },
  {
   "cell_type": "markdown",
   "id": "07663e06",
   "metadata": {},
   "source": [
    "Preguntas 4.1 - 4.2  \n",
    "\n",
    "En la figurase muestran cuatro péndulos con sus respectivas longitudes y pesos. "
   ]
  },
  {
   "cell_type": "code",
   "execution_count": null,
   "id": "7f7e1863",
   "metadata": {},
   "outputs": [],
   "source": []
  },
  {
   "cell_type": "code",
   "execution_count": null,
   "id": "94e8f9b0",
   "metadata": {},
   "outputs": [],
   "source": []
  },
  {
   "cell_type": "markdown",
   "id": "c7de40bd",
   "metadata": {},
   "source": [
    "# Preguntas 4.5 a 4.7"
   ]
  },
  {
   "cell_type": "markdown",
   "id": "06f2719f",
   "metadata": {},
   "source": []
  },
  {
   "cell_type": "markdown",
   "id": "fb59bcdc",
   "metadata": {},
   "source": [
    "<img src = ''>"
   ]
  },
  {
   "cell_type": "code",
   "execution_count": null,
   "id": "06914e07",
   "metadata": {},
   "outputs": [],
   "source": []
  }
 ],
 "metadata": {
  "kernelspec": {
   "display_name": "Python 3 (ipykernel)",
   "language": "python",
   "name": "python3"
  },
  "language_info": {
   "codemirror_mode": {
    "name": "ipython",
    "version": 3
   },
   "file_extension": ".py",
   "mimetype": "text/x-python",
   "name": "python",
   "nbconvert_exporter": "python",
   "pygments_lexer": "ipython3",
   "version": "3.9.12"
  },
  "latex_envs": {
   "LaTeX_envs_menu_present": true,
   "autoclose": false,
   "autocomplete": false,
   "bibliofile": "biblio.bib",
   "cite_by": "apalike",
   "current_citInitial": 1,
   "eqLabelWithNumbers": true,
   "eqNumInitial": 1,
   "hotkeys": {
    "equation": "Ctrl-E",
    "itemize": "Ctrl-I"
   },
   "labels_anchors": false,
   "latex_user_defs": false,
   "report_style_numbering": false,
   "user_envs_cfg": false
  }
 },
 "nbformat": 4,
 "nbformat_minor": 5
}
