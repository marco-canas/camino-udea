{
 "cells": [
  {
   "cell_type": "markdown",
   "id": "0ad959b1",
   "metadata": {
    "slideshow": {
     "slide_type": "slide"
    }
   },
   "source": [
    "# Tema 4 Información fundamentada en procesos"
   ]
  },
  {
   "cell_type": "markdown",
   "id": "07663e06",
   "metadata": {
    "slideshow": {
     "slide_type": "slide"
    }
   },
   "source": [
    "Preguntas 4.1 - 4.2  \n",
    "\n",
    "En la figurase muestran cuatro péndulos con sus respectivas longitudes y pesos. "
   ]
  },
  {
   "cell_type": "markdown",
   "id": "b5c61b61",
   "metadata": {
    "slideshow": {
     "slide_type": "slide"
    }
   },
   "source": [
    "<img src = ''>"
   ]
  },
  {
   "cell_type": "code",
   "execution_count": null,
   "id": "94e8f9b0",
   "metadata": {
    "slideshow": {
     "slide_type": "slide"
    }
   },
   "outputs": [],
   "source": []
  },
  {
   "cell_type": "markdown",
   "id": "1b485876",
   "metadata": {
    "slideshow": {
     "slide_type": "slide"
    }
   },
   "source": [
    "# Preguntas 4.5 a 4.7"
   ]
  },
  {
   "cell_type": "markdown",
   "id": "28b54795",
   "metadata": {
    "slideshow": {
     "slide_type": "slide"
    }
   },
   "source": [
    "Cada una de las gráficas muestra la relación entre la distancia a la cual se encuentran dos personas $P$ y $Q$ respecto de un museo y el tiempo transcurrido. "
   ]
  },
  {
   "cell_type": "markdown",
   "id": "76c03e9c",
   "metadata": {
    "slideshow": {
     "slide_type": "slide"
    }
   },
   "source": [
    "<img src = 'https://github.com/marco-canas/camino-udea/blob/main/I_lenguaje_proposicional/tema_4_figura_preguntas_5_a_7.png?raw=true'>"
   ]
  },
  {
   "cell_type": "markdown",
   "id": "8c5ee1e0",
   "metadata": {
    "slideshow": {
     "slide_type": "slide"
    }
   },
   "source": [
    "Cada persona se acerca o se aleja del museo con velocidad constante o permanece quieta. "
   ]
  },
  {
   "cell_type": "markdown",
   "id": "f6e0f260",
   "metadata": {
    "slideshow": {
     "slide_type": "slide"
    }
   },
   "source": [
    "# Pregunta 4.5"
   ]
  },
  {
   "cell_type": "markdown",
   "id": "7bbe913f",
   "metadata": {
    "slideshow": {
     "slide_type": "slide"
    }
   },
   "source": [
    "La gráfica que mejor ilustra la afirmación: *$P$ y $Q$ caminaron hacia el museo, aunque $P$ se encontraba más lejos, llegó primero que $Q$*, es:  \n",
    "\n",
    "**(a) (1)**   \n",
    "(b) (2)  \n",
    "(c) (3)  \n",
    "(d) (4)  \n",
    "\n"
   ]
  },
  {
   "cell_type": "markdown",
   "id": "4de72b44",
   "metadata": {
    "slideshow": {
     "slide_type": "slide"
    }
   },
   "source": [
    "## Conceptos asociados\n",
    "\n",
    "* Gráficos de distancia contra tiempo\n",
    "* El intersecto del gráfico con el eje vertical significa la posición inicial desde donde la persona inicia a caminar.\n",
    "* El intersecto con el eje horizontal o eje del tiempo significa el instante en que llega la persona al museo. "
   ]
  },
  {
   "cell_type": "markdown",
   "id": "09ccc26c",
   "metadata": {
    "slideshow": {
     "slide_type": "slide"
    }
   },
   "source": [
    "## Estrategia de solución\n",
    "\n",
    "* Observar todos los gráficos y leer de ellos representa una distancia al museo más lejana \n",
    "* Observar los gráficos que representan que ambas personas se están acecando al museo,  \n",
    "* y quien representa haber llegado primero al museo. \n"
   ]
  },
  {
   "cell_type": "markdown",
   "id": "3bd8e2e7",
   "metadata": {
    "slideshow": {
     "slide_type": "slide"
    }
   },
   "source": [
    "## Solución: "
   ]
  },
  {
   "cell_type": "code",
   "execution_count": 2,
   "id": "605bea85",
   "metadata": {
    "slideshow": {
     "slide_type": "slide"
    }
   },
   "outputs": [
    {
     "data": {
      "image/png": "[encoded data removed]",
      "text/plain": [
       "<Figure size 432x288 with 1 Axes>"
      ]
     },
     "metadata": {
      "needs_background": "light"
     },
     "output_type": "display_data"
    }
   ],
   "source": [
    "import numpy as np \n",
    "import matplotlib.pyplot as plt\n",
    "\n",
    "plt.plot([0, 1], [1,0])\n",
    "\n",
    "plt.savefig('función_decreciente.png') \n",
    "\n",
    "plt.show()"
   ]
  },
  {
   "cell_type": "code",
   "execution_count": null,
   "id": "059904fe",
   "metadata": {},
   "outputs": [],
   "source": []
  }
 ],
 "metadata": {
  "celltoolbar": "Slideshow",
  "kernelspec": {
   "display_name": "Python 3 (ipykernel)",
   "language": "python",
   "name": "python3"
  },
  "language_info": {
   "codemirror_mode": {
    "name": "ipython",
    "version": 3
   },
   "file_extension": ".py",
   "mimetype": "text/x-python",
   "name": "python",
   "nbconvert_exporter": "python",
   "pygments_lexer": "ipython3",
   "version": "3.9.12"
  },
  "latex_envs": {
   "LaTeX_envs_menu_present": true,
   "autoclose": false,
   "autocomplete": false,
   "bibliofile": "biblio.bib",
   "cite_by": "apalike",
   "current_citInitial": 1,
   "eqLabelWithNumbers": true,
   "eqNumInitial": 1,
   "hotkeys": {
    "equation": "Ctrl-E",
    "itemize": "Ctrl-I"
   },
   "labels_anchors": false,
   "latex_user_defs": false,
   "report_style_numbering": false,
   "user_envs_cfg": false
  },
  "rise": {
   "theme": "sky"
  }
 },
 "nbformat": 4,
 "nbformat_minor": 5
}
