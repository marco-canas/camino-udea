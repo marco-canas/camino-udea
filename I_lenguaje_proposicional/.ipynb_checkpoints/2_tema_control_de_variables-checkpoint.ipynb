{
 "cells": [
  {
   "cell_type": "markdown",
   "id": "65b8dbe8",
   "metadata": {},
   "source": [
    "# Tema 2: Control de variables "
   ]
  },
  {
   "cell_type": "markdown",
   "id": "6aa05759",
   "metadata": {},
   "source": [
    "## Preguntas 2.1 - 2.2. "
   ]
  },
  {
   "cell_type": "markdown",
   "id": "0fc99d28",
   "metadata": {},
   "source": [
    "El cronograma muestra las actividades necesarias, y su duración en meses, para la reconstrucción de una unidad residencial en la ciudad de Armenia. "
   ]
  },
  {
   "cell_type": "markdown",
   "id": "8b946832",
   "metadata": {},
   "source": [
    "Las actividades tienen la siguiente secuencia obligatoria en su ejecución: \n",
    "* Las actividades $A$ y $B$ pueden ejecutarse simultáneamente.  \n",
    "* La actividad $C$ puede iniciarse una vez la actividad $B$ se haya ejecutado en un $50\\%$.  \n",
    "*  "
   ]
  },
  {
   "cell_type": "code",
   "execution_count": 10,
   "id": "40d14975",
   "metadata": {},
   "outputs": [
    {
     "data": {
      "text/html": [
       "<div>\n",
       "<style scoped>\n",
       "    .dataframe tbody tr th:only-of-type {\n",
       "        vertical-align: middle;\n",
       "    }\n",
       "\n",
       "    .dataframe tbody tr th {\n",
       "        vertical-align: top;\n",
       "    }\n",
       "\n",
       "    .dataframe thead th {\n",
       "        text-align: right;\n",
       "    }\n",
       "</style>\n",
       "<table border=\"1\" class=\"dataframe\">\n",
       "  <thead>\n",
       "    <tr style=\"text-align: right;\">\n",
       "      <th></th>\n",
       "      <th>Actividades</th>\n",
       "      <th>Tiempo</th>\n",
       "    </tr>\n",
       "  </thead>\n",
       "  <tbody>\n",
       "    <tr>\n",
       "      <th>A</th>\n",
       "      <td>Cálculo y diseño</td>\n",
       "      <td>1</td>\n",
       "    </tr>\n",
       "    <tr>\n",
       "      <th>B</th>\n",
       "      <td>Remoción escombros</td>\n",
       "      <td>2</td>\n",
       "    </tr>\n",
       "    <tr>\n",
       "      <th>C</th>\n",
       "      <td>Adecuación del terreno</td>\n",
       "      <td>3</td>\n",
       "    </tr>\n",
       "    <tr>\n",
       "      <th>D</th>\n",
       "      <td>Construcciones</td>\n",
       "      <td>4</td>\n",
       "    </tr>\n",
       "  </tbody>\n",
       "</table>\n",
       "</div>"
      ],
      "text/plain": [
       "              Actividades  Tiempo\n",
       "A        Cálculo y diseño       1\n",
       "B      Remoción escombros       2\n",
       "C  Adecuación del terreno       3\n",
       "D          Construcciones       4"
      ]
     },
     "execution_count": 10,
     "metadata": {},
     "output_type": "execute_result"
    }
   ],
   "source": [
    "import numpy as np \n",
    "import pandas as pd \n",
    "\n",
    "df = pd.DataFrame({'Actividades':['Cálculo y diseño', 'Remoción escombros', 'Adecuación del terreno', 'Construcciones'], \n",
    "                   'Tiempo':[1,2,3,4]}, index = ['A', 'B', 'C', 'D'])\n",
    "df "
   ]
  },
  {
   "cell_type": "code",
   "execution_count": null,
   "id": "d8de3de5",
   "metadata": {},
   "outputs": [],
   "source": []
  },
  {
   "cell_type": "code",
   "execution_count": null,
   "id": "96f9141a",
   "metadata": {},
   "outputs": [],
   "source": []
  },
  {
   "cell_type": "code",
   "execution_count": null,
   "id": "37acb322",
   "metadata": {},
   "outputs": [],
   "source": []
  }
 ],
 "metadata": {
  "kernelspec": {
   "display_name": "Python 3",
   "language": "python",
   "name": "python3"
  },
  "language_info": {
   "codemirror_mode": {
    "name": "ipython",
    "version": 3
   },
   "file_extension": ".py",
   "mimetype": "text/x-python",
   "name": "python",
   "nbconvert_exporter": "python",
   "pygments_lexer": "ipython3",
   "version": "3.8.8"
  },
  "latex_envs": {
   "LaTeX_envs_menu_present": true,
   "autoclose": false,
   "autocomplete": false,
   "bibliofile": "biblio.bib",
   "cite_by": "apalike",
   "current_citInitial": 1,
   "eqLabelWithNumbers": true,
   "eqNumInitial": 1,
   "hotkeys": {
    "equation": "Ctrl-E",
    "itemize": "Ctrl-I"
   },
   "labels_anchors": false,
   "latex_user_defs": false,
   "report_style_numbering": false,
   "user_envs_cfg": false
  }
 },
 "nbformat": 4,
 "nbformat_minor": 5
}
