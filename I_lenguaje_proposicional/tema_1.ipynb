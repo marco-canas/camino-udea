{
 "cells": [
  {
   "cell_type": "markdown",
   "id": "1a0c86d4",
   "metadata": {
    "slideshow": {
     "slide_type": "slide"
    }
   },
   "source": [
    "<table align=\"left\">\n",
    "  <td>\n",
    "    <a href=\"https://colab.research.google.com/github/marco-canas/camino-udea/blob/main/I_lenguaje_proposicional/1_tema_analisis_del_lenguaje.ipynb\" target=\"_parent\"><img src=\"https://colab.research.google.com/assets/colab-badge.svg\" alt=\"Open In Colab\"/></a>\n",
    "  </td>\n",
    "</table>"
   ]
  },
  {
   "cell_type": "code",
   "execution_count": null,
   "id": "7218fbc7",
   "metadata": {},
   "outputs": [],
   "source": []
  },
  {
   "cell_type": "markdown",
   "id": "73cb211a",
   "metadata": {
    "slideshow": {
     "slide_type": "slide"
    }
   },
   "source": [
    "# Unidad 1 Lenguaje proposicional"
   ]
  },
  {
   "cell_type": "markdown",
   "id": "17386b9f",
   "metadata": {
    "slideshow": {
     "slide_type": "slide"
    }
   },
   "source": [
    "## Tema 1: Análisis del lenguaje"
   ]
  },
  {
   "cell_type": "markdown",
   "id": "8fd27a10",
   "metadata": {
    "slideshow": {
     "slide_type": "slide"
    }
   },
   "source": [
    "### [Video de apoyo](https://www.youtube.com/watch?v=4U9yORq0ajw) "
   ]
  },
  {
   "cell_type": "markdown",
   "id": "62d5911a",
   "metadata": {
    "slideshow": {
     "slide_type": "slide"
    }
   },
   "source": [
    "## [Vínculo para el problema de riego en un cultivo de maracuyá](http://docencia.udea.edu.co/cen/geometrias/Modelos/riego.htm) \n"
   ]
  },
  {
   "cell_type": "markdown",
   "id": "2f5ae3dc",
   "metadata": {
    "slideshow": {
     "slide_type": "slide"
    }
   },
   "source": [
    "## Preguntas 1.1 - 1.2"
   ]
  },
  {
   "cell_type": "markdown",
   "id": "63f4a059",
   "metadata": {
    "slideshow": {
     "slide_type": "slide"
    }
   },
   "source": [
    "En la facultad de Ciencias Exactas y Naturales se tiene un grupo de 140 estudiantes que cursan simltáneamente las asignaturas de Matemáticas y Biología. "
   ]
  },
  {
   "cell_type": "markdown",
   "id": "cffb8300",
   "metadata": {
    "slideshow": {
     "slide_type": "slide"
    }
   },
   "source": [
    "Se observó que: \n",
    "\n",
    "* $60$ ganaron Matemáticas.  \n",
    "* $45$ ganaron Biología.\n",
    "* $20$ ganaron ambas, Matemáticas y Biología. "
   ]
  },
  {
   "cell_type": "code",
   "execution_count": 3,
   "id": "cb8cb9f5",
   "metadata": {
    "slideshow": {
     "slide_type": "slide"
    }
   },
   "outputs": [
    {
     "data": {
      "image/png": "[encoded data removed]",
      "text/plain": [
       "<Figure size 432x288 with 1 Axes>"
      ]
     },
     "metadata": {},
     "output_type": "display_data"
    }
   ],
   "source": [
    "from matplotlib import pyplot as plt\n",
    "from matplotlib_venn import venn2\n",
    "venn2((40, 25, 20), set_labels = ('M', 'B')) \n",
    "plt.show() "
   ]
  },
  {
   "cell_type": "markdown",
   "id": "4e473d69",
   "metadata": {
    "slideshow": {
     "slide_type": "slide"
    }
   },
   "source": [
    "1.1 El número de estudiantes que ganaron Matemáticas pero no ganaron biología es:   \n",
    "    (a) 20  \n",
    "    (b) 25  \n",
    "    **(c) 40**   \n",
    "    (d) 85\n",
    "   "
   ]
  },
  {
   "cell_type": "markdown",
   "id": "9eb41518",
   "metadata": {
    "slideshow": {
     "slide_type": "slide"
    }
   },
   "source": [
    "# Conceptos asociados\n",
    "\n",
    "* Conjunto universal\n",
    "* Diagramas de Venn\n",
    "* región común o intersección de conjuntos\n",
    "* La unión de conjuntos\n",
    "* El complemento de un conjuntos\n",
    "* La diferencia de conjuntos. \n"
   ]
  },
  {
   "cell_type": "markdown",
   "id": "2fd04c66",
   "metadata": {
    "slideshow": {
     "slide_type": "slide"
    }
   },
   "source": [
    "# Estrategia de solución"
   ]
  },
  {
   "cell_type": "markdown",
   "id": "911e491e",
   "metadata": {
    "slideshow": {
     "slide_type": "slide"
    }
   },
   "source": [
    "Dibujar diagramas de venn que representen la situación.\n",
    "\n",
    "* $ M \\cap B$ : intersección de conjuntos: los que ganaron ambas materias \n"
   ]
  },
  {
   "cell_type": "markdown",
   "id": "5b42266c",
   "metadata": {
    "slideshow": {
     "slide_type": "slide"
    }
   },
   "source": [
    "1.2 El número de estudiantes que **reprobaron** ambas asignaturas es:  \n",
    "    (a) 20  \n",
    "    (b) 35  \n",
    "    **(c) 55**   \n",
    "    (d) 85 "
   ]
  },
  {
   "cell_type": "markdown",
   "id": "05cef764",
   "metadata": {
    "slideshow": {
     "slide_type": "slide"
    }
   },
   "source": [
    "Notas adicionales:\n",
    "* $M \\cap B$: es la intersección de los conjuntos $M$ y $B$. \n",
    "* $M \\cup B$: representa la unión de los dos conjuntos. En esta situación, la unión es el conjuto de los que ganaron Matemáticas o Biología. "
   ]
  },
  {
   "cell_type": "code",
   "execution_count": null,
   "id": "61f0f0e5",
   "metadata": {
    "slideshow": {
     "slide_type": "slide"
    }
   },
   "outputs": [],
   "source": []
  },
  {
   "cell_type": "markdown",
   "id": "802e502d",
   "metadata": {
    "slideshow": {
     "slide_type": "slide"
    }
   },
   "source": [
    "## Preguntas 1.3 - 1.4 "
   ]
  },
  {
   "cell_type": "markdown",
   "id": "7b80cefd",
   "metadata": {
    "slideshow": {
     "slide_type": "slide"
    }
   },
   "source": [
    "Una bolsa contiene 24 confites con sabores a piña, mora y fresa.  \n",
    "Los de piña duplican en cantidad a los de fresa y los de mora superan en 8 unidades a los de fresa. "
   ]
  },
  {
   "cell_type": "markdown",
   "id": "7b61e988",
   "metadata": {
    "slideshow": {
     "slide_type": "slide"
    }
   },
   "source": [
    "### 1.3 \n",
    "El menor número de confites que es necesario sacar de la bolsa para garantizar que al menos dos de ellos tengan el mismo sabor es: \n",
    "\n",
    "(a) 2  \n",
    "(b) 3  \n",
    "**(c) 4**  \n",
    "(d) 5  "
   ]
  },
  {
   "cell_type": "markdown",
   "id": "ab5cad38",
   "metadata": {
    "slideshow": {
     "slide_type": "slide"
    }
   },
   "source": [
    "La opción correcta es la $(c)$ es decir, que 4 es el menor número de confites que hay que sacar para garantizar que dos de ellos son del mismo sabor, ya que al tener tres sabos distintos, al sacar 3 de la bolsa, podría pasar que los tres son de distinto saber, pero al sacar el cuarto, este confite tiene que tener uno de los anteriores sabores y así tendríamos garantizado dos confites del mismo sabor. "
   ]
  },
  {
   "cell_type": "markdown",
   "id": "99a003b8",
   "metadata": {},
   "source": [
    "## Experimentación y verificación utilizando la librería numpy de Python"
   ]
  },
  {
   "cell_type": "markdown",
   "id": "716250b0",
   "metadata": {
    "slideshow": {
     "slide_type": "slide"
    }
   },
   "source": [
    "Con el siguiente código, mostraré que cuando se sacan solo dos o tras confites, no podremos garantizar que siempre tendremos al menos dos del mismo sabor, mientras que si extraemos 4, podemos tener la seguridad de que siempre tendremos al menos dos confites del mismo sabor.  "
   ]
  },
  {
   "cell_type": "code",
   "execution_count": 1,
   "id": "6bbdc7cb",
   "metadata": {
    "slideshow": {
     "slide_type": "slide"
    }
   },
   "outputs": [],
   "source": [
    "import numpy as np \n",
    "tipos_confites = [1,1,1,1,2,2,2,2,2,2,2,2,3,3,3,3,3,3,3,3,3,3,3,3]\n",
    "\n",
    "# A Python program to print all\n",
    "# permutations of given length\n",
    "from itertools import permutations, combinations \n",
    " \n",
    "# Get all permutations of length 2\n",
    "# and length 2\n",
    "comb = combinations(tipos_confites, 2)\n",
    " \n",
    "# Print the obtained permutations\n",
    "#for i in list(comb):\n",
    "#    print (i)\n"
   ]
  },
  {
   "cell_type": "code",
   "execution_count": null,
   "id": "abddd74a",
   "metadata": {
    "slideshow": {
     "slide_type": "slide"
    }
   },
   "outputs": [],
   "source": []
  },
  {
   "cell_type": "markdown",
   "id": "9ae0defb",
   "metadata": {
    "slideshow": {
     "slide_type": "slide"
    }
   },
   "source": [
    "### Pregunta 1.4   \n",
    "\n",
    "El menor número de confites que es necesario sacar de la bolsa para garantizar que al menos dos de ellos tienen sabores distintos es:  \n",
    "(a) 2  \n",
    "(b) 5  \n",
    "(c) 13  \n",
    "(d) 16  "
   ]
  },
  {
   "cell_type": "markdown",
   "id": "cc7dba74",
   "metadata": {
    "slideshow": {
     "slide_type": "slide"
    }
   },
   "source": [
    "## Temas a estudiar para la pregunta 1.4\n",
    "\n",
    "* Sistemas de ecuaciones $2 \\times 2$ y $3 \\times 3$"
   ]
  },
  {
   "cell_type": "markdown",
   "id": "a156ba93",
   "metadata": {
    "slideshow": {
     "slide_type": "slide"
    }
   },
   "source": [
    "### Pregunta 1.5  "
   ]
  },
  {
   "cell_type": "markdown",
   "id": "6e5aa85c",
   "metadata": {
    "slideshow": {
     "slide_type": "slide"
    }
   },
   "source": [
    "La proposición \"No todos los deportistas invitados asistieron a la premiación\" tiene un significado lógicamente equivalente a:\n",
    "(a)  \n",
    "(b)  \n",
    "(c)  \n",
    "(d)  "
   ]
  },
  {
   "cell_type": "markdown",
   "id": "b90f8aa3",
   "metadata": {
    "slideshow": {
     "slide_type": "slide"
    }
   },
   "source": [
    "## Estrategia"
   ]
  },
  {
   "cell_type": "markdown",
   "id": "e75f1380",
   "metadata": {
    "slideshow": {
     "slide_type": "slide"
    }
   },
   "source": [
    "Reconocer que el negar un cualtificador universal da como resultado un cualtificador existencia.\n",
    "\n",
    "$$ \\neg(\\forall) = \\exists $$\n"
   ]
  },
  {
   "cell_type": "markdown",
   "id": "485afccf",
   "metadata": {
    "slideshow": {
     "slide_type": "slide"
    }
   },
   "source": [
    "# 1.6 "
   ]
  },
  {
   "cell_type": "markdown",
   "id": "5b949d87",
   "metadata": {
    "slideshow": {
     "slide_type": "slide"
    }
   },
   "source": [
    "De un grupo de 24 personas, 17 de ellas estudian pintura, $13$"
   ]
  },
  {
   "cell_type": "markdown",
   "id": "14b4f705",
   "metadata": {
    "slideshow": {
     "slide_type": "slide"
    }
   },
   "source": [
    "<img src = ''>"
   ]
  },
  {
   "cell_type": "markdown",
   "id": "88832624",
   "metadata": {},
   "source": [
    "## Conceptos asociados\n",
    "\n",
    "* Conjunto universal \n",
    "* Unión de conjuntos\n",
    "* Cardinalidad de un conjutno que es el número de elementos del mismo. "
   ]
  },
  {
   "cell_type": "markdown",
   "id": "ec344956",
   "metadata": {},
   "source": [
    "# Estrategia"
   ]
  },
  {
   "cell_type": "markdown",
   "id": "5fe4b054",
   "metadata": {
    "slideshow": {
     "slide_type": "slide"
    }
   },
   "source": [
    "Determinar el número de elementos de la unión de los tres conjuntos $P$, $F$, y $D$. y vberificar que la cardinalidad de esa unión debe ser de 19 elementos.  "
   ]
  },
  {
   "cell_type": "markdown",
   "id": "f5c55512",
   "metadata": {
    "slideshow": {
     "slide_type": "slide"
    }
   },
   "source": [
    "# 1.7"
   ]
  },
  {
   "cell_type": "markdown",
   "id": "3a77f8da",
   "metadata": {
    "slideshow": {
     "slide_type": "slide"
    }
   },
   "source": []
  },
  {
   "cell_type": "code",
   "execution_count": null,
   "id": "de7de96e",
   "metadata": {
    "slideshow": {
     "slide_type": "slide"
    }
   },
   "outputs": [],
   "source": []
  },
  {
   "cell_type": "markdown",
   "id": "18e654cc",
   "metadata": {
    "slideshow": {
     "slide_type": "slide"
    }
   },
   "source": [
    "# Ejercicio de enunciados implicativos, conjunciones y disyunciones"
   ]
  },
  {
   "cell_type": "markdown",
   "id": "f435f949",
   "metadata": {
    "slideshow": {
     "slide_type": "slide"
    }
   },
   "source": [
    "## Preguntas 3.2 - 3.4. \n",
    "\n",
    "Un chef debe decidir cuales de las siete especias:  \n",
    "\n",
    "orégano, salvia, tomillo, comino, paprika, romero y albahaca, podrá incluir en el aderezo para una ensalada especial, la cual debe cumplir las siguientes condiciones:  \n",
    "\n",
    "* Si se incluye orégano, entonces la salvia también debe incluirse.  \n",
    "\n",
    "* Si se incluyen salvia y tomillo, entonces no debe incluirse comino.  \n",
    "\n",
    "* Si se incluyen tomillo y comino, entonces no se incluye romero.\n",
    "\n",
    "* Si se incluye comino, entonces debe incluirse paprika o albahaca. \n",
    "\n",
    "* O bien la paprika o bien el romero deben estar presentes en el aderezo, pero no ambos.  \n",
    "* Paprika y albahaca no deben ir ambos en el aderezo. \n"
   ]
  },
  {
   "cell_type": "markdown",
   "id": "8975a7ae",
   "metadata": {
    "slideshow": {
     "slide_type": "slide"
    }
   },
   "source": [
    "**3.2** Si el comino y el romero son incluidos en el aderezo entonces es falso que:  \n",
    "\n",
    "(a) La salvia fue incluida.  \n",
    "(b) El tomillo fue incluido.  \n",
    "(c) La albahaca fue incluida.  \n",
    "(d) La paprika no fue incluida.  \n"
   ]
  },
  {
   "cell_type": "markdown",
   "id": "d605dd86",
   "metadata": {
    "slideshow": {
     "slide_type": "slide"
    }
   },
   "source": [
    "## [Video de apoyo asociado a este ejercicio](https://www.youtube.com/watch?v=mPj-nusyMgU) "
   ]
  },
  {
   "cell_type": "markdown",
   "id": "e2bcf227",
   "metadata": {
    "slideshow": {
     "slide_type": "slide"
    }
   },
   "source": [
    "## Conceptos asociados"
   ]
  },
  {
   "cell_type": "markdown",
   "id": "19efa320",
   "metadata": {
    "slideshow": {
     "slide_type": "slide"
    }
   },
   "source": [
    "* Ley de DeMorgan  \n",
    "* Implicación, recíproco de la implicación, contrarrecíproco de la implicación  \n",
    "\n"
   ]
  },
  {
   "cell_type": "markdown",
   "id": "e68c67af",
   "metadata": {
    "slideshow": {
     "slide_type": "slide"
    }
   },
   "source": [
    "## Resultados teóricos importantes para este ejercicio"
   ]
  },
  {
   "cell_type": "markdown",
   "id": "0b33a34e",
   "metadata": {
    "slideshow": {
     "slide_type": "slide"
    }
   },
   "source": [
    "## Estrategias de solución"
   ]
  },
  {
   "cell_type": "code",
   "execution_count": null,
   "id": "2ea7e8fe",
   "metadata": {
    "slideshow": {
     "slide_type": "slide"
    }
   },
   "outputs": [],
   "source": []
  },
  {
   "cell_type": "markdown",
   "id": "0db19e09",
   "metadata": {
    "slideshow": {
     "slide_type": "slide"
    }
   },
   "source": [
    "## Solución"
   ]
  },
  {
   "cell_type": "markdown",
   "id": "a0285621",
   "metadata": {
    "slideshow": {
     "slide_type": "slide"
    }
   },
   "source": [
    "## unidad de razonamiento a la que pertenece este ejercicio"
   ]
  },
  {
   "cell_type": "markdown",
   "id": "2af779c2",
   "metadata": {
    "slideshow": {
     "slide_type": "slide"
    }
   },
   "source": [
    "**3.3** Si se incluyen el orégano y el tomillo en el aderezo, el máximo número de especias que levará el aderezo es:  \n",
    "\n",
    "(a) 3  \n",
    "(b) 4  \n",
    "(c) 5  \n",
    "(d) 6  "
   ]
  },
  {
   "cell_type": "markdown",
   "id": "deb9a90e",
   "metadata": {
    "slideshow": {
     "slide_type": "slide"
    }
   },
   "source": [
    "## Solución: "
   ]
  },
  {
   "cell_type": "code",
   "execution_count": null,
   "id": "28016865",
   "metadata": {
    "slideshow": {
     "slide_type": "slide"
    }
   },
   "outputs": [],
   "source": []
  },
  {
   "cell_type": "code",
   "execution_count": null,
   "id": "42a0b621",
   "metadata": {
    "slideshow": {
     "slide_type": "slide"
    }
   },
   "outputs": [],
   "source": []
  },
  {
   "cell_type": "markdown",
   "id": "8b81346b",
   "metadata": {
    "slideshow": {
     "slide_type": "slide"
    }
   },
   "source": [
    "## Referentes  \n",
    "\n",
    "* https://recursospython.com/guias-y-manuales/diagramas-de-venn-con-matplotlib/  \n",
    "* https://uninscripciones.unal.edu.co/dipa/ \n",
    "* https://www.temporizadoronline.com/ \n",
    "* The permitation and combination() functions od numpy frm Python: https://www.geeksforgeeks.org/permutation-and-combination-in-python/"
   ]
  },
  {
   "cell_type": "code",
   "execution_count": null,
   "id": "2c13d3ae",
   "metadata": {},
   "outputs": [],
   "source": []
  }
 ],
 "metadata": {
  "celltoolbar": "Slideshow",
  "kernelspec": {
   "display_name": "Python 3 (ipykernel)",
   "language": "python",
   "name": "python3"
  },
  "language_info": {
   "codemirror_mode": {
    "name": "ipython",
    "version": 3
   },
   "file_extension": ".py",
   "mimetype": "text/x-python",
   "name": "python",
   "nbconvert_exporter": "python",
   "pygments_lexer": "ipython3",
   "version": "3.9.12"
  },
  "latex_envs": {
   "LaTeX_envs_menu_present": true,
   "autoclose": false,
   "autocomplete": false,
   "bibliofile": "biblio.bib",
   "cite_by": "apalike",
   "current_citInitial": 1,
   "eqLabelWithNumbers": true,
   "eqNumInitial": 1,
   "hotkeys": {
    "equation": "Ctrl-E",
    "itemize": "Ctrl-I"
   },
   "labels_anchors": false,
   "latex_user_defs": false,
   "report_style_numbering": false,
   "user_envs_cfg": false
  },
  "rise": {
   "enable_chalkboard": true,
   "theme": "sky",
   "transition": "zomm"
  }
 },
 "nbformat": 4,
 "nbformat_minor": 5
}
