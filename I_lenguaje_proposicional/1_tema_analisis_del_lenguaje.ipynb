{
 "cells": [
  {
   "cell_type": "markdown",
   "id": "60da9f44",
   "metadata": {},
   "source": [
    "<table align=\"left\">\n",
    "  <td>\n",
    "    <a href=\"https://colab.research.google.com/github/marco-canas/taca/blob/main/ref/charu/7_ch/7_2_SVD_A_Linear_Algebra_Perspective.ipynb\" target=\"_parent\"><img src=\"https://colab.research.google.com/assets/colab-badge.svg\" alt=\"Open In Colab\"/></a>\n",
    "  </td>\n",
    "  <td>\n",
    "    <a target=\"_blank\" href=\"https://kaggle.com/kernels/welcome?src=https://github.com/marco-canas/taca/blob/main/ref/charu/7_ch/7_2_SVD_A_Linear_Algebra_Perspective.ipynb\"><img src=\"https://kaggle.com/static/images/open-in-kaggle.svg\" /></a>\n",
    "  </td>\n",
    "</table>"
   ]
  },
  {
   "cell_type": "markdown",
   "id": "17386b9f",
   "metadata": {},
   "source": [
    "# Tema 1: Análisis del lenguaje"
   ]
  },
  {
   "cell_type": "markdown",
   "id": "17d016c8",
   "metadata": {},
   "source": [
    "## [Video de apoyo]() "
   ]
  },
  {
   "cell_type": "markdown",
   "id": "2f5ae3dc",
   "metadata": {},
   "source": [
    "## Preguntas 1.1 - 1.2"
   ]
  },
  {
   "cell_type": "markdown",
   "id": "63f4a059",
   "metadata": {},
   "source": [
    "En la facultad de Ciencias Exactas y Naturales se tiene un grupo de 140 estudiantes que cursan simltáneamente las asignaturas de Matemáticas y Biología. "
   ]
  },
  {
   "cell_type": "markdown",
   "id": "2e574b18",
   "metadata": {},
   "source": [
    "Se observó que: \n",
    "\n",
    "* $60$ ganaron Matemáticas.  \n",
    "* $45$ ganaron Biología.\n",
    "* $20$ ganaron ambas, Matemáticas y Biología. "
   ]
  },
  {
   "cell_type": "code",
   "execution_count": 2,
   "id": "92454edb",
   "metadata": {},
   "outputs": [
    {
     "data": {
      "image/png": "[encoded data removed]",
      "text/plain": [
       "<Figure size 432x288 with 1 Axes>"
      ]
     },
     "metadata": {},
     "output_type": "display_data"
    }
   ],
   "source": [
    "from matplotlib import pyplot as plt\n",
    "from matplotlib_venn import venn2\n",
    "venn2((40, 20, 25), set_labels = ('M', 'B')) \n",
    "plt.show() "
   ]
  },
  {
   "cell_type": "markdown",
   "id": "da964309",
   "metadata": {},
   "source": [
    "1.1 El número de estudiantes que ganaron Matemáticas pero no ganaron biología es:   \n",
    "    (a) 20  \n",
    "    (b) 25  \n",
    "    **(c) 40**   \n",
    "    (d) 85\n",
    "   "
   ]
  },
  {
   "cell_type": "markdown",
   "id": "916e34b0",
   "metadata": {},
   "source": [
    "1.2 El número de estudiantes que reprobaron ambas asignaturas es:  \n",
    "    (a) 20  \n",
    "    (b) 35  \n",
    "    **(c) 55**   \n",
    "    (d) 85 "
   ]
  },
  {
   "cell_type": "markdown",
   "id": "82719dd4",
   "metadata": {},
   "source": [
    "Notas adicionales:\n",
    "* $M \\cap B$: es la intersección de los conjuntos $M$ y $B$. \n",
    "* $M \\cup B$: representa la unión de los dos conjuntos. En esta situación, la unión es el conjuto de los que ganaron Matemáticas o Biología. "
   ]
  },
  {
   "cell_type": "code",
   "execution_count": null,
   "id": "bed66e97",
   "metadata": {},
   "outputs": [],
   "source": []
  },
  {
   "cell_type": "markdown",
   "id": "2ee4439a",
   "metadata": {},
   "source": [
    "## Preguntas 1.3 - 1.4 "
   ]
  },
  {
   "cell_type": "markdown",
   "id": "51655250",
   "metadata": {},
   "source": [
    "Una bolsa contiene 24 confites con sabores a piña, mora y fresa.  \n",
    "Los de piña duplican en cantidad a los de fresa y los de mora superan en 8 unidades a los de fresa. "
   ]
  },
  {
   "cell_type": "markdown",
   "id": "b4ae4617",
   "metadata": {},
   "source": [
    "### 1.3 \n",
    "El menor número de confites que es necesario sacar de la bolsa para garantizar que al menos dos de ellos tengan el mismo sabor es: \n",
    "\n",
    "(a) 2  \n",
    "(b) 3  \n",
    "(c) 4  \n",
    "(d) 5  "
   ]
  },
  {
   "cell_type": "markdown",
   "id": "6e125f2b",
   "metadata": {},
   "source": [
    "### 1.4   \n",
    "\n",
    "El menor número de confites que es necesario sacar de la bolsa para garantizar que al menos dos de ellos tienen sabores distintos es:  \n",
    "(a) 2  \n",
    "(b) 5  \n",
    "(c) 13  \n",
    "(d) 16  "
   ]
  },
  {
   "cell_type": "markdown",
   "id": "39f7c8e5",
   "metadata": {},
   "source": [
    "### 1.5  "
   ]
  },
  {
   "cell_type": "code",
   "execution_count": null,
   "id": "4e391220",
   "metadata": {},
   "outputs": [],
   "source": []
  },
  {
   "cell_type": "code",
   "execution_count": null,
   "id": "09c148aa",
   "metadata": {},
   "outputs": [],
   "source": []
  },
  {
   "cell_type": "markdown",
   "id": "8b81346b",
   "metadata": {},
   "source": [
    "## Referentes  \n",
    "\n",
    "* https://recursospython.com/guias-y-manuales/diagramas-de-venn-con-matplotlib/  \n",
    "* https://uninscripciones.unal.edu.co/dipa/ \n",
    "* https://www.temporizadoronline.com/ "
   ]
  },
  {
   "cell_type": "code",
   "execution_count": null,
   "id": "e6f84664",
   "metadata": {},
   "outputs": [],
   "source": []
  }
 ],
 "metadata": {
  "kernelspec": {
   "display_name": "Python 3",
   "language": "python",
   "name": "python3"
  },
  "language_info": {
   "codemirror_mode": {
    "name": "ipython",
    "version": 3
   },
   "file_extension": ".py",
   "mimetype": "text/x-python",
   "name": "python",
   "nbconvert_exporter": "python",
   "pygments_lexer": "ipython3",
   "version": "3.8.8"
  },
  "latex_envs": {
   "LaTeX_envs_menu_present": true,
   "autoclose": false,
   "autocomplete": false,
   "bibliofile": "biblio.bib",
   "cite_by": "apalike",
   "current_citInitial": 1,
   "eqLabelWithNumbers": true,
   "eqNumInitial": 1,
   "hotkeys": {
    "equation": "Ctrl-E",
    "itemize": "Ctrl-I"
   },
   "labels_anchors": false,
   "latex_user_defs": false,
   "report_style_numbering": false,
   "user_envs_cfg": false
  }
 },
 "nbformat": 4,
 "nbformat_minor": 5
}
