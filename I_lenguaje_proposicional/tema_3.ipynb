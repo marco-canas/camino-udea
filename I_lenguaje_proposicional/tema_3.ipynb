{
 "cells": [
  {
   "cell_type": "markdown",
   "id": "8347d2c8",
   "metadata": {
    "slideshow": {
     "slide_type": "slide"
    }
   },
   "source": [
    "# Tema 3 Posibilidades Lógicas"
   ]
  },
  {
   "cell_type": "markdown",
   "id": "94da8dfb",
   "metadata": {
    "slideshow": {
     "slide_type": "slide"
    }
   },
   "source": [
    "## Preguntas 3.1 - 3.2  \n",
    "\n",
    "Partiendo de un modelo inicial dado por la figura siguiente: "
   ]
  },
  {
   "cell_type": "code",
   "execution_count": 27,
   "id": "26b1b8db",
   "metadata": {
    "slideshow": {
     "slide_type": "slide"
    }
   },
   "outputs": [
    {
     "data": {
      "image/png": "[encoded data removed]",
      "text/plain": [
       "<Figure size 432x288 with 1 Axes>"
      ]
     },
     "metadata": {
      "needs_background": "light"
     },
     "output_type": "display_data"
    }
   ],
   "source": [
    "import numpy as np \n",
    "import matplotlib.pyplot as plt \n",
    "\n",
    "plt.plot([0,2,2,0,0],[0,0,1,1,0], color = 'blue') # (0,0), (2,0), (2,1), (0,1), (0,0)\n",
    "plt.plot([1,1],[0,1], color = 'blue')  # (1,0), (1,1)\n",
    "\n",
    "t = np.linspace(0,1, 300)\n",
    "\n",
    "x1 = (t+1).reshape(1,-1) \n",
    "x2 = x1\n",
    "y1 = np.zeros_like(t).reshape(1,-1) \n",
    "y2 = np.ones_like(t).reshape(1,-1)\n",
    "\n",
    "x = np.concatenate((x1,x2), axis = 0)\n",
    "y = np.concatenate((y1,y2), axis = 0)\n",
    "\n",
    "\n",
    "plt.plot(x,y, color = 'blue')  \n",
    "\n",
    "plt.show() "
   ]
  },
  {
   "cell_type": "markdown",
   "id": "50b2d739",
   "metadata": {
    "slideshow": {
     "slide_type": "slide"
    }
   },
   "source": [
    "se establecen tres reglas: "
   ]
  },
  {
   "cell_type": "markdown",
   "id": "94a1d5dd",
   "metadata": {
    "slideshow": {
     "slide_type": "slide"
    }
   },
   "source": [
    "*  $R1$ invierte el color\n",
    "* $R2$ cambia el diseño inicial sobre la derecha.\n",
    "* $R3$ Cambia el diseño inicial sobre la izquierda\n",
    "  "
   ]
  },
  {
   "cell_type": "code",
   "execution_count": 28,
   "id": "fde1c101",
   "metadata": {
    "slideshow": {
     "slide_type": "slide"
    }
   },
   "outputs": [
    {
     "data": {
      "image/png": "[encoded data removed]",
      "text/plain": [
       "<Figure size 432x288 with 1 Axes>"
      ]
     },
     "metadata": {
      "needs_background": "light"
     },
     "output_type": "display_data"
    }
   ],
   "source": [
    "import numpy as np \n",
    "import matplotlib.pyplot as plt \n",
    "\n",
    "plt.plot([0,2,2,0,0],[0,0,1,1,0], color = 'blue') # (0,0), (2,0), (2,1), (0,1), (0,0)\n",
    "plt.plot([1,1],[0,1], color = 'blue')  # (1,0), (1,1)\n",
    "\n",
    "t = np.linspace(0,1, 300)\n",
    "\n",
    "x1 = (t).reshape(1,-1) \n",
    "x2 = x1\n",
    "y1 = np.zeros_like(t).reshape(1,-1) \n",
    "y2 = np.ones_like(t).reshape(1,-1)\n",
    "\n",
    "x = np.concatenate((x1,x2), axis = 0)\n",
    "y = np.concatenate((y1,y2), axis = 0)\n",
    "\n",
    "\n",
    "plt.plot(x,y, color = 'blue')  \n",
    "\n",
    "plt.show() "
   ]
  },
  {
   "cell_type": "markdown",
   "id": "ff65a27b",
   "metadata": {},
   "source": [
    "* $R2$: Cambia el diseño inicial sobre la derecha: "
   ]
  },
  {
   "cell_type": "code",
   "execution_count": 36,
   "id": "42c2e19c",
   "metadata": {},
   "outputs": [
    {
     "data": {
      "image/png": "[encoded data removed]",
      "text/plain": [
       "<Figure size 432x288 with 1 Axes>"
      ]
     },
     "metadata": {
      "needs_background": "light"
     },
     "output_type": "display_data"
    }
   ],
   "source": [
    "import numpy as np \n",
    "import matplotlib.pyplot as plt \n",
    "\n",
    "plt.plot([0,2,1,0,0],[0,0,1,1,0], color = 'blue')   # (0,0), (2,0), (1,1), (0,1), (0,0)\n",
    "plt.plot([1,1],[0,1], color = 'blue')               # (1,0), (1,1)\n",
    "\n",
    "t = np.linspace(0,1, 300)\n",
    "\n",
    "x1 = (t+1).reshape(1,-1) \n",
    "x2 = x1\n",
    "y1 = np.zeros_like(t).reshape(1,-1) \n",
    "y2 = (-1)*x1 + 2\n",
    "\n",
    "x = np.concatenate((x1,x2), axis = 0)\n",
    "y = np.concatenate((y1,y2), axis = 0)\n",
    "\n",
    "\n",
    "plt.plot(x,y, color = 'blue')  \n",
    "\n",
    "plt.show() "
   ]
  },
  {
   "cell_type": "markdown",
   "id": "dd43ac98",
   "metadata": {},
   "source": [
    "* $R3$: Cambia el diseño inicial sobre la izquierda: "
   ]
  },
  {
   "cell_type": "code",
   "execution_count": 37,
   "id": "925198a9",
   "metadata": {
    "slideshow": {
     "slide_type": "slide"
    }
   },
   "outputs": [
    {
     "data": {
      "image/png": "[encoded data removed]",
      "text/plain": [
       "<Figure size 432x288 with 1 Axes>"
      ]
     },
     "metadata": {
      "needs_background": "light"
     },
     "output_type": "display_data"
    }
   ],
   "source": [
    "import numpy as np \n",
    "import matplotlib.pyplot as plt \n",
    "\n",
    "plt.plot([0,2,2,1,0],[0,0,1,1,0], color = 'blue') # (0,0), (2,0), (2,1), (1,1), (0,0)\n",
    "plt.plot([1,1],[0,1], color = 'blue')  # (1,0), (1,1)\n",
    "\n",
    "t = np.linspace(0,1, 300)\n",
    "\n",
    "x1 = (t+1).reshape(1,-1) \n",
    "x2 = x1\n",
    "y1 = np.zeros_like(t).reshape(1,-1) \n",
    "y2 = np.ones_like(t).reshape(1,-1)\n",
    "\n",
    "x = np.concatenate((x1,x2), axis = 0)\n",
    "y = np.concatenate((y1,y2), axis = 0)\n",
    "\n",
    "\n",
    "plt.plot(x,y, color = 'blue')  \n",
    "\n",
    "plt.show() "
   ]
  },
  {
   "cell_type": "markdown",
   "id": "3b84ec46",
   "metadata": {},
   "source": [
    "La aplicación de una regla se indica por $1$ y su no aplicación por $0$, así por ejemplo, la secuencia 101 indica que se aplica $R1$, no de aplica $R2$ y se aplica $R3$. "
   ]
  },
  {
   "cell_type": "markdown",
   "id": "f50d61cb",
   "metadata": {
    "slideshow": {
     "slide_type": "slide"
    }
   },
   "source": [
    "**3.1** La secuencia que produce la forma: "
   ]
  },
  {
   "cell_type": "code",
   "execution_count": 1,
   "id": "68e97072",
   "metadata": {},
   "outputs": [
    {
     "data": {
      "image/png": "[encoded data removed]",
      "text/plain": [
       "<Figure size 432x288 with 1 Axes>"
      ]
     },
     "metadata": {
      "needs_background": "light"
     },
     "output_type": "display_data"
    }
   ],
   "source": [
    "import numpy as np \n",
    "import matplotlib.pyplot as plt \n",
    "\n",
    "plt.plot([0,2,2,0,0],[0,0,1,1,0], color = 'blue') # (0,0), (2,0), (2,1), (0,1), (0,0)\n",
    "plt.plot([1,1],[0,1], color = 'blue')  # (1,0), (1,1)\n",
    "\n",
    "t = np.linspace(0,1, 300)\n",
    "\n",
    "x1 = (t+1).reshape(1,-1) \n",
    "x2 = x1\n",
    "y1 = np.zeros_like(t).reshape(1,-1) \n",
    "y2 = np.ones_like(t).reshape(1,-1)\n",
    "\n",
    "x = np.concatenate((x1,x2), axis = 0)\n",
    "y = np.concatenate((y1,y2), axis = 0)\n",
    "\n",
    "\n",
    "plt.plot(x,y, color = 'blue')  \n",
    "\n",
    "plt.show() "
   ]
  },
  {
   "cell_type": "markdown",
   "id": "cba3ef89",
   "metadata": {
    "slideshow": {
     "slide_type": "slide"
    }
   },
   "source": [
    "partiando del modelo inicial es:  \n",
    "\n",
    "(a) 010  \n",
    "**(b) 011**   \n",
    "(c) 101  \n",
    "(d) 111 "
   ]
  },
  {
   "cell_type": "markdown",
   "id": "f991eb25",
   "metadata": {
    "slideshow": {
     "slide_type": "slide"
    }
   },
   "source": [
    "Verificación grafica de la respuesta anterior"
   ]
  },
  {
   "cell_type": "code",
   "execution_count": 51,
   "id": "dc07ff81",
   "metadata": {},
   "outputs": [
    {
     "data": {
      "image/png": "[encoded data removed]",
      "text/plain": [
       "<Figure size 1296x144 with 4 Axes>"
      ]
     },
     "metadata": {
      "needs_background": "light"
     },
     "output_type": "display_data"
    }
   ],
   "source": [
    "\n",
    "import numpy as np \n",
    "import matplotlib.pyplot as plt \n",
    "\n",
    "\n",
    "t = np.linspace(0,1, 300)\n",
    "\n",
    "fig = plt.figure(figsize = (18,2))\n",
    "\n",
    "x1 = t.reshape(1,-1) + 1\n",
    "x2 = x1\n",
    "y1 = np.zeros_like(t).reshape(1,-1) \n",
    "y2 = np.ones_like(t).reshape(1,-1)\n",
    "X1 = np.concatenate((x1,x2), axis = 0)\n",
    "Y1 = np.concatenate((y1,y2), axis = 0)\n",
    "ax1 = fig.add_subplot(141) \n",
    "ax1.set(title = 'Modelo inicial')\n",
    "ax1.plot([0,2,2,1,0,0],[0,0,1,1,1,0], color = 'blue')    # (0,0), (2,0),(2,1),(1,1),(0,1), (0,0)\n",
    "ax1.plot(X1,Y1, color = 'blue') \n",
    "\n",
    "\n",
    "x1 = t.reshape(1,-1) \n",
    "x2 = x1\n",
    "y1 = np.zeros_like(t).reshape(1,-1) \n",
    "y2 = np.ones_like(t).reshape(1,-1)\n",
    "X2 = np.concatenate((x1,x2), axis = 0)\n",
    "Y2 = np.concatenate((y1,y2), axis = 0)\n",
    "ax2 = fig.add_subplot(142) \n",
    "ax2.set(title = 'Primer cambio')\n",
    "ax2.plot(X2,Y2, color = 'blue')\n",
    "\n",
    "\n",
    "\n",
    "x1 = t.reshape(1,-1) \n",
    "x2 = x1\n",
    "y1 = np.zeros_like(t).reshape(1,-1) \n",
    "y2 = np.ones_like(t).reshape(1,-1)\n",
    "X3 = np.concatenate((x1,x2), axis = 0)\n",
    "Y3 = np.concatenate((y1,y2), axis = 0)\n",
    "ax3 = fig.add_subplot(143) \n",
    "ax3.set(title = 'Segundo cambio')\n",
    "ax3.plot(X3,Y3, color = 'blue')\n",
    "\n",
    "\n",
    "x1 = t.reshape(1,-1) \n",
    "x2 = x1\n",
    "y1 = np.zeros_like(t).reshape(1,-1) \n",
    "y2 = np.ones_like(t).reshape(1,-1)\n",
    "X4 = np.concatenate((x1,x2), axis = 0)\n",
    "Y4 = np.concatenate((y1,y2), axis = 0)\n",
    "ax4 = fig.add_subplot(144) \n",
    "ax4.set(title = 'Tercer cambio')\n",
    "ax4.plot(X4,Y4, color = 'blue') \n",
    "\n",
    "\n",
    "\n",
    "\n",
    "plt.savefig('3_tema_pregunta_3_1.jpg')\n",
    "plt.show() "
   ]
  },
  {
   "cell_type": "code",
   "execution_count": null,
   "id": "71fb3e9a",
   "metadata": {},
   "outputs": [],
   "source": []
  },
  {
   "cell_type": "code",
   "execution_count": null,
   "id": "8edb4195",
   "metadata": {},
   "outputs": [],
   "source": []
  }
 ],
 "metadata": {
  "celltoolbar": "Slideshow",
  "kernelspec": {
   "display_name": "Python 3 (ipykernel)",
   "language": "python",
   "name": "python3"
  },
  "language_info": {
   "codemirror_mode": {
    "name": "ipython",
    "version": 3
   },
   "file_extension": ".py",
   "mimetype": "text/x-python",
   "name": "python",
   "nbconvert_exporter": "python",
   "pygments_lexer": "ipython3",
   "version": "3.9.12"
  },
  "latex_envs": {
   "LaTeX_envs_menu_present": true,
   "autoclose": false,
   "autocomplete": false,
   "bibliofile": "biblio.bib",
   "cite_by": "apalike",
   "current_citInitial": 1,
   "eqLabelWithNumbers": true,
   "eqNumInitial": 1,
   "hotkeys": {
    "equation": "Ctrl-E",
    "itemize": "Ctrl-I"
   },
   "labels_anchors": false,
   "latex_user_defs": false,
   "report_style_numbering": false,
   "user_envs_cfg": false
  }
 },
 "nbformat": 4,
 "nbformat_minor": 5
}
